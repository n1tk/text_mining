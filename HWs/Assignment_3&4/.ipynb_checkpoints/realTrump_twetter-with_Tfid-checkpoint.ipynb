{
 "cells": [
  {
   "cell_type": "code",
   "execution_count": 1,
   "metadata": {
    "collapsed": false
   },
   "outputs": [
    {
     "name": "stdout",
     "output_type": "stream",
     "text": [
      "[nltk_data] Downloading package stopwords to\n",
      "[nltk_data]     /Users/sbuciuma/nltk_data...\n",
      "[nltk_data]   Package stopwords is already up-to-date!\n"
     ]
    },
    {
     "data": {
      "text/plain": [
       "True"
      ]
     },
     "execution_count": 1,
     "metadata": {},
     "output_type": "execute_result"
    }
   ],
   "source": [
    "%matplotlib inline\n",
    "import matplotlib.pyplot as plt\n",
    "import pandas as pd\n",
    "import csv\n",
    "from datetime import datetime\n",
    "import re\n",
    "from twython import Twython\n",
    "from twython import TwythonStreamer\n",
    "import pandas as pd\n",
    "from collections import Counter\n",
    "from nltk.corpus import stopwords\n",
    "import string\n",
    "import nltk\n",
    "nltk.download(\"stopwords\")"
   ]
  },
  {
   "cell_type": "code",
   "execution_count": 2,
   "metadata": {
    "collapsed": true
   },
   "outputs": [],
   "source": [
    "APP_KEY = \"LUpqT9BUMzTzdDFVYMls5myJe\"\n",
    "APP_SECRET = \"EP31NVKfAg1kWnE3CA0FRRARJMX07irWX9VQUNyUU2pnFPlBeg\"\n",
    "twitter = Twython(APP_KEY, APP_SECRET)"
   ]
  },
  {
   "cell_type": "code",
   "execution_count": 3,
   "metadata": {
    "collapsed": true
   },
   "outputs": [],
   "source": [
    "for i in range(0, 17):\n",
    "    user_timeline = twitter.get_user_timeline(screen_name=\"realDonaldTrump\",count=1000, include_rts=False)"
   ]
  },
  {
   "cell_type": "code",
   "execution_count": 4,
   "metadata": {
    "collapsed": true
   },
   "outputs": [],
   "source": [
    "#lis=user_timeline[0]['id']-1 #tweet id # for most recent tweet\n",
    "#only query as deep as necessary\n",
    "#tweetsum= user_timeline[0]['user']['statuses_count']\n",
    "#cycles=ceil(tweetsum / 200)\n",
    "#if cycles>16:\n",
    "    #cycles=16 #API only allows depth of 3200 so no point trying deeper than 200*16\n",
    "#time.sleep(60)\n",
    "#for i in range(0, cycles): ## iterate through all tweets up to max of 3200\n",
    "    #incremental = twitter.get_user_timeline(screen_name=handle,\n",
    "    #count=200, include_retweets=True, max_id=lis)\n",
    "    #user_timeline.extend(incremental)\n",
    "    #lis=user_timeline[-1]['id']-1\n",
    "    #time.sleep(90) ## 90 second rest between api calls. The API allows 15 calls per 15 minutes so this is conservative\n"
   ]
  },
  {
   "cell_type": "code",
   "execution_count": 5,
   "metadata": {
    "collapsed": false
   },
   "outputs": [],
   "source": [
    "for i, val in enumerate(user_timeline):\n",
    "    user_timeline[i]['user_screen_name']=user_timeline[i]['user']['screen_name']\n",
    "    user_timeline[i]['user_followers_count']=user_timeline[i]['user']['followers_count']\n",
    "    user_timeline[i]['user_id']=user_timeline[i]['user']['id']\n",
    "    user_timeline[i]['user_created_at']=user_timeline[i]['user']['created_at']\n",
    "    if 'retweeted_status' in user_timeline[i].keys():\n",
    "        user_timeline[i]['rt_count'] = user_timeline[i]['retweeted_status']['retweet_count']\n",
    "        user_timeline[i]['qt_id'] = user_timeline[i]['retweeted_status']['id']\n",
    "        user_timeline[i]['rt_created'] = user_timeline[i]['retweeted_status']['created_at']\n",
    "        user_timeline[i]['rt_user_screenname'] = user_timeline[i]['retweeted_status']['user']['name']\n",
    "        user_timeline[i]['rt_user_id'] = user_timeline[i]['retweeted_status']['user']['id']\n",
    "        user_timeline[i]['rt_user_followers'] = user_timeline[i]['retweeted_status']['user']['followers_count']\n",
    "        del user_timeline[i]['retweeted_status']\n",
    "    if 'quoted_status' in user_timeline[i].keys():\n",
    "        user_timeline[i]['qt_created'] = user_timeline[i]['quoted_status']['created_at']\n",
    "        user_timeline[i]['qt_id'] = user_timeline[i]['quoted_status']['id']\n",
    "        user_timeline[i]['qt_text'] = user_timeline[i]['quoted_status']['text']\n",
    "        user_timeline[i]['qt_user_screenname'] = user_timeline[i]['quoted_status']['user']['name']\n",
    "        user_timeline[i]['qt_user_id'] = user_timeline[i]['quoted_status']['user']['id']\n",
    "        user_timeline[i]['qt_user_followers'] = user_timeline[i]['quoted_status']['user']['followers_count']\n",
    "        del user_timeline[i]['quoted_status']\n",
    "    if user_timeline[i]['entities']['urls']: #list\n",
    "        for j, val in enumerate(user_timeline[i]['entities']['urls']):\n",
    "            urlj='url_'+str(j)\n",
    "            user_timeline[i][urlj]=user_timeline[i]['entities']['urls'][j]['expanded_url']\n",
    "    if user_timeline[i]['entities']['user_mentions']: #list\n",
    "        for j, val in enumerate(user_timeline[i]['entities']['user_mentions']):\n",
    "            mentionj='mention_'+str(j)\n",
    "            user_timeline[i][mentionj] = user_timeline[i]['entities']['user_mentions'][j]['screen_name']\n",
    "    if user_timeline[i]['entities']['hashtags']: #list\n",
    "        for j, val in enumerate(user_timeline[i]['entities']['hashtags']):\n",
    "            hashtagj='hashtag_'+str(j)\n",
    "            user_timeline[i][hashtagj] = user_timeline[i]['entities']['hashtags'][j]['text']\n",
    "    if user_timeline[i]['coordinates'] is not None:  #NoneType or Dict\n",
    "        user_timeline[i]['coord_long'] = user_timeline[i]['coordinates']['coordinates'][0]\n",
    "        user_timeline[i]['coord_lat'] = user_timeline[i]['coordinates']['coordinates'][1]\n",
    "    del user_timeline[i]['coordinates']\n",
    "    del user_timeline[i]['user']\n",
    "    del user_timeline[i]['entities']\n",
    "    if 'place' in user_timeline[i].keys():  #NoneType or Dict\n",
    "        del user_timeline[i]['place']\n",
    "    if 'extended_entities' in user_timeline[i].keys():\n",
    "        del user_timeline[i]['extended_entities']\n",
    "    if 'geo' in user_timeline[i].keys():\n",
    "        del user_timeline[i]['geo']"
   ]
  },
  {
   "cell_type": "code",
   "execution_count": 6,
   "metadata": {
    "collapsed": false
   },
   "outputs": [
    {
     "name": "stdout",
     "output_type": "stream",
     "text": [
      "2016-09-27 17:44:16\n"
     ]
    }
   ],
   "source": [
    "today = datetime.now().strftime(\"%Y-%m-%d %H:%M:%S\")\n",
    "print(today)"
   ]
  },
  {
   "cell_type": "code",
   "execution_count": 7,
   "metadata": {
    "collapsed": false
   },
   "outputs": [],
   "source": [
    "trumpdf = pd.DataFrame(user_timeline)\n",
    "#print(dftrump) original dataframe "
   ]
  },
  {
   "cell_type": "code",
   "execution_count": 8,
   "metadata": {
    "collapsed": false
   },
   "outputs": [
    {
     "name": "stdout",
     "output_type": "stream",
     "text": [
      "2016-09-27 17:44:16\n"
     ]
    }
   ],
   "source": [
    "today = datetime.now().strftime(\"%Y-%m-%d %H:%M:%S\")\n",
    "print(today)\n",
    "#dftrump['test'] = pd.Series([today for x in range(len(dftrump.index))], index=dftrump.index)"
   ]
  },
  {
   "cell_type": "code",
   "execution_count": 9,
   "metadata": {
    "collapsed": false
   },
   "outputs": [],
   "source": [
    "#initial creation of dataframe\n",
    "#trumpdf = pd.DataFrame(user_timeline)\n",
    "#convert created date in datetime format\n",
    "trumpdf['created_at'] = pd.to_datetime(trumpdf['created_at'])"
   ]
  },
  {
   "cell_type": "code",
   "execution_count": 10,
   "metadata": {
    "collapsed": false
   },
   "outputs": [
    {
     "data": {
      "text/html": [
       "<div>\n",
       "<table border=\"1\" class=\"dataframe\">\n",
       "  <thead>\n",
       "    <tr style=\"text-align: right;\">\n",
       "      <th></th>\n",
       "      <th>contributors</th>\n",
       "      <th>coord_lat</th>\n",
       "      <th>coord_long</th>\n",
       "      <th>created_at</th>\n",
       "      <th>favorite_count</th>\n",
       "      <th>favorited</th>\n",
       "      <th>hashtag_0</th>\n",
       "      <th>hashtag_1</th>\n",
       "      <th>hashtag_2</th>\n",
       "      <th>hashtag_3</th>\n",
       "      <th>...</th>\n",
       "      <th>retweeted</th>\n",
       "      <th>source</th>\n",
       "      <th>text</th>\n",
       "      <th>truncated</th>\n",
       "      <th>url_0</th>\n",
       "      <th>url_1</th>\n",
       "      <th>user_created_at</th>\n",
       "      <th>user_followers_count</th>\n",
       "      <th>user_id</th>\n",
       "      <th>user_screen_name</th>\n",
       "    </tr>\n",
       "  </thead>\n",
       "  <tbody>\n",
       "    <tr>\n",
       "      <th>0</th>\n",
       "      <td>None</td>\n",
       "      <td>NaN</td>\n",
       "      <td>NaN</td>\n",
       "      <td>2016-09-27 21:08:22</td>\n",
       "      <td>4709</td>\n",
       "      <td>False</td>\n",
       "      <td>NaN</td>\n",
       "      <td>NaN</td>\n",
       "      <td>NaN</td>\n",
       "      <td>NaN</td>\n",
       "      <td>...</td>\n",
       "      <td>False</td>\n",
       "      <td>&lt;a href=\"http://twitter.com/download/iphone\" r...</td>\n",
       "      <td>Once again, we will have a government of, by a...</td>\n",
       "      <td>False</td>\n",
       "      <td>http://bit.ly/2dxrgjaMOVEMENT</td>\n",
       "      <td>NaN</td>\n",
       "      <td>Wed Mar 18 13:46:38 +0000 2009</td>\n",
       "      <td>11846272</td>\n",
       "      <td>25073877</td>\n",
       "      <td>realDonaldTrump</td>\n",
       "    </tr>\n",
       "    <tr>\n",
       "      <th>1</th>\n",
       "      <td>None</td>\n",
       "      <td>NaN</td>\n",
       "      <td>NaN</td>\n",
       "      <td>2016-09-27 20:14:33</td>\n",
       "      <td>6320</td>\n",
       "      <td>False</td>\n",
       "      <td>NaN</td>\n",
       "      <td>NaN</td>\n",
       "      <td>NaN</td>\n",
       "      <td>NaN</td>\n",
       "      <td>...</td>\n",
       "      <td>False</td>\n",
       "      <td>&lt;a href=\"http://twitter.com/download/iphone\" r...</td>\n",
       "      <td>Hillary Clinton's Campaign Continues To Make F...</td>\n",
       "      <td>False</td>\n",
       "      <td>http://bit.ly/2d4cDe8</td>\n",
       "      <td>NaN</td>\n",
       "      <td>Wed Mar 18 13:46:38 +0000 2009</td>\n",
       "      <td>11846272</td>\n",
       "      <td>25073877</td>\n",
       "      <td>realDonaldTrump</td>\n",
       "    </tr>\n",
       "    <tr>\n",
       "      <th>2</th>\n",
       "      <td>None</td>\n",
       "      <td>NaN</td>\n",
       "      <td>NaN</td>\n",
       "      <td>2016-09-27 20:06:25</td>\n",
       "      <td>7171</td>\n",
       "      <td>False</td>\n",
       "      <td>MAGA</td>\n",
       "      <td>NaN</td>\n",
       "      <td>NaN</td>\n",
       "      <td>NaN</td>\n",
       "      <td>...</td>\n",
       "      <td>False</td>\n",
       "      <td>&lt;a href=\"http://twitter.com/download/iphone\" r...</td>\n",
       "      <td>'CNBC, Time magazine online polls say Donald T...</td>\n",
       "      <td>False</td>\n",
       "      <td>http://m.washingtontimes.com/news/2016/sep/27/...</td>\n",
       "      <td>NaN</td>\n",
       "      <td>Wed Mar 18 13:46:38 +0000 2009</td>\n",
       "      <td>11846272</td>\n",
       "      <td>25073877</td>\n",
       "      <td>realDonaldTrump</td>\n",
       "    </tr>\n",
       "    <tr>\n",
       "      <th>3</th>\n",
       "      <td>None</td>\n",
       "      <td>NaN</td>\n",
       "      <td>NaN</td>\n",
       "      <td>2016-09-27 19:59:04</td>\n",
       "      <td>9019</td>\n",
       "      <td>False</td>\n",
       "      <td>ImWithYou</td>\n",
       "      <td>NaN</td>\n",
       "      <td>NaN</td>\n",
       "      <td>NaN</td>\n",
       "      <td>...</td>\n",
       "      <td>False</td>\n",
       "      <td>&lt;a href=\"http://twitter.com/download/iphone\" r...</td>\n",
       "      <td>Great afternoon in Little Havana with Hispanic...</td>\n",
       "      <td>False</td>\n",
       "      <td>NaN</td>\n",
       "      <td>NaN</td>\n",
       "      <td>Wed Mar 18 13:46:38 +0000 2009</td>\n",
       "      <td>11846272</td>\n",
       "      <td>25073877</td>\n",
       "      <td>realDonaldTrump</td>\n",
       "    </tr>\n",
       "    <tr>\n",
       "      <th>4</th>\n",
       "      <td>None</td>\n",
       "      <td>NaN</td>\n",
       "      <td>NaN</td>\n",
       "      <td>2016-09-27 19:37:22</td>\n",
       "      <td>15602</td>\n",
       "      <td>False</td>\n",
       "      <td>MAGA</td>\n",
       "      <td>NaN</td>\n",
       "      <td>NaN</td>\n",
       "      <td>NaN</td>\n",
       "      <td>...</td>\n",
       "      <td>False</td>\n",
       "      <td>&lt;a href=\"http://twitter.com/download/iphone\" r...</td>\n",
       "      <td>In the last 24 hrs. we have raised over $13M f...</td>\n",
       "      <td>False</td>\n",
       "      <td>NaN</td>\n",
       "      <td>NaN</td>\n",
       "      <td>Wed Mar 18 13:46:38 +0000 2009</td>\n",
       "      <td>11846272</td>\n",
       "      <td>25073877</td>\n",
       "      <td>realDonaldTrump</td>\n",
       "    </tr>\n",
       "  </tbody>\n",
       "</table>\n",
       "<p>5 rows × 44 columns</p>\n",
       "</div>"
      ],
      "text/plain": [
       "  contributors  coord_lat  coord_long          created_at  favorite_count  \\\n",
       "0         None        NaN         NaN 2016-09-27 21:08:22            4709   \n",
       "1         None        NaN         NaN 2016-09-27 20:14:33            6320   \n",
       "2         None        NaN         NaN 2016-09-27 20:06:25            7171   \n",
       "3         None        NaN         NaN 2016-09-27 19:59:04            9019   \n",
       "4         None        NaN         NaN 2016-09-27 19:37:22           15602   \n",
       "\n",
       "  favorited  hashtag_0 hashtag_1 hashtag_2 hashtag_3       ...         \\\n",
       "0     False        NaN       NaN       NaN       NaN       ...          \n",
       "1     False        NaN       NaN       NaN       NaN       ...          \n",
       "2     False       MAGA       NaN       NaN       NaN       ...          \n",
       "3     False  ImWithYou       NaN       NaN       NaN       ...          \n",
       "4     False       MAGA       NaN       NaN       NaN       ...          \n",
       "\n",
       "   retweeted                                             source  \\\n",
       "0      False  <a href=\"http://twitter.com/download/iphone\" r...   \n",
       "1      False  <a href=\"http://twitter.com/download/iphone\" r...   \n",
       "2      False  <a href=\"http://twitter.com/download/iphone\" r...   \n",
       "3      False  <a href=\"http://twitter.com/download/iphone\" r...   \n",
       "4      False  <a href=\"http://twitter.com/download/iphone\" r...   \n",
       "\n",
       "                                                text truncated  \\\n",
       "0  Once again, we will have a government of, by a...     False   \n",
       "1  Hillary Clinton's Campaign Continues To Make F...     False   \n",
       "2  'CNBC, Time magazine online polls say Donald T...     False   \n",
       "3  Great afternoon in Little Havana with Hispanic...     False   \n",
       "4  In the last 24 hrs. we have raised over $13M f...     False   \n",
       "\n",
       "                                               url_0 url_1  \\\n",
       "0                      http://bit.ly/2dxrgjaMOVEMENT   NaN   \n",
       "1                              http://bit.ly/2d4cDe8   NaN   \n",
       "2  http://m.washingtontimes.com/news/2016/sep/27/...   NaN   \n",
       "3                                                NaN   NaN   \n",
       "4                                                NaN   NaN   \n",
       "\n",
       "                  user_created_at user_followers_count   user_id  \\\n",
       "0  Wed Mar 18 13:46:38 +0000 2009             11846272  25073877   \n",
       "1  Wed Mar 18 13:46:38 +0000 2009             11846272  25073877   \n",
       "2  Wed Mar 18 13:46:38 +0000 2009             11846272  25073877   \n",
       "3  Wed Mar 18 13:46:38 +0000 2009             11846272  25073877   \n",
       "4  Wed Mar 18 13:46:38 +0000 2009             11846272  25073877   \n",
       "\n",
       "  user_screen_name  \n",
       "0  realDonaldTrump  \n",
       "1  realDonaldTrump  \n",
       "2  realDonaldTrump  \n",
       "3  realDonaldTrump  \n",
       "4  realDonaldTrump  \n",
       "\n",
       "[5 rows x 44 columns]"
      ]
     },
     "execution_count": 10,
     "metadata": {},
     "output_type": "execute_result"
    }
   ],
   "source": [
    "trumpdf.head()"
   ]
  },
  {
   "cell_type": "code",
   "execution_count": 11,
   "metadata": {
    "collapsed": false
   },
   "outputs": [
    {
     "data": {
      "text/plain": [
       "['contributors',\n",
       " 'coord_lat',\n",
       " 'coord_long',\n",
       " 'created_at',\n",
       " 'favorite_count',\n",
       " 'favorited',\n",
       " 'hashtag_0',\n",
       " 'hashtag_1',\n",
       " 'hashtag_2',\n",
       " 'hashtag_3',\n",
       " 'id',\n",
       " 'id_str',\n",
       " 'in_reply_to_screen_name',\n",
       " 'in_reply_to_status_id',\n",
       " 'in_reply_to_status_id_str',\n",
       " 'in_reply_to_user_id',\n",
       " 'in_reply_to_user_id_str',\n",
       " 'is_quote_status',\n",
       " 'lang',\n",
       " 'mention_0',\n",
       " 'mention_1',\n",
       " 'mention_2',\n",
       " 'mention_3',\n",
       " 'mention_4',\n",
       " 'possibly_sensitive',\n",
       " 'qt_created',\n",
       " 'qt_id',\n",
       " 'qt_text',\n",
       " 'qt_user_followers',\n",
       " 'qt_user_id',\n",
       " 'qt_user_screenname',\n",
       " 'quoted_status_id',\n",
       " 'quoted_status_id_str',\n",
       " 'retweet_count',\n",
       " 'retweeted',\n",
       " 'source',\n",
       " 'text',\n",
       " 'truncated',\n",
       " 'url_0',\n",
       " 'url_1',\n",
       " 'user_created_at',\n",
       " 'user_followers_count',\n",
       " 'user_id',\n",
       " 'user_screen_name']"
      ]
     },
     "execution_count": 11,
     "metadata": {},
     "output_type": "execute_result"
    }
   ],
   "source": [
    "list(trumpdf.columns.values)"
   ]
  },
  {
   "cell_type": "code",
   "execution_count": 12,
   "metadata": {
    "collapsed": false
   },
   "outputs": [
    {
     "data": {
      "text/plain": [
       "(180, 44)"
      ]
     },
     "execution_count": 12,
     "metadata": {},
     "output_type": "execute_result"
    }
   ],
   "source": [
    "#get structure of dataframe: row & col\n",
    "\n",
    "trumpdf.shape"
   ]
  },
  {
   "cell_type": "code",
   "execution_count": 13,
   "metadata": {
    "collapsed": false
   },
   "outputs": [],
   "source": [
    "for i in range(0, 7):\n",
    "    temp_timeline = twitter.get_user_timeline(screen_name=\"realDonaldTrump\",count=1000, include_rts=False)"
   ]
  },
  {
   "cell_type": "code",
   "execution_count": 14,
   "metadata": {
    "collapsed": true
   },
   "outputs": [],
   "source": [
    "for i, val in enumerate(temp_timeline):\n",
    "    temp_timeline[i]['current_time'] = datetime.now().strftime(\"%Y-%m-%d %H:%M:%S\")\n",
    "    temp_timeline[i]['user_screen_name']=temp_timeline[i]['user']['screen_name']\n",
    "    temp_timeline[i]['user_followers_count']=temp_timeline[i]['user']['followers_count']\n",
    "    if 'retweeted_status' in temp_timeline[i].keys():\n",
    "        temp_timeline[i]['rt_count'] = temp_timeline[i]['retweeted_status']['retweet_count']\n",
    "        temp_timeline[i]['rt_created'] = temp_timeline[i]['retweeted_status']['created_at']\n",
    "        temp_timeline[i]['rt_user_id'] = temp_timeline[i]['retweeted_status']['user']['id']\n",
    "        temp_timeline[i]['rt_user_followers'] = temp_timeline[i]['retweeted_status']['user']['followers_count']\n",
    "        del temp_timeline[i]['retweeted_status']     "
   ]
  },
  {
   "cell_type": "code",
   "execution_count": 15,
   "metadata": {
    "collapsed": false
   },
   "outputs": [],
   "source": [
    "df3 = pd.DataFrame(temp_timeline)\n",
    "df3['created_at'] = pd.to_datetime(df3['created_at'])"
   ]
  },
  {
   "cell_type": "code",
   "execution_count": 16,
   "metadata": {
    "collapsed": false
   },
   "outputs": [
    {
     "data": {
      "text/plain": [
       "(180, 31)"
      ]
     },
     "execution_count": 16,
     "metadata": {},
     "output_type": "execute_result"
    }
   ],
   "source": [
    "df3.shape"
   ]
  },
  {
   "cell_type": "code",
   "execution_count": 17,
   "metadata": {
    "collapsed": false
   },
   "outputs": [
    {
     "data": {
      "text/html": [
       "<div>\n",
       "<table border=\"1\" class=\"dataframe\">\n",
       "  <thead>\n",
       "    <tr style=\"text-align: right;\">\n",
       "      <th></th>\n",
       "      <th>contributors</th>\n",
       "      <th>coordinates</th>\n",
       "      <th>created_at</th>\n",
       "      <th>current_time</th>\n",
       "      <th>entities</th>\n",
       "      <th>extended_entities</th>\n",
       "      <th>favorite_count</th>\n",
       "      <th>favorited</th>\n",
       "      <th>geo</th>\n",
       "      <th>id</th>\n",
       "      <th>...</th>\n",
       "      <th>quoted_status_id</th>\n",
       "      <th>quoted_status_id_str</th>\n",
       "      <th>retweet_count</th>\n",
       "      <th>retweeted</th>\n",
       "      <th>source</th>\n",
       "      <th>text</th>\n",
       "      <th>truncated</th>\n",
       "      <th>user</th>\n",
       "      <th>user_followers_count</th>\n",
       "      <th>user_screen_name</th>\n",
       "    </tr>\n",
       "  </thead>\n",
       "  <tbody>\n",
       "    <tr>\n",
       "      <th>0</th>\n",
       "      <td>None</td>\n",
       "      <td>None</td>\n",
       "      <td>2016-09-27 21:08:22</td>\n",
       "      <td>2016-09-27 17:44:20</td>\n",
       "      <td>{'media': [{'display_url': 'pic.twitter.com/uY...</td>\n",
       "      <td>{'media': [{'display_url': 'pic.twitter.com/uY...</td>\n",
       "      <td>4711</td>\n",
       "      <td>False</td>\n",
       "      <td>None</td>\n",
       "      <td>780876760086880256</td>\n",
       "      <td>...</td>\n",
       "      <td>NaN</td>\n",
       "      <td>NaN</td>\n",
       "      <td>1744</td>\n",
       "      <td>False</td>\n",
       "      <td>&lt;a href=\"http://twitter.com/download/iphone\" r...</td>\n",
       "      <td>Once again, we will have a government of, by a...</td>\n",
       "      <td>False</td>\n",
       "      <td>{'url': 'https://t.co/mZB2hymxC9', 'created_at...</td>\n",
       "      <td>11846272</td>\n",
       "      <td>realDonaldTrump</td>\n",
       "    </tr>\n",
       "    <tr>\n",
       "      <th>1</th>\n",
       "      <td>None</td>\n",
       "      <td>None</td>\n",
       "      <td>2016-09-27 20:14:33</td>\n",
       "      <td>2016-09-27 17:44:20</td>\n",
       "      <td>{'user_mentions': [], 'urls': [{'display_url':...</td>\n",
       "      <td>NaN</td>\n",
       "      <td>6325</td>\n",
       "      <td>False</td>\n",
       "      <td>None</td>\n",
       "      <td>780863218646474757</td>\n",
       "      <td>...</td>\n",
       "      <td>NaN</td>\n",
       "      <td>NaN</td>\n",
       "      <td>2408</td>\n",
       "      <td>False</td>\n",
       "      <td>&lt;a href=\"http://twitter.com/download/iphone\" r...</td>\n",
       "      <td>Hillary Clinton's Campaign Continues To Make F...</td>\n",
       "      <td>False</td>\n",
       "      <td>{'url': 'https://t.co/mZB2hymxC9', 'created_at...</td>\n",
       "      <td>11846272</td>\n",
       "      <td>realDonaldTrump</td>\n",
       "    </tr>\n",
       "    <tr>\n",
       "      <th>2</th>\n",
       "      <td>None</td>\n",
       "      <td>None</td>\n",
       "      <td>2016-09-27 20:06:25</td>\n",
       "      <td>2016-09-27 17:44:20</td>\n",
       "      <td>{'user_mentions': [{'screen_name': 'WashTimes'...</td>\n",
       "      <td>NaN</td>\n",
       "      <td>7174</td>\n",
       "      <td>False</td>\n",
       "      <td>None</td>\n",
       "      <td>780861171238834176</td>\n",
       "      <td>...</td>\n",
       "      <td>NaN</td>\n",
       "      <td>NaN</td>\n",
       "      <td>2701</td>\n",
       "      <td>False</td>\n",
       "      <td>&lt;a href=\"http://twitter.com/download/iphone\" r...</td>\n",
       "      <td>'CNBC, Time magazine online polls say Donald T...</td>\n",
       "      <td>False</td>\n",
       "      <td>{'url': 'https://t.co/mZB2hymxC9', 'created_at...</td>\n",
       "      <td>11846272</td>\n",
       "      <td>realDonaldTrump</td>\n",
       "    </tr>\n",
       "    <tr>\n",
       "      <th>3</th>\n",
       "      <td>None</td>\n",
       "      <td>None</td>\n",
       "      <td>2016-09-27 19:59:04</td>\n",
       "      <td>2016-09-27 17:44:20</td>\n",
       "      <td>{'media': [{'display_url': 'pic.twitter.com/vx...</td>\n",
       "      <td>{'media': [{'display_url': 'pic.twitter.com/vx...</td>\n",
       "      <td>9022</td>\n",
       "      <td>False</td>\n",
       "      <td>None</td>\n",
       "      <td>780859319319400448</td>\n",
       "      <td>...</td>\n",
       "      <td>NaN</td>\n",
       "      <td>NaN</td>\n",
       "      <td>3072</td>\n",
       "      <td>False</td>\n",
       "      <td>&lt;a href=\"http://twitter.com/download/iphone\" r...</td>\n",
       "      <td>Great afternoon in Little Havana with Hispanic...</td>\n",
       "      <td>False</td>\n",
       "      <td>{'url': 'https://t.co/mZB2hymxC9', 'created_at...</td>\n",
       "      <td>11846272</td>\n",
       "      <td>realDonaldTrump</td>\n",
       "    </tr>\n",
       "    <tr>\n",
       "      <th>4</th>\n",
       "      <td>None</td>\n",
       "      <td>None</td>\n",
       "      <td>2016-09-27 19:37:22</td>\n",
       "      <td>2016-09-27 17:44:20</td>\n",
       "      <td>{'user_mentions': [], 'urls': [], 'hashtags': ...</td>\n",
       "      <td>NaN</td>\n",
       "      <td>15606</td>\n",
       "      <td>False</td>\n",
       "      <td>None</td>\n",
       "      <td>780853860135006211</td>\n",
       "      <td>...</td>\n",
       "      <td>NaN</td>\n",
       "      <td>NaN</td>\n",
       "      <td>4610</td>\n",
       "      <td>False</td>\n",
       "      <td>&lt;a href=\"http://twitter.com/download/iphone\" r...</td>\n",
       "      <td>In the last 24 hrs. we have raised over $13M f...</td>\n",
       "      <td>False</td>\n",
       "      <td>{'url': 'https://t.co/mZB2hymxC9', 'created_at...</td>\n",
       "      <td>11846272</td>\n",
       "      <td>realDonaldTrump</td>\n",
       "    </tr>\n",
       "  </tbody>\n",
       "</table>\n",
       "<p>5 rows × 31 columns</p>\n",
       "</div>"
      ],
      "text/plain": [
       "  contributors coordinates          created_at         current_time  \\\n",
       "0         None        None 2016-09-27 21:08:22  2016-09-27 17:44:20   \n",
       "1         None        None 2016-09-27 20:14:33  2016-09-27 17:44:20   \n",
       "2         None        None 2016-09-27 20:06:25  2016-09-27 17:44:20   \n",
       "3         None        None 2016-09-27 19:59:04  2016-09-27 17:44:20   \n",
       "4         None        None 2016-09-27 19:37:22  2016-09-27 17:44:20   \n",
       "\n",
       "                                            entities  \\\n",
       "0  {'media': [{'display_url': 'pic.twitter.com/uY...   \n",
       "1  {'user_mentions': [], 'urls': [{'display_url':...   \n",
       "2  {'user_mentions': [{'screen_name': 'WashTimes'...   \n",
       "3  {'media': [{'display_url': 'pic.twitter.com/vx...   \n",
       "4  {'user_mentions': [], 'urls': [], 'hashtags': ...   \n",
       "\n",
       "                                   extended_entities  favorite_count  \\\n",
       "0  {'media': [{'display_url': 'pic.twitter.com/uY...            4711   \n",
       "1                                                NaN            6325   \n",
       "2                                                NaN            7174   \n",
       "3  {'media': [{'display_url': 'pic.twitter.com/vx...            9022   \n",
       "4                                                NaN           15606   \n",
       "\n",
       "  favorited   geo                  id       ...        quoted_status_id  \\\n",
       "0     False  None  780876760086880256       ...                     NaN   \n",
       "1     False  None  780863218646474757       ...                     NaN   \n",
       "2     False  None  780861171238834176       ...                     NaN   \n",
       "3     False  None  780859319319400448       ...                     NaN   \n",
       "4     False  None  780853860135006211       ...                     NaN   \n",
       "\n",
       "  quoted_status_id_str retweet_count retweeted  \\\n",
       "0                  NaN          1744     False   \n",
       "1                  NaN          2408     False   \n",
       "2                  NaN          2701     False   \n",
       "3                  NaN          3072     False   \n",
       "4                  NaN          4610     False   \n",
       "\n",
       "                                              source  \\\n",
       "0  <a href=\"http://twitter.com/download/iphone\" r...   \n",
       "1  <a href=\"http://twitter.com/download/iphone\" r...   \n",
       "2  <a href=\"http://twitter.com/download/iphone\" r...   \n",
       "3  <a href=\"http://twitter.com/download/iphone\" r...   \n",
       "4  <a href=\"http://twitter.com/download/iphone\" r...   \n",
       "\n",
       "                                                text truncated  \\\n",
       "0  Once again, we will have a government of, by a...     False   \n",
       "1  Hillary Clinton's Campaign Continues To Make F...     False   \n",
       "2  'CNBC, Time magazine online polls say Donald T...     False   \n",
       "3  Great afternoon in Little Havana with Hispanic...     False   \n",
       "4  In the last 24 hrs. we have raised over $13M f...     False   \n",
       "\n",
       "                                                user user_followers_count  \\\n",
       "0  {'url': 'https://t.co/mZB2hymxC9', 'created_at...             11846272   \n",
       "1  {'url': 'https://t.co/mZB2hymxC9', 'created_at...             11846272   \n",
       "2  {'url': 'https://t.co/mZB2hymxC9', 'created_at...             11846272   \n",
       "3  {'url': 'https://t.co/mZB2hymxC9', 'created_at...             11846272   \n",
       "4  {'url': 'https://t.co/mZB2hymxC9', 'created_at...             11846272   \n",
       "\n",
       "  user_screen_name  \n",
       "0  realDonaldTrump  \n",
       "1  realDonaldTrump  \n",
       "2  realDonaldTrump  \n",
       "3  realDonaldTrump  \n",
       "4  realDonaldTrump  \n",
       "\n",
       "[5 rows x 31 columns]"
      ]
     },
     "execution_count": 17,
     "metadata": {},
     "output_type": "execute_result"
    }
   ],
   "source": [
    "df3.head()"
   ]
  },
  {
   "cell_type": "code",
   "execution_count": 18,
   "metadata": {
    "collapsed": false
   },
   "outputs": [
    {
     "data": {
      "text/plain": [
       "['contributors',\n",
       " 'coordinates',\n",
       " 'created_at',\n",
       " 'current_time',\n",
       " 'entities',\n",
       " 'extended_entities',\n",
       " 'favorite_count',\n",
       " 'favorited',\n",
       " 'geo',\n",
       " 'id',\n",
       " 'id_str',\n",
       " 'in_reply_to_screen_name',\n",
       " 'in_reply_to_status_id',\n",
       " 'in_reply_to_status_id_str',\n",
       " 'in_reply_to_user_id',\n",
       " 'in_reply_to_user_id_str',\n",
       " 'is_quote_status',\n",
       " 'lang',\n",
       " 'place',\n",
       " 'possibly_sensitive',\n",
       " 'quoted_status',\n",
       " 'quoted_status_id',\n",
       " 'quoted_status_id_str',\n",
       " 'retweet_count',\n",
       " 'retweeted',\n",
       " 'source',\n",
       " 'text',\n",
       " 'truncated',\n",
       " 'user',\n",
       " 'user_followers_count',\n",
       " 'user_screen_name']"
      ]
     },
     "execution_count": 18,
     "metadata": {},
     "output_type": "execute_result"
    }
   ],
   "source": [
    "list(df3.columns.values)"
   ]
  },
  {
   "cell_type": "code",
   "execution_count": 19,
   "metadata": {
    "collapsed": true
   },
   "outputs": [],
   "source": [
    "#create create dataframe with the required fields for analysis.\n",
    "#trumpdf is the primary/original tweeter request, we create the df1\n",
    "df1 = trumpdf[['created_at','favorite_count','id', 'lang', 'retweet_count', 'user_followers_count','user_screen_name', 'text']]"
   ]
  },
  {
   "cell_type": "code",
   "execution_count": 20,
   "metadata": {
    "collapsed": false
   },
   "outputs": [
    {
     "data": {
      "text/plain": [
       "(180, 8)"
      ]
     },
     "execution_count": 20,
     "metadata": {},
     "output_type": "execute_result"
    }
   ],
   "source": [
    "df1.shape"
   ]
  },
  {
   "cell_type": "code",
   "execution_count": 21,
   "metadata": {
    "collapsed": false
   },
   "outputs": [
    {
     "data": {
      "text/plain": [
       "['created_at',\n",
       " 'favorite_count',\n",
       " 'id',\n",
       " 'lang',\n",
       " 'retweet_count',\n",
       " 'user_followers_count',\n",
       " 'user_screen_name',\n",
       " 'text']"
      ]
     },
     "execution_count": 21,
     "metadata": {},
     "output_type": "execute_result"
    }
   ],
   "source": [
    "#get the index/column list \n",
    "list(df1.columns.values)"
   ]
  },
  {
   "cell_type": "code",
   "execution_count": 22,
   "metadata": {
    "collapsed": false
   },
   "outputs": [],
   "source": [
    "#create second dataframe witht he required fields for join and create the realDonaldTrump, here is the df3 \n",
    "#so we create df2\n",
    "\n",
    "df2 = df3[['current_time','favorite_count','id', 'retweet_count', 'user_followers_count','user_screen_name']]"
   ]
  },
  {
   "cell_type": "code",
   "execution_count": 23,
   "metadata": {
    "collapsed": false
   },
   "outputs": [
    {
     "data": {
      "text/plain": [
       "['current_time',\n",
       " 'favorite_count',\n",
       " 'id',\n",
       " 'retweet_count',\n",
       " 'user_followers_count',\n",
       " 'user_screen_name']"
      ]
     },
     "execution_count": 23,
     "metadata": {},
     "output_type": "execute_result"
    }
   ],
   "source": [
    "list(df2.columns.values)"
   ]
  },
  {
   "cell_type": "code",
   "execution_count": 24,
   "metadata": {
    "collapsed": false
   },
   "outputs": [
    {
     "data": {
      "text/plain": [
       "(180, 6)"
      ]
     },
     "execution_count": 24,
     "metadata": {},
     "output_type": "execute_result"
    }
   ],
   "source": [
    "df2.shape"
   ]
  },
  {
   "cell_type": "code",
   "execution_count": 25,
   "metadata": {
    "collapsed": false
   },
   "outputs": [],
   "source": [
    "realDonaldTrump = pd.merge(df1, df2, how='inner', on=['id', 'user_screen_name'], left_index=True, sort=True, copy=True, )"
   ]
  },
  {
   "cell_type": "code",
   "execution_count": 26,
   "metadata": {
    "collapsed": true
   },
   "outputs": [],
   "source": [
    "#create final dataframe with required fields for analysis. using inner join in order to find the one already in the dataframe.\n",
    "#realDonaldTrump = pd.merge(df1, df2, how='inner', on=['key1', 'key2'])"
   ]
  },
  {
   "cell_type": "code",
   "execution_count": 27,
   "metadata": {
    "collapsed": false
   },
   "outputs": [
    {
     "data": {
      "text/html": [
       "<div>\n",
       "<table border=\"1\" class=\"dataframe\">\n",
       "  <thead>\n",
       "    <tr style=\"text-align: right;\">\n",
       "      <th></th>\n",
       "      <th>created_at</th>\n",
       "      <th>favorite_count_x</th>\n",
       "      <th>id</th>\n",
       "      <th>lang</th>\n",
       "      <th>retweet_count_x</th>\n",
       "      <th>user_followers_count_x</th>\n",
       "      <th>user_screen_name</th>\n",
       "      <th>text</th>\n",
       "      <th>current_time</th>\n",
       "      <th>favorite_count_y</th>\n",
       "      <th>retweet_count_y</th>\n",
       "      <th>user_followers_count_y</th>\n",
       "    </tr>\n",
       "  </thead>\n",
       "  <tbody>\n",
       "    <tr>\n",
       "      <th>179</th>\n",
       "      <td>2016-09-08 10:52:27</td>\n",
       "      <td>22329</td>\n",
       "      <td>773836389943246848</td>\n",
       "      <td>en</td>\n",
       "      <td>5212</td>\n",
       "      <td>11846272</td>\n",
       "      <td>realDonaldTrump</td>\n",
       "      <td>Wow, reviews are in - THANK YOU!</td>\n",
       "      <td>2016-09-27 17:44:20</td>\n",
       "      <td>22329</td>\n",
       "      <td>5212</td>\n",
       "      <td>11846272</td>\n",
       "    </tr>\n",
       "    <tr>\n",
       "      <th>178</th>\n",
       "      <td>2016-09-08 12:10:13</td>\n",
       "      <td>29963</td>\n",
       "      <td>773855962528620548</td>\n",
       "      <td>en</td>\n",
       "      <td>8940</td>\n",
       "      <td>11846272</td>\n",
       "      <td>realDonaldTrump</td>\n",
       "      <td>\"A rough night for Hillary Clinton\"  ABC News.</td>\n",
       "      <td>2016-09-27 17:44:20</td>\n",
       "      <td>29963</td>\n",
       "      <td>8940</td>\n",
       "      <td>11846272</td>\n",
       "    </tr>\n",
       "    <tr>\n",
       "      <th>177</th>\n",
       "      <td>2016-09-08 15:17:47</td>\n",
       "      <td>35996</td>\n",
       "      <td>773903163296473088</td>\n",
       "      <td>en</td>\n",
       "      <td>11264</td>\n",
       "      <td>11846272</td>\n",
       "      <td>realDonaldTrump</td>\n",
       "      <td>Hillary just gave a disastrous news conference...</td>\n",
       "      <td>2016-09-27 17:44:20</td>\n",
       "      <td>35996</td>\n",
       "      <td>11264</td>\n",
       "      <td>11846272</td>\n",
       "    </tr>\n",
       "    <tr>\n",
       "      <th>176</th>\n",
       "      <td>2016-09-08 16:25:36</td>\n",
       "      <td>31254</td>\n",
       "      <td>773920230192054272</td>\n",
       "      <td>en</td>\n",
       "      <td>10677</td>\n",
       "      <td>11846272</td>\n",
       "      <td>realDonaldTrump</td>\n",
       "      <td>Hillary Clinton answered email questions diffe...</td>\n",
       "      <td>2016-09-27 17:44:20</td>\n",
       "      <td>31254</td>\n",
       "      <td>10677</td>\n",
       "      <td>11846272</td>\n",
       "    </tr>\n",
       "    <tr>\n",
       "      <th>175</th>\n",
       "      <td>2016-09-08 18:16:25</td>\n",
       "      <td>17621</td>\n",
       "      <td>773948120069615616</td>\n",
       "      <td>en</td>\n",
       "      <td>4896</td>\n",
       "      <td>11846272</td>\n",
       "      <td>realDonaldTrump</td>\n",
       "      <td>Mexico has lost a brilliant finance minister a...</td>\n",
       "      <td>2016-09-27 17:44:20</td>\n",
       "      <td>17621</td>\n",
       "      <td>4896</td>\n",
       "      <td>11846272</td>\n",
       "    </tr>\n",
       "  </tbody>\n",
       "</table>\n",
       "</div>"
      ],
      "text/plain": [
       "             created_at  favorite_count_x                  id lang  \\\n",
       "179 2016-09-08 10:52:27             22329  773836389943246848   en   \n",
       "178 2016-09-08 12:10:13             29963  773855962528620548   en   \n",
       "177 2016-09-08 15:17:47             35996  773903163296473088   en   \n",
       "176 2016-09-08 16:25:36             31254  773920230192054272   en   \n",
       "175 2016-09-08 18:16:25             17621  773948120069615616   en   \n",
       "\n",
       "     retweet_count_x  user_followers_count_x user_screen_name  \\\n",
       "179             5212                11846272  realDonaldTrump   \n",
       "178             8940                11846272  realDonaldTrump   \n",
       "177            11264                11846272  realDonaldTrump   \n",
       "176            10677                11846272  realDonaldTrump   \n",
       "175             4896                11846272  realDonaldTrump   \n",
       "\n",
       "                                                  text         current_time  \\\n",
       "179                   Wow, reviews are in - THANK YOU!  2016-09-27 17:44:20   \n",
       "178     \"A rough night for Hillary Clinton\"  ABC News.  2016-09-27 17:44:20   \n",
       "177  Hillary just gave a disastrous news conference...  2016-09-27 17:44:20   \n",
       "176  Hillary Clinton answered email questions diffe...  2016-09-27 17:44:20   \n",
       "175  Mexico has lost a brilliant finance minister a...  2016-09-27 17:44:20   \n",
       "\n",
       "     favorite_count_y  retweet_count_y  user_followers_count_y  \n",
       "179             22329             5212                11846272  \n",
       "178             29963             8940                11846272  \n",
       "177             35996            11264                11846272  \n",
       "176             31254            10677                11846272  \n",
       "175             17621             4896                11846272  "
      ]
     },
     "execution_count": 27,
     "metadata": {},
     "output_type": "execute_result"
    }
   ],
   "source": [
    "realDonaldTrump.head()"
   ]
  },
  {
   "cell_type": "code",
   "execution_count": 28,
   "metadata": {
    "collapsed": false
   },
   "outputs": [
    {
     "name": "stdout",
     "output_type": "stream",
     "text": [
      "                                                  text\n",
      "179                   Wow, reviews are in - THANK YOU!\n",
      "178     \"A rough night for Hillary Clinton\"  ABC News.\n",
      "177  Hillary just gave a disastrous news conference...\n",
      "176  Hillary Clinton answered email questions diffe...\n",
      "175  Mexico has lost a brilliant finance minister a...\n",
      "174  With Luis, Mexico and the United States would ...\n",
      "173  Last nights results - in poll taken by NBC. #A...\n",
      "172  More poll results from last nights Commander-i...\n",
      "171  It wasn't Matt Lauer that hurt Hillary last ni...\n",
      "170  Final poll results from NBC on last nights Com...\n",
      "169  The documentary of me that @CNN just aired is ...\n",
      "168  .@CNN is unwatchable. Their news on me is fict...\n",
      "167  Jeff Zucker failed @NBC and he is now failing ...\n",
      "166  Henry McMaster, Lt. Governor of South Carolina...\n",
      "165  MAKE AMERICA GREAT AGAIN!\\n#AmericaFirst #ImWi...\n",
      "164  Great honor to be endorsed by popular &amp; su...\n",
      "163  Thank you Ohio. Together, we will MAKE AMERICA...\n",
      "162  Will be delivering a major speech tonight - li...\n",
      "161  Thank you Florida - we are going to MAKE AMERI...\n",
      "160  Dummy writer @tonyschwartz, who wanted to do a...\n",
      "159  I havn't seen @tonyschwartz in many years, he ...\n",
      "158  Just returned from Pensacola, Florida, where t...\n",
      "157  \"@Stvzbnk: Just Watched @tonyschwartz. Obvious...\n",
      "156  Will be in Missouri today with Melania for the...\n",
      "155  Wow, Hillary Clinton was SO INSULTING to my su...\n",
      "154  Really sad that Republicans would allow themse...\n",
      "153  While Hillary said horrible things about my su...\n",
      "152  Hillary Clinton just had her 47% moment. What ...\n",
      "151  The seriously failing @nytimes, despite so muc...\n",
      "150              #NeverForget\\nhttps://t.co/G5TMAUzy0z\n",
      "..                                                 ...\n",
      "29   Russia has more warheads than ever, N Korea is...\n",
      "28   .@HillaryClinton - Obama #ISIS Strategy Has Al...\n",
      "27   Nothing on emails. Nothing on the corrupt Clin...\n",
      "26   .@HillaryClinton’s Nuclear Agreement Paved The...\n",
      "25   Thank you Senator @TedCruz!\\n#Debates2016 #MAG...\n",
      "24   Thank you Governor @Mike_Pence!\\nLets MAKE AME...\n",
      "23   Thank you Governor @TerryBranstad! \\n#AmericaF...\n",
      "22   Wow, did great in the debate polls (except for...\n",
      "21   .@newtgingrich just said \"a historic victory f...\n",
      "20   TIME #DebateNight poll - over 800,000 votes. T...\n",
      "19   Thank you! CNBC #DebateNight poll with over 40...\n",
      "18   .@DRUDGE_REPORT's First Presidential Debate Po...\n",
      "17   Thank you! Four new #DebateNight polls with th...\n",
      "16   Great debate poll numbers - I will be on @foxa...\n",
      "15   I really enjoyed the debate last night.Crooked...\n",
      "14   'How Trump won over a bar full of undecideds a...\n",
      "13   I won every poll from last nights Presidential...\n",
      "12   The #1 trend on Twitter right now is #TrumpWon...\n",
      "11   'True blue-collar billionaire Donald Trump sho...\n",
      "10   Hillary's been failing for 30 years in not get...\n",
      "9    Thank you! #TrumpWon #MAGA \\nhttps://t.co/a5rr...\n",
      "8    'U.S. Murders Increased 10.8% in 2015' via @WS...\n",
      "7    Such a great honor. Final debate polls are in ...\n",
      "6    Thank you for your endorsement, @GovernorSunun...\n",
      "5    Well, now they're saying that I not only won t...\n",
      "4    In the last 24 hrs. we have raised over $13M f...\n",
      "3    Great afternoon in Little Havana with Hispanic...\n",
      "2    'CNBC, Time magazine online polls say Donald T...\n",
      "1    Hillary Clinton's Campaign Continues To Make F...\n",
      "0    Once again, we will have a government of, by a...\n",
      "\n",
      "[180 rows x 1 columns]\n"
     ]
    }
   ],
   "source": [
    "#d = dict(screen_name = screen_name, Favorites = favorites_count, Retweets = retweets_count,Date = date, Text = text)\n",
    "\n",
    "#HillaryClinton = pd.DataFrame({k : pd.Series(v) for k, v in  list(d.items())})\n",
    "status_texts = realDonaldTrump[['text']]\n",
    "print(status_texts)"
   ]
  },
  {
   "cell_type": "code",
   "execution_count": 29,
   "metadata": {
    "collapsed": false
   },
   "outputs": [],
   "source": [
    "#count words in each tweet, we can also lower all the words/characters to by using .lower(),\n",
    "words_trump = pd.Series(' '.join(realDonaldTrump.text).split())\n",
    "punctuation = list(string.punctuation)\n",
    "stop = stopwords.words('english') + punctuation + ['rt', 'via']"
   ]
  },
  {
   "cell_type": "code",
   "execution_count": 30,
   "metadata": {
    "collapsed": false
   },
   "outputs": [],
   "source": [
    "\n",
    "#implementation of stop words using nltk library for language processing\n",
    "terms_stop = [term for term in words_trump if term not in stop]"
   ]
  },
  {
   "cell_type": "code",
   "execution_count": 31,
   "metadata": {
    "collapsed": false
   },
   "outputs": [
    {
     "name": "stdout",
     "output_type": "stream",
     "text": [
      "['Wow,', 'reviews', 'THANK', 'YOU!', '\"A', 'rough', 'night', 'Hillary', 'Clinton\"', 'ABC', 'News.', 'Hillary', 'gave', 'disastrous', 'news', 'conference', 'tarmac', 'make', 'poor', 'performance', 'last', 'night.', \"She's\", 'decimated', 'media!', 'Hillary', 'Clinton', 'answered', 'email', 'questions', 'differently', 'last', 'night', 'past.', 'She', 'totally', 'confused.', 'Unfit', 'serve', '#POTUS.', 'Mexico', 'lost', 'brilliant', 'finance', 'minister', 'wonderful', 'man', 'I', 'know', 'highly', 'respected', 'President', 'Peña', 'Nieto.', 'With', 'Luis,', 'Mexico', 'United', 'States', 'would', 'made', 'wonderful', 'deals', 'together', 'Mexico', 'US', 'would', 'benefitted.', 'Last', 'nights', 'results', 'poll', 'taken', 'NBC.', '#AmericaFirst', '#ImWithYou', 'https://t.co/sCOnny1fl3', 'More', 'poll', 'results', 'last', 'nights', 'Commander-in-Chief', 'Forum.', '#AmericaFirst', '#TrumpTrain', 'https://t.co/FxyBL6fO1h', 'It', \"wasn't\", 'Matt', 'Lauer', 'hurt', 'Hillary', 'last', 'night.', 'It', 'dumb', 'answer', 'emails', '&amp;', 'veteran', 'said', 'jail.', 'Final', 'poll', 'results', 'NBC', 'last', 'nights', 'Commander-in-Chief', 'Forum.', 'Thank', 'you!', '#ImWithYou', '#MAGA', 'https://t.co/C5ipaxUN7B', 'The', 'documentary', '@CNN', 'aired', 'total', 'waste', 'time.', 'I', \"don't\", 'even', 'know', 'many', 'people', 'spoke', 'me.', 'A', 'joke!', '.@CNN', 'unwatchable.', 'Their', 'news', 'fiction.', 'They', 'disgrace', 'broadcasting', 'industry', 'arm', 'Clinton', 'campaign.', 'Jeff', 'Zucker', 'failed', '@NBC', 'failing', '@CNN.', 'Henry', 'McMaster,', 'Lt.', 'Governor', 'South', 'Carolina', 'endorsed', 'me,', 'beat', 'failed', '@CNN', 'announcer', 'Bakari', 'Sellers,', 'badly.', 'Funny!', 'MAKE', 'AMERICA', 'GREAT', 'AGAIN!', '#AmericaFirst', '#ImWithYou', 'https://t.co/JIlNW7myEN', 'Great', 'honor', 'endorsed', 'popular', '&amp;', 'successful', '@gov_gilmore', 'VA.', 'A', 'state', 'I', 'much', 'want', 'win-THX', 'Jim!', 'https://t.co/x4Y1TAFHvn', 'Thank', 'Ohio.', 'Together,', 'MAKE', 'AMERICA', 'GREAT', 'AGAIN!', 'https://t.co/3KWOl20zMm', 'https://t.co/n026nE4XIp', 'Will', 'delivering', 'major', 'speech', 'tonight', 'live', '@oreillyfactor', '8:10pm', 'Pensacola,', 'Florida.', 'Thank', 'Florida', 'going', 'MAKE', 'AMERICA', 'GREAT', 'AGAIN!', 'Join', 'us:', 'https://t.co/3KWOl2ibaW.', '#AmericaFirst', 'https://t.co/vzKtRxzvwv', 'Dummy', 'writer', '@tonyschwartz,', 'wanted', 'second', 'book', 'years', '(I', 'said', 'no),', 'hostile', 'basket', 'case', 'feels', 'jilted!', 'I', \"havn't\", 'seen', '@tonyschwartz', 'many', 'years,', 'hardly', 'knows', 'me.', 'Never', 'liked', 'style.', 'Super', 'lib,', 'Crooked', 'H', 'supporter.', 'Irrelevant', 'dope!', 'Just', 'returned', 'Pensacola,', 'Florida,', 'crowd', 'incredible.', '\"@Stvzbnk:', 'Just', 'Watched', '@tonyschwartz.', 'Obviously', 'Tony', 'Total', 'Whack', 'Job', '@realDonaldTrump\"', 'Will', 'Missouri', 'today', 'Melania', 'funeral', 'wonderful', 'truly', 'respected', 'woman,', 'Phyllis', 'S!', 'Wow,', 'Hillary', 'Clinton', 'SO', 'INSULTING', 'supporters,', 'millions', 'amazing,', 'hard', 'working', 'people.', 'I', 'think', 'cost', 'Polls!', 'Really', 'sad', 'Republicans', 'would', 'allow', 'used', 'Clinton', 'ad.', 'Lindsey', 'Graham,', 'Romney,', 'Flake,', 'Sass.', 'SUPREME', 'COURT,', 'REMEMBER!', 'While', 'Hillary', 'said', 'horrible', 'things', 'supporters,', 'many', 'supporters', 'never', 'vote', 'me,', 'I', 'still', 'respect', 'all!', 'Hillary', 'Clinton', '47%', 'moment.', 'What', 'terrible', 'thing', 'said', 'many', 'great', 'Americans!', 'The', 'seriously', 'failing', '@nytimes,', 'despite', 'much', 'winning', 'poll', 'numbers', 'soon', 'put', 'first', 'place,', 'writes', 'dishonest', 'hits!', '#NeverForget', 'https://t.co/G5TMAUzy0z', 'I', 'interviewed', '@foxandfriends', '7:00', 'A.M.', 'Will', '@CNBC', '@7:22.', 'Enjoy!', 'Stopped', '@TrumpDC', 'thank', 'tremendous', 'men', '&amp;', 'women', 'hard', 'work!', 'https://t.co/oGcJL4N454', 'Just', 'got', 'back', 'Asheville,', 'North', 'Carolina,', 'massive', 'rally.', 'The', 'spirit', 'crowd', 'unbelievable.', 'Thank', 'you!', '#MAGA', '\"@brimyers813:', 'Saw', 'ur', 'speech', 'Twitter.', 'U', 'give', 'hope', 'optimism.', 'I', 'feel', 'though', 'I', 'room', 'u.', 'I', 'pray', '4', 'ur/our', 'success.\"', 'Join', 'Clive,', 'Iowa', 'tomorrow', 'noon!', '#AmericaFirst', '#MAGA', 'Tickets:', 'https://t.co/TEY6BbCyxt', 'https://t.co/l17uzRPyLs', 'Heading', 'Iowa-', 'join', 'today', 'noon!', '#MakeAmericaGreatAgain', 'Tickets:', 'https://t.co/TEY6BbCyxt', 'https://t.co/QyR2MDYYbZ', 'Join', 'us', 'today!', 'Together,', '#MakeAmericaGreatAgain!', 'https://t.co/v40n8RXgti', 'https://t.co/e3KQfBR2K8', 'Thank', 'Clive,', 'Iowa!', 'https://t.co/tuZ35BkD9J', '#ImWithYou', '#AmericaFirst', 'https://t.co/Ne4pI7FyU7', 'CHILD', 'CARE', 'REFORMS', 'THAT', 'WILL', 'MAKE', 'AMERICA', 'GREAT', 'AGAIN!', 'Transcript:', 'https://t.co/rntyxBSb9J', 'https://t.co/5SWmxfVfto', 'https://t.co/j389Quo4bg', 'Thank', '@RepReneeEllmers!', 'https://t.co/1DrZpfa6je', 'https://t.co/rzEw8pQhds', 'Thank', 'Rep.', '@MarshaBlackburn!', 'https://t.co/vxEk0X4ntS', 'https://t.co/9gAk0FWqZ8', 'Thank', 'Rep.', '@CynthiaLummis!', 'https://t.co/4S4pnx4Q6r', 'https://t.co/PLUKlsPXPR', 'Why', \"isn't\", 'President', 'Obama', 'working', 'instead', 'campaigning', 'Hillary', 'Clinton?', 'Russia', 'took', 'Crimea', 'so-called', 'Obama', 'years.', 'Who', \"wouldn't\", 'know', 'Obama', 'get', 'free', 'pass?', 'Thank', 'Ohio', 'see', 'tonight!', 'https://t.co/0DyHkzzWvj', 'Great', 'poll', 'Florida', 'thank', 'you!', '#ImWithYou', '#AmericaFirst', 'https://t.co/6Odle7j1hd', 'Thank', '@ATFD17!', '#ImWithYou', 'Video:', 'https://t.co/z9Yg83VTF4', 'Thank', 'Florida-', \"can't\", 'wait', 'see', 'Friday', 'Miami!', 'Join', 'me:', 'https://t.co/rsx313493u', 'https://t.co/JxsWXz05T9', 'Thank', 'Ohio!', 'Just', 'landed', 'Canton', 'rally', 'Civic', 'Center.', 'Join', '7pm:', 'https://t.co/s0XVVNyBKf', 'https://t.co/UtCRxykurW', 'Honor', 'interviewed', 'wonderful', '@bishopwtjackson', 'Detroit', 'last', 'week', 'tune', '9pmE.', 'Enjoy!', 'https://t.co/9ahPnfhQ5N', 'Great', 'evening', 'Canton,', 'Ohio-thank', 'you!', 'We', 'going', 'MAKE', 'AMERICA', 'GREAT', 'AGAIN!', 'Join', 'us:', 'https://t.co/3KWOl2ibaW', 'https://t.co/4MvwUj9eX9', 'Great', 'poll', 'Nevada-', 'thank', 'you!', 'See', 'soon.', '#MAGA', '#AmericaFirst', 'https://t.co/3KWOl2ibaW', 'https://t.co/27sR3MjjXc', 'I', 'interviewed', '@foxandfriends', 'tomorrow', '7am.', 'Enjoy!', 'I', 'never', 'fan', 'Colin', 'Powell', 'weak', 'understanding', 'weapons', 'mass', 'destruction', 'Iraq', 'disaster.', 'We', 'much', 'better!', '\"@ghfanlovessonny:', '@realDonaldTrump', 'vote', 'Pennsylvania.', 'Trump', '2016\"', 'Thank', 'you!', 'Will', '@foxandfriends', '7:00', 'A.M.', 'Enjoy!', 'Thank', 'me!', 'I', 'enjoyed', 'tour', 'spending', 'time', 'everyone.', 'See', 'soon.', '#MAGA', 'https://t.co/eNtS7IBPDo', 'Thank', 'law', 'enforcement', 'officers', 'across', 'America!', '#LESM', '#MAGA', 'https://t.co/Mcbc2JzhN2', 'https://t.co/4MTmR8kXVb', 'Thank', '@JerryJrFalwell!', 'https://t.co/jzUQxkW4tB', 'Full', 'transcript', 'economic', 'plan-', 'delivered', 'Economic', 'Club', 'New', 'York.', '#MAGA', 'https://t.co/xiu9AUiSSD', 'https://t.co/Fsy1diPWjU', 'I', 'interviewed', '@jessebwatters', '@oreillyfactor', 'tonight', '8pm.', 'Enjoy!', 'Will', 'joining', '@jimmyfallon', '@FallonTonight', '11:35pmE', 'tonight.', 'Enjoy!', 'Instead', 'driving', 'jobs', 'wealth', 'away,', 'AMERICA', 'become', \"WORLD'S\", 'great', 'magnet', 'innovation', '&amp;', 'job', 'creation!', 'https://t.co/cvu20ZQSVJ', '\"@jimmyfallon:', 'Tonight:', '@realDonaldTrump,', '@normmacdonald,', 'performance', 'Kiiara,and', 'funniest', '#MyTeacherIsWeird', 'tweets.', '#FallonTonight', '\"@AK_TWEET:', \"#TheDonald's\", 'hair', 'gets', '#JimmyFallon', 'treatment', '#TheTonightShow', '#TrumpPence16', 'https://t.co/0RRPbfIgXH\"', 'So', 'true!', 'Thank', 'great', 'evening', 'Laconia,', 'New', 'Hampshire', '--', 'back', 'soon!', '#AmericaFirst', 'https://t.co/3KWOl2ibaW', 'https://t.co/QWbYm2lY7B', 'I', 'going', 'brand', 'new', 'Trump', 'International,', 'Hotel', 'D.C.', 'major', 'statement.', 'I', 'truly', 'honored', 'grateful', 'receiving', 'SO', 'much', 'support', 'American', 'heroes...https://t.co/S9bvbysiOr', 'https://t.co/JJQncd3zhf', 'Great', 'parade', 'The', 'Villages-', 'I', 'love', 'all.', 'We', '#MAGA.', 'Thank', 'incredible', 'support-I', 'forget!', 'https://t.co/5qTDijU3hn', 'Just', 'leaving', 'Miami', 'Houston,', 'Oklahoma', 'Colorado.', 'Miami', 'crowd', 'fantastic!', 'Just', 'arrived', 'Texas', 'informed', 'two', '@fortworthpd', 'officers', 'shot.', 'My', 'thoughts', 'prayers', 'them.', 'A', 'interesting', 'take', '@KatiePavlich:', 'https://t.co/XaM9yEYCHL', '\"Donald', 'Trump’s', 'birther', 'event', 'greatest', 'trick', 'he’s', 'ever', 'pulled\"', 'https://t.co/zvVQnxeiQ9', 'My', 'thoughts', 'prayers', 'go', '@PhillyPolice', '&amp;', '@Penn', 'police', 'officers-', 'Philadelphia.', 'https://t.co/eyC3W1mweY', 'Crooked', 'Hillary', 'wants', 'take', '2nd', 'Amendment', 'rights', 'away.', 'Will', 'guns', 'taken', 'heavily', 'armed', 'Secret', 'Service', 'detail?', 'Maybe', 'not!', 'I', 'never', 'met', 'former', 'Defense', 'Secretary', 'Robert', 'Gates.', 'He', 'knows', 'nothing', 'me.', 'But', 'look', 'results', 'guidance', 'total', 'disaster!', '.@CNN', \"doesn't\", 'get', 'it,', \"that's\", 'ratings', 'low', 'getting', 'worse.', 'Boring', 'anti-Trump', 'panelists,', 'mostly', 'losers', 'life!', 'Wacky', '@NYTimesDowd,', 'hardly', 'knows', 'me,', 'makes', 'things', 'I', 'never', 'said', 'boring', 'interviews', 'column.', 'A', 'neurotic', 'dope!', 'Crazy', 'Maureen', 'Dowd,', 'wacky', 'columnist', 'failing', '@nytimes,', 'pretends', 'knows', 'well--wrong!', 'The', 'failing', '@nytimes', 'gone', 'nuts', 'Crooked', 'Hillary', 'badly.', 'They', 'willing', 'say', 'anything,', 'become', 'laughingstock', 'rag!', 'My', 'lawyers', 'want', 'sue', 'failing', '@nytimes', 'badly', 'irresponsible', 'intent.', 'I', 'said', '(for', 'now),', 'watching.', 'Really', 'disgusting', 'Heading', 'Colorado', 'big', 'rally.', 'Massive', 'crowd,', 'great', 'people!', 'Will', 'soon', 'polls', 'looking', 'good.', 'Never', 'met', 'never', 'liked', 'dopey', 'Robert', 'Gates.', 'Look', 'mess', 'U.S.', 'in.', 'Always', 'speaks', 'badly', 'many', 'bosses,', 'including', 'Obama.', 'I', 'would', 'like', 'express', 'warmest', 'regards,', 'best', 'wishes', 'condolences', 'families', 'victims', 'horrible', 'bombing', 'NYC.', 'HAPPY', 'BIRTHDAY', 'United', 'States', 'Air', 'Force!!', 'https://t.co/5Gwi1M5R2t', 'Under', 'leadership', 'Obama', '&amp;', 'Clinton,', 'Americans', 'experienced', 'attacks', 'home', 'victories', 'abroad.', 'Time', 'change', 'playbook!', 'Terrible', 'attacks', 'NY,', 'NJ', 'MN', 'weekend.', 'Thinking', 'victims,', 'families', 'Americans!', 'We', 'need', 'strong!', 'Will', '@foxandfriends', '7:02', 'A.M.', 'Enjoy.', '\"@AngPiazza:', '@foxandfriends', '@realDonaldTrump', \"he's\", 'ONLY', 'candidate', 'keep', 'us', 'safe!\"', '\"@TarukMatuk:', '@CNN', '@FoxNews', '@realDonaldTrump', '@RogerRice10', 'Refugees', 'Syria', '10k', 'plus', 'coming.', 'Lots', 'young', 'males,', 'poorly', 'vetted.', 'Great', 'job', 'law', 'enforcement!', 'We', 'proud', 'embrace', 'without', 'them,', \"don't\", 'country!', 'Once', 'someone', 'told', 'ok', 'turns', 'terrorist', 'wants', 'destroy', 'country', '&amp;', 'people-', 'get', 'thru', 'system?', 'Hillary', \"Clinton's\", 'weakness', 'Secretary', 'State,', 'emboldened', 'terrorists', 'world..cont:', 'https://t.co/E5BdTiwlur', 'Philly', 'FOP', 'Chief', 'On', 'Presidential', 'Endorsement:', 'Clinton', '‘Blew', 'The', 'Police', \"Off'\", 'https://t.co/ATBY343pS1', 'I', 'interviewed', '@oreillyfactor', 'tonight', 'Florida,', 'now.', 'Enjoy!', 'Together,', 'MAKE', 'AMERICA', 'SAFE', 'AND', 'GREAT', 'AGAIN!', '#ImWithYou', '#AmericaFirst', 'https://t.co/XhwUGw0v2H', 'Amazing', 'rally', 'Florida', 'MOVEMENT!', 'Join', 'us', 'today', 'https://t.co/3KWOl2ibaW.', 'https://t.co/BF1IqPXNho', 'Crooked', 'Hillary', 'fighting', 'ISIS,', 'whatever', 'doing,', 'years.', 'Now', 'new', 'ideas.', 'It', 'time', 'change.', 'Thank', 'Georgia!', '#AmericaFirst', '#MakeAmericaGreatAgain', 'https://t.co/3KWOl2ibaW', 'https://t.co/y01qpON7h7', 'Thank', 'Nevada!', '#AmericaFirst', '#MakeAmericaGreatAgain', 'https://t.co/3KWOl2ibaW', 'https://t.co/RJqHgq2Rn0', 'Do', 'people', 'notice', 'Hillary', 'copying', 'airplane', 'rallies', 'puts', 'plane', 'behind', 'like', 'I', 'beginning.', 'Heading', 'North', 'Carolina', 'two', 'big', 'rallies.', 'Will', 'soon.', 'We', 'bring', 'jobs', 'back', 'belong!', 'Hillary', 'Clinton', 'taking', 'day', 'again,', 'needs', 'rest.', 'Sleep', 'well', 'Hillary', 'see', 'debate!', 'Thank', 'High', 'Point,', 'NC!', 'I', 'fight', 'every', 'neglected', 'part', 'nation', '&amp;', 'I', 'fight', 'bring', 'us', 'together…', 'https://t.co/DSaUpSptBz', 'Thank', 'Kenansville,', 'North', 'Carolina!', 'Remember-', 'November', '8th,', 'special', 'interest', 'gravy', 'train', 'coming', 'a…', 'https://t.co/AysJRMzvKw', 'It', 'MOVEMENT', 'campaign.', 'Leaving', 'past', 'behind,', 'changing', 'future.', 'Together,', 'MAKE', 'AMERICA', 'SAF…', 'https://t.co/Lt2L3NKzyi', 'The', 'situations', 'Tulsa', 'Charlotte', 'tragic.', 'We', 'must', 'come', 'together', 'make', 'America', 'safe', 'again.', 'Hopefully', 'violence', '&amp;', 'unrest', 'Charlotte', 'come', 'immediate', 'end.', 'To', 'injured,', 'get', 'well', 'soon.', 'We', 'need', 'unity', '&amp;', 'leadership.', 'Thank', 'Toledo,', 'Ohio!', 'It', 'important', 'get', 'VOTE', 'November', '8,', '2016!', 'Lets', 'MAKE', 'AMERICA', 'SAFE…', 'https://t.co/MQdp4GgLIE', 'Great', 'new', 'polls!', 'Thank', 'Nevada,', 'North', 'Carolina', '&amp;', 'Ohio.', 'Join', 'MOVEMENT', 'today', '&amp;', 'lets', '#MAGA!…', 'https://t.co/Y8Sb8MNyXA', '.@YoungDems4Trump', 'Thank', 'you!', '\"@ThAllenSBoucher:', '@DiamondandSilk', '@realDonaldTrump', '@seanhannity', 'I', 'love', 'beautiful', 'gals.\"', 'D', 'S', 'Two', 'amazing', 'women!', 'I', 'interviewed', 'Cleveland,', 'Ohio,', '@seanhannity', 'Tonight', '10:00', 'P.M.', 'Enjoy!', 'Will', '@foxandfriends', 'now.', 'Join', 'Roanoke,', 'Virginia', 'Saturday', 'evening', '6pm!', '#MAGA', 'https://t.co/uKG55Pznwu', 'This', 'campaign-', 'movement.', '#MakeAmericaGreatAgain', 'SIGN', 'UP', 'TODAY', '&amp;', 'WE', 'WILL', 'WIN!', 'https://t.co/2XBs5SSRC3', 'Spoke', 'Governor', '@PatMcCroryNC', 'North', 'Carolina', 'today.', 'He', 'tremendous', 'job', 'tough', 'circumstances.', \"Tomorrow's\", 'day!', 'Knock', 'doors', 'make', 'calls', 'us', 'National', 'Day', 'Action!', '#TrumpTrain', '#MAGA…', 'https://t.co/05NY0wJHkL', 'Hillary', 'Clinton', 'lost', 'every', 'Republican', 'ever', 'had,', 'including', 'Never', 'Trump,', 'farmers', '&amp;', 'sm.', 'biz,', 'saying', 'she’ll', 'tax', 'estates', '65%.', \"'How\", 'Trump', 'Would', 'Stimulate', 'U.S.', \"Economy'\", 'https://t.co/jU3HHglnIu', 'Join', 'Roanoke,', 'Virginia', 'tomorrow', 'Berglund', 'Center-', 'Coliseum', '6pm!', 'Tickets', 'available', 'at:…', 'https://t.co/bnEE6NX41Z', 'Crooked', \"Hillary's\", 'bad', 'judgement', 'forced', 'announce', 'would', 'go', 'Charlotte', 'Saturday', 'grandstand.', 'Dem', 'pols', 'said', 'way,', 'dumb!', 'Today', 'day!', 'Knock', 'doors', 'make', 'calls', 'us', 'National', 'Day', 'Action!', '#TrumpTrain', '#MAGA…', 'https://t.co/4iW06ROvsT', 'The', '@SenTedCruz', 'endorsement', 'wonderful', 'surprise.', 'I', 'greatly', 'appreciate', 'support!', 'We', 'tremendous', 'victory', 'November', '8th.', '\"@KellyannePolls:', 'Trump', 'headed', 'win,', 'says', 'professor', 'predicted', '30', 'years', 'presidential', 'outcomes', 'https://t.co/68WEMcuHSO\"', 'Will', 'back', 'Virginia', 'tonight-', '6pm', 'rally', 'Berglund', 'Center', 'Roanoke.', 'Join', 'me!', 'Tickets:…', 'https://t.co/6pQMSgPWuN', 'If', 'dopey', 'Mark', 'Cuban', 'failed', 'Benefactor', 'fame', 'wants', 'sit', 'front', 'row,', 'perhaps', 'I', 'put', 'Gennifer', 'Flowers', 'right', 'alongside', 'him!', 'Thank', 'Roanoke,', 'Virginia', 'MOVEMENT', 'join', 'us', 'today!', 'Sign', 'up:', 'https://t.co/NQEgRxQN2m', '#AmericaFirst…', 'https://t.co/Rz3DkpBQJu', 'Many', 'team', 'staff', 'Bernie', 'Sanders', 'treated', 'badly', 'Hillary', 'Clinton', 'campaign', 'like', 'Trump', 'trade,', 'lot!', 'Bernie', 'Sanders', 'gave', 'Hillary', 'Dem', 'nomination', 'gave', 'e-mails.', 'That', 'issue', 'gotten', 'bigger!', 'Looking', 'forward', 'meeting', 'Benjamin', 'Netanyahu', 'Trump', 'Tower', '10:00', 'A.M.', 'Readout', 'meeting', 'Israeli', 'Prime', 'Minister', 'Benjamin', 'Netanyahu:', 'https://t.co/VHuyE65hgi', 'https://t.co/6KDPrQxSED', 'Five', 'people', 'killed', 'Washington', 'State', 'Middle', 'Eastern', 'immigrant.', 'Many', 'people', 'died', 'weekend', 'Ohio', 'drug', 'overdoses.', 'N.C.', 'riots!', 'Really', 'sad', 'news:', 'The', 'great', 'Arnold', 'Palmer,', '\"King,\"', 'died.', 'There', 'no-one', 'like', 'true', 'champion!', 'He', 'truly', 'missed.', 'New', 'national', 'Bloomberg', 'poll', 'released', 'thank', 'you!', 'Join', 'MOVEMENT:', 'https://t.co/3KWOl2ibaW.', '#TrumpTrain…', 'https://t.co/xDGCwYVK0Q', 'My', 'team', 'deplorables', 'managing', 'Twitter', 'account', 'evenings', 'debate.', 'Tune', 'in!', '#DebateNight', '#TrumpPence16', 'Why', \"isn't\", 'Hillary', 'Clinton', '50', 'points', 'ahead?', '#DebateNight', 'https://t.co/iux7icIkaT', '.@HillaryClinton', 'Obama', 'policies', 'increased', 'debt', '$9trillion', 'last', '8', 'years', '.@HillaryClinton', 'channels', 'John', 'Kerry', 'trade:', 'bad', 'trade', 'deals', 'them.', '#TPP', '#Debates2016', 'Instead', 'driving', 'jobs', 'wealth', 'away,', 'AMERICA', 'become', \"world's\", 'great', 'magnet', 'innovation', 'job', 'creati…', 'https://t.co/02NMQn3ZNQ', '.@HillaryClinton', 'part', 'rigged', 'DC', 'system', '30', 'years?', 'Why', 'would', 'take', 'policy', 'advice', 'her?', '#Debates2016', 'A', 'Clinton', 'economy', 'taxes', 'spending!', '#DebateNight', 'https://t.co/oFlaAhrwe5', \"HILLARY'S\", 'BAD', 'TAX', 'HABIT!', 'https://t.co/x3FBy8Hdq2', 'This', 'simple', 'fact', '@HillaryClinton:', 'typical', 'politician', 'talk,', 'action.', '#Debates2016', 'I', 'stand', 'police', 'protect', 'ALL', 'Americans!', '#Debates2016', '#MAGA', 'https://t.co/CX4oEWgEMp', \".@HillaryClinton's\", '2008', 'Campaign', 'And', 'Supporters', 'Trafficked', 'In', 'Rumors', 'About', \"Obama's\", 'Heritage', '#DebateNight', 'https://t.co/6EEOAaCiNv', 'Hillary', 'Clinton', 'candidate', 'stage', 'voted', 'Iraq', 'War.', '#Debates2016', '#MAGA', 'https://t.co/Um5WJXEEKr', 'Hillary', 'Clinton', 'failed', 'world.', '❌LIBYA', '❌SYRIA', '❌IRAN', '❌IRAQ', '❌ASIA', 'PIVOT', '❌RUSSIAN', 'RESET', '❌BENGHAZI…', 'https://t.co/OoakXs2rij', 'Russia', 'warheads', 'ever,', 'N', 'Korea', 'testing', 'nukes,', 'Iran', 'got', 'sweetheart', 'deal', 'keep', 'theirs.', 'Thanks,', '@HillaryClinton.', '.@HillaryClinton', 'Obama', '#ISIS', 'Strategy', 'Has', 'Allowed', 'It', 'To', 'Expand', 'To', 'Become', 'A', 'Global', 'Threat', '#DebateNight', 'https://t.co/f7PctDE31L', 'Nothing', 'emails.', 'Nothing', 'corrupt', 'Clinton', 'Foundation.', 'And', 'nothing', '#Benghazi.', '#Debates2016', '#debatenight', '.@HillaryClinton’s', 'Nuclear', 'Agreement', 'Paved', 'The', 'Way', 'For', 'The', '$400', 'Million', 'Ransom', 'Payment', '#DebateNight', 'https://t.co/qfZTx6aKYs', 'Thank', 'Senator', '@TedCruz!', '#Debates2016', '#MAGA', 'https://t.co/cgO6109USJ', 'Thank', 'Governor', '@Mike_Pence!', 'Lets', 'MAKE', 'AMERICA', 'SAFE', 'AND', 'GREAT', 'AGAIN', 'American', 'people.', '#AmericaFirst…', 'https://t.co/6k7qP9X8nC', 'Thank', 'Governor', '@TerryBranstad!', '#AmericaFirst', '#Debates2016', 'https://t.co/yIeZctdQy8', 'Wow,', 'great', 'debate', 'polls', '(except', '@CNN', 'I', \"don't\", 'watch).', 'Thank', 'you!', '.@newtgingrich', 'said', '\"a', 'historic', 'victory', 'Trump.\"', 'NICE!', 'TIME', '#DebateNight', 'poll', '800,000', 'votes.', 'Thank', 'you!', '#AmericaFirst', '#MAGA', 'https://t.co/bTPX9E0wKu', 'Thank', 'you!', 'CNBC', '#DebateNight', 'poll', '400,000', 'votes.', 'Trump', '61%', 'Clinton', '39%', '#AmericaFirst', '#ImWithYou…', 'https://t.co/MJ3NwA98op', \".@DRUDGE_REPORT's\", 'First', 'Presidential', 'Debate', 'Poll:', 'Trump:', '80%', 'Clinton:', '20%', 'Join', 'MOVEMENT', 'today', '&amp;', 'lets', '#MAGA!…', 'https://t.co/B12lgC97tn', 'Thank', 'you!', 'Four', 'new', '#DebateNight', 'polls', 'MOVEMENT', 'winning.', 'Together,', 'MAKE', 'AMERICA', 'SAFE', '&amp;', 'GREAT', 'AGAIN…', 'https://t.co/39FCnUf8Pb', 'Great', 'debate', 'poll', 'numbers', 'I', '@foxandfriends', '7:00', 'discuss.', 'Enjoy!', 'I', 'really', 'enjoyed', 'debate', 'last', 'night.Crooked', 'Hillary', 'says', 'going', 'many', 'things.Why', \"hasn't\", 'done', 'last', '30', 'years?', \"'How\", 'Trump', 'bar', 'full', 'undecideds', \"Democrats'\", 'https://t.co/WWO39kxn8Y', 'I', 'every', 'poll', 'last', 'nights', 'Presidential', 'Debate', 'except', 'little', 'watched', '@CNN', 'poll.', 'The', '#1', 'trend', 'Twitter', 'right', '#TrumpWon', 'thank', 'you!', \"'True\", 'blue-collar', 'billionaire', 'Donald', 'Trump', 'shows', 'Hillary', 'Clinton', \"touch'\", 'https://t.co/NHO1OicfVm', \"Hillary's\", 'failing', '30', 'years', 'getting', 'job', 'done', 'never', 'change.', 'Thank', 'you!', '#TrumpWon', '#MAGA', 'https://t.co/a5rr1i38km', \"'U.S.\", 'Murders', 'Increased', '10.8%', \"2015'\", '@WSJ:', 'https://t.co/CIJMQJhLqp', 'Such', 'great', 'honor.', 'Final', 'debate', 'polls', 'MOVEMENT', 'wins!', '#AmericaFirst', '#MAGA', '#ImWithYou…', 'https://t.co/DV1BKMwHEM', 'Thank', 'endorsement,', '@GovernorSununu.', '#MAGA', 'https://t.co/8BEeQPsuyd', 'Well,', \"they're\", 'saying', 'I', 'NBC', 'Presidential', 'Forum,', 'last', 'night', 'big', 'debate.', 'Nice!', 'In', 'last', '24', 'hrs.', 'raised', '$13M', 'online', 'donations', 'National', 'Call', 'Day,', 'we’re', 'still', 'going!', 'Thank', 'America!', '#MAGA', 'Great', 'afternoon', 'Little', 'Havana', 'Hispanic', 'community', 'leaders.', 'Thank', 'support!', '#ImWithYou', 'https://t.co/vxWZ2tyJTF', \"'CNBC,\", 'Time', 'magazine', 'online', 'polls', 'say', 'Donald', 'Trump', 'first', 'presidential', \"debate'\", '@WashTimes.', '#MAGA', 'https://t.co/PGimqYKPoJ', 'Hillary', \"Clinton's\", 'Campaign', 'Continues', 'To', 'Make', 'False', 'Claims', 'About', 'Foundation', 'Disclosure:', 'https://t.co/zhkEfUouHH', 'Once', 'again,', 'government', 'of,', 'people.', 'Join', 'MOVEMENT', 'today!', 'https://t.co/lWjYDbPHav', 'https://t.co/uYwJrtZkAe']\n"
     ]
    }
   ],
   "source": [
    "print(terms_stop)"
   ]
  },
  {
   "cell_type": "code",
   "execution_count": 32,
   "metadata": {
    "collapsed": false
   },
   "outputs": [],
   "source": [
    "word_counts = {}\n",
    "for word in terms_stop:\n",
    "    if word in word_counts:\n",
    "        word_counts[word] += 1\n",
    "    else:\n",
    "        word_counts[word] = 1"
   ]
  },
  {
   "cell_type": "code",
   "execution_count": 33,
   "metadata": {
    "collapsed": false
   },
   "outputs": [
    {
     "name": "stdout",
     "output_type": "stream",
     "text": [
      "{'truly': 3, 'needs': 1, 'U.S.': 2, 'https://t.co/PGimqYKPoJ': 1, 'it,': 1, 'amazing,': 1, 'tune': 1, 'wealth': 2, 'https://t.co/yIeZctdQy8': 1, 'Civic': 1, 'taken': 2, 'driving': 2, 'feel': 1, 'immediate': 1, 'estates': 1, 'winning.': 1, 'true!': 1, 'MAKE': 10, '@WSJ:': 1, \"Tomorrow's\": 1, 'enforcement': 1, 'years': 4, 'Secret': 1, '❌RUSSIAN': 1, 'calls': 2, 'knows': 4, '@TerryBranstad!': 1, 'differently': 1, 'Wow,': 3, '@tonyschwartz,': 1, 'movement.': 1, '6pm!': 2, 'moment.': 1, 'https://t.co/CIJMQJhLqp': 1, 'Little': 1, 'NYC.': 1, 'need': 2, 'South': 1, 'national': 1, 'deplorables': 1, 'appreciate': 1, 'Their': 1, 'jail.': 1, 'system?': 1, 'Heading': 3, 'afternoon': 1, 'stage': 1, '@gov_gilmore': 1, 'want': 2, 'away,': 2, 'boring': 1, 'debate.': 2, 'tarmac': 1, 'Colin': 1, 'funeral': 1, 'rough': 1, 'nights': 4, 'managing': 1, 'totally': 1, 'Carolina': 4, 'fight': 2, 'State': 1, 'Center.': 1, 'you!': 14, '30': 4, 'receiving': 1, 'honored': 1, '#TheTonightShow': 1, 'in!': 1, 'Florida.': 1, 'Stimulate': 1, 'got': 2, 'whatever': 1, 'D': 1, '10k': 1, 'For': 1, '#MAGA': 17, '.@CNN': 2, \".@HillaryClinton's\": 1, '#AmericaFirst': 16, 'Watched': 1, 'https://t.co/xDGCwYVK0Q': 1, '7:02': 1, '\"@KellyannePolls:': 1, '@WashTimes.': 1, 'https://t.co/B12lgC97tn': 1, 'nomination': 1, 'Jim!': 1, 'basket': 1, 'book': 1, 'me,': 3, 'fantastic!': 1, 'belong!': 1, 'answered': 1, 'immigrant.': 1, 'violence': 1, 'man': 1, '@CNN': 5, 'https://t.co/Y8Sb8MNyXA': 1, 'forget!': 1, '10:00': 2, 'row,': 1, 'government': 1, 'Pensacola,': 2, 'informed': 1, 'despite': 1, 'thru': 1, 'without': 1, 'Charlotte': 3, 'email': 1, 'https://t.co/JxsWXz05T9': 1, 'not!': 1, 'poor': 1, \"he's\": 1, 'https://t.co/5SWmxfVfto': 1, 'popular': 1, 'https://t.co/zvVQnxeiQ9': 1, 'Look': 1, 'Benefactor': 1, 'Looking': 1, 'former': 1, '@FoxNews': 1, 'met': 2, 'tweets.': 1, '#POTUS.': 1, 'https://t.co/5Gwi1M5R2t': 1, 'MOVEMENT': 7, 'AND': 2, 'years.': 2, 'past.': 1, 'though': 1, 'INSULTING': 1, 'Spoke': 1, 'hrs.': 1, 'supporters': 1, 'Dummy': 1, 'YOU!': 1, 'Together,': 5, 'incredible': 1, '@tonyschwartz': 1, 'https://t.co/JIlNW7myEN': 1, 'Global': 1, 'Who': 1, 'COURT,': 1, 'Trump:': 1, '39%': 1, 'years?': 2, 'https://t.co/uKG55Pznwu': 1, '@realDonaldTrump\"': 1, 'https://t.co/sCOnny1fl3': 1, 'Paved': 1, 'campaign-': 1, 'Really': 3, 'https://t.co/cvu20ZQSVJ': 1, 'https://t.co/vzKtRxzvwv': 1, 'seriously': 1, 'If': 1, 'Palmer,': 1, 'Supporters': 1, 'know': 3, 'Philly': 1, 'me!': 2, 'points': 1, 'staff': 1, 'rag!': 1, 'sue': 1, 'instead': 1, 'Always': 1, 'nothing': 2, 'pray': 1, \"'U.S.\": 1, 'Crimea': 1, 'make': 4, 'bring': 2, 'https://t.co/Fsy1diPWjU': 1, 'guidance': 1, 'forward': 1, 'Four': 1, 'Florida,': 2, '@7:22.': 1, '#NeverForget': 1, 'issue': 1, 'team': 2, 'Powell': 1, 'Henry': 1, '‘Blew': 1, '@fortworthpd': 1, 'state': 1, 'together': 2, 'every': 3, 'Washington': 1, 'statement.': 1, 'False': 1, 'MOVEMENT!': 1, 'law': 2, 'woman,': 1, 'finance': 1, '@ATFD17!': 1, '❌ASIA': 1, 'bosses,': 1, 'Debate': 2, 'Gates.': 2, 'Syria': 1, '#MakeAmericaGreatAgain!': 1, 'night.Crooked': 1, \"Obama's\": 1, 'Flowers': 1, 'incredible.': 1, 'riots!': 1, '@CynthiaLummis!': 1, 'behind': 1, 'H': 1, 'And': 2, 'except': 1, 'Sign': 1, 'terrorists': 1, 'Carolina!': 1, 'Bakari': 1, 'https://t.co/5qTDijU3hn': 1, 'creation!': 1, 'Will': 11, 'overdoses.': 1, 'policy': 1, 'Ohio!': 2, 'world.': 1, 'Tickets:…': 1, '#ImWithYou…': 2, 'THANK': 1, 'polls': 5, 'community': 1, 'https://t.co/lWjYDbPHav': 1, 'waste': 1, 'poll': 11, '@TedCruz!': 1, '11:35pmE': 1, 'https://t.co/27sR3MjjXc': 1, 'Nevada,': 1, 'https://t.co/4S4pnx4Q6r': 1, '#MAGA…': 2, 'major': 2, 'poorly': 1, 'notice': 1, 'think': 1, 'Korea': 1, '80%': 1, '@TrumpDC': 1, '2016!': 1, 'corrupt': 1, '#TPP': 1, 'Expand': 1, 'ALL': 1, 'Governor': 4, 'confused.': 1, 'Once': 2, 'first': 2, 'lawyers': 1, 'someone': 1, 'Tickets:': 2, 'REMEMBER!': 1, 'nation': 1, 'bad': 2, 'rights': 1, 'everyone.': 1, '#TrumpWon': 2, 'leadership': 1, 'America': 1, '#TrumpTrain': 3, 'farmers': 1, 'Americans': 1, 'amazing': 1, 'Call': 1, 'ever': 2, \"'CNBC,\": 1, 'Murders': 1, 'delivered': 1, 'There': 1, 'disaster!': 1, '$400': 1, 'even': 1, 'anything,': 1, 'weakness': 1, 'https://t.co/6EEOAaCiNv': 1, 'PIVOT': 1, 'doors': 2, 'writes': 1, 'https://t.co/C5ipaxUN7B': 1, 'Prime': 1, \"debate'\": 1, \"'How\": 2, 'give': 1, 'going': 4, 'best': 1, 'Last': 1, 'Havana': 1, 'him!': 1, 'He': 3, '\"a': 1, 'true': 1, 'Claims': 1, 'Economic': 1, 'regards,': 1, '(except': 1, 'https://t.co/oGcJL4N454': 1, 'https://t.co/eNtS7IBPDo': 1, 'Full': 1, 'many': 6, 'hardly': 2, 'First': 1, '#1': 1, 'Two': 1, 'debate!': 1, 'heroes...https://t.co/S9bvbysiOr': 1, 'jilted!': 1, 'Final': 2, '#ImWithYou': 8, 'together…': 1, 'Force!!': 1, 'watched': 1, 'system': 1, 'express': 1, 'Roanoke.': 1, 'now.': 2, 'SAF…': 1, 'announcer': 1, 'Minister': 1, 'greatest': 1, 'police': 2, 'pretends': 1, 'Center-': 1, 'anti-Trump': 1, 'ABC': 1, '#debatenight': 1, 'https://t.co/qfZTx6aKYs': 1, 'https://t.co/vxWZ2tyJTF': 1, 'across': 1, 'WILL': 2, 'changing': 1, 'President': 2, 'worse.': 1, 'unrest': 1, 'taking': 1, '.@HillaryClinton’s': 1, 'https://t.co/BF1IqPXNho': 1, 'https://t.co/a5rr1i38km': 1, 'https://t.co/6Odle7j1hd': 1, 'condolences': 1, 'https://t.co/oFlaAhrwe5': 1, 'tough': 1, 'little': 1, \"'True\": 1, '#JimmyFallon': 1, 'SAFE…': 1, '\"@ghfanlovessonny:': 1, 'past': 1, '6pm': 1, 'well--wrong!': 1, 'Donald': 2, 'https://t.co/JJQncd3zhf': 1, 'Romney,': 1, 'https://t.co/Um5WJXEEKr': 1, 'Today': 1, 'end.': 1, 'Philadelphia.': 1, 'Cleveland,': 1, 'honor.': 1, 'Trafficked': 1, 'Leaving': 1, '#MAGA!…': 2, 'playbook!': 1, 'room': 1, '24': 1, 'N': 1, 'forced': 1, '8pm.': 1, 'They': 2, 'More': 1, 'Oklahoma': 1, 'Trump.\"': 1, 'ur/our': 1, 'again,': 2, 'Secretary': 2, 'Luis,': 1, 'country': 1, '#MakeAmericaGreatAgain': 4, 'cost': 1, 'wishes': 1, 'abroad.': 1, 'males,': 1, 'RESET': 1, 'judgement': 1, 'Nuclear': 1, 'landed': 1, 'announce': 1, 'Kerry': 1, 'Detroit': 1, 'us': 7, 'life!': 1, \"doesn't\": 1, 'Obviously': 1, 'understanding': 1, 'change.': 2, '❌SYRIA': 1, 'VOTE': 1, '50': 1, 'sad': 2, 'FOP': 1, 'https://t.co/68WEMcuHSO\"': 1, 'Florida-': 1, 'Honor': 1, 'simple': 1, '@HillaryClinton.': 1, 'https://t.co/3KWOl2ibaW': 5, 'all!': 1, '7am.': 1, 'https://t.co/NHO1OicfVm': 1, 'become': 3, 'Service': 1, 'Lauer': 1, 'hope': 1, 'ok': 1, 'thoughts': 2, 'Refugees': 1, 'working': 2, 'Mexico': 3, 'Pennsylvania.': 1, 'Rumors': 1, 'people!': 1, 'THAT': 1, 'AGAIN…': 1, 'feels': 1, 'BAD': 1, 'now),': 1, 'job': 5, 'trend': 1, 'rallies.': 1, 'way,': 1, 'billionaire': 1, 'day!': 2, 'Coliseum': 1, 'we’re': 1, 'results': 4, '@PhillyPolice': 1, 'highly': 1, 'Houston,': 1, 'people-': 1, 'ONLY': 1, 'home': 1, 'disgrace': 1, 'Twitter': 2, 'optimism.': 1, 'spending': 1, '\"@jimmyfallon:': 1, 'Rep.': 2, 'missed.': 1, 'Berglund': 2, 'respect': 1, 'lets': 2, 'leaders.': 1, 'dishonest': 1, 'successful': 1, 'https://t.co/4MvwUj9eX9': 1, 'column.': 1, 'love': 2, 'https://t.co/cgO6109USJ': 1, 'special': 1, 'case': 1, 'historic': 1, 'High': 1, 'https://t.co/WWO39kxn8Y': 1, 'Netanyahu:': 1, 'Carolina,': 1, '@RogerRice10': 1, 'campaign': 1, 'victory': 2, \"isn't\": 2, 'New': 3, 'Ohio': 2, 'Toledo,': 1, 'total': 2, 'lost': 2, 'VA.': 1, '@realDonaldTrump': 4, 'says': 2, 'arm': 1, 'wonderful': 5, 'failing': 6, 'thing': 1, 'raised': 1, 'Iowa': 1, 'Well,': 1, 'Dowd,': 1, 'say': 2, 'economy': 1, '\"@AK_TWEET:': 1, 'Clinton\"': 1, 'Maureen': 1, 'https://t.co/bTPX9E0wKu': 1, 'emboldened': 1, '#Benghazi.': 1, 'testing': 1, 'https://t.co/RJqHgq2Rn0': 1, 'Way': 1, '(for': 1, 'deals': 2, 'Iowa!': 1, 'meeting': 2, 'brand': 1, 'me.': 3, 'away.': 1, 'https://t.co/VHuyE65hgi': 1, \"Democrats'\": 1, 'polls!': 1, 'success.\"': 1, 'Point,': 1, 'action.': 1, 'rally': 3, '@realDonaldTrump,': 1, 'night': 3, 'greatly': 1, 'weapons': 1, 'Crazy': 1, 'debt': 1, 'https://t.co/ATBY343pS1': 1, 'Lindsey': 1, '@nytimes,': 2, 'weekend': 1, 'badly.': 2, 'magazine': 1, 'unwatchable.': 1, 'What': 1, 'Obama': 6, 'hard': 2, 'https://t.co/TEY6BbCyxt': 2, 'Tonight:': 1, 'columnist': 1, '@nytimes': 2, 'account': 1, 'warheads': 1, 'available': 1, 'all.': 1, 'https://t.co/j389Quo4bg': 1, 'wacky': 1, 'go': 2, 'tonight': 3, 'thank': 5, 'HAPPY': 1, 'Clinton:': 1, 'Nevada!': 1, '@bishopwtjackson': 1, 'undecideds': 1, 'https://t.co/rsx313493u': 1, \"hasn't\": 1, 'SO': 2, 'Senator': 1, 'Sellers,': 1, 'right': 2, 'situations': 1, 'plus': 1, 'pols': 1, 'looking': 1, 'Super': 1, 'attacks': 2, '2016\"': 1, 'well': 2, 'interesting': 1, 'https://t.co/FxyBL6fO1h': 1, 'gone': 1, 'Nevada-': 1, 'Hotel': 1, '#TrumpPence16': 2, 'Air': 1, 'spirit': 1, 'presidential': 2, 'Foundation': 1, 'stand': 1, 'Never': 3, 'sit': 1, 'free': 1, 'rigged': 1, 'Enjoy.': 1, \"#TheDonald's\": 1, '65%.': 1, '#ISIS': 1, 'Why': 3, 'professor': 1, 'emails.': 1, 'Obama.': 1, 'made': 1, 'tonight-': 1, 'UP': 1, 'Hispanic': 1, 'willing': 1, 'look': 1, 'minister': 1, 'https://t.co/QyR2MDYYbZ': 1, 'Increased': 1, 'live': 1, 'victims': 1, 'Tonight': 1, 'good.': 1, 'unity': 1, 'https://t.co/s0XVVNyBKf': 1, 'dopey': 2, 'NY,': 1, '@jimmyfallon': 1, 'he’s': 1, 'Thank': 37, 'TAX': 1, 'D.C.': 1, 'hostile': 1, '#AmericaFirst…': 2, 'Florida': 3, 'https://t.co/vxEk0X4ntS': 1, 'parade': 1, 'time.': 1, 'victories': 1, 'dumb': 1, 'https://t.co/MQdp4GgLIE': 1, 'DC': 1, 'ur': 1, '@tonyschwartz.': 1, 'speaks': 1, 'big': 3, 'It': 6, 'Asheville,': 1, 'predicted': 1, 'brilliant': 1, 'Iraq': 2, 'Dem': 2, 'including': 2, 'panelists,': 1, 'hurt': 1, 'Tickets': 1, 'join': 2, 'experienced': 1, 'Eastern': 1, '\"Donald': 1, 'nuts': 1, 'no),': 1, '\"@brimyers813:': 1, 'strong!': 1, 'States': 2, 'died': 1, 'media!': 1, 'decimated': 1, 'men': 1, 'Foundation.': 1, 'of,': 1, 'Stopped': 1, 'trick': 1, 'https://t.co/XaM9yEYCHL': 1, 'sm.': 1, 'Terrible': 1, 'https://t.co/rzEw8pQhds': 1, 'Russia': 2, \"Off'\": 1, 'young': 1, 'last': 12, 'https://t.co/9ahPnfhQ5N': 1, 'Would': 1, \"wasn't\": 1, 'fighting': 1, 'innovation': 2, 'important': 1, 'Enjoy!': 9, 'fiction.': 1, 'https://t.co/02NMQn3ZNQ': 1, 'must': 1, 'Virginia': 4, 'See': 2, 'https://t.co/tuZ35BkD9J': 1, 'Remember-': 1, 'at:…': 1, '@foxandfriends': 7, 'would': 6, 'Allowed': 1, 'endorsement': 1, 'Saturday': 2, 'magnet': 2, 'channels': 1, 'plane': 1, 'CNBC': 1, 'u.': 1, 'failed': 4, 'https://t.co/Rz3DkpBQJu': 1, '@NBC': 1, 'future.': 1, 'https://t.co/05NY0wJHkL': 1, 'Total': 1, 'increased': 1, 'her?': 1, 'women': 1, 'Commander-in-Chief': 2, 'trade': 1, 'gravy': 1, 'perhaps': 1, 'Police': 1, 'https://t.co/AysJRMzvKw': 1, '#Debates2016': 8, 'night.': 2, 'US': 1, 'National': 3, 'said': 8, 'today.': 1, 'online': 2, 'tomorrow': 3, \"She's\": 1, 'Robert': 2, 'https://t.co/eyC3W1mweY': 1, 'interest': 1, 'liked': 2, 'International,': 1, 'Amendment': 1, 'surprise.': 1, 'treatment': 1, 'country!': 1, 'destroy': 1, 'But': 1, 'evening': 3, 'https://t.co/MJ3NwA98op': 1, 'Clinton?': 1, '4': 1, \"can't\": 1, 'Nieto.': 1, 'NC!': 1, 'https://t.co/iux7icIkaT': 1, 'support!': 2, 'https://t.co/6k7qP9X8nC': 1, 'work!': 1, 'veteran': 1, 'trade:': 1, '--': 1, \"don't\": 3, 'killed': 1, 'interviews': 1, '@oreillyfactor': 3, 'Forum,': 1, 'https://t.co/n026nE4XIp': 1, 'pass?': 1, 'evenings': 1, 'Whack': 1, 'keep': 2, 'talk,': 1, 'https://t.co/2XBs5SSRC3': 1, 'deal': 1, 'still': 2, 'York.': 1, 'Thinking': 1, 'a…': 1, 'Hillary': 24, 'About': 2, 'poll.': 1, 'get': 5, '&amp;': 16, 'done': 2, '800,000': 1, '7pm:': 1, 'second': 1, 'Clive,': 2, 'Become': 1, 'copying': 1, 'Poll:': 1, 'Action!': 2, 'https://t.co/bnEE6NX41Z': 1, 'wait': 1, 'BIRTHDAY': 1, 'questions': 1, 'https://t.co/Ne4pI7FyU7': 1, 'tax': 1, 'https://t.co/y01qpON7h7': 1, '\"King,\"': 1, 'had,': 1, 'AMERICA': 12, 'Roanoke,': 3, 'Polls!': 1, '@CNBC': 1, 'tour': 1, 'embrace': 1, 'discuss.': 1, 'typical': 1, 'see': 3, 'Thanks,': 1, 'Iran': 1, 'https://t.co/1DrZpfa6je': 1, 'Trump’s': 1, 'Sanders': 2, 'irresponsible': 1, '#MAGA.': 1, 'CARE': 1, '@jessebwatters': 1, 'millions': 1, 'industry': 1, \"Hillary's\": 2, 'officers-': 1, 'tremendous': 3, '\"@Stvzbnk:': 1, 'theirs.': 1, 'things.Why': 1, '.@newtgingrich': 1, 'Boring': 1, 'treated': 1, 'safe': 1, 'https://t.co/0DyHkzzWvj': 1, 'fan': 1, '@JerryJrFalwell!': 1, 'endorsed': 2, 'https://t.co/v40n8RXgti': 1, 'Join': 14, 'place,': 1, 'John': 1, 'taxes': 1, 'War.': 1, 'https://t.co/9gAk0FWqZ8': 1, 'news': 2, 'so-called': 1, 'world..cont:': 1, '20%': 1, 'neurotic': 1, 'Friday': 1, 'Kiiara,and': 1, 'Melania': 1, 'That': 1, '(I': 1, 'disastrous': 1, 'biz,': 1, 'campaign.': 2, 'donations': 1, 'Lt.': 1, 'today': 5, \"WORLD'S\": 1, 'HABIT!': 1, 'honor': 1, 'Day': 2, 'serve': 1, 'Payment': 1, '@HillaryClinton:': 1, '@PatMcCroryNC': 1, 'Clinton': 16, 'gave': 3, '$13M': 1, 'Saw': 1, 'better!': 1, 'full': 1, 'low': 1, 'news:': 1, 'alongside': 1, \"Economy'\": 1, 'https://t.co/f7PctDE31L': 1, 'emails': 1, 'day': 1, 'Massive': 1, 'My': 4, 'beginning.': 1, 'bombing': 1, 'Has': 1, 'wins!': 1, 'performance': 2, 'returned': 1, 'dumb!': 1, 'Endorsement:': 1, 'drug': 1, '7:00': 3, 'REFORMS': 1, 'Transcript:': 1, '#TrumpTrain…': 1, 'NBC': 2, 'coming': 1, 'With': 1, '2nd': 1, 'Missouri': 1, 'Graham,': 1, 'winning': 1, 'Now': 1, 'plan-': 1, 'creati…': 1, 'train': 1, '8th.': 1, 'respected': 2, 'Job': 1, 'ahead?': 1, 'things': 2, 'vote': 2, 'Irrelevant': 1, 'unbelievable.': 1, 'crowd': 3, 'laughingstock': 1, 'https://t.co/4iW06ROvsT': 1, 'GREAT': 8, 'https://t.co/Mcbc2JzhN2': 1, 'policies': 1, 'safe!\"': 1, '$9trillion': 1, 'Ohio,': 1, 'AGAIN': 1, 'heavily': 1, 'mass': 1, 'supporters,': 2, 'trade,': 1, 'Ohio.': 2, 'Trump': 10, 'Arnold': 1, 'used': 1, 'Many': 2, 'benefitted.': 1, 'week': 1, 'numbers': 2, 'win-THX': 1, 'Georgia!': 1, 'joke!': 1, 'victims,': 1, 'lib,': 1, 'Mark': 1, 'Villages-': 1, '❌LIBYA': 1, 'detail?': 1, 'watching.': 1, '\"@AngPiazza:': 1, 'Day,': 1, 'makes': 1, 'ratings': 1, 'campaigning': 1, '\"@ThAllenSBoucher:': 1, 'Jeff': 1, 'conference': 1, 'beat': 1, 'ever,': 1, 'sweetheart': 1, 'fact': 1, 'really': 1, 'WE': 1, 'birther': 1, 'https://t.co/39FCnUf8Pb': 1, 'Sleep': 1, 'blue-collar': 1, 'TIME': 1, 'wants': 3, 'A': 6, 'change': 1, '61%': 1, \"touch'\": 1, 'people.': 3, 'tragic.': 1, 'soon!': 1, 'noon!': 2, 'Flake,': 1, 'seen': 1, '@Penn': 1, 'supporter.': 1, 'N.C.': 1, 'McMaster,': 1, 'armed': 1, 'ideas.': 1, 'disgusting': 1, 'them,': 1, 'In': 2, 'https://t.co/0RRPbfIgXH\"': 1, 'Just': 6, 'headed': 1, 'enjoyed': 2, 'interviewed': 6, 'Phyllis': 1, '@seanhannity': 2, 'Campaign': 2, 'bar': 1, 'Colorado.': 1, 'https://t.co/4MTmR8kXVb': 1, \"they're\": 1, 'Clinton,': 1, 'NICE!': 1, 'tonight.': 1, 'new': 4, 'The': 12, 'back': 4, 'Gennifer': 1, 'https://t.co/UtCRxykurW': 1, 'behind,': 1, 'again.': 1, \"havn't\": 1, 'getting': 2, 'MN': 1, 'up:': 1, 'put': 2, \"world's\": 1, 'Hopefully': 1, 'rallies': 1, 'lot!': 1, 'horrible': 2, 'Matt': 1, 'advice': 1, 'Great': 9, 'me:': 1, 'We': 9, 'https://t.co/3KWOl20zMm': 1, 'answer': 1, 'https://t.co/Lt2L3NKzyi': 1, 'Club': 1, '#DebateNight': 9, 'Time': 2, 'https://t.co/zhkEfUouHH': 1, 'https://t.co/3KWOl2ibaW.': 3, 'people': 4, 'Peña': 1, 'Canton,': 1, 'Iowa-': 1, 'https://t.co/xiu9AUiSSD': 1, 'rally.': 2, 'Israeli': 1, 'us:': 2, '@normmacdonald,': 1, 'Strategy': 1, 'https://t.co/QWbYm2lY7B': 1, 'Wacky': 1, 'S': 1, 'win,': 1, 'https://t.co/PLUKlsPXPR': 1, 'SAFE': 3, 'voted': 1, 'https://t.co/XhwUGw0v2H': 1, 'Presidential': 4, 'speech': 2, 'prayers': 2, 'spoke': 1, '2008': 1, 'Bloomberg': 1, 'front': 1, 'proud': 1, '❌IRAN': 1, 'Republican': 1, 'them.': 2, 'dope!': 2, 'allow': 1, '@MarshaBlackburn!': 1, 'Continues': 1, 'take': 3, 'rest.': 1, '47%': 1, 'politician': 1, 'endorsement,': 1, 'delivering': 1, 'event': 1, '8': 1, 'injured,': 1, '.@HillaryClinton': 4, 'Ransom': 1, '8:10pm': 1, 'SUPREME': 1, 'Sass.': 1, 'Such': 1, 'weak': 1, '400,000': 1, '@KatiePavlich:': 1, 'Tulsa': 1, 'tonight!': 1, 'https://t.co/OoakXs2rij': 1, 'Do': 1, 'airplane': 1, 'like': 4, 'much': 4, 'Nothing': 2, 'U': 1, 'https://t.co/rntyxBSb9J': 1, 'Maybe': 1, '@FallonTonight': 1, 'P.M.': 1, 'https://t.co/NQEgRxQN2m': 1, \"2015'\": 1, 'disaster.': 1, 'Trump,': 1, 'arrived': 1, 'She': 1, 'wanted': 1, 'A.M.': 4, 'While': 1, 'guns': 1, 'economic': 1, 'https://t.co/6KDPrQxSED': 1, 'Threat': 1, 'https://t.co/jU3HHglnIu': 1, 'NBC.': 1, 'Kenansville,': 1, 'Ohio-thank': 1, 'MOVEMENT:': 1, 'enforcement!': 1, 'pulled\"': 1, 'jobs': 3, 'saying': 2, 'never': 6, '❌IRAQ': 1, 'weekend.': 1, '@GovernorSununu.': 1, 'spending!': 1, 'hits!': 1, 'leaving': 1, 'today!': 3, 'leadership.': 1, 'https://t.co/l17uzRPyLs': 1, 'destruction': 1, 'Crooked': 5, 'Benjamin': 2, 'broadcasting': 1, 'https://t.co/DV1BKMwHEM': 1, 'hair': 1, \"wouldn't\": 1, 'Funny!': 1, 'ad.': 1, 'protect': 1, '@DiamondandSilk': 1, \".@DRUDGE_REPORT's\": 1, '10.8%': 1, 'come': 2, \"that's\": 1, 'Center': 1, '8th,': 1, 'AGAIN!': 6, 'two': 2, '#FallonTonight': 1, 'massive': 1, 'going!': 1, 'support-I': 1, 'S!': 1, 'SIGN': 1, 'Twitter.': 1, 'TODAY': 1, '@CNN.': 1, 'died.': 1, 'officers': 2, 'mess': 1, 'Agreement': 1, 'crowd,': 1, 'Readout': 1, 'American': 2, 'Five': 1, 'America!': 2, 'transcript': 1, 'joining': 1, 'vetted.': 1, 'released': 1, 'Amazing': 1, 'CHILD': 1, 'style.': 1, 'great': 8, 'https://t.co/6pQMSgPWuN': 1, 'gals.\"': 1, 'gotten': 1, 'State,': 1, 'Million': 1, 'Lets': 2, 'Make': 1, 'ISIS,': 1, 'Knock': 2, 'aired': 1, 'Disclosure:': 1, 'North': 5, 'funniest': 1, 'no-one': 1, 'years,': 1, 'shot.': 1, 'Zucker': 1, 'Video:': 1, 'WIN!': 1, 'This': 2, 'Laconia,': 1, 'documentary': 1, 'Bernie': 2, 'circumstances.': 1, 'https://t.co/x3FBy8Hdq2': 1, 'United': 2, 'Canton': 1, 'e-mails.': 1, 'took': 1, 'debate': 4, 'https://t.co/x4Y1TAFHvn': 1, '❌BENGHAZI…': 1, '\"A': 1, 'women!': 1, 'Defense': 1, 'Lots': 1, '@SenTedCruz': 1, 'Americans!': 3, 'Middle': 1, 'To': 4, 'warmest': 1, 'shows': 1, 'Miami!': 1, 'I': 35, 'https://t.co/jzUQxkW4tB': 1, 'https://t.co/uYwJrtZkAe': 1, 'Under': 1, 'Chief': 1, 'champion!': 1, 'watch).': 1, 'neglected': 1, '#LESM': 1, '9pmE.': 1, 'Miami': 2, 'https://t.co/z9Yg83VTF4': 1, 'told': 1, '@RepReneeEllmers!': 1, 'NJ': 1, 'November': 3, 'https://t.co/CX4oEWgEMp': 1, 'https://t.co/E5BdTiwlur': 1, 'Tune': 1, 'Heritage': 1, 'candidate': 2, 'gets': 1, '#MyTeacherIsWeird': 1, 'coming.': 1, 'Tony': 1, 'time': 2, 'nukes,': 1, 'she’ll': 1, 'intent.': 1, 'beautiful': 1, 'soon.': 4, 'grandstand.': 1, 'Texas': 1, 'terrorist': 1, 'Nice!': 1, 'turns': 1, 'Cuban': 1, 'Republicans': 1, '8,': 1, 'badly': 3, 'outcomes': 1, \"Clinton's\": 2, 'terrible': 1, 'reviews': 1, \"HILLARY'S\": 1, 'doing,': 1, 'Unfit': 1, 'grateful': 1, 'support': 1, '\"@TarukMatuk:': 1, '.@YoungDems4Trump': 1, 'Instead': 2, 'https://t.co/G5TMAUzy0z': 1, '@Mike_Pence!': 1, 'Colorado': 1, 'votes.': 2, 'losers': 1, 'in.': 1, 'writer': 1, 'News.': 1, 'Hampshire': 1, 'Tower': 1, 'https://t.co/8BEeQPsuyd': 1, 'bigger!': 1, 'families': 2, '@NYTimesDowd,': 1, 'Netanyahu': 1, 'mostly': 1, 'https://t.co/DSaUpSptBz': 1, 'puts': 1, 'So': 1, 'On': 1, 'soon': 2, 'part': 2, 'https://t.co/e3KQfBR2K8': 1, 'fame': 1, 'Forum.': 2}\n"
     ]
    }
   ],
   "source": [
    "print(word_counts)"
   ]
  },
  {
   "cell_type": "code",
   "execution_count": 34,
   "metadata": {
    "collapsed": false
   },
   "outputs": [
    {
     "name": "stdout",
     "output_type": "stream",
     "text": [
      "{'truly': 3, 'A': 6, 'people.': 3, 'Lets': 2, 'now.': 2, 'wealth': 2, 'See': 2, 'police': 2, 'taken': 2, 'driving': 2, 'Iraq': 2, 'Dem': 2, 'including': 2, '#ImWithYou…': 2, 'MAKE': 10, 'years': 4, 'WILL': 2, 'Just': 6, 'years.': 2, 'calls': 2, 'knows': 4, 'States': 2, 'Bernie': 2, '@seanhannity': 2, 'us:': 2, 'Wow,': 3, 'votes.': 2, 'campaign.': 2, 'today': 5, 'The': 12, 'About': 2, 'Russia': 2, 'need': 2, \"don't\": 3, 'them.': 2, 'getting': 2, 'last': 12, 'support!': 2, 'put': 2, 'big': 3, 'Enjoy!': 9, 'Heading': 3, 'Great': 9, 'We': 9, 'Virginia': 4, 'want': 2, 'away,': 2, 'noon!': 2, '#DebateNight': 9, 'Time': 2, 'It': 6, '@foxandfriends': 7, 'would': 6, 'people': 4, 'Debate': 2, \"'How\": 2, 'They': 2, 'nights': 4, 'magnet': 2, 'Carolina': 4, 'debate': 4, 'failed': 4, 'Secretary': 2, 'SAFE': 3, \"Hillary's\": 2, '#MakeAmericaGreatAgain': 4, 'Twitter': 2, 'got': 2, 'speech': 2, '#MAGA…': 2, 'done': 2, 'victory': 2, '#Debates2016': 8, '#MAGA': 17, '.@CNN': 2, 'National': 3, 'said': 8, 'love': 2, 'us': 7, 'online': 2, 'tomorrow': 3, 'new': 4, 'take': 3, '@nytimes': 2, 'change.': 2, 'liked': 2, 'time': 2, 'sad': 2, 'me,': 3, 'presidential': 2, 'never': 6, '.@HillaryClinton': 4, 'evening': 3, 'https://t.co/3KWOl2ibaW': 5, 'U.S.': 2, '@CNN': 5, 'join': 2, 'become': 3, 'Presidential': 4, '6pm!': 2, 'Pensacola,': 2, 'thoughts': 2, 'working': 2, 'Mexico': 3, 'much': 4, 'Nothing': 2, 'today!': 3, 'Charlotte': 3, 'keep': 2, 'job': 5, 'My': 4, '10:00': 2, 'still': 2, 'lets': 2, 'Hillary': 24, 'again,': 2, 'met': 2, 'get': 5, '&amp;': 16, 'results': 4, '30': 4, 'prayers': 2, 'officers': 2, 'MOVEMENT': 7, 'AND': 2, 'right': 2, 'Action!': 2, 'President': 2, 'jobs': 3, 'saying': 2, 'performance': 2, 'Rep.': 2, 'like': 4, 'Berglund': 2, 'debate.': 2, 'A.M.': 4, 'AMERICA': 12, 'Trump': 10, 'Roanoke,': 3, 'years?': 2, 'going': 4, 'Commander-in-Chief': 2, 'America!': 2, 'hardly': 2, 'see': 3, 'Really': 3, 'In': 2, 'Sanders': 2, 'come': 2, 'Donald': 2, 'American': 2, '#MAGA!…': 2, 'know': 3, 'attacks': 2, '7:00': 3, 'me!': 2, \"isn't\": 2, 'Instead': 2, 'tremendous': 3, 'New': 3, 'Ohio': 2, 'total': 2, 'lost': 2, 'nothing': 2, 'two': 2, '@realDonaldTrump': 4, 'says': 2, 'wonderful': 5, 'make': 4, 'bring': 2, 'Florida,': 2, 'endorsed': 2, 'night.': 2, 'Join': 14, 'rally.': 2, 'failing': 6, 'news': 2, 'team': 2, 'together': 2, 'every': 3, '#AmericaFirst': 16, 'candidate': 2, 'law': 2, 'me.': 3, 'Knock': 2, 'North': 5, 'Clive,': 2, 'you!': 14, 'This': 2, 'rally': 3, 'Day': 2, 'dope!': 2, 'night': 3, 'And': 2, 'United': 2, 'Clinton': 16, 'back': 4, 'gave': 3, 'Saturday': 2, 'fight': 2, 'Will': 11, '@nytimes,': 2, 'Ohio!': 2, 'badly.': 2, 'Americans!': 3, 'polls': 5, \"Clinton's\": 2, 'Obama': 6, 'hard': 2, 'https://t.co/TEY6BbCyxt': 2, 'I': 35, 'poll': 11, 'Robert': 2, 'deals': 2, 'Together,': 5, 'NBC': 2, 'major': 2, 'Miami': 2, 'Gates.': 2, 'go': 2, 'tonight': 3, 'thank': 5, 'November': 3, 'SO': 2, 'respected': 2, 'innovation': 2, 'AGAIN!': 6, 'Governor': 4, 'things': 2, 'Once': 2, 'first': 2, 'crowd': 3, 'Tickets:': 2, 'vote': 2, 'GREAT': 8, 'well': 2, 'soon.': 4, '#TrumpWon': 2, '#TrumpTrain': 3, 'https://t.co/3KWOl2ibaW.': 3, 'supporters,': 2, 'Ohio.': 2, 'To': 4, 'ever': 2, 'badly': 3, 'Never': 3, 'Campaign': 2, 'Many': 2, 'horrible': 2, 'numbers': 2, 'soon': 2, 'Why': 3, 'Crooked': 5, 'doors': 2, 'Benjamin': 2, 'say': 2, 'great': 8, 'day!': 2, 'He': 3, 'meeting': 2, 'enjoyed': 2, 'families': 2, 'interviewed': 6, 'bad': 2, 'Thank': 37, 'many': 6, 'Forum.': 2, 'part': 2, '@oreillyfactor': 3, '#AmericaFirst…': 2, 'Florida': 3, '#ImWithYou': 8, 'wants': 3, 'dopey': 2, 'Final': 2, '#TrumpPence16': 2}\n",
      "truly 3\n",
      "A 6\n",
      "people. 3\n",
      "Lets 2\n",
      "now. 2\n",
      "wealth 2\n",
      "See 2\n",
      "police 2\n",
      "taken 2\n",
      "driving 2\n",
      "Iraq 2\n",
      "Dem 2\n",
      "including 2\n",
      "#ImWithYou… 2\n",
      "MAKE 10\n",
      "years 4\n",
      "WILL 2\n",
      "Just 6\n",
      "years. 2\n",
      "calls 2\n",
      "knows 4\n",
      "States 2\n",
      "Bernie 2\n",
      "@seanhannity 2\n",
      "us: 2\n",
      "Wow, 3\n",
      "votes. 2\n",
      "campaign. 2\n",
      "today 5\n",
      "The 12\n",
      "About 2\n",
      "Russia 2\n",
      "need 2\n",
      "don't 3\n",
      "them. 2\n",
      "getting 2\n",
      "last 12\n",
      "support! 2\n",
      "put 2\n",
      "big 3\n",
      "Enjoy! 9\n",
      "Heading 3\n",
      "Great 9\n",
      "We 9\n",
      "Virginia 4\n",
      "want 2\n",
      "away, 2\n",
      "noon! 2\n",
      "#DebateNight 9\n",
      "Time 2\n",
      "It 6\n",
      "@foxandfriends 7\n",
      "would 6\n",
      "people 4\n",
      "Debate 2\n",
      "'How 2\n",
      "They 2\n",
      "nights 4\n",
      "magnet 2\n",
      "Carolina 4\n",
      "debate 4\n",
      "failed 4\n",
      "Secretary 2\n",
      "SAFE 3\n",
      "Hillary's 2\n",
      "#MakeAmericaGreatAgain 4\n",
      "Twitter 2\n",
      "got 2\n",
      "speech 2\n",
      "#MAGA… 2\n",
      "done 2\n",
      "victory 2\n",
      "#Debates2016 8\n",
      "#MAGA 17\n",
      ".@CNN 2\n",
      "National 3\n",
      "said 8\n",
      "love 2\n",
      "us 7\n",
      "online 2\n",
      "tomorrow 3\n",
      "new 4\n",
      "take 3\n",
      "@nytimes 2\n",
      "change. 2\n",
      "liked 2\n",
      "time 2\n",
      "sad 2\n",
      "me, 3\n",
      "presidential 2\n",
      "never 6\n",
      ".@HillaryClinton 4\n",
      "evening 3\n",
      "https://t.co/3KWOl2ibaW 5\n",
      "U.S. 2\n",
      "@CNN 5\n",
      "join 2\n",
      "become 3\n",
      "Presidential 4\n",
      "6pm! 2\n",
      "Pensacola, 2\n",
      "thoughts 2\n",
      "working 2\n",
      "Mexico 3\n",
      "much 4\n",
      "Nothing 2\n",
      "today! 3\n",
      "Charlotte 3\n",
      "keep 2\n",
      "job 5\n",
      "My 4\n",
      "10:00 2\n",
      "still 2\n",
      "lets 2\n",
      "Hillary 24\n",
      "again, 2\n",
      "met 2\n",
      "get 5\n",
      "&amp; 16\n",
      "results 4\n",
      "30 4\n",
      "prayers 2\n",
      "officers 2\n",
      "MOVEMENT 7\n",
      "AND 2\n",
      "right 2\n",
      "Action! 2\n",
      "President 2\n",
      "jobs 3\n",
      "saying 2\n",
      "performance 2\n",
      "Rep. 2\n",
      "like 4\n",
      "Berglund 2\n",
      "debate. 2\n",
      "A.M. 4\n",
      "AMERICA 12\n",
      "Trump 10\n",
      "Roanoke, 3\n",
      "years? 2\n",
      "going 4\n",
      "Commander-in-Chief 2\n",
      "America! 2\n",
      "hardly 2\n",
      "see 3\n",
      "Really 3\n",
      "In 2\n",
      "Sanders 2\n",
      "come 2\n",
      "Donald 2\n",
      "American 2\n",
      "#MAGA!… 2\n",
      "know 3\n",
      "attacks 2\n",
      "7:00 3\n",
      "me! 2\n",
      "isn't 2\n",
      "Instead 2\n",
      "tremendous 3\n",
      "New 3\n",
      "Ohio 2\n",
      "total 2\n",
      "lost 2\n",
      "nothing 2\n",
      "two 2\n",
      "@realDonaldTrump 4\n",
      "says 2\n",
      "wonderful 5\n",
      "make 4\n",
      "bring 2\n",
      "Florida, 2\n",
      "endorsed 2\n",
      "night. 2\n",
      "Join 14\n",
      "rally. 2\n",
      "failing 6\n",
      "news 2\n",
      "team 2\n",
      "together 2\n",
      "every 3\n",
      "#AmericaFirst 16\n",
      "candidate 2\n",
      "law 2\n",
      "me. 3\n",
      "Knock 2\n",
      "North 5\n",
      "Clive, 2\n",
      "you! 14\n",
      "This 2\n",
      "rally 3\n",
      "Day 2\n",
      "dope! 2\n",
      "night 3\n",
      "And 2\n",
      "United 2\n",
      "Clinton 16\n",
      "back 4\n",
      "gave 3\n",
      "Saturday 2\n",
      "fight 2\n",
      "Will 11\n",
      "@nytimes, 2\n",
      "Ohio! 2\n",
      "badly. 2\n",
      "Americans! 3\n",
      "polls 5\n",
      "Clinton's 2\n",
      "Obama 6\n",
      "hard 2\n",
      "https://t.co/TEY6BbCyxt 2\n",
      "I 35\n",
      "poll 11\n",
      "Robert 2\n",
      "deals 2\n",
      "Together, 5\n",
      "NBC 2\n",
      "major 2\n",
      "Miami 2\n",
      "Gates. 2\n",
      "go 2\n",
      "tonight 3\n",
      "thank 5\n",
      "November 3\n",
      "SO 2\n",
      "respected 2\n",
      "innovation 2\n",
      "AGAIN! 6\n",
      "Governor 4\n",
      "things 2\n",
      "Once 2\n",
      "first 2\n",
      "crowd 3\n",
      "Tickets: 2\n",
      "vote 2\n",
      "GREAT 8\n",
      "well 2\n",
      "soon. 4\n",
      "#TrumpWon 2\n",
      "#TrumpTrain 3\n",
      "https://t.co/3KWOl2ibaW. 3\n",
      "supporters, 2\n",
      "Ohio. 2\n",
      "To 4\n",
      "ever 2\n",
      "badly 3\n",
      "Never 3\n",
      "Campaign 2\n",
      "Many 2\n",
      "horrible 2\n",
      "numbers 2\n",
      "soon 2\n",
      "Why 3\n",
      "Crooked 5\n",
      "doors 2\n",
      "Benjamin 2\n",
      "say 2\n",
      "great 8\n",
      "day! 2\n",
      "He 3\n",
      "meeting 2\n",
      "enjoyed 2\n",
      "families 2\n",
      "interviewed 6\n",
      "bad 2\n",
      "Thank 37\n",
      "many 6\n",
      "Forum. 2\n",
      "part 2\n",
      "@oreillyfactor 3\n",
      "#AmericaFirst… 2\n",
      "Florida 3\n",
      "#ImWithYou 8\n",
      "wants 3\n",
      "dopey 2\n",
      "Final 2\n",
      "#TrumpPence16 2\n"
     ]
    }
   ],
   "source": [
    "#one more filtering with some custome specified stopwords what are not in nltk library\n",
    "filterTump = {k: v for k, v in word_counts.items() if v > 1}\n",
    "\n",
    "print(filterTump)\n",
    "\n",
    "Stopwords = ['A','AND','An','And','As','Be','C','this','they',\n",
    "'Can','D','Do','Don','For','Go','He','IS','Is','It','K','M', 'I',\n",
    "'O','On','P','Q','R','S','So','T','THE','That','The','Their','There',\n",
    "'They','This','U','we','you','words','w','ve','u','the','that','than',\n",
    "'her','he','had','for','e','d','co','a','V','TV','was','to','so','she'\n",
    "'t','such','some','s','re','my','m','ll','is','it','of','as','at','am',\n",
    "'t', 'or','our','in','do','be','them','they','their','this','were','when',\n",
    "'who','with','what','amp','an','and','are','000','your','she','him','his',\n",
    "'get','but','would','https','on','realDonaldTrump','have','will','all','has',\n",
    "'just', 'MakeAmericaGreatAgain','now','out','about','from','by', 'the', 'v', 'b','—Hillary','&amp;']\n",
    "\n",
    "for k, v in list(filterTump.items()):\n",
    "    print(k, v)\n",
    "    if k in Stopwords:\n",
    "        del filterTump[k]"
   ]
  },
  {
   "cell_type": "code",
   "execution_count": 35,
   "metadata": {
    "collapsed": false
   },
   "outputs": [
    {
     "name": "stdout",
     "output_type": "stream",
     "text": [
      "{'Clinton': 16, 'last': 12, '#Debates2016': 8, '#MAGA': 17, 'Enjoy!': 9, 'Will': 11, '#AmericaFirst': 16, 'Join': 14, 'Hillary': 24, 'said': 8, 'Great': 9, 'you!': 14, 'We': 9, 'Thank': 37, 'AMERICA': 12, 'Trump': 10, '#DebateNight': 9, 'GREAT': 8, 'MAKE': 10, 'poll': 11}\n"
     ]
    }
   ],
   "source": [
    "toptwentyTrump = dict(Counter(filterTump).most_common(20))\n",
    "print(toptwentyTrump)\n"
   ]
  },
  {
   "cell_type": "code",
   "execution_count": 36,
   "metadata": {
    "collapsed": false
   },
   "outputs": [
    {
     "data": {
      "text/plain": [
       "<matplotlib.text.Text at 0x10b9d00b8>"
      ]
     },
     "execution_count": 36,
     "metadata": {},
     "output_type": "execute_result"
    },
    {
     "data": {
      "image/png": "[encoded data removed]",
      "text/plain": [
       "<matplotlib.figure.Figure at 0x10bad0b38>"
      ]
     },
     "metadata": {},
     "output_type": "display_data"
    }
   ],
   "source": [
    "plt.bar(range(len(toptwentyTrump)), toptwentyTrump.values(), align='edge')\n",
    "plt.xticks(range(len(toptwentyTrump)), toptwentyTrump.keys(), rotation=90)\n",
    "plt.title('Trumps Twenty Most Frequent Words')\n",
    "plt.xlabel('Words')\n",
    "plt.ylabel('Counts')"
   ]
  },
  {
   "cell_type": "code",
   "execution_count": 37,
   "metadata": {
    "collapsed": false
   },
   "outputs": [
    {
     "name": "stdout",
     "output_type": "stream",
     "text": [
      "Counter({'Thank': 37, 'I': 35, 'Hillary': 24, '#MAGA': 17, '#AmericaFirst': 16, 'Clinton': 16, '&amp;': 16, 'Join': 14, 'you!': 14, 'last': 12, 'AMERICA': 12, 'The': 12, 'Will': 11, 'poll': 11, 'MAKE': 10, 'Trump': 10, '#DebateNight': 9, 'Enjoy!': 9, 'Great': 9, 'We': 9, '#ImWithYou': 8, '#Debates2016': 8, 'said': 8, 'GREAT': 8, 'great': 8, 'MOVEMENT': 7, 'us': 7, '@foxandfriends': 7, 'many': 6, 'failing': 6, 'would': 6, 'AGAIN!': 6, 'It': 6, 'Obama': 6, 'never': 6, 'A': 6, 'Just': 6, 'interviewed': 6, 'job': 5, '@CNN': 5, 'Together,': 5, 'https://t.co/3KWOl2ibaW': 5, 'thank': 5, 'today': 5, 'Crooked': 5, 'polls': 5, 'wonderful': 5, 'get': 5, 'North': 5, 'knows': 4, 'nights': 4, 'Carolina': 4, 'Presidential': 4, '#MakeAmericaGreatAgain': 4, 'going': 4, 'Virginia': 4, 'My': 4, 'soon.': 4, 'people': 4, 'much': 4, 'A.M.': 4, 'debate': 4, 'years': 4, 'make': 4, 'Governor': 4, 'To': 4, 'results': 4, '30': 4, '@realDonaldTrump': 4, 'failed': 4, 'new': 4, 'back': 4, '.@HillaryClinton': 4, 'like': 4, 'Wow,': 3, 'Heading': 3, 'me,': 3, 'Really': 3, 'every': 3, 'He': 3, 'become': 3, 'New': 3, 'night': 3, 'tonight': 3, 'Never': 3, 'truly': 3, 'National': 3, 'tomorrow': 3, \"don't\": 3, 'Roanoke,': 3, 'see': 3, 'gave': 3, '7:00': 3, 'big': 3, 'take': 3, 'jobs': 3, 'know': 3, '#TrumpTrain': 3, 'me.': 3, 'rally': 3, 'https://t.co/3KWOl2ibaW.': 3, 'Why': 3, 'Florida': 3, '@oreillyfactor': 3, 'evening': 3, 'tremendous': 3, 'Charlotte': 3, 'crowd': 3, 'wants': 3, 'people.': 3, 'Mexico': 3, 'SAFE': 3, 'November': 3, 'badly': 3, 'Americans!': 3, 'today!': 3, 'wealth': 2, 'taken': 2, 'driving': 2, 'away,': 2, '.@CNN': 2, 'met': 2, 'AND': 2, 'Debate': 2, 'nothing': 2, 'bring': 2, 'team': 2, 'together': 2, 'law': 2, 'Clive,': 2, 'Once': 2, 'respected': 2, '#TrumpWon': 2, 'ever': 2, 'things': 2, 'Benjamin': 2, 'say': 2, 'now.': 2, 'See': 2, 'police': 2, '#ImWithYou…': 2, 'WILL': 2, 'support!': 2, 'Action!': 2, 'Secretary': 2, 'done': 2, 'thoughts': 2, 'debate.': 2, 'right': 2, 'Twitter': 2, 'got': 2, 'Rep.': 2, 'Berglund': 2, 'Time': 2, 'Ohio': 2, 'total': 2, 'lost': 2, 'hard': 2, 'Ohio.': 2, 'SO': 2, 'go': 2, 'including': 2, 'join': 2, 'years.': 2, 'States': 2, 'magnet': 2, 'victory': 2, 'night.': 2, 'Robert': 2, 'presidential': 2, 'keep': 2, 'lets': 2, 'attacks': 2, \"Hillary's\": 2, 'fight': 2, 'performance': 2, 'NBC': 2, 'Gates.': 2, 'supporters,': 2, 'Many': 2, 'Miami': 2, 'meeting': 2, 'innovation': 2, 'campaign.': 2, 'put': 2, 'us:': 2, 'speech': 2, 'dope!': 2, 'rally.': 2, 'U.S.': 2, '6pm!': 2, '10:00': 2, 'saying': 2, '#MAGA!…': 2, 'two': 2, 'American': 2, 'America!': 2, 'Knock': 2, 'them.': 2, 'Bernie': 2, 'United': 2, 'candidate': 2, 'Campaign': 2, 'Instead': 2, 'votes.': 2, 'families': 2, 'soon': 2, 'part': 2, 'Forum.': 2, 'calls': 2, 'And': 2, 'need': 2, 'want': 2, '#TrumpPence16': 2, 'Iraq': 2, 'Ohio!': 2, 'Pensacola,': 2, 'years?': 2, 'me!': 2, 'Florida,': 2, 'About': 2, 'major': 2, 'first': 2, 'Tickets:': 2, 'bad': 2, 'dopey': 2, 'Final': 2, 'Lets': 2, 'They': 2, 'change.': 2, 'liked': 2, 'sad': 2, 'working': 2, 'day!': 2, 'Commander-in-Chief': 2, 'hardly': 2, \"isn't\": 2, 'says': 2, 'deals': 2, '@nytimes,': 2, 'badly.': 2, 'https://t.co/TEY6BbCyxt': 2, 'well': 2, 'doors': 2, '#AmericaFirst…': 2, 'This': 2, 'Dem': 2, 'love': 2, 'Saturday': 2, '#MAGA…': 2, 'online': 2, '@nytimes': 2, 'still': 2, 'again,': 2, 'President': 2, 'Sanders': 2, 'endorsed': 2, 'news': 2, 'vote': 2, 'Russia': 2, 'numbers': 2, 'Day': 2, 'In': 2, 'enjoyed': 2, '@seanhannity': 2, 'getting': 2, 'horrible': 2, 'noon!': 2, \"'How\": 2, 'prayers': 2, 'time': 2, 'Nothing': 2, 'come': 2, 'Donald': 2, 'officers': 2, \"Clinton's\": 2, 'it,': 1, 'amazing,': 1, 'https://t.co/yIeZctdQy8': 1, 'Civic': 1, 'feel': 1, 'honor': 1, 'nomination': 1, \"Tomorrow's\": 1, 'enforcement': 1, 'Secret': 1, 'differently': 1, '@tonyschwartz,': 1, 'MOVEMENT!': 1, 'https://t.co/CIJMQJhLqp': 1, 'NYC.': 1, '11:35pmE': 1, 'national': 1, 'appreciate': 1, 'jail.': 1, 'Havana': 1, 'Massive': 1, 'funeral': 1, 'State': 1, 'Center.': 1, 'afternoon': 1, 'honored': 1, 'better!': 1, 'Florida.': 1, 'spending': 1, '10k': 1, '\"@KellyannePolls:': 1, '@WashTimes.': 1, 'basket': 1, 'book': 1, 'fantastic!': 1, 'answered': 1, 'Increased': 1, 'violence': 1, 'forget!': 1, 'endorsement': 1, 'thru': 1, 'https://t.co/JxsWXz05T9': 1, 'not!': 1, 'treatment': 1, 'Payment': 1, 'HAPPY': 1, 'Benefactor': 1, 'copying': 1, 'bombing': 1, 'tweets.': 1, 'irresponsible': 1, 'past.': 1, 'though': 1, 'INSULTING': 1, 'Dummy': 1, 'incredible': 1, '@tonyschwartz': 1, 'https://t.co/JIlNW7myEN': 1, 'COURT,': 1, '39%': 1, '@realDonaldTrump\"': 1, 'https://t.co/sCOnny1fl3': 1, 'Jeff': 1, '@PhillyPolice': 1, 'If': 1, 'Palmer,': 1, 'Supporters': 1, 'sue': 1, 'instead': 1, 'Always': 1, 'all.': 1, 'https://t.co/6KDPrQxSED': 1, 'https://t.co/Fsy1diPWjU': 1, 'guidance': 1, 'Four': 1, 'Disclosure:': 1, '@7:22.': 1, 'Powell': 1, 'Henry': 1, '‘Blew': 1, '@fortworthpd': 1, 'statement.': 1, 'False': 1, '@ATFD17!': 1, 'bosses,': 1, 'Syria': 1, 'night.Crooked': 1, \"Obama's\": 1, '@CynthiaLummis!': 1, 'Trump:': 1, 'Sign': 1, 'terrorists': 1, 'Bakari': 1, 'https://t.co/5qTDijU3hn': 1, 'world.': 1, 'Tickets:…': 1, '@TedCruz!': 1, 'https://t.co/27sR3MjjXc': 1, 'needs': 1, 'Iowa-': 1, 'think': 1, 'Korea': 1, '2016!': 1, 'birther': 1, 'There': 1, '20%': 1, 'someone': 1, '#1': 1, 'everyone.': 1, 'leadership': 1, 'https://t.co/oFlaAhrwe5': 1, 'farmers': 1, \"'CNBC,\": 1, 'delivered': 1, 'disaster!': 1, 'even': 1, 'https://t.co/6EEOAaCiNv': 1, 'writes': 1, 'https://t.co/C5ipaxUN7B': 1, 'true': 1, 'warheads': 1, 'regards,': 1, 'joining': 1, 'Full': 1, 'treated': 1, 'together…': 1, 'system': 1, 'express': 1, '400,000': 1, 'https://t.co/Rz3DkpBQJu': 1, 'Center-': 1, 'increased': 1, 'https://t.co/BF1IqPXNho': 1, 'https://t.co/a5rr1i38km': 1, 'so-called': 1, 'little': 1, '#JimmyFallon': 1, 'Minister': 1, 'policies': 1, 'https://t.co/JJQncd3zhf': 1, 'end.': 1, 'sweetheart': 1, 'room': 1, 'N': 1, 'forced': 1, 'More': 1, 'Oklahoma': 1, 'country': 1, '@GovernorSununu.': 1, 'wishes': 1, 'abroad.': 1, \".@HillaryClinton's\": 1, 'Kerry': 1, 'life!': 1, 'dumb!': 1, 'Florida-': 1, 'across': 1, 'losers': 1, 'all!': 1, 'Service': 1, 'receiving': 1, 'available': 1, 'crowd,': 1, '7:02': 1, 'Obviously': 1, 'way,': 1, 'Coliseum': 1, 'we’re': 1, 'highly': 1, 'policy': 1, 'people-': 1, 'home': 1, 'optimism.': 1, 'missed.': 1, 'respect': 1, 'dishonest': 1, 'https://t.co/4MvwUj9eX9': 1, 'joke!': 1, 'case': 1, 'historic': 1, 'High': 1, 'https://t.co/WWO39kxn8Y': 1, '@RogerRice10': 1, 'VA.': 1, 'arm': 1, 'thing': 1, 'Maureen': 1, 'Way': 1, 'Carolina!': 1, 'full': 1, 'away.': 1, 'success.\"': 1, '@realDonaldTrump,': 1, 'Middle': 1, 'fiction.': 1, 'https://t.co/ATBY343pS1': 1, 'Lindsey': 1, 'weekend': 1, 'What': 1, '(for': 1, 'conference': 1, 'Nevada,': 1, 'plus': 1, 'HABIT!': 1, 'Nevada!': 1, 'riots!': 1, 'Day,': 1, 'looking': 1, 'Super': 1, '2016\"': 1, 'interesting': 1, 'https://t.co/FxyBL6fO1h': 1, 'gone': 1, 'Hotel': 1, 'spirit': 1, 'Center': 1, 'stand': 1, 'free': 1, 'Enjoy.': 1, \"#TheDonald's\": 1, '65%.': 1, '#ISIS': 1, 'UP': 1, 'Hispanic': 1, 'CHILD': 1, 'minister': 1, 'https://t.co/QyR2MDYYbZ': 1, 'live': 1, 'good.': 1, 'NY,': 1, 'nukes,': 1, 'D.C.': 1, 'P.M.': 1, 'https://t.co/vxEk0X4ntS': 1, 'time.': 1, 'https://t.co/MQdp4GgLIE': 1, 'typical': 1, 'speaks': 1, 'boring': 1, 'Asheville,': 1, 'managing': 1, 'panelists,': 1, 'hurt': 1, \"he's\": 1, '\"@brimyers813:': 1, 'died': 1, 'decimated': 1, 'Stopped': 1, 'trick': 1, 'https://t.co/XaM9yEYCHL': 1, 'sm.': 1, 'Terrible': 1, 'creation!': 1, 'https://t.co/9ahPnfhQ5N': 1, 'Would': 1, 'died.': 1, 'must': 1, 'Remember-': 1, 'unrest': 1, 'Allowed': 1, 'channels': 1, 'u.': 1, 'Refugees': 1, 'supporter.': 1, 'https://t.co/vxWZ2tyJTF': 1, '$13M': 1, 'https://t.co/AysJRMzvKw': 1, 'US': 1, 'https://t.co/j389Quo4bg': 1, 'staff': 1, 'Amendment': 1, 'But': 1, 'https://t.co/MJ3NwA98op': 1, \"can't\": 1, 'circumstances.': 1, 'NC!': 1, 'bar': 1, 'https://t.co/5SWmxfVfto': 1, 'trade:': 1, 'killed': 1, 'pass?': 1, 'biz,': 1, 'talk,': 1, 'a…': 1, 'https://t.co/s0XVVNyBKf': 1, 'undecideds': 1, 'second': 1, 'Become': 1, 'former': 1, 'BIRTHDAY': 1, 'https://t.co/f7PctDE31L': 1, 'corrupt': 1, 'had,': 1, 'tour': 1, 'Trump’s': 1, '(except': 1, '#MAGA.': 1, 'CARE': 1, '@jessebwatters': 1, 'officers-': 1, 'serve': 1, 'https://t.co/4MTmR8kXVb': 1, 'https://t.co/39FCnUf8Pb': 1, '$400': 1, 'https://t.co/0DyHkzzWvj': 1, 'fan': 1, '@JerryJrFalwell!': 1, 'John': 1, 'War.': 1, 'https://t.co/9gAk0FWqZ8': 1, 'aired': 1, 'neurotic': 1, 'Friday': 1, 'Kiiara,and': 1, 'NJ': 1, 'campaigning': 1, 'estates': 1, 'Senator': 1, 'First': 1, 'low': 1, 'news:': 1, 'S!': 1, 'day': 1, '@FoxNews': 1, 'Paved': 1, 'drug': 1, 'sit': 1, '#TrumpTrain…': 1, 'https://t.co/eNtS7IBPDo': 1, 'creati…': 1, 'train': 1, '8th.': 1, \"Economy'\": 1, 'Clinton:': 1, 'Chief': 1, 'Irrelevant': 1, 'unbelievable.': 1, 'laughingstock': 1, 'https://t.co/4iW06ROvsT': 1, 'https://t.co/Mcbc2JzhN2': 1, 'past': 1, 'Trump.\"': 1, 'in!': 1, 'now),': 1, 'used': 1, 'benefitted.': 1, 'win-THX': 1, 'https://t.co/cgO6109USJ': 1, 'lib,': 1, 'Mark': 1, '❌LIBYA': 1, 'detail?': 1, '\"@AngPiazza:': 1, 'makes': 1, 'ratings': 1, 'Iran': 1, 'columnist': 1, 'beat': 1, 'ever,': 1, \"hasn't\": 1, 'https://t.co/B12lgC97tn': 1, 'Sleep': 1, 'TIME': 1, 'Tonight': 1, 'soon!': 1, 'seen': 1, 'McMaster,': 1, 'surprise.': 1, 'disgusting': 1, 'hrs.': 1, 'Whack': 1, 'Transcript:': 1, 'tax': 1, 'ideas.': 1, '\"@Stvzbnk:': 1, 'Gennifer': 1, 'https://t.co/UtCRxykurW': 1, 'trade,': 1, 'lot!': 1, 'Matt': 1, 'https://t.co/3KWOl20zMm': 1, 'answer': 1, 'Club': 1, 'Peña': 1, '61%': 1, 'https://t.co/xiu9AUiSSD': 1, '@normmacdonald,': 1, 'Strategy': 1, 'https://t.co/QWbYm2lY7B': 1, '2008': 1, 'front': 1, '❌IRAN': 1, 'Call': 1, '@MarshaBlackburn!': 1, '47%': 1, 'event': 1, 'injured,': 1, 'Thinking': 1, 'Such': 1, 'https://t.co/OoakXs2rij': 1, 'Do': 1, 'airplane': 1, 'rough': 1, 'Maybe': 1, '@FallonTonight': 1, 'https://t.co/NQEgRxQN2m': 1, 'magazine': 1, 'arrived': 1, '6pm': 1, 'wanted': 1, 'Philly': 1, 'Threat': 1, 'NBC.': 1, 'Ohio-thank': 1, 'simple': 1, 'leaving': 1, '.@newtgingrich': 1, 'amazing': 1, 'ad.': 1, \"that's\": 1, 'massive': 1, 'Nuclear': 1, 'made': 1, 'TODAY': 1, '@CNN.': 1, 'Agreement': 1, 'Readout': 1, 'belong!': 1, \"2015'\": 1, 'willing': 1, 'warmest': 1, 'look': 1, 'gals.\"': 1, 'gotten': 1, 'State,': 1, 'U': 1, 'shot.': 1, 'Zucker': 1, 'Video:': 1, 'WIN!': 1, 'predicted': 1, 'Laconia,': 1, 'documentary': 1, 'https://t.co/x3FBy8Hdq2': 1, 'Eastern': 1, 'Economic': 1, '❌BENGHAZI…': 1, '\"A': 1, 'women!': 1, 'https://t.co/xDGCwYVK0Q': 1, 'Continues': 1, 'https://t.co/6Odle7j1hd': 1, 'https://t.co/jzUQxkW4tB': 1, 'https://t.co/uYwJrtZkAe': 1, 'Murders': 1, '9pmE.': 1, 'her?': 1, 'winning.': 1, '@RepReneeEllmers!': 1, '#MyTeacherIsWeird': 1, 'Tony': 1, 'beautiful': 1, 'grandstand.': 1, 'Texas': 1, 'veteran': 1, 'turns': 1, 'Cuban': 1, 'politician': 1, '8': 1, 'reviews': 1, \"HILLARY'S\": 1, 'grateful': 1, 'support': 1, 'shows': 1, '.@YoungDems4Trump': 1, 'poll.': 1, 'Five': 1, 'Hopefully': 1, 'News.': 1, 'e-mails.': 1, 'Tower': 1, 'bigger!': 1, '@NYTimesDowd,': 1, 'mostly': 1, 'https://t.co/e3KQfBR2K8': 1, 'ur': 1, 'dumb': 1, 'https://t.co/68WEMcuHSO\"': 1, 'SAFE…': 1, 'tune': 1, 'immediate': 1, 'true!': 1, 'Little': 1, 'https://t.co/uKG55Pznwu': 1, 'behind': 1, 'moment.': 1, 'South': 1, 'Their': 1, 'Point,': 1, 'stage': 1, '@gov_gilmore': 1, '.@HillaryClinton’s': 1, 'tarmac': 1, 'Colin': 1, 'tragic.': 1, 'Cleveland,': 1, 'totally': 1, 'Detroit': 1, 'https://t.co/x4Y1TAFHvn': 1, '#TheTonightShow': 1, 'Stimulate': 1, 'deplorables': 1, '@bishopwtjackson': 1, 'https://t.co/NHO1OicfVm': 1, 'immigrant.': 1, 'disaster.': 1, 'Foundation.': 1, 'informed': 1, 'Graham,': 1, 'despite': 1, 'email': 1, 'poor': 1, 'nuts': 1, '@WSJ:': 1, 'popular': 1, 'https://t.co/zvVQnxeiQ9': 1, 'Look': 1, 'Looking': 1, 'D': 1, '#POTUS.': 1, 'https://t.co/5Gwi1M5R2t': 1, 'no),': 1, '(I': 1, \"WORLD'S\": 1, 'Spoke': 1, \"debate'\": 1, 'YOU!': 1, 'Global': 1, 'Who': 1, 'change': 1, 'https://t.co/cvu20ZQSVJ': 1, 'headed': 1, 'seriously': 1, 'https://t.co/4S4pnx4Q6r': 1, \"'U.S.\": 1, 'Crimea': 1, 'Honor': 1, 'going!': 1, '#NeverForget': 1, 'notice': 1, '@SenTedCruz': 1, 'state': 1, 'Kenansville,': 1, 'woman,': 1, 'finance': 1, 'Houston,': 1, '#MakeAmericaGreatAgain!': 1, 'Flowers': 1, 'incredible.': 1, 'https://t.co/DV1BKMwHEM': 1, 'H': 1, 'https://t.co/PGimqYKPoJ': 1, 'nation': 1, 'overdoses.': 1, 'Watched': 1, 'THANK': 1, 'waste': 1, 'rag!': 1, 'poorly': 1, 'issue': 1, '80%': 1, '@TrumpDC': 1, 'except': 1, 'weekend.': 1, 'ALL': 1, 'confused.': 1, 'young': 1, 'lawyers': 1, 'REMEMBER!': 1, 'rights': 1, 'took': 1, 'America': 1, 'Americans': 1, 'anything,': 1, '24': 1, 'give': 1, 'best': 1, 'Last': 1, 'him!': 1, '\"a': 1, 'Claims': 1, 'https://t.co/oGcJL4N454': 1, 'Two': 1, 'debate!': 1, 'heroes...https://t.co/S9bvbysiOr': 1, 'https://t.co/jU3HHglnIu': 1, 'Force!!': 1, 'watched': 1, 'Roanoke.': 1, 'SAF…': 1, 'announcer': 1, 'greatest': 1, 'at:…': 1, 'pretends': 1, 'anti-Trump': 1, 'points': 1, 'changing': 1, '❌ASIA': 1, 'worse.': 1, 'That': 1, 'taking': 1, 'condolences': 1, 'https://t.co/02NMQn3ZNQ': 1, \"'True\": 1, '\"@ghfanlovessonny:': 1, 'win,': 1, 'well--wrong!': 1, 'Romney,': 1, '8th,': 1, 'Today': 1, 'Philadelphia.': 1, 'Trafficked': 1, 'Leaving': 1, 'campaign-': 1, 'playbook!': 1, 'Israeli': 1, 'ur/our': 1, 'Luis,': 1, 'plane': 1, 'movement.': 1, 'RESET': 1, 'support-I': 1, 'vetted.': 1, 'announce': 1, 'Canton': 1, \"doesn't\": 1, 'understanding': 1, 'Twitter.': 1, 'https://t.co/eyC3W1mweY': 1, 'FOP': 1, 'outcomes': 1, 'https://t.co/bnEE6NX41Z': 1, '7am.': 1, 'Lauer': 1, 'hope': 1, 'ok': 1, 'system?': 1, '@NBC': 1, 'Pennsylvania.': 1, 'Rumors': 1, 'people!': 1, 'THAT': 1, 'AGAIN…': 1, 'feels': 1, 'BAD': 1, 'Jim!': 1, 'trend': 1, 'ONLY': 1, 'disgrace': 1, 'https://t.co/lWjYDbPHav': 1, '\"@jimmyfallon:': 1, 'cost': 1, 'successful': 1, 'column.': 1, 'Foundation': 1, 'special': 1, 'tough': 1, 'Netanyahu:': 1, 'Carolina,': 1, 'honor.': 1, 'campaign': 1, '@HillaryClinton.': 1, 'leaders.': 1, 'Iowa': 1, 'Dowd,': 1, 'economy': 1, 'Clinton\"': 1, 'https://t.co/bTPX9E0wKu': 1, 'emboldened': 1, 'Amazing': 1, 'https://t.co/RJqHgq2Rn0': 1, 'Iowa!': 1, 'brand': 1, 'https://t.co/VHuyE65hgi': 1, \"Democrats'\": 1, 'polls!': 1, 'of,': 1, 'weapons': 1, 'Crazy': 1, 'https://t.co/6pQMSgPWuN': 1, 'Police': 1, 'released': 1, 'government': 1, 'unwatchable.': 1, 'https://t.co/05NY0wJHkL': 1, 'Tonight:': 1, 'account': 1, 'man': 1, 'wacky': 1, 'For': 1, 'alongside': 1, 'VOTE': 1, 'https://t.co/rsx313493u': 1, 'AGAIN': 1, 'Sellers,': 1, 'action.': 1, 'S': 1, 'behind,': 1, 'https://t.co/PLUKlsPXPR': 1, 'Air': 1, 'country!': 1, 'rigged': 1, 'While': 1, 'professor': 1, 'Obama.': 1, 'funniest': 1, 'supporters': 1, 'https://t.co/vzKtRxzvwv': 1, 'things.Why': 1, 'years,': 1, 'victims': 1, 'told': 1, 'unity': 1, '@jimmyfallon': 1, 'he’s': 1, 'TAX': 1, 'hostile': 1, 'parade': 1, '8:10pm': 1, 'victories': 1, 'Nieto.': 1, 'Expand': 1, '@tonyschwartz.': 1, 'brilliant': 1, 'without': 1, 'experienced': 1, '\"Donald': 1, 'transcript': 1, 'media!': 1, 'men': 1, 'https://t.co/rzEw8pQhds': 1, \"Off'\": 1, 'situations': 1, \"wasn't\": 1, 'fighting': 1, 'important': 1, 'forward': 1, 'interviews': 1, 'pols': 1, 'whatever': 1, 'women': 1, 'trade': 1, 'gravy': 1, 'raised': 1, '\"@AK_TWEET:': 1, 'perhaps': 1, 'today.': 1, \"She's\": 1, 'ABC': 1, 'interest': 1, 'International,': 1, 'Nevada-': 1, 'destroy': 1, 'Clinton?': 1, 'rallies.': 1, 'DC': 1, 'https://t.co/iux7icIkaT': 1, 'work!': 1, 'strong!': 1, '--': 1, 'https://t.co/tuZ35BkD9J': 1, 'https://t.co/n026nE4XIp': 1, 'evenings': 1, 'York.': 1, 'deal': 1, '800,000': 1, '7pm:': 1, 'world..cont:': 1, 'Forum,': 1, 'Poll:': 1, 'wait': 1, 'questions': 1, 'https://t.co/Ne4pI7FyU7': 1, 'https://t.co/y01qpON7h7': 1, '\"King,\"': 1, 'Polls!': 1, '@CNBC': 1, 'Defense': 1, 'embrace': 1, 'discuss.': 1, 'https://t.co/1DrZpfa6je': 1, 'MN': 1, 'taxes': 1, 'https://t.co/Lt2L3NKzyi': 1, 'industry': 1, 'theirs.': 1, 'Boring': 1, 'safe': 1, 'https://t.co/v40n8RXgti': 1, 'place,': 1, 'https://t.co/z9Yg83VTF4': 1, 'Tulsa': 1, 'champion!': 1, 'Melania': 1, 'blue-collar': 1, 'disastrous': 1, 'donations': 1, 'Lt.': 1, 'puts': 1, '50': 1, '@TerryBranstad!': 1, '@HillaryClinton:': 1, '@PatMcCroryNC': 1, 'Saw': 1, 'emails': 1, 'beginning.': 1, 'Thanks,': 1, 'Has': 1, 'returned': 1, 'Endorsement:': 1, 'REFORMS': 1, 'pray': 1, 'coming': 1, 'With': 1, '2nd': 1, 'Missouri': 1, 'destruction': 1, 'winning': 1, 'Now': 1, 'plan-': 1, 'Job': 1, 'ahead?': 1, 'weakness': 1, 'jilted!': 1, 'mass': 1, 'community': 1, 'safe!\"': 1, '$9trillion': 1, 'Ohio,': 1, 'heavily': 1, '8pm.': 1, 'Arnold': 1, 'week': 1, 'Georgia!': 1, 'victims,': 1, 'Villages-': 1, 'watching.': 1, '\"@ThAllenSBoucher:': 1, 'Nice!': 1, 'really': 1, 'WE': 1, 'Make': 1, 'https://t.co/0RRPbfIgXH\"': 1, \"touch'\": 1, 'judgement': 1, 'Flake,': 1, '@Penn': 1, 'Total': 1, 'N.C.': 1, 'armed': 1, '4': 1, 'https://t.co/6k7qP9X8nC': 1, 'Phyllis': 1, 'Colorado.': 1, 'https://t.co/E5BdTiwlur': 1, 'Clinton,': 1, 'NICE!': 1, 'tonight.': 1, 'again.': 1, \"havn't\": 1, 'up:': 1, \"world's\": 1, 'rallies': 1, 'advice': 1, 'them,': 1, 'https://t.co/zhkEfUouHH': 1, 'Canton,': 1, 'https://t.co/2XBs5SSRC3': 1, '❌IRAQ': 1, 'millions': 1, 'voted': 1, 'Wacky': 1, 'https://t.co/XhwUGw0v2H': 1, 'spoke': 1, 'Bloomberg': 1, 'proud': 1, 'Republican': 1, 'allow': 1, 'rest.': 1, '8,': 1, 'Ransom': 1, 'future.': 1, 'SUPREME': 1, 'Sass.': 1, 'weak': 1, '@KatiePavlich:': 1, 'tonight!': 1, 'https://t.co/rntyxBSb9J': 1, '#debatenight': 1, \"they're\": 1, 'Trump,': 1, 'She': 1, 'guns': 1, 'economic': 1, 'Washington': 1, 'MOVEMENT:': 1, 'enforcement!': 1, 'pulled\"': 1, '#TPP': 1, 'spending!': 1, 'hits!': 1, 'https://t.co/DSaUpSptBz': 1, 'leadership.': 1, 'https://t.co/l17uzRPyLs': 1, 'PIVOT': 1, 'Prime': 1, 'broadcasting': 1, 'hair': 1, \"wouldn't\": 1, 'Funny!': 1, 'protect': 1, '@DiamondandSilk': 1, \".@DRUDGE_REPORT's\": 1, '10.8%': 1, '\"@TarukMatuk:': 1, 'males,': 1, '#FallonTonight': 1, 'SIGN': 1, '❌SYRIA': 1, 'https://t.co/qfZTx6aKYs': 1, 'mess': 1, 'emails.': 1, 'Toledo,': 1, 'landed': 1, 'Well,': 1, 'testing': 1, 'style.': 1, '❌RUSSIAN': 1, 'debt': 1, 'Million': 1, 'ISIS,': 1, 'tonight-': 1, 'no-one': 1, 'fact': 1, 'billionaire': 1, 'wins!': 1, 'Lots': 1, '#Benghazi.': 1, 'Miami!': 1, 'Under': 1, 'greatly': 1, 'neglected': 1, '#LESM': 1, 'https://t.co/Y8Sb8MNyXA': 1, 'CNBC': 1, 'https://t.co/CX4oEWgEMp': 1, 'Tune': 1, 'Heritage': 1, 'gets': 1, 'coming.': 1, 'she’ll': 1, 'intent.': 1, 'delivering': 1, 'me:': 1, 'terrorist': 1, 'Republicans': 1, 'endorsement,': 1, 'terrible': 1, 'On': 1, 'doing,': 1, 'Unfit': 1, 'https://t.co/G5TMAUzy0z': 1, '@Mike_Pence!': 1, 'Colorado': 1, 'in.': 1, 'writer': 1, 'Hampshire': 1, 'fame': 1, 'https://t.co/8BEeQPsuyd': 1, 'watch).': 1, 'Netanyahu': 1, 'So': 1, 'Tickets': 1, 'https://t.co/Um5WJXEEKr': 1, 'row,': 1})\n"
     ]
    }
   ],
   "source": [
    "#counting words\n",
    "from collections import Counter\n",
    "counts = Counter(word_counts)\n",
    "print(counts)"
   ]
  },
  {
   "cell_type": "code",
   "execution_count": 38,
   "metadata": {
    "collapsed": false
   },
   "outputs": [
    {
     "name": "stdout",
     "output_type": "stream",
     "text": [
      "[('Thank', 37), ('Hillary', 24), ('#MAGA', 17), ('Clinton', 16), ('#AmericaFirst', 16), ('Join', 14), ('you!', 14), ('last', 12), ('AMERICA', 12), ('poll', 11), ('Will', 11), ('MAKE', 10), ('Trump', 10), ('Enjoy!', 9), ('Great', 9), ('We', 9), ('#DebateNight', 9), ('#Debates2016', 8), ('said', 8), ('GREAT', 8)]\n"
     ]
    }
   ],
   "source": [
    "a = Counter(filterTump).most_common(20)\n",
    "print (a)"
   ]
  },
  {
   "cell_type": "code",
   "execution_count": 39,
   "metadata": {
    "collapsed": false
   },
   "outputs": [
    {
     "name": "stdout",
     "output_type": "stream",
     "text": [
      "+---------------+-----------------+\n",
      "| word          | Frequency_Trump |\n",
      "+---------------+-----------------+\n",
      "| you!          | 14              |\n",
      "| said          | 8               |\n",
      "| poll          | 11              |\n",
      "| last          | 12              |\n",
      "| Will          | 11              |\n",
      "| We            | 9               |\n",
      "| Trump         | 10              |\n",
      "| Thank         | 37              |\n",
      "| MAKE          | 10              |\n",
      "| Join          | 14              |\n",
      "| Hillary       | 24              |\n",
      "| Great         | 9               |\n",
      "| GREAT         | 8               |\n",
      "| Enjoy!        | 9               |\n",
      "| Clinton       | 16              |\n",
      "| AMERICA       | 12              |\n",
      "| #MAGA         | 17              |\n",
      "| #Debates2016  | 8               |\n",
      "| #DebateNight  | 9               |\n",
      "| #AmericaFirst | 16              |\n",
      "+---------------+-----------------+\n"
     ]
    }
   ],
   "source": [
    "from prettytable import PrettyTable\n",
    "sorted(a)\n",
    "pt = PrettyTable(field_names=['word', 'Frequency_Trump'])\n",
    "[ pt.add_row(row) for row in sorted(a, reverse=True)[:20] ]\n",
    "pt.max_width['Text'] = 50\n",
    "pt.align= 'l'\n",
    "print (pt)"
   ]
  },
  {
   "cell_type": "code",
   "execution_count": 40,
   "metadata": {
    "collapsed": true
   },
   "outputs": [],
   "source": [
    "#Although labels for each word are not provided, x-axis values have been sorted so that the relationship between word frequencies is more apparent.\n",
    "#Each axis has been adjusted to a logarithmic scale to \"squash\" the curve being displayed"
   ]
  },
  {
   "cell_type": "code",
   "execution_count": 41,
   "metadata": {
    "collapsed": false
   },
   "outputs": [
    {
     "data": {
      "text/plain": [
       "<matplotlib.text.Text at 0x10bb38b00>"
      ]
     },
     "execution_count": 41,
     "metadata": {},
     "output_type": "execute_result"
    },
    {
     "data": {
      "image/png": "[encoded data removed]",
      "text/plain": [
       "<matplotlib.figure.Figure at 0x10bade4e0>"
      ]
     },
     "metadata": {},
     "output_type": "display_data"
    }
   ],
   "source": [
    "word_counts = sorted(Counter(filterTump).values(), reverse=True)\n",
    "\n",
    "plt.loglog(word_counts)\n",
    "plt.ylabel(\"Freq\")\n",
    "plt.xlabel(\"Word Rank\")"
   ]
  },
  {
   "cell_type": "code",
   "execution_count": 42,
   "metadata": {
    "collapsed": false
   },
   "outputs": [
    {
     "name": "stdout",
     "output_type": "stream",
     "text": [
      "[5212, 8940, 11264, 10677, 4896, 5009, 15839, 10512, 15285, 10734, 8269, 15768, 4535, 5184, 9976, 7791, 8581, 3591, 7012, 4429, 4370, 4781, 2447, 6057, 21985, 12131, 25876, 15751, 8028, 11792, 3146, 2364, 9305, 8088, 5246, 4208, 4181, 5259, 2892, 11028, 7170, 3757, 4058, 4147, 24975, 8088, 7730, 11665, 2716, 7294, 8147, 3930, 6225, 6649, 3031, 7876, 3481, 2117, 3693, 8659, 3380, 6013, 3668, 3981, 10618, 2513, 4409, 5823, 6628, 10379, 10122, 5774, 8559, 5220, 7092, 8437, 14569, 7436, 13049, 6163, 5503, 10119, 7996, 5738, 5800, 16268, 11882, 19661, 12650, 2152, 4584, 7734, 16410, 16141, 10464, 8018, 2819, 10575, 8262, 9373, 5815, 5986, 12389, 6507, 31039, 9571, 8128, 16396, 9643, 13399, 8864, 10434, 3240, 4585, 3925, 2283, 4446, 6204, 8303, 6198, 19779, 7056, 4523, 9331, 7002, 12653, 9991, 4763, 31651, 6420, 8565, 8485, 8529, 11544, 11271, 17033, 11446, 19778, 16380, 7792, 5012, 7082, 9629, 7807, 11621, 13209, 11963, 5728, 8904, 21433, 11677, 6627, 30601, 8502, 18124, 7232, 5518, 12579, 7598, 12298, 15795, 10514, 10498, 4183, 19864, 6204, 8950, 18340, 5304, 10931, 6656, 4782, 12218, 3615, 7201, 4609, 3071, 2701, 2406, 1741]\n"
     ]
    },
    {
     "data": {
      "image/png": "[encoded data removed]",
      "text/plain": [
       "<matplotlib.figure.Figure at 0x10be2c978>"
      ]
     },
     "metadata": {},
     "output_type": "display_data"
    }
   ],
   "source": [
    "# Generating a histogram of retweet counts\n",
    "#Using underscores while unpacking values in\n",
    "# a tuple is idiomatic for discarding them\n",
    "retweet = realDonaldTrump['retweet_count_x']\n",
    "\n",
    "#print(retweet)\n",
    "counts = [count for count in retweet]\n",
    "\n",
    "plt.hist(counts)\n",
    "plt.title(\"Retweets for Donald Trump\")\n",
    "plt.xlabel('Bins (number of times retweeted)')\n",
    "plt.ylabel('Number of tweets in bin')\n",
    "\n",
    "print (counts)"
   ]
  },
  {
   "cell_type": "code",
   "execution_count": 43,
   "metadata": {
    "collapsed": false
   },
   "outputs": [
    {
     "name": "stdout",
     "output_type": "stream",
     "text": [
      "[5212, 8940, 11264, 10677, 4896, 5009, 15839, 10512, 15285, 10734, 8269, 15768, 4535, 5184, 9976, 7791, 8581, 3591, 7012, 4429, 4370, 4781, 2447, 6057, 21985, 12131, 25876, 15751, 8028, 11792, 3146, 2364, 9305, 8088, 5246, 4208, 4181, 5259, 2892, 11028, 7170, 3757, 4058, 4147, 24975, 8088, 7730, 11665, 2716, 7294, 8147, 3930, 6225, 6649, 3031, 7876, 3481, 2117, 3693, 8659, 3380, 6013, 3668, 3981, 10618, 2513, 4409, 5823, 6628, 10379, 10122, 5774, 8559, 5220, 7092, 8437, 14569, 7436, 13049, 6163, 5503, 10119, 7996, 5738, 5800, 16268, 11882, 19661, 12650, 2152, 4584, 7734, 16410, 16141, 10464, 8018, 2819, 10575, 8262, 9373, 5815, 5986, 12389, 6507, 31039, 9571, 8128, 16396, 9643, 13399, 8864, 10434, 3240, 4585, 3925, 2283, 4446, 6204, 8303, 6198, 19779, 7056, 4523, 9331, 7002, 12653, 9991, 4763, 31651, 6420, 8565, 8485, 8529, 11544, 11271, 17033, 11446, 19778, 16380, 7792, 5012, 7082, 9629, 7807, 11621, 13210, 11963, 5728, 8904, 21433, 11678, 6627, 30602, 8502, 18124, 7232, 5518, 12579, 7598, 12298, 15795, 10514, 10498, 4184, 19867, 6204, 8950, 18342, 5304, 10931, 6656, 4782, 12218, 3615, 7201, 4610, 3072, 2701, 2408, 1744]\n"
     ]
    },
    {
     "data": {
      "image/png": "[encoded data removed]",
      "text/plain": [
       "<matplotlib.figure.Figure at 0x10be0cf98>"
      ]
     },
     "metadata": {},
     "output_type": "display_data"
    }
   ],
   "source": [
    "# Generating a histogram of retweet counts\n",
    "#Using underscores while unpacking values in\n",
    "# a tuple is idiomatic for discarding them\n",
    "retweet = realDonaldTrump['retweet_count_y']\n",
    "\n",
    "#print(retweet)\n",
    "counts = [count for count in retweet]\n",
    "\n",
    "plt.hist(counts)\n",
    "plt.title(\"Retweets for Donald Trump\")\n",
    "plt.xlabel('Bins (number of times retweeted)')\n",
    "plt.ylabel('Number of tweets in bin')\n",
    "\n",
    "print (counts)"
   ]
  },
  {
   "cell_type": "code",
   "execution_count": 44,
   "metadata": {
    "collapsed": false
   },
   "outputs": [],
   "source": [
    "from nltk import FreqDist\n",
    "\n",
    "freqdist = nltk.FreqDist(filterTump)"
   ]
  },
  {
   "cell_type": "code",
   "execution_count": 45,
   "metadata": {
    "collapsed": false
   },
   "outputs": [
    {
     "data": {
      "image/png": "[encoded data removed]",
      "text/plain": [
       "<matplotlib.figure.Figure at 0x10be2f6d8>"
      ]
     },
     "metadata": {},
     "output_type": "display_data"
    }
   ],
   "source": [
    "freqdist.plot(50)"
   ]
  },
  {
   "cell_type": "code",
   "execution_count": 46,
   "metadata": {
    "collapsed": false
   },
   "outputs": [
    {
     "data": {
      "text/html": [
       "<div>\n",
       "<table border=\"1\" class=\"dataframe\">\n",
       "  <thead>\n",
       "    <tr style=\"text-align: right;\">\n",
       "      <th></th>\n",
       "      <th>created_at</th>\n",
       "      <th>retweet_count_x</th>\n",
       "      <th>current_time</th>\n",
       "      <th>retweet_count_y</th>\n",
       "    </tr>\n",
       "  </thead>\n",
       "  <tbody>\n",
       "    <tr>\n",
       "      <th>179</th>\n",
       "      <td>2016-09-08 10:52:27</td>\n",
       "      <td>5212</td>\n",
       "      <td>2016-09-27 17:44:20</td>\n",
       "      <td>5212</td>\n",
       "    </tr>\n",
       "    <tr>\n",
       "      <th>178</th>\n",
       "      <td>2016-09-08 12:10:13</td>\n",
       "      <td>8940</td>\n",
       "      <td>2016-09-27 17:44:20</td>\n",
       "      <td>8940</td>\n",
       "    </tr>\n",
       "    <tr>\n",
       "      <th>177</th>\n",
       "      <td>2016-09-08 15:17:47</td>\n",
       "      <td>11264</td>\n",
       "      <td>2016-09-27 17:44:20</td>\n",
       "      <td>11264</td>\n",
       "    </tr>\n",
       "    <tr>\n",
       "      <th>176</th>\n",
       "      <td>2016-09-08 16:25:36</td>\n",
       "      <td>10677</td>\n",
       "      <td>2016-09-27 17:44:20</td>\n",
       "      <td>10677</td>\n",
       "    </tr>\n",
       "    <tr>\n",
       "      <th>175</th>\n",
       "      <td>2016-09-08 18:16:25</td>\n",
       "      <td>4896</td>\n",
       "      <td>2016-09-27 17:44:20</td>\n",
       "      <td>4896</td>\n",
       "    </tr>\n",
       "  </tbody>\n",
       "</table>\n",
       "</div>"
      ],
      "text/plain": [
       "             created_at  retweet_count_x         current_time  retweet_count_y\n",
       "179 2016-09-08 10:52:27             5212  2016-09-27 17:44:20             5212\n",
       "178 2016-09-08 12:10:13             8940  2016-09-27 17:44:20             8940\n",
       "177 2016-09-08 15:17:47            11264  2016-09-27 17:44:20            11264\n",
       "176 2016-09-08 16:25:36            10677  2016-09-27 17:44:20            10677\n",
       "175 2016-09-08 18:16:25             4896  2016-09-27 17:44:20             4896"
      ]
     },
     "execution_count": 46,
     "metadata": {},
     "output_type": "execute_result"
    }
   ],
   "source": [
    "flyers1m = realDonaldTrump[['created_at','retweet_count_x', 'current_time', 'retweet_count_y']]\n",
    "flyers1m.head()"
   ]
  },
  {
   "cell_type": "code",
   "execution_count": 47,
   "metadata": {
    "collapsed": false
   },
   "outputs": [],
   "source": [
    "#create difference in retweets\n",
    "\n",
    "realDonaldTrump['retweet_cumulative'] = realDonaldTrump['retweet_count_x'] - realDonaldTrump['retweet_count_y']"
   ]
  },
  {
   "cell_type": "code",
   "execution_count": 48,
   "metadata": {
    "collapsed": false
   },
   "outputs": [
    {
     "data": {
      "text/html": [
       "<div>\n",
       "<table border=\"1\" class=\"dataframe\">\n",
       "  <thead>\n",
       "    <tr style=\"text-align: right;\">\n",
       "      <th></th>\n",
       "      <th>created_at</th>\n",
       "      <th>favorite_count_x</th>\n",
       "      <th>id</th>\n",
       "      <th>lang</th>\n",
       "      <th>retweet_count_x</th>\n",
       "      <th>user_followers_count_x</th>\n",
       "      <th>user_screen_name</th>\n",
       "      <th>text</th>\n",
       "      <th>current_time</th>\n",
       "      <th>favorite_count_y</th>\n",
       "      <th>retweet_count_y</th>\n",
       "      <th>user_followers_count_y</th>\n",
       "      <th>retweet_cumulative</th>\n",
       "    </tr>\n",
       "  </thead>\n",
       "  <tbody>\n",
       "    <tr>\n",
       "      <th>179</th>\n",
       "      <td>2016-09-08 10:52:27</td>\n",
       "      <td>22329</td>\n",
       "      <td>773836389943246848</td>\n",
       "      <td>en</td>\n",
       "      <td>5212</td>\n",
       "      <td>11846272</td>\n",
       "      <td>realDonaldTrump</td>\n",
       "      <td>Wow, reviews are in - THANK YOU!</td>\n",
       "      <td>2016-09-27 17:44:20</td>\n",
       "      <td>22329</td>\n",
       "      <td>5212</td>\n",
       "      <td>11846272</td>\n",
       "      <td>0</td>\n",
       "    </tr>\n",
       "    <tr>\n",
       "      <th>178</th>\n",
       "      <td>2016-09-08 12:10:13</td>\n",
       "      <td>29963</td>\n",
       "      <td>773855962528620548</td>\n",
       "      <td>en</td>\n",
       "      <td>8940</td>\n",
       "      <td>11846272</td>\n",
       "      <td>realDonaldTrump</td>\n",
       "      <td>\"A rough night for Hillary Clinton\"  ABC News.</td>\n",
       "      <td>2016-09-27 17:44:20</td>\n",
       "      <td>29963</td>\n",
       "      <td>8940</td>\n",
       "      <td>11846272</td>\n",
       "      <td>0</td>\n",
       "    </tr>\n",
       "    <tr>\n",
       "      <th>177</th>\n",
       "      <td>2016-09-08 15:17:47</td>\n",
       "      <td>35996</td>\n",
       "      <td>773903163296473088</td>\n",
       "      <td>en</td>\n",
       "      <td>11264</td>\n",
       "      <td>11846272</td>\n",
       "      <td>realDonaldTrump</td>\n",
       "      <td>Hillary just gave a disastrous news conference...</td>\n",
       "      <td>2016-09-27 17:44:20</td>\n",
       "      <td>35996</td>\n",
       "      <td>11264</td>\n",
       "      <td>11846272</td>\n",
       "      <td>0</td>\n",
       "    </tr>\n",
       "    <tr>\n",
       "      <th>176</th>\n",
       "      <td>2016-09-08 16:25:36</td>\n",
       "      <td>31254</td>\n",
       "      <td>773920230192054272</td>\n",
       "      <td>en</td>\n",
       "      <td>10677</td>\n",
       "      <td>11846272</td>\n",
       "      <td>realDonaldTrump</td>\n",
       "      <td>Hillary Clinton answered email questions diffe...</td>\n",
       "      <td>2016-09-27 17:44:20</td>\n",
       "      <td>31254</td>\n",
       "      <td>10677</td>\n",
       "      <td>11846272</td>\n",
       "      <td>0</td>\n",
       "    </tr>\n",
       "    <tr>\n",
       "      <th>175</th>\n",
       "      <td>2016-09-08 18:16:25</td>\n",
       "      <td>17621</td>\n",
       "      <td>773948120069615616</td>\n",
       "      <td>en</td>\n",
       "      <td>4896</td>\n",
       "      <td>11846272</td>\n",
       "      <td>realDonaldTrump</td>\n",
       "      <td>Mexico has lost a brilliant finance minister a...</td>\n",
       "      <td>2016-09-27 17:44:20</td>\n",
       "      <td>17621</td>\n",
       "      <td>4896</td>\n",
       "      <td>11846272</td>\n",
       "      <td>0</td>\n",
       "    </tr>\n",
       "  </tbody>\n",
       "</table>\n",
       "</div>"
      ],
      "text/plain": [
       "             created_at  favorite_count_x                  id lang  \\\n",
       "179 2016-09-08 10:52:27             22329  773836389943246848   en   \n",
       "178 2016-09-08 12:10:13             29963  773855962528620548   en   \n",
       "177 2016-09-08 15:17:47             35996  773903163296473088   en   \n",
       "176 2016-09-08 16:25:36             31254  773920230192054272   en   \n",
       "175 2016-09-08 18:16:25             17621  773948120069615616   en   \n",
       "\n",
       "     retweet_count_x  user_followers_count_x user_screen_name  \\\n",
       "179             5212                11846272  realDonaldTrump   \n",
       "178             8940                11846272  realDonaldTrump   \n",
       "177            11264                11846272  realDonaldTrump   \n",
       "176            10677                11846272  realDonaldTrump   \n",
       "175             4896                11846272  realDonaldTrump   \n",
       "\n",
       "                                                  text         current_time  \\\n",
       "179                   Wow, reviews are in - THANK YOU!  2016-09-27 17:44:20   \n",
       "178     \"A rough night for Hillary Clinton\"  ABC News.  2016-09-27 17:44:20   \n",
       "177  Hillary just gave a disastrous news conference...  2016-09-27 17:44:20   \n",
       "176  Hillary Clinton answered email questions diffe...  2016-09-27 17:44:20   \n",
       "175  Mexico has lost a brilliant finance minister a...  2016-09-27 17:44:20   \n",
       "\n",
       "     favorite_count_y  retweet_count_y  user_followers_count_y  \\\n",
       "179             22329             5212                11846272   \n",
       "178             29963             8940                11846272   \n",
       "177             35996            11264                11846272   \n",
       "176             31254            10677                11846272   \n",
       "175             17621             4896                11846272   \n",
       "\n",
       "     retweet_cumulative  \n",
       "179                   0  \n",
       "178                   0  \n",
       "177                   0  \n",
       "176                   0  \n",
       "175                   0  "
      ]
     },
     "execution_count": 48,
     "metadata": {},
     "output_type": "execute_result"
    }
   ],
   "source": [
    "realDonaldTrump.head()"
   ]
  },
  {
   "cell_type": "code",
   "execution_count": 54,
   "metadata": {
    "collapsed": true
   },
   "outputs": [],
   "source": [
    "tweets = realDonaldTrump['text']"
   ]
  },
  {
   "cell_type": "code",
   "execution_count": 49,
   "metadata": {
    "collapsed": true
   },
   "outputs": [],
   "source": [
    "avg = flyers1m.mean()"
   ]
  },
  {
   "cell_type": "code",
   "execution_count": 50,
   "metadata": {
    "collapsed": false
   },
   "outputs": [
    {
     "name": "stdout",
     "output_type": "stream",
     "text": [
      "retweet_count_x    8932.794444\n",
      "retweet_count_y    8932.883333\n",
      "dtype: float64\n"
     ]
    }
   ],
   "source": [
    "print(avg)"
   ]
  },
  {
   "cell_type": "code",
   "execution_count": 51,
   "metadata": {
    "collapsed": true
   },
   "outputs": [],
   "source": [
    "flyers2m = realDonaldTrump[['created_at','retweet_count_x']]"
   ]
  },
  {
   "cell_type": "code",
   "execution_count": 52,
   "metadata": {
    "collapsed": false
   },
   "outputs": [
    {
     "data": {
      "text/html": [
       "\n",
       "           <script>\n",
       "               \n",
       "                function vct_load_lib(url, callback){\n",
       "                      if(typeof d3 !== 'undefined' &&\n",
       "                         url === 'http://d3js.org/d3.v3.min.js'){\n",
       "                        callback()\n",
       "                      }\n",
       "                      var s = document.createElement('script');\n",
       "                      s.src = url;\n",
       "                      s.async = true;\n",
       "                      s.onreadystatechange = s.onload = callback;\n",
       "                      s.onerror = function(){\n",
       "                        console.warn(\"failed to load library \" + url);\n",
       "                        };\n",
       "                      document.getElementsByTagName(\"head\")[0].appendChild(s);\n",
       "                };\n",
       "                var vincent_event = new CustomEvent(\n",
       "                  \"vincent_libs_loaded\",\n",
       "                  {bubbles: true, cancelable: true}\n",
       "                );\n",
       "                \n",
       "               function load_all_libs(){\n",
       "                  console.log('Loading Vincent libs...')\n",
       "                  vct_load_lib('http://d3js.org/d3.v3.min.js', function(){\n",
       "                  vct_load_lib('http://d3js.org/d3.geo.projection.v0.min.js', function(){\n",
       "                  vct_load_lib('http://wrobstory.github.io/d3-cloud/d3.layout.cloud.js', function(){\n",
       "                  vct_load_lib('http://wrobstory.github.io/vega/vega.v1.3.3.js', function(){\n",
       "                  window.dispatchEvent(vincent_event);\n",
       "                  });\n",
       "                  });\n",
       "                  });\n",
       "                  });\n",
       "               };\n",
       "               if(typeof define === \"function\" && define.amd){\n",
       "                    if (window['d3'] === undefined ||\n",
       "                        window['topojson'] === undefined){\n",
       "                        require.config(\n",
       "                            {paths: {\n",
       "                              d3: 'http://d3js.org/d3.v3.min',\n",
       "                              topojson: 'http://d3js.org/topojson.v1.min'\n",
       "                              }\n",
       "                            }\n",
       "                          );\n",
       "                        require([\"d3\"], function(d3){\n",
       "                            console.log('Loading Vincent from require.js...')\n",
       "                            window.d3 = d3;\n",
       "                            require([\"topojson\"], function(topojson){\n",
       "                                window.topojson = topojson;\n",
       "                                load_all_libs();\n",
       "                            });\n",
       "                        });\n",
       "                    } else {\n",
       "                        load_all_libs();\n",
       "                    };\n",
       "               }else{\n",
       "                    console.log('Require.js not found, loading manually...')\n",
       "                    load_all_libs();\n",
       "               };\n",
       "\n",
       "           </script>"
      ],
      "text/plain": [
       "<IPython.core.display.HTML object>"
      ]
     },
     "metadata": {},
     "output_type": "display_data"
    },
    {
     "data": {
      "text/html": [
       "<div id=\"visdcee8907e12c4c2bb068bedc9cbbc8b7\"></div>\n",
       "<script>\n",
       "   ( function() {\n",
       "     var _do_plot = function() {\n",
       "       if (typeof vg === 'undefined') {\n",
       "         window.addEventListener('vincent_libs_loaded', _do_plot)\n",
       "         return;\n",
       "       }\n",
       "       vg.parse.spec({\"axes\": [{\"scale\": \"x\", \"type\": \"x\"}, {\"scale\": \"y\", \"type\": \"y\"}], \"data\": [{\"name\": \"table\", \"values\": [{\"col\": \"created_at\", \"idx\": 179, \"val\": 1473346347000}, {\"col\": \"retweet_count_x\", \"idx\": 179, \"val\": 5212}, {\"col\": \"created_at\", \"idx\": 178, \"val\": 1473351013000}, {\"col\": \"retweet_count_x\", \"idx\": 178, \"val\": 8940}, {\"col\": \"created_at\", \"idx\": 177, \"val\": 1473362267000}, {\"col\": \"retweet_count_x\", \"idx\": 177, \"val\": 11264}, {\"col\": \"created_at\", \"idx\": 176, \"val\": 1473366336000}, {\"col\": \"retweet_count_x\", \"idx\": 176, \"val\": 10677}, {\"col\": \"created_at\", \"idx\": 175, \"val\": 1473372985000}, {\"col\": \"retweet_count_x\", \"idx\": 175, \"val\": 4896}, {\"col\": \"created_at\", \"idx\": 174, \"val\": 1473373021000}, {\"col\": \"retweet_count_x\", \"idx\": 174, \"val\": 5009}, {\"col\": \"created_at\", \"idx\": 173, \"val\": 1473378752000}, {\"col\": \"retweet_count_x\", \"idx\": 173, \"val\": 15839}, {\"col\": \"created_at\", \"idx\": 172, \"val\": 1473393382000}, {\"col\": \"retweet_count_x\", \"idx\": 172, \"val\": 10512}, {\"col\": \"created_at\", \"idx\": 171, \"val\": 1473395976000}, {\"col\": \"retweet_count_x\", \"idx\": 171, \"val\": 15285}, {\"col\": \"created_at\", \"idx\": 170, \"val\": 1473400832000}, {\"col\": \"retweet_count_x\", \"idx\": 170, \"val\": 10734}, {\"col\": \"created_at\", \"idx\": 169, \"val\": 1473408649000}, {\"col\": \"retweet_count_x\", \"idx\": 169, \"val\": 8269}, {\"col\": \"created_at\", \"idx\": 168, \"val\": 1473446273000}, {\"col\": \"retweet_count_x\", \"idx\": 168, \"val\": 15768}, {\"col\": \"created_at\", \"idx\": 167, \"val\": 1473446576000}, {\"col\": \"retweet_count_x\", \"idx\": 167, \"val\": 4535}, {\"col\": \"created_at\", \"idx\": 166, \"val\": 1473456756000}, {\"col\": \"retweet_count_x\", \"idx\": 166, \"val\": 5184}, {\"col\": \"created_at\", \"idx\": 165, \"val\": 1473469851000}, {\"col\": \"retweet_count_x\", \"idx\": 165, \"val\": 9976}, {\"col\": \"created_at\", \"idx\": 164, \"val\": 1473477214000}, {\"col\": \"retweet_count_x\", \"idx\": 164, \"val\": 7791}, {\"col\": \"created_at\", \"idx\": 163, \"val\": 1473477573000}, {\"col\": \"retweet_count_x\", \"idx\": 163, \"val\": 8581}, {\"col\": \"created_at\", \"idx\": 162, \"val\": 1473480682000}, {\"col\": \"retweet_count_x\", \"idx\": 162, \"val\": 3591}, {\"col\": \"created_at\", \"idx\": 161, \"val\": 1473489103000}, {\"col\": \"retweet_count_x\", \"idx\": 161, \"val\": 7012}, {\"col\": \"created_at\", \"idx\": 160, \"val\": 1473500831000}, {\"col\": \"retweet_count_x\", \"idx\": 160, \"val\": 4429}, {\"col\": \"created_at\", \"idx\": 159, \"val\": 1473501479000}, {\"col\": \"retweet_count_x\", \"idx\": 159, \"val\": 4370}, {\"col\": \"created_at\", \"idx\": 158, \"val\": 1473502508000}, {\"col\": \"retweet_count_x\", \"idx\": 158, \"val\": 4781}, {\"col\": \"created_at\", \"idx\": 157, \"val\": 1473525040000}, {\"col\": \"retweet_count_x\", \"idx\": 157, \"val\": 2447}, {\"col\": \"created_at\", \"idx\": 156, \"val\": 1473525788000}, {\"col\": \"retweet_count_x\", \"idx\": 156, \"val\": 6057}, {\"col\": \"created_at\", \"idx\": 155, \"val\": 1473526038000}, {\"col\": \"retweet_count_x\", \"idx\": 155, \"val\": 21985}, {\"col\": \"created_at\", \"idx\": 154, \"val\": 1473537267000}, {\"col\": \"retweet_count_x\", \"idx\": 154, \"val\": 12131}, {\"col\": \"created_at\", \"idx\": 153, \"val\": 1473545917000}, {\"col\": \"retweet_count_x\", \"idx\": 153, \"val\": 25876}, {\"col\": \"created_at\", \"idx\": 152, \"val\": 1473565026000}, {\"col\": \"retweet_count_x\", \"idx\": 152, \"val\": 15751}, {\"col\": \"created_at\", \"idx\": 151, \"val\": 1473570850000}, {\"col\": \"retweet_count_x\", \"idx\": 151, \"val\": 8028}, {\"col\": \"created_at\", \"idx\": 150, \"val\": 1473629670000}, {\"col\": \"retweet_count_x\", \"idx\": 150, \"val\": 11792}, {\"col\": \"created_at\", \"idx\": 149, \"val\": 1473689376000}, {\"col\": \"retweet_count_x\", \"idx\": 149, \"val\": 3146}, {\"col\": \"created_at\", \"idx\": 148, \"val\": 1473693668000}, {\"col\": \"retweet_count_x\", \"idx\": 148, \"val\": 2364}, {\"col\": \"created_at\", \"idx\": 147, \"val\": 1473709905000}, {\"col\": \"retweet_count_x\", \"idx\": 147, \"val\": 9305}, {\"col\": \"created_at\", \"idx\": 146, \"val\": 1473741311000}, {\"col\": \"retweet_count_x\", \"idx\": 146, \"val\": 8088}, {\"col\": \"created_at\", \"idx\": 145, \"val\": 1473742141000}, {\"col\": \"retweet_count_x\", \"idx\": 145, \"val\": 5246}, {\"col\": \"created_at\", \"idx\": 144, \"val\": 1473751193000}, {\"col\": \"retweet_count_x\", \"idx\": 144, \"val\": 4208}, {\"col\": \"created_at\", \"idx\": 143, \"val\": 1473786842000}, {\"col\": \"retweet_count_x\", \"idx\": 143, \"val\": 4181}, {\"col\": \"created_at\", \"idx\": 142, \"val\": 1473793223000}, {\"col\": \"retweet_count_x\", \"idx\": 142, \"val\": 5259}, {\"col\": \"created_at\", \"idx\": 141, \"val\": 1473810053000}, {\"col\": \"retweet_count_x\", \"idx\": 141, \"val\": 2892}, {\"col\": \"created_at\", \"idx\": 140, \"val\": 1473818970000}, {\"col\": \"retweet_count_x\", \"idx\": 140, \"val\": 11028}, {\"col\": \"created_at\", \"idx\": 139, \"val\": 1473834299000}, {\"col\": \"retweet_count_x\", \"idx\": 139, \"val\": 7170}, {\"col\": \"created_at\", \"idx\": 138, \"val\": 1473835381000}, {\"col\": \"retweet_count_x\", \"idx\": 138, \"val\": 3757}, {\"col\": \"created_at\", \"idx\": 137, \"val\": 1473835495000}, {\"col\": \"retweet_count_x\", \"idx\": 137, \"val\": 4058}, {\"col\": \"created_at\", \"idx\": 136, \"val\": 1473835634000}, {\"col\": \"retweet_count_x\", \"idx\": 136, \"val\": 4147}, {\"col\": \"created_at\", \"idx\": 135, \"val\": 1473836977000}, {\"col\": \"retweet_count_x\", \"idx\": 135, \"val\": 24975}, {\"col\": \"created_at\", \"idx\": 134, \"val\": 1473837694000}, {\"col\": \"retweet_count_x\", \"idx\": 134, \"val\": 8088}, {\"col\": \"created_at\", \"idx\": 133, \"val\": 1473875042000}, {\"col\": \"retweet_count_x\", \"idx\": 133, \"val\": 7730}, {\"col\": \"created_at\", \"idx\": 132, \"val\": 1473876148000}, {\"col\": \"retweet_count_x\", \"idx\": 132, \"val\": 11665}, {\"col\": \"created_at\", \"idx\": 131, \"val\": 1473886481000}, {\"col\": \"retweet_count_x\", \"idx\": 131, \"val\": 2716}, {\"col\": \"created_at\", \"idx\": 130, \"val\": 1473900383000}, {\"col\": \"retweet_count_x\", \"idx\": 130, \"val\": 7294}, {\"col\": \"created_at\", \"idx\": 129, \"val\": 1473902641000}, {\"col\": \"retweet_count_x\", \"idx\": 129, \"val\": 8147}, {\"col\": \"created_at\", \"idx\": 128, \"val\": 1473912981000}, {\"col\": \"retweet_count_x\", \"idx\": 128, \"val\": 3930}, {\"col\": \"created_at\", \"idx\": 127, \"val\": 1473915440000}, {\"col\": \"retweet_count_x\", \"idx\": 127, \"val\": 6225}, {\"col\": \"created_at\", \"idx\": 126, \"val\": 1473921219000}, {\"col\": \"retweet_count_x\", \"idx\": 126, \"val\": 6649}, {\"col\": \"created_at\", \"idx\": 125, \"val\": 1473922837000}, {\"col\": \"retweet_count_x\", \"idx\": 125, \"val\": 3031}, {\"col\": \"created_at\", \"idx\": 124, \"val\": 1473926341000}, {\"col\": \"retweet_count_x\", \"idx\": 124, \"val\": 7876}, {\"col\": \"created_at\", \"idx\": 123, \"val\": 1473926654000}, {\"col\": \"retweet_count_x\", \"idx\": 123, \"val\": 3481}, {\"col\": \"created_at\", \"idx\": 122, \"val\": 1473950905000}, {\"col\": \"retweet_count_x\", \"idx\": 122, \"val\": 2117}, {\"col\": \"created_at\", \"idx\": 121, \"val\": 1473964453000}, {\"col\": \"retweet_count_x\", \"idx\": 121, \"val\": 3693}, {\"col\": \"created_at\", \"idx\": 120, \"val\": 1473965408000}, {\"col\": \"retweet_count_x\", \"idx\": 120, \"val\": 8659}, {\"col\": \"created_at\", \"idx\": 119, \"val\": 1473968350000}, {\"col\": \"retweet_count_x\", \"idx\": 119, \"val\": 3380}, {\"col\": \"created_at\", \"idx\": 118, \"val\": 1473973923000}, {\"col\": \"retweet_count_x\", \"idx\": 118, \"val\": 6013}, {\"col\": \"created_at\", \"idx\": 117, \"val\": 1473988307000}, {\"col\": \"retweet_count_x\", \"idx\": 117, \"val\": 3668}, {\"col\": \"created_at\", \"idx\": 116, \"val\": 1473993673000}, {\"col\": \"retweet_count_x\", \"idx\": 116, \"val\": 3981}, {\"col\": \"created_at\", \"idx\": 115, \"val\": 1473993971000}, {\"col\": \"retweet_count_x\", \"idx\": 115, \"val\": 10618}, {\"col\": \"created_at\", \"idx\": 114, \"val\": 1474007871000}, {\"col\": \"retweet_count_x\", \"idx\": 114, \"val\": 2513}, {\"col\": \"created_at\", \"idx\": 113, \"val\": 1474008187000}, {\"col\": \"retweet_count_x\", \"idx\": 113, \"val\": 4409}, {\"col\": \"created_at\", \"idx\": 112, \"val\": 1474011088000}, {\"col\": \"retweet_count_x\", \"idx\": 112, \"val\": 5823}, {\"col\": \"created_at\", \"idx\": 111, \"val\": 1474046580000}, {\"col\": \"retweet_count_x\", \"idx\": 111, \"val\": 6628}, {\"col\": \"created_at\", \"idx\": 110, \"val\": 1474063094000}, {\"col\": \"retweet_count_x\", \"idx\": 110, \"val\": 10379}, {\"col\": \"created_at\", \"idx\": 109, \"val\": 1474074087000}, {\"col\": \"retweet_count_x\", \"idx\": 109, \"val\": 10122}, {\"col\": \"created_at\", \"idx\": 108, \"val\": 1474089198000}, {\"col\": \"retweet_count_x\", \"idx\": 108, \"val\": 5774}, {\"col\": \"created_at\", \"idx\": 107, \"val\": 1474100153000}, {\"col\": \"retweet_count_x\", \"idx\": 107, \"val\": 8559}, {\"col\": \"created_at\", \"idx\": 106, \"val\": 1474101794000}, {\"col\": \"retweet_count_x\", \"idx\": 106, \"val\": 5220}, {\"col\": \"created_at\", \"idx\": 105, \"val\": 1474103744000}, {\"col\": \"retweet_count_x\", \"idx\": 105, \"val\": 7092}, {\"col\": \"created_at\", \"idx\": 104, \"val\": 1474104348000}, {\"col\": \"retweet_count_x\", \"idx\": 104, \"val\": 8437}, {\"col\": \"created_at\", \"idx\": 103, \"val\": 1474105989000}, {\"col\": \"retweet_count_x\", \"idx\": 103, \"val\": 14569}, {\"col\": \"created_at\", \"idx\": 102, \"val\": 1474127501000}, {\"col\": \"retweet_count_x\", \"idx\": 102, \"val\": 7436}, {\"col\": \"created_at\", \"idx\": 101, \"val\": 1474132423000}, {\"col\": \"retweet_count_x\", \"idx\": 101, \"val\": 13049}, {\"col\": \"created_at\", \"idx\": 100, \"val\": 1474147723000}, {\"col\": \"retweet_count_x\", \"idx\": 100, \"val\": 6163}, {\"col\": \"created_at\", \"idx\": 99, \"val\": 1474147766000}, {\"col\": \"retweet_count_x\", \"idx\": 99, \"val\": 5503}, {\"col\": \"created_at\", \"idx\": 98, \"val\": 1474162730000}, {\"col\": \"retweet_count_x\", \"idx\": 98, \"val\": 10119}, {\"col\": \"created_at\", \"idx\": 97, \"val\": 1474167429000}, {\"col\": \"retweet_count_x\", \"idx\": 97, \"val\": 7996}, {\"col\": \"created_at\", \"idx\": 96, \"val\": 1474167827000}, {\"col\": \"retweet_count_x\", \"idx\": 96, \"val\": 5738}, {\"col\": \"created_at\", \"idx\": 95, \"val\": 1474168498000}, {\"col\": \"retweet_count_x\", \"idx\": 95, \"val\": 5800}, {\"col\": \"created_at\", \"idx\": 94, \"val\": 1474218416000}, {\"col\": \"retweet_count_x\", \"idx\": 94, \"val\": 16268}, {\"col\": \"created_at\", \"idx\": 93, \"val\": 1474247508000}, {\"col\": \"retweet_count_x\", \"idx\": 93, \"val\": 11882}, {\"col\": \"created_at\", \"idx\": 92, \"val\": 1474266634000}, {\"col\": \"retweet_count_x\", \"idx\": 92, \"val\": 19661}, {\"col\": \"created_at\", \"idx\": 91, \"val\": 1474266723000}, {\"col\": \"retweet_count_x\", \"idx\": 91, \"val\": 12650}, {\"col\": \"created_at\", \"idx\": 90, \"val\": 1474297350000}, {\"col\": \"retweet_count_x\", \"idx\": 90, \"val\": 2152}, {\"col\": \"created_at\", \"idx\": 89, \"val\": 1474301699000}, {\"col\": \"retweet_count_x\", \"idx\": 89, \"val\": 4584}, {\"col\": \"created_at\", \"idx\": 88, \"val\": 1474302448000}, {\"col\": \"retweet_count_x\", \"idx\": 88, \"val\": 7734}, {\"col\": \"created_at\", \"idx\": 87, \"val\": 1474317152000}, {\"col\": \"retweet_count_x\", \"idx\": 87, \"val\": 16410}, {\"col\": \"created_at\", \"idx\": 86, \"val\": 1474317675000}, {\"col\": \"retweet_count_x\", \"idx\": 86, \"val\": 16141}, {\"col\": \"created_at\", \"idx\": 85, \"val\": 1474318422000}, {\"col\": \"retweet_count_x\", \"idx\": 85, \"val\": 10464}, {\"col\": \"created_at\", \"idx\": 84, \"val\": 1474329120000}, {\"col\": \"retweet_count_x\", \"idx\": 84, \"val\": 8018}, {\"col\": \"created_at\", \"idx\": 83, \"val\": 1474344896000}, {\"col\": \"retweet_count_x\", \"idx\": 83, \"val\": 2819}, {\"col\": \"created_at\", \"idx\": 82, \"val\": 1474345140000}, {\"col\": \"retweet_count_x\", \"idx\": 82, \"val\": 10575}, {\"col\": \"created_at\", \"idx\": 81, \"val\": 1474345610000}, {\"col\": \"retweet_count_x\", \"idx\": 81, \"val\": 8262}, {\"col\": \"created_at\", \"idx\": 80, \"val\": 1474387355000}, {\"col\": \"retweet_count_x\", \"idx\": 80, \"val\": 9373}, {\"col\": \"created_at\", \"idx\": 79, \"val\": 1474393790000}, {\"col\": \"retweet_count_x\", \"idx\": 79, \"val\": 5815}, {\"col\": \"created_at\", \"idx\": 78, \"val\": 1474393856000}, {\"col\": \"retweet_count_x\", \"idx\": 78, \"val\": 5986}, {\"col\": \"created_at\", \"idx\": 77, \"val\": 1474395650000}, {\"col\": \"retweet_count_x\", \"idx\": 77, \"val\": 12389}, {\"col\": \"created_at\", \"idx\": 76, \"val\": 1474395722000}, {\"col\": \"retweet_count_x\", \"idx\": 76, \"val\": 6507}, {\"col\": \"created_at\", \"idx\": 75, \"val\": 1474395839000}, {\"col\": \"retweet_count_x\", \"idx\": 75, \"val\": 31039}, {\"col\": \"created_at\", \"idx\": 74, \"val\": 1474417988000}, {\"col\": \"retweet_count_x\", \"idx\": 74, \"val\": 9571}, {\"col\": \"created_at\", \"idx\": 73, \"val\": 1474430871000}, {\"col\": \"retweet_count_x\", \"idx\": 73, \"val\": 8128}, {\"col\": \"created_at\", \"idx\": 72, \"val\": 1474471063000}, {\"col\": \"retweet_count_x\", \"idx\": 72, \"val\": 16396}, {\"col\": \"created_at\", \"idx\": 71, \"val\": 1474478415000}, {\"col\": \"retweet_count_x\", \"idx\": 71, \"val\": 9643}, {\"col\": \"created_at\", \"idx\": 70, \"val\": 1474478593000}, {\"col\": \"retweet_count_x\", \"idx\": 70, \"val\": 13399}, {\"col\": \"created_at\", \"idx\": 69, \"val\": 1474506176000}, {\"col\": \"retweet_count_x\", \"idx\": 69, \"val\": 8864}, {\"col\": \"created_at\", \"idx\": 68, \"val\": 1474511719000}, {\"col\": \"retweet_count_x\", \"idx\": 68, \"val\": 10434}, {\"col\": \"created_at\", \"idx\": 67, \"val\": 1474519764000}, {\"col\": \"retweet_count_x\", \"idx\": 67, \"val\": 3240}, {\"col\": \"created_at\", \"idx\": 66, \"val\": 1474520066000}, {\"col\": \"retweet_count_x\", \"idx\": 66, \"val\": 4585}, {\"col\": \"created_at\", \"idx\": 65, \"val\": 1474520283000}, {\"col\": \"retweet_count_x\", \"idx\": 65, \"val\": 3925}, {\"col\": \"created_at\", \"idx\": 64, \"val\": 1474556521000}, {\"col\": \"retweet_count_x\", \"idx\": 64, \"val\": 2283}, {\"col\": \"created_at\", \"idx\": 63, \"val\": 1474569945000}, {\"col\": \"retweet_count_x\", \"idx\": 63, \"val\": 4446}, {\"col\": \"created_at\", \"idx\": 62, \"val\": 1474607870000}, {\"col\": \"retweet_count_x\", \"idx\": 62, \"val\": 6204}, {\"col\": \"created_at\", \"idx\": 61, \"val\": 1474610953000}, {\"col\": \"retweet_count_x\", \"idx\": 61, \"val\": 8303}, {\"col\": \"created_at\", \"idx\": 60, \"val\": 1474660667000}, {\"col\": \"retweet_count_x\", \"idx\": 60, \"val\": 6198}, {\"col\": \"created_at\", \"idx\": 59, \"val\": 1474666016000}, {\"col\": \"retweet_count_x\", \"idx\": 59, \"val\": 19779}, {\"col\": \"created_at\", \"idx\": 58, \"val\": 1474666340000}, {\"col\": \"retweet_count_x\", \"idx\": 58, \"val\": 7056}, {\"col\": \"created_at\", \"idx\": 57, \"val\": 1474676029000}, {\"col\": \"retweet_count_x\", \"idx\": 57, \"val\": 4523}, {\"col\": \"created_at\", \"idx\": 56, \"val\": 1474697396000}, {\"col\": \"retweet_count_x\", \"idx\": 56, \"val\": 9331}, {\"col\": \"created_at\", \"idx\": 55, \"val\": 1474729592000}, {\"col\": \"retweet_count_x\", \"idx\": 55, \"val\": 7002}, {\"col\": \"created_at\", \"idx\": 54, \"val\": 1474734902000}, {\"col\": \"retweet_count_x\", \"idx\": 54, \"val\": 12653}, {\"col\": \"created_at\", \"idx\": 53, \"val\": 1474735432000}, {\"col\": \"retweet_count_x\", \"idx\": 53, \"val\": 9991}, {\"col\": \"created_at\", \"idx\": 52, \"val\": 1474740637000}, {\"col\": \"retweet_count_x\", \"idx\": 52, \"val\": 4763}, {\"col\": \"created_at\", \"idx\": 51, \"val\": 1474751297000}, {\"col\": \"retweet_count_x\", \"idx\": 51, \"val\": 31651}, {\"col\": \"created_at\", \"idx\": 50, \"val\": 1474774742000}, {\"col\": \"retweet_count_x\", \"idx\": 50, \"val\": 6420}, {\"col\": \"created_at\", \"idx\": 49, \"val\": 1474821028000}, {\"col\": \"retweet_count_x\", \"idx\": 49, \"val\": 8565}, {\"col\": \"created_at\", \"idx\": 48, \"val\": 1474823086000}, {\"col\": \"retweet_count_x\", \"idx\": 48, \"val\": 8485}, {\"col\": \"created_at\", \"idx\": 47, \"val\": 1474824056000}, {\"col\": \"retweet_count_x\", \"idx\": 47, \"val\": 8529}, {\"col\": \"created_at\", \"idx\": 46, \"val\": 1474841711000}, {\"col\": \"retweet_count_x\", \"idx\": 46, \"val\": 11544}, {\"col\": \"created_at\", \"idx\": 45, \"val\": 1474863520000}, {\"col\": \"retweet_count_x\", \"idx\": 45, \"val\": 11271}, {\"col\": \"created_at\", \"idx\": 44, \"val\": 1474866820000}, {\"col\": \"retweet_count_x\", \"idx\": 44, \"val\": 17033}, {\"col\": \"created_at\", \"idx\": 43, \"val\": 1474905768000}, {\"col\": \"retweet_count_x\", \"idx\": 43, \"val\": 11446}, {\"col\": \"created_at\", \"idx\": 42, \"val\": 1474943513000}, {\"col\": \"retweet_count_x\", \"idx\": 42, \"val\": 19778}, {\"col\": \"created_at\", \"idx\": 41, \"val\": 1474951625000}, {\"col\": \"retweet_count_x\", \"idx\": 41, \"val\": 16380}, {\"col\": \"created_at\", \"idx\": 40, \"val\": 1474953535000}, {\"col\": \"retweet_count_x\", \"idx\": 40, \"val\": 7792}, {\"col\": \"created_at\", \"idx\": 39, \"val\": 1474953823000}, {\"col\": \"retweet_count_x\", \"idx\": 39, \"val\": 5012}, {\"col\": \"created_at\", \"idx\": 38, \"val\": 1474954084000}, {\"col\": \"retweet_count_x\", \"idx\": 38, \"val\": 7082}, {\"col\": \"created_at\", \"idx\": 37, \"val\": 1474954130000}, {\"col\": \"retweet_count_x\", \"idx\": 37, \"val\": 9629}, {\"col\": \"created_at\", \"idx\": 36, \"val\": 1474954345000}, {\"col\": \"retweet_count_x\", \"idx\": 36, \"val\": 7807}, {\"col\": \"created_at\", \"idx\": 35, \"val\": 1474954439000}, {\"col\": \"retweet_count_x\", \"idx\": 35, \"val\": 11621}, {\"col\": \"created_at\", \"idx\": 34, \"val\": 1474954610000}, {\"col\": \"retweet_count_x\", \"idx\": 34, \"val\": 13209}, {\"col\": \"created_at\", \"idx\": 33, \"val\": 1474955518000}, {\"col\": \"retweet_count_x\", \"idx\": 33, \"val\": 11963}, {\"col\": \"created_at\", \"idx\": 32, \"val\": 1474957187000}, {\"col\": \"retweet_count_x\", \"idx\": 32, \"val\": 5728}, {\"col\": \"created_at\", \"idx\": 31, \"val\": 1474957319000}, {\"col\": \"retweet_count_x\", \"idx\": 31, \"val\": 8904}, {\"col\": \"created_at\", \"idx\": 30, \"val\": 1474957573000}, {\"col\": \"retweet_count_x\", \"idx\": 30, \"val\": 21433}, {\"col\": \"created_at\", \"idx\": 29, \"val\": 1474957706000}, {\"col\": \"retweet_count_x\", \"idx\": 29, \"val\": 11677}, {\"col\": \"created_at\", \"idx\": 28, \"val\": 1474958171000}, {\"col\": \"retweet_count_x\", \"idx\": 28, \"val\": 6627}, {\"col\": \"created_at\", \"idx\": 27, \"val\": 1474958426000}, {\"col\": \"retweet_count_x\", \"idx\": 27, \"val\": 30601}, {\"col\": \"created_at\", \"idx\": 26, \"val\": 1474958569000}, {\"col\": \"retweet_count_x\", \"idx\": 26, \"val\": 8502}, {\"col\": \"created_at\", \"idx\": 25, \"val\": 1474963104000}, {\"col\": \"retweet_count_x\", \"idx\": 25, \"val\": 18124}, {\"col\": \"created_at\", \"idx\": 24, \"val\": 1474963292000}, {\"col\": \"retweet_count_x\", \"idx\": 24, \"val\": 7232}, {\"col\": \"created_at\", \"idx\": 23, \"val\": 1474963371000}, {\"col\": \"retweet_count_x\", \"idx\": 23, \"val\": 5518}, {\"col\": \"created_at\", \"idx\": 22, \"val\": 1474965249000}, {\"col\": \"retweet_count_x\", \"idx\": 22, \"val\": 12579}, {\"col\": \"created_at\", \"idx\": 21, \"val\": 1474967890000}, {\"col\": \"retweet_count_x\", \"idx\": 21, \"val\": 7598}, {\"col\": \"created_at\", \"idx\": 20, \"val\": 1474968993000}, {\"col\": \"retweet_count_x\", \"idx\": 20, \"val\": 12298}, {\"col\": \"created_at\", \"idx\": 19, \"val\": 1474969442000}, {\"col\": \"retweet_count_x\", \"idx\": 19, \"val\": 15795}, {\"col\": \"created_at\", \"idx\": 18, \"val\": 1474970082000}, {\"col\": \"retweet_count_x\", \"idx\": 18, \"val\": 10514}, {\"col\": \"created_at\", \"idx\": 17, \"val\": 1474972349000}, {\"col\": \"retweet_count_x\", \"idx\": 17, \"val\": 10498}, {\"col\": \"created_at\", \"idx\": 16, \"val\": 1474987498000}, {\"col\": \"retweet_count_x\", \"idx\": 16, \"val\": 4183}, {\"col\": \"created_at\", \"idx\": 15, \"val\": 1474995222000}, {\"col\": \"retweet_count_x\", \"idx\": 15, \"val\": 19864}, {\"col\": \"created_at\", \"idx\": 14, \"val\": 1474995331000}, {\"col\": \"retweet_count_x\", \"idx\": 14, \"val\": 6204}, {\"col\": \"created_at\", \"idx\": 13, \"val\": 1474996495000}, {\"col\": \"retweet_count_x\", \"idx\": 13, \"val\": 8950}, {\"col\": \"created_at\", \"idx\": 12, \"val\": 1474996660000}, {\"col\": \"retweet_count_x\", \"idx\": 12, \"val\": 18340}, {\"col\": \"created_at\", \"idx\": 11, \"val\": 1474998547000}, {\"col\": \"retweet_count_x\", \"idx\": 11, \"val\": 5304}, {\"col\": \"created_at\", \"idx\": 10, \"val\": 1475002149000}, {\"col\": \"retweet_count_x\", \"idx\": 10, \"val\": 10931}, {\"col\": \"created_at\", \"idx\": 9, \"val\": 1475002285000}, {\"col\": \"retweet_count_x\", \"idx\": 9, \"val\": 6656}, {\"col\": \"created_at\", \"idx\": 8, \"val\": 1475002557000}, {\"col\": \"retweet_count_x\", \"idx\": 8, \"val\": 4782}, {\"col\": \"created_at\", \"idx\": 7, \"val\": 1475005649000}, {\"col\": \"retweet_count_x\", \"idx\": 7, \"val\": 12218}, {\"col\": \"created_at\", \"idx\": 6, \"val\": 1475009938000}, {\"col\": \"retweet_count_x\", \"idx\": 6, \"val\": 3615}, {\"col\": \"created_at\", \"idx\": 5, \"val\": 1475012856000}, {\"col\": \"retweet_count_x\", \"idx\": 5, \"val\": 7201}, {\"col\": \"created_at\", \"idx\": 4, \"val\": 1475019442000}, {\"col\": \"retweet_count_x\", \"idx\": 4, \"val\": 4609}, {\"col\": \"created_at\", \"idx\": 3, \"val\": 1475020744000}, {\"col\": \"retweet_count_x\", \"idx\": 3, \"val\": 3071}, {\"col\": \"created_at\", \"idx\": 2, \"val\": 1475021185000}, {\"col\": \"retweet_count_x\", \"idx\": 2, \"val\": 2701}, {\"col\": \"created_at\", \"idx\": 1, \"val\": 1475021673000}, {\"col\": \"retweet_count_x\", \"idx\": 1, \"val\": 2406}, {\"col\": \"created_at\", \"idx\": 0, \"val\": 1475024902000}, {\"col\": \"retweet_count_x\", \"idx\": 0, \"val\": 1741}]}, {\"name\": \"stats\", \"source\": \"table\", \"transform\": [{\"keys\": [\"data.idx\"], \"type\": \"facet\"}, {\"type\": \"stats\", \"value\": \"data.val\"}]}], \"height\": 500, \"legends\": [], \"marks\": [{\"from\": {\"data\": \"table\", \"transform\": [{\"keys\": [\"data.col\"], \"type\": \"facet\"}, {\"height\": \"data.val\", \"point\": \"data.idx\", \"type\": \"stack\"}]}, \"marks\": [{\"properties\": {\"enter\": {\"fill\": {\"field\": \"data.col\", \"scale\": \"color\"}, \"interpolate\": {\"value\": \"monotone\"}, \"x\": {\"field\": \"data.idx\", \"scale\": \"x\"}, \"y\": {\"field\": \"y\", \"scale\": \"y\"}, \"y2\": {\"field\": \"y2\", \"scale\": \"y\"}}}, \"type\": \"area\"}], \"type\": \"group\"}], \"padding\": \"auto\", \"scales\": [{\"domain\": {\"data\": \"table\", \"field\": \"data.idx\"}, \"name\": \"x\", \"range\": \"width\", \"type\": \"linear\", \"zero\": false}, {\"domain\": {\"data\": \"stats\", \"field\": \"sum\"}, \"name\": \"y\", \"nice\": true, \"range\": \"height\"}, {\"domain\": {\"data\": \"table\", \"field\": \"data.col\"}, \"name\": \"color\", \"range\": [\"#9e0142\", \"#d53e4f\", \"#f46d43\", \"#fdae61\", \"#fee08b\", \"#ffffbf\", \"#e6f598\", \"#abdda4\", \"#66c2a5\", \"#3288bd\", \"#5e4fa2\"], \"type\": \"ordinal\"}], \"width\": 960}, function(chart) {\n",
       "         chart({el: \"#visdcee8907e12c4c2bb068bedc9cbbc8b7\"}).update();\n",
       "       });\n",
       "     };\n",
       "     _do_plot();\n",
       "   })();\n",
       "</script>\n",
       "<style>.vega canvas {width: 100%;}</style>\n",
       "        "
      ],
      "text/plain": [
       "<IPython.core.display.HTML object>"
      ]
     },
     "metadata": {},
     "output_type": "display_data"
    }
   ],
   "source": [
    "import vincent\n",
    "vincent.core.initialize_notebook()\n",
    "area = vincent.Area(flyers2m)\n",
    "area.colors(brew='Spectral')\n",
    "area.display()"
   ]
  },
  {
   "cell_type": "code",
   "execution_count": 60,
   "metadata": {
    "collapsed": false
   },
   "outputs": [
    {
     "name": "stdout",
     "output_type": "stream",
     "text": [
      "179    realDonaldTrump\n",
      "178    realDonaldTrump\n",
      "177    realDonaldTrump\n",
      "176    realDonaldTrump\n",
      "175    realDonaldTrump\n",
      "174    realDonaldTrump\n",
      "173    realDonaldTrump\n",
      "172    realDonaldTrump\n",
      "171    realDonaldTrump\n",
      "170    realDonaldTrump\n",
      "169    realDonaldTrump\n",
      "168    realDonaldTrump\n",
      "167    realDonaldTrump\n",
      "166    realDonaldTrump\n",
      "165    realDonaldTrump\n",
      "164    realDonaldTrump\n",
      "163    realDonaldTrump\n",
      "162    realDonaldTrump\n",
      "161    realDonaldTrump\n",
      "160    realDonaldTrump\n",
      "159    realDonaldTrump\n",
      "158    realDonaldTrump\n",
      "157    realDonaldTrump\n",
      "156    realDonaldTrump\n",
      "155    realDonaldTrump\n",
      "154    realDonaldTrump\n",
      "153    realDonaldTrump\n",
      "152    realDonaldTrump\n",
      "151    realDonaldTrump\n",
      "150    realDonaldTrump\n",
      "            ...       \n",
      "29     realDonaldTrump\n",
      "28     realDonaldTrump\n",
      "27     realDonaldTrump\n",
      "26     realDonaldTrump\n",
      "25     realDonaldTrump\n",
      "24     realDonaldTrump\n",
      "23     realDonaldTrump\n",
      "22     realDonaldTrump\n",
      "21     realDonaldTrump\n",
      "20     realDonaldTrump\n",
      "19     realDonaldTrump\n",
      "18     realDonaldTrump\n",
      "17     realDonaldTrump\n",
      "16     realDonaldTrump\n",
      "15     realDonaldTrump\n",
      "14     realDonaldTrump\n",
      "13     realDonaldTrump\n",
      "12     realDonaldTrump\n",
      "11     realDonaldTrump\n",
      "10     realDonaldTrump\n",
      "9      realDonaldTrump\n",
      "8      realDonaldTrump\n",
      "7      realDonaldTrump\n",
      "6      realDonaldTrump\n",
      "5      realDonaldTrump\n",
      "4      realDonaldTrump\n",
      "3      realDonaldTrump\n",
      "2      realDonaldTrump\n",
      "1      realDonaldTrump\n",
      "0      realDonaldTrump\n",
      "Name: user_screen_name, dtype: object\n"
     ]
    }
   ],
   "source": [
    "station_idx = realDonaldTrump['user_screen_name']\n",
    "print(station_idx)"
   ]
  },
  {
   "cell_type": "code",
   "execution_count": 61,
   "metadata": {
    "collapsed": false
   },
   "outputs": [],
   "source": [
    "from sklearn.feature_extraction.text import TfidfVectorizer\n",
    "tf = TfidfVectorizer(analyzer='word', ngram_range=(1,3), min_df = 0, stop_words = 'english')"
   ]
  },
  {
   "cell_type": "code",
   "execution_count": 62,
   "metadata": {
    "collapsed": true
   },
   "outputs": [],
   "source": [
    "tfidf_matrix =  tf.fit_transform(tweets)\n",
    "feature_names = tf.get_feature_names() "
   ]
  },
  {
   "cell_type": "code",
   "execution_count": 63,
   "metadata": {
    "collapsed": false
   },
   "outputs": [
    {
     "data": {
      "text/plain": [
       "3666"
      ]
     },
     "execution_count": 63,
     "metadata": {},
     "output_type": "execute_result"
    }
   ],
   "source": [
    "len(feature_names)"
   ]
  },
  {
   "cell_type": "code",
   "execution_count": 64,
   "metadata": {
    "collapsed": false
   },
   "outputs": [
    {
     "data": {
      "text/plain": [
       "['24',\n",
       " '24 hrs',\n",
       " '24 hrs raised',\n",
       " '27sr3mjjxc',\n",
       " '2nd',\n",
       " '2nd amendment',\n",
       " '2nd amendment rights',\n",
       " '2xbs5ssrc3',\n",
       " '30',\n",
       " '30 years',\n",
       " '30 years getting',\n",
       " '30 years policy',\n",
       " '30 years presidential',\n",
       " '35pme',\n",
       " '35pme tonight',\n",
       " '35pme tonight enjoy',\n",
       " '39',\n",
       " '39 americafirst',\n",
       " '39 americafirst imwithyou',\n",
       " '39fcnuf8pb']"
      ]
     },
     "execution_count": 64,
     "metadata": {},
     "output_type": "execute_result"
    }
   ],
   "source": [
    "feature_names[50:70]"
   ]
  },
  {
   "cell_type": "code",
   "execution_count": 65,
   "metadata": {
    "collapsed": false
   },
   "outputs": [
    {
     "data": {
      "text/plain": [
       "<180x3666 sparse matrix of type '<class 'numpy.float64'>'\n",
       "\twith 4780 stored elements in Compressed Sparse Row format>"
      ]
     },
     "execution_count": 65,
     "metadata": {},
     "output_type": "execute_result"
    }
   ],
   "source": [
    "tfidf_matrix"
   ]
  },
  {
   "cell_type": "code",
   "execution_count": 67,
   "metadata": {
    "collapsed": false
   },
   "outputs": [
    {
     "data": {
      "text/plain": [
       "3666"
      ]
     },
     "execution_count": 67,
     "metadata": {},
     "output_type": "execute_result"
    }
   ],
   "source": [
    "dense = tfidf_matrix.todense()\n",
    "len(dense[0].tolist()[0])"
   ]
  },
  {
   "cell_type": "code",
   "execution_count": 68,
   "metadata": {
    "collapsed": true
   },
   "outputs": [],
   "source": [
    "episode = dense[0].tolist()[0]\n",
    "phrase_scores = [pair for pair in zip(range(0, len(episode)), episode) if pair[1] > 0]"
   ]
  },
  {
   "cell_type": "code",
   "execution_count": 69,
   "metadata": {
    "collapsed": false
   },
   "outputs": [
    {
     "data": {
      "text/plain": [
       "6"
      ]
     },
     "execution_count": 69,
     "metadata": {},
     "output_type": "execute_result"
    }
   ],
   "source": [
    "len(phrase_scores)"
   ]
  },
  {
   "cell_type": "code",
   "execution_count": 70,
   "metadata": {
    "collapsed": false
   },
   "outputs": [
    {
     "data": {
      "text/plain": [
       "[(2660, 0.44933970304326726),\n",
       " (2661, 0.44933970304326726),\n",
       " (3613, 0.44933970304326726),\n",
       " (3614, 0.44933970304326726),\n",
       " (3608, 0.39276590542382084)]"
      ]
     },
     "execution_count": 70,
     "metadata": {},
     "output_type": "execute_result"
    }
   ],
   "source": [
    "sorted(phrase_scores, key=lambda t: t[1] * -1)[:5]"
   ]
  },
  {
   "cell_type": "code",
   "execution_count": 71,
   "metadata": {
    "collapsed": false
   },
   "outputs": [
    {
     "name": "stdout",
     "output_type": "stream",
     "text": [
      "reviews              0.44933970304326726\n",
      "reviews thank        0.44933970304326726\n",
      "wow reviews          0.44933970304326726\n",
      "wow reviews thank    0.44933970304326726\n",
      "wow                  0.39276590542382084\n",
      "thank                0.19521851503522866\n"
     ]
    }
   ],
   "source": [
    "sorted_phrase_scores = sorted(phrase_scores, key=lambda t: t[1] * -1)\n",
    "for phrase, score in [(feature_names[word_id], score) for (word_id, score) in sorted_phrase_scores][:20]:\n",
    "   print('{0: <20} {1}'.format(phrase, score))"
   ]
  },
  {
   "cell_type": "code",
   "execution_count": null,
   "metadata": {
    "collapsed": true
   },
   "outputs": [],
   "source": []
  }
 ],
 "metadata": {
  "kernelspec": {
   "display_name": "Python 3",
   "language": "python",
   "name": "python3"
  },
  "language_info": {
   "codemirror_mode": {
    "name": "ipython",
    "version": 3
   },
   "file_extension": ".py",
   "mimetype": "text/x-python",
   "name": "python",
   "nbconvert_exporter": "python",
   "pygments_lexer": "ipython3",
   "version": "3.5.2"
  }
 },
 "nbformat": 4,
 "nbformat_minor": 1
}

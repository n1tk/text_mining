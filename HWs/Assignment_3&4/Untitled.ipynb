{
 "cells": [
  {
   "cell_type": "code",
   "execution_count": 2,
   "metadata": {
    "collapsed": false
   },
   "outputs": [],
   "source": [
    "import gurobipy"
   ]
  },
  {
   "cell_type": "code",
   "execution_count": 3,
   "metadata": {
    "collapsed": true
   },
   "outputs": [],
   "source": [
    "#gorubi has 3 object:\n",
    "#1. model\n",
    "#2. variable\n",
    "#3.  constraint\n",
    "#IIS -Irreductible infeasible set\n",
    "#Kappa = K = ||A||*||A power -1||"
   ]
  },
  {
   "cell_type": "code",
   "execution_count": 5,
   "metadata": {
    "collapsed": false
   },
   "outputs": [
    {
     "name": "stdout",
     "output_type": "stream",
     "text": [
      "Changed value of parameter Threads to 8\n",
      "   Prev: 0  Min: 0  Max: 1024  Default: 0\n",
      "Changed value of parameter Presolve to 0\n",
      "   Prev: -1  Min: -1  Max: 2  Default: -1\n",
      "Optimize a model with 2 rows, 10 columns and 19 nonzeros\n",
      "Coefficient statistics:\n",
      "  Matrix range    [1e+00, 8e+00]\n",
      "  Objective range [1e+00, 5e+00]\n",
      "  Bounds range    [1e+00, 2e+00]\n",
      "  RHS range       [2e+01, 2e+01]\n",
      "Found heuristic solution: objective -14\n",
      "\n",
      "MIP start did not produce a new incumbent solution\n",
      "\n",
      "Variable types: 0 continuous, 10 integer (6 binary)\n",
      "\n",
      "Explored 0 nodes (0 simplex iterations) in 0.01 seconds\n",
      "Thread count was 8 (of 8 available processors)\n",
      "\n",
      "Optimal solution found (tolerance 1.00e-04)\n",
      "Best objective -1.400000000000e+01, best bound -1.400000000000e+01, gap 0.0%\n",
      "[0.0, 0.0, 0.0, 2.0, -1.0, -1.0, 0.0, 1.0, 0.0, -2.0]\n",
      "-14.0\n"
     ]
    }
   ],
   "source": [
    "from gurobipy import *\n",
    "\n",
    "\n",
    "m=2\n",
    "n=10\n",
    "\n",
    "c=[1,2,5,-1,2,4,5,-4,3,1]\n",
    "A=[[1,2,0,5,-3,5,2,6,7,1],\n",
    "   [3,5,7,8,1,1,-2,1,1,1]]\n",
    "b=[23,18]\n",
    "UB=[1,1,1,2,2,2,1,1,1,1]\n",
    "LB=[0,0,0,-1,-1,-1,0,0,0,-2]\n",
    "\n",
    "start=[1,1,1,0,0,-1,-1,0,0,0]\n",
    "\n",
    "M=Model()\n",
    "x=[]\n",
    "for i in range(n):\n",
    "    x+=[M.addVar(LB[i],UB[i],c[i], GRB.INTEGER, \"x_\"+str(i+1))]\n",
    "M.update();\n",
    "for i in range(m):\n",
    "    ntot=LinExpr()\n",
    "    for j in range(n):\n",
    "        ntot.addTerms(A[i][j],x[j])\n",
    "    M.addConstr(ntot,GRB.LESS_EQUAL,b[i],\"R\"+str(i+1))\n",
    "M.update()\n",
    "\n",
    "\n",
    "\n",
    "\n",
    "for i in range(n):\n",
    "    x[i].start = start[i]\n",
    "            \n",
    "            \n",
    "M.setParam(\"Threads\",8)\n",
    "for i in range(len(x)):\n",
    "    x[i].BranchPriority=n-i\n",
    "    \n",
    "    \n",
    "M.setParam(\"Presolve\",0)\n",
    "M.update()\n",
    "M.write(\"out.lp\")\n",
    "\n",
    "M.optimize()\n",
    "\n",
    "\n",
    "\n",
    "\n",
    "ipsol=[i.X for i in x]\n",
    "ipval=M.ObjVal\n",
    "\n",
    "print ipsol\n",
    "print ipval"
   ]
  },
  {
   "cell_type": "code",
   "execution_count": 6,
   "metadata": {
    "collapsed": false
   },
   "outputs": [
    {
     "name": "stdout",
     "output_type": "stream",
     "text": [
      "Hillary_twetter-Copy1.aux\r\n",
      "Hillary_twetter-Copy1.ipynb\r\n",
      "Hillary_twetter-Copy1.log\r\n",
      "Hillary_twetter-Copy1.out\r\n",
      "Hillary_twetter-Copy1.pdf\r\n",
      "Hillary_twetter-Copy1.synctex.gz\r\n",
      "Hillary_twetter-Copy1.tex\r\n",
      "\u001b[1m\u001b[36mHillary_twetter-Copy1_files\u001b[m\u001b[m\r\n",
      "MAC_DriverV11.1.0.zip\r\n",
      "Trump06.csv\r\n",
      "Untitled.ipynb\r\n",
      "edwin_sergiu_hw3&4.docx\r\n",
      "edwin_sergiu_hw3&4.pdf\r\n",
      "gurobi.log\r\n",
      "modified_trump_search_data_collection.ipynb\r\n",
      "out.lp\r\n",
      "realTrump_twetter-Copy1.aux\r\n",
      "realTrump_twetter-Copy1.ipynb\r\n",
      "realTrump_twetter-Copy1.log\r\n",
      "realTrump_twetter-Copy1.out\r\n",
      "realTrump_twetter-Copy1.pdf\r\n",
      "realTrump_twetter-Copy1.synctex.gz\r\n",
      "realTrump_twetter-Copy1.tex\r\n",
      "\u001b[1m\u001b[36mrealTrump_twetter-Copy1_files\u001b[m\u001b[m\r\n",
      "realTrump_twetter-with_Tfid.ipynb\r\n",
      "tweet_file.csv\r\n"
     ]
    }
   ],
   "source": [
    "!ls\n"
   ]
  },
  {
   "cell_type": "code",
   "execution_count": 10,
   "metadata": {
    "collapsed": true
   },
   "outputs": [],
   "source": [
    "m =read(\"test.lp\")"
   ]
  },
  {
   "cell_type": "code",
   "execution_count": 8,
   "metadata": {
    "collapsed": false
   },
   "outputs": [
    {
     "name": "stdout",
     "output_type": "stream",
     "text": [
      "Optimize a model with 60 rows, 60 columns and 690 nonzeros\n",
      "Coefficient statistics:\n",
      "  Matrix range    [1e+00, 8e+00]\n",
      "  Objective range [1e+00, 1e+00]\n",
      "  Bounds range    [1e+00, 1e+00]\n",
      "  RHS range       [2e+00, 8e+00]\n",
      "Found heuristic solution: objective 30\n",
      "Presolve time: 0.00s\n",
      "Presolved: 60 rows, 60 columns, 690 nonzeros\n",
      "Variable types: 0 continuous, 60 integer (60 binary)\n",
      "\n",
      "Root relaxation: objective 1.943508e+01, 81 iterations, 0.00 seconds\n",
      "\n",
      "    Nodes    |    Current Node    |     Objective Bounds      |     Work\n",
      " Expl Unexpl |  Obj  Depth IntInf | Incumbent    BestBd   Gap | It/Node Time\n",
      "\n",
      "     0     0   19.43508    0   47   30.00000   19.43508  35.2%     -    0s\n",
      "H    0     0                      27.0000000   19.43508  28.0%     -    0s\n",
      "H    0     0                      26.0000000   19.43508  25.2%     -    0s\n",
      "     0     0   19.65007    0   53   26.00000   19.65007  24.4%     -    0s\n",
      "     0     0   19.67566    0   53   26.00000   19.67566  24.3%     -    0s\n",
      "     0     0   19.78081    0   55   26.00000   19.78081  23.9%     -    0s\n",
      "H    0     0                      25.0000000   19.78081  20.9%     -    0s\n",
      "     0     0   19.82350    0   57   25.00000   19.82350  20.7%     -    0s\n",
      "     0     0   19.88395    0   57   25.00000   19.88395  20.5%     -    0s\n",
      "     0     2   19.88395    0   57   25.00000   19.88395  20.5%     -    0s\n",
      "H 1979   596                      24.0000000   21.22556  11.6%  13.7    0s\n",
      "\n",
      "Explored 16300 nodes (158773 simplex iterations) in 1.48 seconds\n",
      "Thread count was 8 (of 8 available processors)\n",
      "\n",
      "Optimal solution found (tolerance 1.00e-04)\n",
      "Best objective 2.400000000000e+01, best bound 2.400000000000e+01, gap 0.0%\n"
     ]
    }
   ],
   "source": [
    "m.optimize()"
   ]
  },
  {
   "cell_type": "code",
   "execution_count": 11,
   "metadata": {
    "collapsed": false
   },
   "outputs": [
    {
     "name": "stdout",
     "output_type": "stream",
     "text": [
      "Changed value of parameter Presolve to 0\n",
      "   Prev: -1  Min: -1  Max: 2  Default: -1\n"
     ]
    }
   ],
   "source": [
    "m.setParam(\"Presolve\",0)"
   ]
  },
  {
   "cell_type": "code",
   "execution_count": 12,
   "metadata": {
    "collapsed": false
   },
   "outputs": [
    {
     "name": "stdout",
     "output_type": "stream",
     "text": [
      "Optimize a model with 60 rows, 60 columns and 690 nonzeros\n",
      "Coefficient statistics:\n",
      "  Matrix range    [1e+00, 8e+00]\n",
      "  Objective range [1e+00, 1e+00]\n",
      "  Bounds range    [1e+00, 1e+00]\n",
      "  RHS range       [2e+00, 8e+00]\n",
      "Found heuristic solution: objective 30\n",
      "Variable types: 0 continuous, 60 integer (60 binary)\n",
      "\n",
      "Root relaxation: objective 1.943508e+01, 81 iterations, 0.00 seconds\n",
      "\n",
      "    Nodes    |    Current Node    |     Objective Bounds      |     Work\n",
      " Expl Unexpl |  Obj  Depth IntInf | Incumbent    BestBd   Gap | It/Node Time\n",
      "\n",
      "     0     0   19.43508    0   47   30.00000   19.43508  35.2%     -    0s\n",
      "H    0     0                      29.0000000   19.43508  33.0%     -    0s\n",
      "H    0     0                      27.0000000   19.43508  28.0%     -    0s\n",
      "     0     0   19.65007    0   53   27.00000   19.65007  27.2%     -    0s\n",
      "H    0     0                      26.0000000   19.65007  24.4%     -    0s\n",
      "     0     0   19.67566    0   53   26.00000   19.67566  24.3%     -    0s\n",
      "     0     0   19.78081    0   55   26.00000   19.78081  23.9%     -    0s\n",
      "H    0     0                      25.0000000   19.78081  20.9%     -    0s\n",
      "     0     0   19.82350    0   57   25.00000   19.82350  20.7%     -    0s\n",
      "     0     0   19.88395    0   57   25.00000   19.88395  20.5%     -    0s\n",
      "     0     2   19.88395    0   57   25.00000   19.88395  20.5%     -    0s\n",
      "H14597  2736                      24.0000000   22.05964  8.08%   9.8    1s\n",
      "\n",
      "Explored 24585 nodes (224110 simplex iterations) in 1.74 seconds\n",
      "Thread count was 8 (of 8 available processors)\n",
      "\n",
      "Optimal solution found (tolerance 1.00e-04)\n",
      "Best objective 2.400000000000e+01, best bound 2.400000000000e+01, gap 0.0%\n"
     ]
    }
   ],
   "source": [
    "m.optimize()"
   ]
  },
  {
   "cell_type": "code",
   "execution_count": 14,
   "metadata": {
    "collapsed": false
   },
   "outputs": [
    {
     "name": "stdout",
     "output_type": "stream",
     "text": [
      "/Users/sbuciuma/Desktop/School/School_fall_2016/text_mining/Assignment_3&4\r\n"
     ]
    }
   ],
   "source": [
    "!pwd"
   ]
  },
  {
   "cell_type": "code",
   "execution_count": null,
   "metadata": {
    "collapsed": true
   },
   "outputs": [],
   "source": []
  }
 ],
 "metadata": {
  "kernelspec": {
   "display_name": "Python 2",
   "language": "python",
   "name": "python2"
  },
  "language_info": {
   "codemirror_mode": {
    "name": "ipython",
    "version": 2
   },
   "file_extension": ".py",
   "mimetype": "text/x-python",
   "name": "python",
   "nbconvert_exporter": "python",
   "pygments_lexer": "ipython2",
   "version": "2.7.12"
  }
 },
 "nbformat": 4,
 "nbformat_minor": 1
}

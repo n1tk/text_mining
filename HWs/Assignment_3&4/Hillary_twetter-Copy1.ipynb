{
 "cells": [
  {
   "cell_type": "code",
   "execution_count": 1,
   "metadata": {
    "collapsed": false
   },
   "outputs": [
    {
     "name": "stdout",
     "output_type": "stream",
     "text": [
      "[nltk_data] Downloading package stopwords to\n",
      "[nltk_data]     /Users/sbuciuma/nltk_data...\n",
      "[nltk_data]   Package stopwords is already up-to-date!\n"
     ]
    },
    {
     "data": {
      "text/plain": [
       "True"
      ]
     },
     "execution_count": 1,
     "metadata": {},
     "output_type": "execute_result"
    }
   ],
   "source": [
    "%matplotlib inline\n",
    "import matplotlib.pyplot as plt\n",
    "import pandas as pd\n",
    "import csv\n",
    "from datetime import datetime\n",
    "import re\n",
    "from twython import Twython\n",
    "from twython import TwythonStreamer\n",
    "import pandas as pd\n",
    "from collections import Counter\n",
    "from nltk.corpus import stopwords\n",
    "import string\n",
    "import nltk\n",
    "nltk.download(\"stopwords\")"
   ]
  },
  {
   "cell_type": "code",
   "execution_count": 2,
   "metadata": {
    "collapsed": true
   },
   "outputs": [],
   "source": [
    "APP_KEY = \"LUpqT9BUMzTzdDFVYMls5myJe\"\n",
    "APP_SECRET = \"EP31NVKfAg1kWnE3CA0FRRARJMX07irWX9VQUNyUU2pnFPlBeg\"\n",
    "twitter = Twython(APP_KEY, APP_SECRET)"
   ]
  },
  {
   "cell_type": "code",
   "execution_count": 3,
   "metadata": {
    "collapsed": true
   },
   "outputs": [],
   "source": [
    "for i in range(0, 17):\n",
    "    user_timeline = twitter.get_user_timeline(screen_name=\"HillaryClinton\",count=1000, include_rts=False)"
   ]
  },
  {
   "cell_type": "code",
   "execution_count": 4,
   "metadata": {
    "collapsed": true
   },
   "outputs": [],
   "source": [
    "#lis=user_timeline[0]['id']-1 #tweet id # for most recent tweet\n",
    "#only query as deep as necessary\n",
    "#tweetsum= user_timeline[0]['user']['statuses_count']\n",
    "#cycles=ceil(tweetsum / 200)\n",
    "#if cycles>16:\n",
    "    #cycles=16 #API only allows depth of 3200 so no point trying deeper than 200*16\n",
    "#time.sleep(60)\n",
    "#for i in range(0, cycles): ## iterate through all tweets up to max of 3200\n",
    "    #incremental = twitter.get_user_timeline(screen_name=handle,\n",
    "    #count=200, include_retweets=True, max_id=lis)\n",
    "    #user_timeline.extend(incremental)\n",
    "    #lis=user_timeline[-1]['id']-1\n",
    "    #time.sleep(90) ## 90 second rest between api calls. The API allows 15 calls per 15 minutes so this is conservative\n"
   ]
  },
  {
   "cell_type": "code",
   "execution_count": 5,
   "metadata": {
    "collapsed": false
   },
   "outputs": [],
   "source": [
    "for i, val in enumerate(user_timeline):\n",
    "    user_timeline[i]['user_screen_name']=user_timeline[i]['user']['screen_name']\n",
    "    user_timeline[i]['user_followers_count']=user_timeline[i]['user']['followers_count']\n",
    "    user_timeline[i]['user_id']=user_timeline[i]['user']['id']\n",
    "    user_timeline[i]['user_created_at']=user_timeline[i]['user']['created_at']\n",
    "    if 'retweeted_status' in user_timeline[i].keys():\n",
    "        user_timeline[i]['rt_count'] = user_timeline[i]['retweeted_status']['retweet_count']\n",
    "        user_timeline[i]['qt_id'] = user_timeline[i]['retweeted_status']['id']\n",
    "        user_timeline[i]['rt_created'] = user_timeline[i]['retweeted_status']['created_at']\n",
    "        user_timeline[i]['rt_user_screenname'] = user_timeline[i]['retweeted_status']['user']['name']\n",
    "        user_timeline[i]['rt_user_id'] = user_timeline[i]['retweeted_status']['user']['id']\n",
    "        user_timeline[i]['rt_user_followers'] = user_timeline[i]['retweeted_status']['user']['followers_count']\n",
    "        del user_timeline[i]['retweeted_status']\n",
    "    if 'quoted_status' in user_timeline[i].keys():\n",
    "        user_timeline[i]['qt_created'] = user_timeline[i]['quoted_status']['created_at']\n",
    "        user_timeline[i]['qt_id'] = user_timeline[i]['quoted_status']['id']\n",
    "        user_timeline[i]['qt_text'] = user_timeline[i]['quoted_status']['text']\n",
    "        user_timeline[i]['qt_user_screenname'] = user_timeline[i]['quoted_status']['user']['name']\n",
    "        user_timeline[i]['qt_user_id'] = user_timeline[i]['quoted_status']['user']['id']\n",
    "        user_timeline[i]['qt_user_followers'] = user_timeline[i]['quoted_status']['user']['followers_count']\n",
    "        del user_timeline[i]['quoted_status']\n",
    "    if user_timeline[i]['entities']['urls']: #list\n",
    "        for j, val in enumerate(user_timeline[i]['entities']['urls']):\n",
    "            urlj='url_'+str(j)\n",
    "            user_timeline[i][urlj]=user_timeline[i]['entities']['urls'][j]['expanded_url']\n",
    "    if user_timeline[i]['entities']['user_mentions']: #list\n",
    "        for j, val in enumerate(user_timeline[i]['entities']['user_mentions']):\n",
    "            mentionj='mention_'+str(j)\n",
    "            user_timeline[i][mentionj] = user_timeline[i]['entities']['user_mentions'][j]['screen_name']\n",
    "    if user_timeline[i]['entities']['hashtags']: #list\n",
    "        for j, val in enumerate(user_timeline[i]['entities']['hashtags']):\n",
    "            hashtagj='hashtag_'+str(j)\n",
    "            user_timeline[i][hashtagj] = user_timeline[i]['entities']['hashtags'][j]['text']\n",
    "    if user_timeline[i]['coordinates'] is not None:  #NoneType or Dict\n",
    "        user_timeline[i]['coord_long'] = user_timeline[i]['coordinates']['coordinates'][0]\n",
    "        user_timeline[i]['coord_lat'] = user_timeline[i]['coordinates']['coordinates'][1]\n",
    "    del user_timeline[i]['coordinates']\n",
    "    del user_timeline[i]['user']\n",
    "    del user_timeline[i]['entities']\n",
    "    if 'place' in user_timeline[i].keys():  #NoneType or Dict\n",
    "        del user_timeline[i]['place']\n",
    "    if 'extended_entities' in user_timeline[i].keys():\n",
    "        del user_timeline[i]['extended_entities']\n",
    "    if 'geo' in user_timeline[i].keys():\n",
    "        del user_timeline[i]['geo']"
   ]
  },
  {
   "cell_type": "code",
   "execution_count": 10,
   "metadata": {
    "collapsed": false
   },
   "outputs": [
    {
     "name": "stdout",
     "output_type": "stream",
     "text": [
      "2016-09-24 21:57:38\n"
     ]
    }
   ],
   "source": [
    "today = datetime.now().strftime(\"%Y-%m-%d %H:%M:%S\")\n",
    "print(today)"
   ]
  },
  {
   "cell_type": "code",
   "execution_count": 11,
   "metadata": {
    "collapsed": false
   },
   "outputs": [],
   "source": [
    "HillaryClintondf = pd.DataFrame(user_timeline)\n",
    "#print(dftrump) original dataframe "
   ]
  },
  {
   "cell_type": "code",
   "execution_count": 12,
   "metadata": {
    "collapsed": false
   },
   "outputs": [
    {
     "name": "stdout",
     "output_type": "stream",
     "text": [
      "2016-09-24 21:57:39\n"
     ]
    }
   ],
   "source": [
    "today = datetime.now().strftime(\"%Y-%m-%d %H:%M:%S\")\n",
    "print(today)\n",
    "#dfHillaryClinton['test'] = pd.Series([today for x in range(len(dftrump.index))], index=dftrump.index)"
   ]
  },
  {
   "cell_type": "code",
   "execution_count": 13,
   "metadata": {
    "collapsed": false
   },
   "outputs": [],
   "source": [
    "#initial creation of dataframe\n",
    "#trumpdf = pd.DataFrame(user_timeline)\n",
    "#convert created date in datetime format\n",
    "HillaryClintondf['created_at'] = pd.to_datetime(HillaryClintondf['created_at'])"
   ]
  },
  {
   "cell_type": "code",
   "execution_count": 14,
   "metadata": {
    "collapsed": false
   },
   "outputs": [
    {
     "data": {
      "text/html": [
       "<div>\n",
       "<table border=\"1\" class=\"dataframe\">\n",
       "  <thead>\n",
       "    <tr style=\"text-align: right;\">\n",
       "      <th></th>\n",
       "      <th>contributors</th>\n",
       "      <th>created_at</th>\n",
       "      <th>favorite_count</th>\n",
       "      <th>favorited</th>\n",
       "      <th>hashtag_0</th>\n",
       "      <th>id</th>\n",
       "      <th>id_str</th>\n",
       "      <th>in_reply_to_screen_name</th>\n",
       "      <th>in_reply_to_status_id</th>\n",
       "      <th>in_reply_to_status_id_str</th>\n",
       "      <th>...</th>\n",
       "      <th>retweeted</th>\n",
       "      <th>source</th>\n",
       "      <th>text</th>\n",
       "      <th>truncated</th>\n",
       "      <th>url_0</th>\n",
       "      <th>url_1</th>\n",
       "      <th>user_created_at</th>\n",
       "      <th>user_followers_count</th>\n",
       "      <th>user_id</th>\n",
       "      <th>user_screen_name</th>\n",
       "    </tr>\n",
       "  </thead>\n",
       "  <tbody>\n",
       "    <tr>\n",
       "      <th>0</th>\n",
       "      <td>None</td>\n",
       "      <td>2016-09-24 23:49:22</td>\n",
       "      <td>4602</td>\n",
       "      <td>False</td>\n",
       "      <td>NaN</td>\n",
       "      <td>779830115643617280</td>\n",
       "      <td>779830115643617280</td>\n",
       "      <td>None</td>\n",
       "      <td>NaN</td>\n",
       "      <td>None</td>\n",
       "      <td>...</td>\n",
       "      <td>False</td>\n",
       "      <td>&lt;a href=\"https://about.twitter.com/products/tw...</td>\n",
       "      <td>The new @NMAAHC is an overdue tribute to Afric...</td>\n",
       "      <td>False</td>\n",
       "      <td>NaN</td>\n",
       "      <td>NaN</td>\n",
       "      <td>Tue Apr 09 18:04:35 +0000 2013</td>\n",
       "      <td>8951480</td>\n",
       "      <td>1339835893</td>\n",
       "      <td>HillaryClinton</td>\n",
       "    </tr>\n",
       "    <tr>\n",
       "      <th>1</th>\n",
       "      <td>None</td>\n",
       "      <td>2016-09-24 22:58:12</td>\n",
       "      <td>3031</td>\n",
       "      <td>False</td>\n",
       "      <td>NaN</td>\n",
       "      <td>779817238346002432</td>\n",
       "      <td>779817238346002432</td>\n",
       "      <td>None</td>\n",
       "      <td>NaN</td>\n",
       "      <td>None</td>\n",
       "      <td>...</td>\n",
       "      <td>False</td>\n",
       "      <td>&lt;a href=\"https://about.twitter.com/products/tw...</td>\n",
       "      <td>\"Our choice, Hillary Clinton, has a record of ...</td>\n",
       "      <td>True</td>\n",
       "      <td>https://twitter.com/i/web/status/7798172383460...</td>\n",
       "      <td>NaN</td>\n",
       "      <td>Tue Apr 09 18:04:35 +0000 2013</td>\n",
       "      <td>8951480</td>\n",
       "      <td>1339835893</td>\n",
       "      <td>HillaryClinton</td>\n",
       "    </tr>\n",
       "    <tr>\n",
       "      <th>2</th>\n",
       "      <td>None</td>\n",
       "      <td>2016-09-24 21:55:59</td>\n",
       "      <td>5303</td>\n",
       "      <td>False</td>\n",
       "      <td>NaN</td>\n",
       "      <td>779801578723217408</td>\n",
       "      <td>779801578723217408</td>\n",
       "      <td>None</td>\n",
       "      <td>NaN</td>\n",
       "      <td>None</td>\n",
       "      <td>...</td>\n",
       "      <td>False</td>\n",
       "      <td>&lt;a href=\"https://about.twitter.com/products/tw...</td>\n",
       "      <td>\"I thought, this woman—I want to ride with her...</td>\n",
       "      <td>False</td>\n",
       "      <td>NaN</td>\n",
       "      <td>NaN</td>\n",
       "      <td>Tue Apr 09 18:04:35 +0000 2013</td>\n",
       "      <td>8951480</td>\n",
       "      <td>1339835893</td>\n",
       "      <td>HillaryClinton</td>\n",
       "    </tr>\n",
       "    <tr>\n",
       "      <th>3</th>\n",
       "      <td>None</td>\n",
       "      <td>2016-09-24 21:05:47</td>\n",
       "      <td>4882</td>\n",
       "      <td>False</td>\n",
       "      <td>NaN</td>\n",
       "      <td>779788945953591296</td>\n",
       "      <td>779788945953591296</td>\n",
       "      <td>None</td>\n",
       "      <td>NaN</td>\n",
       "      <td>None</td>\n",
       "      <td>...</td>\n",
       "      <td>False</td>\n",
       "      <td>&lt;a href=\"https://about.twitter.com/products/tw...</td>\n",
       "      <td>Hillary's been fighting for women and girls he...</td>\n",
       "      <td>False</td>\n",
       "      <td>http://hrc.io/2d9vSky</td>\n",
       "      <td>NaN</td>\n",
       "      <td>Tue Apr 09 18:04:35 +0000 2013</td>\n",
       "      <td>8951480</td>\n",
       "      <td>1339835893</td>\n",
       "      <td>HillaryClinton</td>\n",
       "    </tr>\n",
       "    <tr>\n",
       "      <th>4</th>\n",
       "      <td>None</td>\n",
       "      <td>2016-09-24 19:41:25</td>\n",
       "      <td>5632</td>\n",
       "      <td>False</td>\n",
       "      <td>NaN</td>\n",
       "      <td>779767715040989184</td>\n",
       "      <td>779767715040989184</td>\n",
       "      <td>None</td>\n",
       "      <td>NaN</td>\n",
       "      <td>None</td>\n",
       "      <td>...</td>\n",
       "      <td>False</td>\n",
       "      <td>&lt;a href=\"https://about.twitter.com/products/tw...</td>\n",
       "      <td>\"A lifetime’s commitment to solving problems i...</td>\n",
       "      <td>False</td>\n",
       "      <td>http://nyti.ms/2cVyJ2o</td>\n",
       "      <td>NaN</td>\n",
       "      <td>Tue Apr 09 18:04:35 +0000 2013</td>\n",
       "      <td>8951480</td>\n",
       "      <td>1339835893</td>\n",
       "      <td>HillaryClinton</td>\n",
       "    </tr>\n",
       "  </tbody>\n",
       "</table>\n",
       "<p>5 rows × 35 columns</p>\n",
       "</div>"
      ],
      "text/plain": [
       "  contributors          created_at  favorite_count favorited hashtag_0  \\\n",
       "0         None 2016-09-24 23:49:22            4602     False       NaN   \n",
       "1         None 2016-09-24 22:58:12            3031     False       NaN   \n",
       "2         None 2016-09-24 21:55:59            5303     False       NaN   \n",
       "3         None 2016-09-24 21:05:47            4882     False       NaN   \n",
       "4         None 2016-09-24 19:41:25            5632     False       NaN   \n",
       "\n",
       "                   id              id_str in_reply_to_screen_name  \\\n",
       "0  779830115643617280  779830115643617280                    None   \n",
       "1  779817238346002432  779817238346002432                    None   \n",
       "2  779801578723217408  779801578723217408                    None   \n",
       "3  779788945953591296  779788945953591296                    None   \n",
       "4  779767715040989184  779767715040989184                    None   \n",
       "\n",
       "   in_reply_to_status_id in_reply_to_status_id_str        ...         \\\n",
       "0                    NaN                      None        ...          \n",
       "1                    NaN                      None        ...          \n",
       "2                    NaN                      None        ...          \n",
       "3                    NaN                      None        ...          \n",
       "4                    NaN                      None        ...          \n",
       "\n",
       "   retweeted                                             source  \\\n",
       "0      False  <a href=\"https://about.twitter.com/products/tw...   \n",
       "1      False  <a href=\"https://about.twitter.com/products/tw...   \n",
       "2      False  <a href=\"https://about.twitter.com/products/tw...   \n",
       "3      False  <a href=\"https://about.twitter.com/products/tw...   \n",
       "4      False  <a href=\"https://about.twitter.com/products/tw...   \n",
       "\n",
       "                                                text truncated  \\\n",
       "0  The new @NMAAHC is an overdue tribute to Afric...     False   \n",
       "1  \"Our choice, Hillary Clinton, has a record of ...      True   \n",
       "2  \"I thought, this woman—I want to ride with her...     False   \n",
       "3  Hillary's been fighting for women and girls he...     False   \n",
       "4  \"A lifetime’s commitment to solving problems i...     False   \n",
       "\n",
       "                                               url_0 url_1  \\\n",
       "0                                                NaN   NaN   \n",
       "1  https://twitter.com/i/web/status/7798172383460...   NaN   \n",
       "2                                                NaN   NaN   \n",
       "3                              http://hrc.io/2d9vSky   NaN   \n",
       "4                             http://nyti.ms/2cVyJ2o   NaN   \n",
       "\n",
       "                  user_created_at  user_followers_count     user_id  \\\n",
       "0  Tue Apr 09 18:04:35 +0000 2013               8951480  1339835893   \n",
       "1  Tue Apr 09 18:04:35 +0000 2013               8951480  1339835893   \n",
       "2  Tue Apr 09 18:04:35 +0000 2013               8951480  1339835893   \n",
       "3  Tue Apr 09 18:04:35 +0000 2013               8951480  1339835893   \n",
       "4  Tue Apr 09 18:04:35 +0000 2013               8951480  1339835893   \n",
       "\n",
       "   user_screen_name  \n",
       "0    HillaryClinton  \n",
       "1    HillaryClinton  \n",
       "2    HillaryClinton  \n",
       "3    HillaryClinton  \n",
       "4    HillaryClinton  \n",
       "\n",
       "[5 rows x 35 columns]"
      ]
     },
     "execution_count": 14,
     "metadata": {},
     "output_type": "execute_result"
    }
   ],
   "source": [
    "HillaryClintondf.head()"
   ]
  },
  {
   "cell_type": "code",
   "execution_count": 15,
   "metadata": {
    "collapsed": false
   },
   "outputs": [
    {
     "data": {
      "text/plain": [
       "['contributors',\n",
       " 'created_at',\n",
       " 'favorite_count',\n",
       " 'favorited',\n",
       " 'hashtag_0',\n",
       " 'id',\n",
       " 'id_str',\n",
       " 'in_reply_to_screen_name',\n",
       " 'in_reply_to_status_id',\n",
       " 'in_reply_to_status_id_str',\n",
       " 'in_reply_to_user_id',\n",
       " 'in_reply_to_user_id_str',\n",
       " 'is_quote_status',\n",
       " 'lang',\n",
       " 'mention_0',\n",
       " 'possibly_sensitive',\n",
       " 'qt_created',\n",
       " 'qt_id',\n",
       " 'qt_text',\n",
       " 'qt_user_followers',\n",
       " 'qt_user_id',\n",
       " 'qt_user_screenname',\n",
       " 'quoted_status_id',\n",
       " 'quoted_status_id_str',\n",
       " 'retweet_count',\n",
       " 'retweeted',\n",
       " 'source',\n",
       " 'text',\n",
       " 'truncated',\n",
       " 'url_0',\n",
       " 'url_1',\n",
       " 'user_created_at',\n",
       " 'user_followers_count',\n",
       " 'user_id',\n",
       " 'user_screen_name']"
      ]
     },
     "execution_count": 15,
     "metadata": {},
     "output_type": "execute_result"
    }
   ],
   "source": [
    "list(HillaryClintondf.columns.values)"
   ]
  },
  {
   "cell_type": "code",
   "execution_count": 16,
   "metadata": {
    "collapsed": false
   },
   "outputs": [
    {
     "data": {
      "text/plain": [
       "(166, 35)"
      ]
     },
     "execution_count": 16,
     "metadata": {},
     "output_type": "execute_result"
    }
   ],
   "source": [
    "#get structure of dataframe: row & col\n",
    "\n",
    "HillaryClintondf.shape"
   ]
  },
  {
   "cell_type": "code",
   "execution_count": 17,
   "metadata": {
    "collapsed": false
   },
   "outputs": [],
   "source": [
    "for i in range(0, 7):\n",
    "    temp_timeline = twitter.get_user_timeline(screen_name=\"HillaryClinton\",count=1000, include_rts=False)"
   ]
  },
  {
   "cell_type": "code",
   "execution_count": 18,
   "metadata": {
    "collapsed": true
   },
   "outputs": [],
   "source": [
    "for i, val in enumerate(temp_timeline):\n",
    "    temp_timeline[i]['current_time'] = datetime.now().strftime(\"%Y-%m-%d %H:%M:%S\")\n",
    "    temp_timeline[i]['user_screen_name']=temp_timeline[i]['user']['screen_name']\n",
    "    temp_timeline[i]['user_followers_count']=temp_timeline[i]['user']['followers_count']\n",
    "    if 'retweeted_status' in temp_timeline[i].keys():\n",
    "        temp_timeline[i]['rt_count'] = temp_timeline[i]['retweeted_status']['retweet_count']\n",
    "        temp_timeline[i]['rt_created'] = temp_timeline[i]['retweeted_status']['created_at']\n",
    "        temp_timeline[i]['rt_user_id'] = temp_timeline[i]['retweeted_status']['user']['id']\n",
    "        temp_timeline[i]['rt_user_followers'] = temp_timeline[i]['retweeted_status']['user']['followers_count']\n",
    "        del temp_timeline[i]['retweeted_status']     "
   ]
  },
  {
   "cell_type": "code",
   "execution_count": 19,
   "metadata": {
    "collapsed": false
   },
   "outputs": [],
   "source": [
    "df3 = pd.DataFrame(temp_timeline)\n",
    "df3['created_at'] = pd.to_datetime(df3['created_at'])"
   ]
  },
  {
   "cell_type": "code",
   "execution_count": 20,
   "metadata": {
    "collapsed": false
   },
   "outputs": [
    {
     "data": {
      "text/plain": [
       "(166, 31)"
      ]
     },
     "execution_count": 20,
     "metadata": {},
     "output_type": "execute_result"
    }
   ],
   "source": [
    "df3.shape"
   ]
  },
  {
   "cell_type": "code",
   "execution_count": 21,
   "metadata": {
    "collapsed": false
   },
   "outputs": [
    {
     "data": {
      "text/html": [
       "<div>\n",
       "<table border=\"1\" class=\"dataframe\">\n",
       "  <thead>\n",
       "    <tr style=\"text-align: right;\">\n",
       "      <th></th>\n",
       "      <th>contributors</th>\n",
       "      <th>coordinates</th>\n",
       "      <th>created_at</th>\n",
       "      <th>current_time</th>\n",
       "      <th>entities</th>\n",
       "      <th>extended_entities</th>\n",
       "      <th>favorite_count</th>\n",
       "      <th>favorited</th>\n",
       "      <th>geo</th>\n",
       "      <th>id</th>\n",
       "      <th>...</th>\n",
       "      <th>quoted_status_id</th>\n",
       "      <th>quoted_status_id_str</th>\n",
       "      <th>retweet_count</th>\n",
       "      <th>retweeted</th>\n",
       "      <th>source</th>\n",
       "      <th>text</th>\n",
       "      <th>truncated</th>\n",
       "      <th>user</th>\n",
       "      <th>user_followers_count</th>\n",
       "      <th>user_screen_name</th>\n",
       "    </tr>\n",
       "  </thead>\n",
       "  <tbody>\n",
       "    <tr>\n",
       "      <th>0</th>\n",
       "      <td>None</td>\n",
       "      <td>None</td>\n",
       "      <td>2016-09-24 23:49:22</td>\n",
       "      <td>2016-09-24 21:57:53</td>\n",
       "      <td>{'hashtags': [], 'user_mentions': [{'name': 'S...</td>\n",
       "      <td>NaN</td>\n",
       "      <td>4647</td>\n",
       "      <td>False</td>\n",
       "      <td>None</td>\n",
       "      <td>779830115643617280</td>\n",
       "      <td>...</td>\n",
       "      <td>NaN</td>\n",
       "      <td>NaN</td>\n",
       "      <td>1398</td>\n",
       "      <td>False</td>\n",
       "      <td>&lt;a href=\"https://about.twitter.com/products/tw...</td>\n",
       "      <td>The new @NMAAHC is an overdue tribute to Afric...</td>\n",
       "      <td>False</td>\n",
       "      <td>{'is_translator': False, 'profile_background_i...</td>\n",
       "      <td>8951497</td>\n",
       "      <td>HillaryClinton</td>\n",
       "    </tr>\n",
       "    <tr>\n",
       "      <th>1</th>\n",
       "      <td>None</td>\n",
       "      <td>None</td>\n",
       "      <td>2016-09-24 22:58:12</td>\n",
       "      <td>2016-09-24 21:57:53</td>\n",
       "      <td>{'hashtags': [], 'user_mentions': [{'name': 'T...</td>\n",
       "      <td>NaN</td>\n",
       "      <td>3049</td>\n",
       "      <td>False</td>\n",
       "      <td>None</td>\n",
       "      <td>779817238346002432</td>\n",
       "      <td>...</td>\n",
       "      <td>NaN</td>\n",
       "      <td>NaN</td>\n",
       "      <td>1160</td>\n",
       "      <td>False</td>\n",
       "      <td>&lt;a href=\"https://about.twitter.com/products/tw...</td>\n",
       "      <td>\"Our choice, Hillary Clinton, has a record of ...</td>\n",
       "      <td>True</td>\n",
       "      <td>{'is_translator': False, 'profile_background_i...</td>\n",
       "      <td>8951497</td>\n",
       "      <td>HillaryClinton</td>\n",
       "    </tr>\n",
       "    <tr>\n",
       "      <th>2</th>\n",
       "      <td>None</td>\n",
       "      <td>None</td>\n",
       "      <td>2016-09-24 21:55:59</td>\n",
       "      <td>2016-09-24 21:57:53</td>\n",
       "      <td>{'media': [{'source_status_id': 77936203983988...</td>\n",
       "      <td>{'media': [{'source_status_id': 77936203983988...</td>\n",
       "      <td>5322</td>\n",
       "      <td>False</td>\n",
       "      <td>None</td>\n",
       "      <td>779801578723217408</td>\n",
       "      <td>...</td>\n",
       "      <td>NaN</td>\n",
       "      <td>NaN</td>\n",
       "      <td>2238</td>\n",
       "      <td>False</td>\n",
       "      <td>&lt;a href=\"https://about.twitter.com/products/tw...</td>\n",
       "      <td>\"I thought, this woman—I want to ride with her...</td>\n",
       "      <td>False</td>\n",
       "      <td>{'is_translator': False, 'profile_background_i...</td>\n",
       "      <td>8951497</td>\n",
       "      <td>HillaryClinton</td>\n",
       "    </tr>\n",
       "    <tr>\n",
       "      <th>3</th>\n",
       "      <td>None</td>\n",
       "      <td>None</td>\n",
       "      <td>2016-09-24 21:05:47</td>\n",
       "      <td>2016-09-24 21:57:53</td>\n",
       "      <td>{'hashtags': [], 'user_mentions': [], 'symbols...</td>\n",
       "      <td>NaN</td>\n",
       "      <td>4893</td>\n",
       "      <td>False</td>\n",
       "      <td>None</td>\n",
       "      <td>779788945953591296</td>\n",
       "      <td>...</td>\n",
       "      <td>NaN</td>\n",
       "      <td>NaN</td>\n",
       "      <td>1952</td>\n",
       "      <td>False</td>\n",
       "      <td>&lt;a href=\"https://about.twitter.com/products/tw...</td>\n",
       "      <td>Hillary's been fighting for women and girls he...</td>\n",
       "      <td>False</td>\n",
       "      <td>{'is_translator': False, 'profile_background_i...</td>\n",
       "      <td>8951497</td>\n",
       "      <td>HillaryClinton</td>\n",
       "    </tr>\n",
       "    <tr>\n",
       "      <th>4</th>\n",
       "      <td>None</td>\n",
       "      <td>None</td>\n",
       "      <td>2016-09-24 19:41:25</td>\n",
       "      <td>2016-09-24 21:57:53</td>\n",
       "      <td>{'hashtags': [], 'user_mentions': [{'name': 'T...</td>\n",
       "      <td>NaN</td>\n",
       "      <td>5646</td>\n",
       "      <td>False</td>\n",
       "      <td>None</td>\n",
       "      <td>779767715040989184</td>\n",
       "      <td>...</td>\n",
       "      <td>NaN</td>\n",
       "      <td>NaN</td>\n",
       "      <td>2409</td>\n",
       "      <td>False</td>\n",
       "      <td>&lt;a href=\"https://about.twitter.com/products/tw...</td>\n",
       "      <td>\"A lifetime’s commitment to solving problems i...</td>\n",
       "      <td>False</td>\n",
       "      <td>{'is_translator': False, 'profile_background_i...</td>\n",
       "      <td>8951497</td>\n",
       "      <td>HillaryClinton</td>\n",
       "    </tr>\n",
       "  </tbody>\n",
       "</table>\n",
       "<p>5 rows × 31 columns</p>\n",
       "</div>"
      ],
      "text/plain": [
       "  contributors coordinates          created_at         current_time  \\\n",
       "0         None        None 2016-09-24 23:49:22  2016-09-24 21:57:53   \n",
       "1         None        None 2016-09-24 22:58:12  2016-09-24 21:57:53   \n",
       "2         None        None 2016-09-24 21:55:59  2016-09-24 21:57:53   \n",
       "3         None        None 2016-09-24 21:05:47  2016-09-24 21:57:53   \n",
       "4         None        None 2016-09-24 19:41:25  2016-09-24 21:57:53   \n",
       "\n",
       "                                            entities  \\\n",
       "0  {'hashtags': [], 'user_mentions': [{'name': 'S...   \n",
       "1  {'hashtags': [], 'user_mentions': [{'name': 'T...   \n",
       "2  {'media': [{'source_status_id': 77936203983988...   \n",
       "3  {'hashtags': [], 'user_mentions': [], 'symbols...   \n",
       "4  {'hashtags': [], 'user_mentions': [{'name': 'T...   \n",
       "\n",
       "                                   extended_entities  favorite_count  \\\n",
       "0                                                NaN            4647   \n",
       "1                                                NaN            3049   \n",
       "2  {'media': [{'source_status_id': 77936203983988...            5322   \n",
       "3                                                NaN            4893   \n",
       "4                                                NaN            5646   \n",
       "\n",
       "  favorited   geo                  id       ...        quoted_status_id  \\\n",
       "0     False  None  779830115643617280       ...                     NaN   \n",
       "1     False  None  779817238346002432       ...                     NaN   \n",
       "2     False  None  779801578723217408       ...                     NaN   \n",
       "3     False  None  779788945953591296       ...                     NaN   \n",
       "4     False  None  779767715040989184       ...                     NaN   \n",
       "\n",
       "  quoted_status_id_str  retweet_count retweeted  \\\n",
       "0                  NaN           1398     False   \n",
       "1                  NaN           1160     False   \n",
       "2                  NaN           2238     False   \n",
       "3                  NaN           1952     False   \n",
       "4                  NaN           2409     False   \n",
       "\n",
       "                                              source  \\\n",
       "0  <a href=\"https://about.twitter.com/products/tw...   \n",
       "1  <a href=\"https://about.twitter.com/products/tw...   \n",
       "2  <a href=\"https://about.twitter.com/products/tw...   \n",
       "3  <a href=\"https://about.twitter.com/products/tw...   \n",
       "4  <a href=\"https://about.twitter.com/products/tw...   \n",
       "\n",
       "                                                text truncated  \\\n",
       "0  The new @NMAAHC is an overdue tribute to Afric...     False   \n",
       "1  \"Our choice, Hillary Clinton, has a record of ...      True   \n",
       "2  \"I thought, this woman—I want to ride with her...     False   \n",
       "3  Hillary's been fighting for women and girls he...     False   \n",
       "4  \"A lifetime’s commitment to solving problems i...     False   \n",
       "\n",
       "                                                user user_followers_count  \\\n",
       "0  {'is_translator': False, 'profile_background_i...              8951497   \n",
       "1  {'is_translator': False, 'profile_background_i...              8951497   \n",
       "2  {'is_translator': False, 'profile_background_i...              8951497   \n",
       "3  {'is_translator': False, 'profile_background_i...              8951497   \n",
       "4  {'is_translator': False, 'profile_background_i...              8951497   \n",
       "\n",
       "  user_screen_name  \n",
       "0   HillaryClinton  \n",
       "1   HillaryClinton  \n",
       "2   HillaryClinton  \n",
       "3   HillaryClinton  \n",
       "4   HillaryClinton  \n",
       "\n",
       "[5 rows x 31 columns]"
      ]
     },
     "execution_count": 21,
     "metadata": {},
     "output_type": "execute_result"
    }
   ],
   "source": [
    "df3.head()"
   ]
  },
  {
   "cell_type": "code",
   "execution_count": 22,
   "metadata": {
    "collapsed": false
   },
   "outputs": [
    {
     "data": {
      "text/plain": [
       "['contributors',\n",
       " 'coordinates',\n",
       " 'created_at',\n",
       " 'current_time',\n",
       " 'entities',\n",
       " 'extended_entities',\n",
       " 'favorite_count',\n",
       " 'favorited',\n",
       " 'geo',\n",
       " 'id',\n",
       " 'id_str',\n",
       " 'in_reply_to_screen_name',\n",
       " 'in_reply_to_status_id',\n",
       " 'in_reply_to_status_id_str',\n",
       " 'in_reply_to_user_id',\n",
       " 'in_reply_to_user_id_str',\n",
       " 'is_quote_status',\n",
       " 'lang',\n",
       " 'place',\n",
       " 'possibly_sensitive',\n",
       " 'quoted_status',\n",
       " 'quoted_status_id',\n",
       " 'quoted_status_id_str',\n",
       " 'retweet_count',\n",
       " 'retweeted',\n",
       " 'source',\n",
       " 'text',\n",
       " 'truncated',\n",
       " 'user',\n",
       " 'user_followers_count',\n",
       " 'user_screen_name']"
      ]
     },
     "execution_count": 22,
     "metadata": {},
     "output_type": "execute_result"
    }
   ],
   "source": [
    "list(df3.columns.values)"
   ]
  },
  {
   "cell_type": "code",
   "execution_count": 24,
   "metadata": {
    "collapsed": false
   },
   "outputs": [],
   "source": [
    "#create create dataframe with the required fields for analysis.\n",
    "#trumpdf is the primary/original tweeter request, we create the df1\n",
    "df1 = HillaryClintondf[['created_at','favorite_count','id', 'lang', 'retweet_count', 'user_followers_count','user_screen_name', 'text']]"
   ]
  },
  {
   "cell_type": "code",
   "execution_count": 25,
   "metadata": {
    "collapsed": false
   },
   "outputs": [
    {
     "data": {
      "text/plain": [
       "(166, 8)"
      ]
     },
     "execution_count": 25,
     "metadata": {},
     "output_type": "execute_result"
    }
   ],
   "source": [
    "df1.shape"
   ]
  },
  {
   "cell_type": "code",
   "execution_count": 26,
   "metadata": {
    "collapsed": false
   },
   "outputs": [
    {
     "data": {
      "text/plain": [
       "['created_at',\n",
       " 'favorite_count',\n",
       " 'id',\n",
       " 'lang',\n",
       " 'retweet_count',\n",
       " 'user_followers_count',\n",
       " 'user_screen_name',\n",
       " 'text']"
      ]
     },
     "execution_count": 26,
     "metadata": {},
     "output_type": "execute_result"
    }
   ],
   "source": [
    "#get the index/column list \n",
    "list(df1.columns.values)"
   ]
  },
  {
   "cell_type": "code",
   "execution_count": 27,
   "metadata": {
    "collapsed": false
   },
   "outputs": [],
   "source": [
    "#create second dataframe witht he required fields for join and create the realDonaldTrump, here is the df3 \n",
    "#so we create df2\n",
    "\n",
    "df2 = df3[['current_time','favorite_count','id', 'retweet_count', 'user_followers_count','user_screen_name']]"
   ]
  },
  {
   "cell_type": "code",
   "execution_count": 28,
   "metadata": {
    "collapsed": false
   },
   "outputs": [
    {
     "data": {
      "text/plain": [
       "['current_time',\n",
       " 'favorite_count',\n",
       " 'id',\n",
       " 'retweet_count',\n",
       " 'user_followers_count',\n",
       " 'user_screen_name']"
      ]
     },
     "execution_count": 28,
     "metadata": {},
     "output_type": "execute_result"
    }
   ],
   "source": [
    "list(df2.columns.values)"
   ]
  },
  {
   "cell_type": "code",
   "execution_count": 29,
   "metadata": {
    "collapsed": false
   },
   "outputs": [
    {
     "data": {
      "text/plain": [
       "(166, 6)"
      ]
     },
     "execution_count": 29,
     "metadata": {},
     "output_type": "execute_result"
    }
   ],
   "source": [
    "df2.shape"
   ]
  },
  {
   "cell_type": "code",
   "execution_count": 30,
   "metadata": {
    "collapsed": false
   },
   "outputs": [],
   "source": [
    "realHillaryClinton = pd.merge(df1, df2, how='inner', on=['id', 'user_screen_name'], left_index=True, sort=True, copy=True, )"
   ]
  },
  {
   "cell_type": "code",
   "execution_count": 32,
   "metadata": {
    "collapsed": true
   },
   "outputs": [],
   "source": [
    "#create final dataframe with required fields for analysis. using inner join in order to find the one already in the dataframe.\n",
    "#realHillaryClinton = pd.merge(df1, df2, how='inner', on=['key1', 'key2'])"
   ]
  },
  {
   "cell_type": "code",
   "execution_count": 33,
   "metadata": {
    "collapsed": false
   },
   "outputs": [
    {
     "data": {
      "text/html": [
       "<div>\n",
       "<table border=\"1\" class=\"dataframe\">\n",
       "  <thead>\n",
       "    <tr style=\"text-align: right;\">\n",
       "      <th></th>\n",
       "      <th>created_at</th>\n",
       "      <th>favorite_count_x</th>\n",
       "      <th>id</th>\n",
       "      <th>lang</th>\n",
       "      <th>retweet_count_x</th>\n",
       "      <th>user_followers_count_x</th>\n",
       "      <th>user_screen_name</th>\n",
       "      <th>text</th>\n",
       "      <th>current_time</th>\n",
       "      <th>favorite_count_y</th>\n",
       "      <th>retweet_count_y</th>\n",
       "      <th>user_followers_count_y</th>\n",
       "    </tr>\n",
       "  </thead>\n",
       "  <tbody>\n",
       "    <tr>\n",
       "      <th>165</th>\n",
       "      <td>2016-09-16 13:58:03</td>\n",
       "      <td>1920</td>\n",
       "      <td>776782199832113152</td>\n",
       "      <td>en</td>\n",
       "      <td>991</td>\n",
       "      <td>8951480</td>\n",
       "      <td>HillaryClinton</td>\n",
       "      <td>\"We know who Donald is. For five years, he has...</td>\n",
       "      <td>2016-09-24 21:57:53</td>\n",
       "      <td>1920</td>\n",
       "      <td>991</td>\n",
       "      <td>8951497</td>\n",
       "    </tr>\n",
       "    <tr>\n",
       "      <th>164</th>\n",
       "      <td>2016-09-16 13:58:45</td>\n",
       "      <td>1890</td>\n",
       "      <td>776782378375208960</td>\n",
       "      <td>en</td>\n",
       "      <td>630</td>\n",
       "      <td>8951480</td>\n",
       "      <td>HillaryClinton</td>\n",
       "      <td>Just yesterday, Trump again refused to say wit...</td>\n",
       "      <td>2016-09-24 21:57:53</td>\n",
       "      <td>1890</td>\n",
       "      <td>630</td>\n",
       "      <td>8951497</td>\n",
       "    </tr>\n",
       "    <tr>\n",
       "      <th>163</th>\n",
       "      <td>2016-09-16 13:59:10</td>\n",
       "      <td>2812</td>\n",
       "      <td>776782482352009216</td>\n",
       "      <td>en</td>\n",
       "      <td>1390</td>\n",
       "      <td>8951480</td>\n",
       "      <td>HillaryClinton</td>\n",
       "      <td>Barack Obama was born in America, plain and si...</td>\n",
       "      <td>2016-09-24 21:57:53</td>\n",
       "      <td>2812</td>\n",
       "      <td>1390</td>\n",
       "      <td>8951497</td>\n",
       "    </tr>\n",
       "    <tr>\n",
       "      <th>162</th>\n",
       "      <td>2016-09-16 14:00:39</td>\n",
       "      <td>2383</td>\n",
       "      <td>776782857993916416</td>\n",
       "      <td>en</td>\n",
       "      <td>1213</td>\n",
       "      <td>8951480</td>\n",
       "      <td>HillaryClinton</td>\n",
       "      <td>Donald Trump is unfit to be president.\\nWe jus...</td>\n",
       "      <td>2016-09-24 21:57:53</td>\n",
       "      <td>2383</td>\n",
       "      <td>1213</td>\n",
       "      <td>8951497</td>\n",
       "    </tr>\n",
       "    <tr>\n",
       "      <th>161</th>\n",
       "      <td>2016-09-16 14:01:46</td>\n",
       "      <td>1700</td>\n",
       "      <td>776783135447089152</td>\n",
       "      <td>en</td>\n",
       "      <td>840</td>\n",
       "      <td>8951480</td>\n",
       "      <td>HillaryClinton</td>\n",
       "      <td>\"Donald Trump looks at a distinguished judge b...</td>\n",
       "      <td>2016-09-24 21:57:53</td>\n",
       "      <td>1700</td>\n",
       "      <td>840</td>\n",
       "      <td>8951497</td>\n",
       "    </tr>\n",
       "  </tbody>\n",
       "</table>\n",
       "</div>"
      ],
      "text/plain": [
       "             created_at  favorite_count_x                  id lang  \\\n",
       "165 2016-09-16 13:58:03              1920  776782199832113152   en   \n",
       "164 2016-09-16 13:58:45              1890  776782378375208960   en   \n",
       "163 2016-09-16 13:59:10              2812  776782482352009216   en   \n",
       "162 2016-09-16 14:00:39              2383  776782857993916416   en   \n",
       "161 2016-09-16 14:01:46              1700  776783135447089152   en   \n",
       "\n",
       "     retweet_count_x  user_followers_count_x user_screen_name  \\\n",
       "165              991                 8951480   HillaryClinton   \n",
       "164              630                 8951480   HillaryClinton   \n",
       "163             1390                 8951480   HillaryClinton   \n",
       "162             1213                 8951480   HillaryClinton   \n",
       "161              840                 8951480   HillaryClinton   \n",
       "\n",
       "                                                  text         current_time  \\\n",
       "165  \"We know who Donald is. For five years, he has...  2016-09-24 21:57:53   \n",
       "164  Just yesterday, Trump again refused to say wit...  2016-09-24 21:57:53   \n",
       "163  Barack Obama was born in America, plain and si...  2016-09-24 21:57:53   \n",
       "162  Donald Trump is unfit to be president.\\nWe jus...  2016-09-24 21:57:53   \n",
       "161  \"Donald Trump looks at a distinguished judge b...  2016-09-24 21:57:53   \n",
       "\n",
       "     favorite_count_y  retweet_count_y  user_followers_count_y  \n",
       "165              1920              991                 8951497  \n",
       "164              1890              630                 8951497  \n",
       "163              2812             1390                 8951497  \n",
       "162              2383             1213                 8951497  \n",
       "161              1700              840                 8951497  "
      ]
     },
     "execution_count": 33,
     "metadata": {},
     "output_type": "execute_result"
    }
   ],
   "source": [
    "realHillaryClinton.head()"
   ]
  },
  {
   "cell_type": "code",
   "execution_count": 34,
   "metadata": {
    "collapsed": false
   },
   "outputs": [
    {
     "name": "stdout",
     "output_type": "stream",
     "text": [
      "                                                  text\n",
      "165  \"We know who Donald is. For five years, he has...\n",
      "164  Just yesterday, Trump again refused to say wit...\n",
      "163  Barack Obama was born in America, plain and si...\n",
      "162  Donald Trump is unfit to be president.\\nWe jus...\n",
      "161  \"Donald Trump looks at a distinguished judge b...\n",
      "160  \"He looks at a Gold Star family and sees them ...\n",
      "159  Donald Trump looks at women and decides how th...\n",
      "158  “Let’s reject the cynicism, the bullying, and ...\n",
      "157  Let’s build a future where love trumps hate. h...\n",
      "156                 What Trump just did is a disgrace.\n",
      "155  Expressing zero regret for years of pushing a ...\n",
      "154  Leading the birther movement is deplorable. At...\n",
      "153  When Trump tries to deflect blame for denying ...\n",
      "152  Again, Trump turns his faults on others. Psych...\n",
      "151  This shouldn't have to be said: You don’t just...\n",
      "150  Trump has spent years peddling a racist conspi...\n",
      "149  The birther lie is what turned Trump from an o...\n",
      "148  Trump’s birtherism stems from the same innate ...\n",
      "147  What Trump should do: for once in his life, ow...\n",
      "146  On National Prisoners of War Remembrance Day, ...\n",
      "145  .@FLOTUS is on the trail for Hillary. Tune in ...\n",
      "144  “I am thrilled to be here today to support the...\n",
      "143  \"When it comes to the qualifications we should...\n",
      "142  \"The presidency doesn’t change who you are. It...\n",
      "141  \"Hillary has the resilience it takes to do thi...\n",
      "140  “We have an opportunity to elect one of the mo...\n",
      "139  \"Elections aren't just about who votes, but wh...\n",
      "138  \"Your decision will determine who sits in the ...\n",
      "137  “You’ve got to get yourself and everyone you k...\n",
      "136  “The choice that you make on November 8 will d...\n",
      "..                                                 ...\n",
      "29   \"I think this is the most important election i...\n",
      "28   \"Donald Trump doesn't see people like me, he o...\n",
      "27   Most people who are bullies grow out of it. \\n...\n",
      "26   The man who could be your next president may b...\n",
      "25   Very concerned about the outage in Puerto Rico...\n",
      "24   Donald Trump's ties to Russia may conflict wit...\n",
      "23   Let's make sure nobody who works full-time in ...\n",
      "22   \"I really regret doing this.\" —Hillary on Betw...\n",
      "21   \"Vote.\" —@Lin_Manuel https://t.co/tTgeqxNqYm h...\n",
      "20   Our favorite moments from Hillary's appearance...\n",
      "19   \"He's 70 years old, and he's still a bully.\" —...\n",
      "18   Is this the president we want for our daughter...\n",
      "17   When Donald Trump speaks about women, our daug...\n",
      "16   \"She gives us hope for the future. She's our g...\n",
      "15   Charlotte should release police video of the K...\n",
      "14   Addiction is a disease—not a moral failing. We...\n",
      "13   \"Hillary Clinton would make a sober, smart and...\n",
      "12   \"Donald Trump committed perjury. Or he looked ...\n",
      "11   \"I was just blown away by this 9-year-old girl...\n",
      "10   Republicans are once again turning their backs...\n",
      "9    If the young women of this country have Donald...\n",
      "8    \"Hillary Clinton is one of the best prepared c...\n",
      "7    Donald Trump doesn't see people like Anastasia...\n",
      "6    RT if you believe that #LoveTrumpsHate\\n\\nThen...\n",
      "5    We know all too well who Donald Trump is. Let'...\n",
      "4    \"A lifetime’s commitment to solving problems i...\n",
      "3    Hillary's been fighting for women and girls he...\n",
      "2    \"I thought, this woman—I want to ride with her...\n",
      "1    \"Our choice, Hillary Clinton, has a record of ...\n",
      "0    The new @NMAAHC is an overdue tribute to Afric...\n",
      "\n",
      "[166 rows x 1 columns]\n"
     ]
    }
   ],
   "source": [
    "#d = dict(screen_name = screen_name, Favorites = favorites_count, Retweets = retweets_count,Date = date, Text = text)\n",
    "\n",
    "#HillaryClinton = pd.DataFrame({k : pd.Series(v) for k, v in  list(d.items())})\n",
    "status_texts = realHillaryClinton[['text']]\n",
    "print(status_texts)"
   ]
  },
  {
   "cell_type": "code",
   "execution_count": 35,
   "metadata": {
    "collapsed": false
   },
   "outputs": [],
   "source": [
    "#count words in each tweet, we can also lower all the words/characters to by using .lower(),\n",
    "words_HillaryClinton = pd.Series(' '.join(realHillaryClinton.text).split())\n",
    "punctuation = list(string.punctuation)\n",
    "stop = stopwords.words('english') + punctuation + ['rt', 'via']"
   ]
  },
  {
   "cell_type": "code",
   "execution_count": 36,
   "metadata": {
    "collapsed": false
   },
   "outputs": [],
   "source": [
    "\n",
    "#implementation of stop words using nltk library for language processing\n",
    "terms_stop = [term for term in words_HillaryClinton if term not in stop]"
   ]
  },
  {
   "cell_type": "code",
   "execution_count": 37,
   "metadata": {
    "collapsed": false
   },
   "outputs": [
    {
     "name": "stdout",
     "output_type": "stream",
     "text": [
      "['\"We', 'know', 'Donald', 'is.', 'For', 'five', 'years,', 'led', 'birther', 'movement', 'de-legitimize', 'first', 'black', 'president.”', '—Hillary', 'Just', 'yesterday,', 'Trump', 'refused', 'say', 'words', 'president', 'born', 'United', 'States.', 'Barack', 'Obama', 'born', 'America,', 'plain', 'simple.', 'Donald', 'Trump', 'owes', 'American', 'people', 'apology.', 'Donald', 'Trump', 'unfit', 'president.', 'We', 'can’t', 'accept', 'this.', 'We’ve', 'got', 'stand', 'this.', 'If', 'don’t,', 'won’t', 'stop.', '\"Donald', 'Trump', 'looks', 'distinguished', 'judge', 'born', 'Indiana,', 'sees', 'Mexican,', 'American.”', '—Hillary', '\"He', 'looks', 'Gold', 'Star', 'family', 'sees', 'Muslims,', 'patriotic', 'Americans.”', '—Hillary', 'Trump', 'Donald', 'Trump', 'looks', 'women', 'decides', 'looks', 'rate', 'scale', 'one', '10.', '“Let’s', 'reject', 'cynicism,', 'bullying,', 'divisive', 'rhetoric', 'opponent', 'using', 'try', 'make', 'us', 'afraid', 'other.”', 'Let’s', 'build', 'future', 'love', 'trumps', 'hate.', 'https://t.co/tTgeqxNqYm', 'What', 'Trump', 'disgrace.', 'Expressing', 'zero', 'regret', 'years', 'pushing', 'racist', 'conspiracy', 'theory,', 'Trump', 'appointed', 'judge', '&amp;', 'jury', \"@POTUS's\", 'citizenship.', 'Leading', 'birther', 'movement', 'deplorable.', 'Attempting', 'say', '\"did', 'great', 'service\"', 'president', 'Trump', 'attacked', 'asinine.', 'When', 'Trump', 'tries', 'deflect', 'blame', 'denying', '@POTUS', 'born', 'America,', 'lying.', 'https://t.co/lje3lKrZQy', 'https://t.co/yq9IWnvXUc', 'Again,', 'Trump', 'turns', 'faults', 'others.', 'Psychologists', 'call', '\"projecting.\"', 'Kids', 'call', '\"I\\'m', 'rubber,', \"you're\", 'glue.\"', 'https://t.co/lKDDD0wwsn', 'This', \"shouldn't\", 'said:', 'You', 'don’t', 'get', 'say', 'someone', 'else', 'worst', 'things', 'you’ve', 'done.', 'It', 'doesn’t', 'work.', 'No', 'one', 'buys', 'it.', 'Trump', 'spent', 'years', 'peddling', 'racist', 'conspiracy', 'aimed', 'undermining', 'first', 'African', 'American', 'president.', 'He', \"can't\", 'take', 'back.', 'The', 'birther', 'lie', 'turned', 'Trump', 'ordinary', 'reality', 'TV', 'star', 'political', 'figure.', 'That', 'origin', 'story', \"can't\", 'unwritten.', 'Trump’s', 'birtherism', 'stems', 'innate', 'beliefs', 'led', 'discriminating', 'black', 'tenants', 'early', 'career.', \"Can't\", 'undone.', 'What', 'Trump', 'do:', 'life,', 'mistakes.', 'Apologize', 'President,', 'American', 'people.', 'On', 'National', 'Prisoners', 'War', 'Remembrance', 'Day,', 'POW', 'shares', 'means', 'Trump', 'insults', 'veterans.', 'https://t.co/0dVB5B0gbC', '.@FLOTUS', 'trail', 'Hillary.', 'Tune', 'watch', 'live', 'Virginia:', 'https://t.co/PhnJJoDmPD', '“I', 'thrilled', 'today', 'support', 'next', 'president', '&amp;', 'vice', 'president', 'United', 'States,', 'Hillary', 'Clinton', '&amp;', 'Tim', 'Kaine!”', '—@FLOTUS', '\"When', 'comes', 'qualifications', 'demand', 'president...we', 'need', 'someone', 'who’s', 'going', 'take', 'job', 'seriously.”', '—@FLOTUS', '\"The', 'presidency', 'doesn’t', 'change', 'are.', 'It', 'reveals', 'are.', 'And', 'thing', 'true', 'presidential', 'campaign.\"', '—@FLOTUS', '\"Hillary', 'resilience', 'takes', 'job,', 'see', 'gets', 'knocked', 'down…she', 'gets', 'right', 'back', 'up.”', '—@FLOTUS', '“We', 'opportunity', 'elect', 'one', 'qualified', 'people', 'ever', 'endeavored', 'become', 'president.”', '—@FLOTUS', 'Hillary', '\"Elections', \"aren't\", 'votes,', \"doesn't\", 'vote.\"', '—@FLOTUS:', 'https://t.co/tTgeqxNqYm', '\"Your', 'decision', 'determine', 'sits', 'Oval', 'Office', 'Barack', 'Obama.”', '—@FLOTUS', '“You’ve', 'got', 'get', 'everyone', 'know', 'registered', 'vote', 'today.”', '—@FLOTUS:', 'https://t.co/tTgeqxNqYm', '“The', 'choice', 'make', 'November', '8', 'determine', 'whether', 'afford', 'college', 'tuition.”', '—@FLOTUS:', 'https://t.co/tTgeqxNqYm', '“On', 'November', '8,', 'decide', 'whether', 'president', 'believes', 'science', 'fight', 'climate', 'change—or', 'not.”', '—@FLOTUS', '\"We', 'deserve', 'president…who', 'believes', 'us', 'part', 'American', 'story,', 'we’re', 'always', 'stronger', 'together.”', '—@FLOTUS', 'Donald', 'Trump', 'spent', 'five', 'years', 'lying', \"@POTUS's\", 'citizenship.', 'He', 'can’t', 'take', 'back.', 'https://t.co/HeafYwy0Fp', 'Donald', 'Trump', 'spent', 'years', 'peddling', 'lies', 'President', 'Obama.', 'And', \"didn't\", 'stop', 'today.', 'https://t.co/KzgPQgPjxK', \"Trump's\", 'habit', 'projecting', 'actions', 'onto', 'someone', 'else', '6-year-olds', 'call', '\"I', 'know', 'are,', 'I?\"', 'https://t.co/FIhZYLmy1l', '126', 'things', 'Donald', 'Trump', 'said', 'done', 'disqualify', 'candidacy:', 'https://t.co/h4qUNNnTOf', 'The', 'brave', 'men', 'women', 'served', 'country', 'deserve', 'better', 'Donald', 'Trump.', 'https://t.co/SmLmTrVhOr', \"It's\", 'great', 'back', 'campaign', 'trail.', 'https://t.co/vm1KX2uOXt', 'It’s', 'time', 'Donald', 'Trump', 'held', 'standard', 'disclosure', 'major', 'party', 'nominee.', 'https://t.co/UP93LCzURv', '9', 'times', 'Donald', 'Trump', 'accused', 'Hillary', 'terrible', 'things', 'he,', 'himself,', 'actually', 'did:', 'https://t.co/DXlybx7oA5', 'Take', '@FLOTUS:', 'This', 'election', 'important', 'sit', 'out.', 'Register', 'vote:', 'https://t.co/tTgeqy51PU', 'https://t.co/NblU3Tth7T', \"Hillary's\", 'childhood', 'pen', 'pal,', 'graduation', 'cheering', 'section,', 'friend.', 'Meet', 'Aleatha:', 'https://t.co/f4YzTBmIdl', '\"We’re', 'siding', 'students', 'every', 'American', 'seeking', 'affordable', 'college', 'degree.\"', '—@TimKaine', 'https://t.co/qa9qO4AFxW', 'Any', 'examples', 'proves', 'Donald', 'Trump', 'unfit', 'president.', 'https://t.co/3mQgqZ7b8V', \"Let's\", 'clear:', 'Nothing—including', 'audit—is', 'preventing', 'Trump', 'releasing', 'tax', 'returns.', 'https://t.co/mpGiRIaPgD', 'Trump', 'went', 'Flint', 'draw', 'attention', \"city's\", 'lead', 'poisoning', 'crisis—but', 'made', 'spectacle', 'himself.', 'https://t.co/Dw4KoVgrQ3', '\"I', 'want', 'know', 'I', 'see', 'you,', 'I’m', 'you.\"', '—Hillary', 'Latino', 'community', '@CHCI', 'https://t.co/t2F93Ml785', 'So', 'exactly', 'Donald', 'Trump', 'build', 'bank', 'account?', 'On', 'backs', 'American', 'taxpayers:', 'https://t.co/4uBuIljQML', 'This', 'year,', 'Janelle', 'beat', 'breast', 'cancer', 'support', 'family,', 'friends,', 'presidential', 'candidate.', 'https://t.co/vmavvobLcs', 'Presidential.', 'https://t.co/tlfpcbVqkT', 'Tune', 'watch', 'Hillary', 'speak', '@OfficialCBC:', 'https://t.co/NJuB7JkyDL', '\"I’m', 'going', 'close', 'campaign', 'way', 'I', 'began', 'career…focused', 'opportunities', 'children', 'fairness', 'families.\"', '—Hillary', 'We', 'need', 'ideas,', 'insults.', 'Plans,', 'paranoia.', 'We', 'can’t', 'let', \"@POTUS's\", 'legacy', 'fall', 'hands', 'someone', 'doesn’t', 'understand', 'that.', 'As', '@FLOTUS', 'said,', 'election', 'kind', 'country', 'want', 'want', 'leave', 'behind', 'future', 'generations.', 'If', 'want', 'go', 'college', 'saddled', 'student', 'debt,', \"you'll\", 'want', 'read', '@TimKaine', 'say:', 'https://t.co/qa9qO4AFxW', 'In', 'normal', 'election,', '126', 'things', 'would', 'disqualify', 'Trump', 'becoming', 'president:', 'https://t.co/VeDJknt4JH', '“We', 'face', 'world', 'commit', 'turning', 'be.”', '—Hillary', 'https://t.co/nEB4qSm2YX', 'So', 'exactly', 'Donald', 'Trump', 'hiding', 'voters?', 'Pretty', 'much', 'everything.', 'https://t.co/RGUqGN4I7i', '\"Read', 'history.', 'It', 'matters.', \"We've\", 'got', 'get', 'people', 'vote.\"', '—@POTUS:', 'https://t.co/tTgeqy51PU', 'https://t.co/GyveEjARku', 'Joel', 'Sollender,', 'WWII', 'veteran', 'POW,', 'means', 'hears', 'Trump', 'insult', 'vets.', 'https://t.co/3ZIezeRTl9', '\"I', 'strongly', 'condemn', 'apparent', 'terrorist', 'attacks', 'Minnesota,', 'New', 'Jersey,', 'New', 'York.\"', 'https://t.co/NSy3fkcu1c', 'It', \"wasn't\", 'long', 'ago', 'women', 'faced', 'took', 'barriers', 'seem', 'ridiculous', 'now.', 'https://t.co/nuG8Gqmzt1', 'https://t.co/XwvEuxsrOV', 'Next', 'week,', 'Hillary', 'walk', 'stage', 'first', 'presidential', 'debate.', 'Chip', 'chance', 'there:', 'https://t.co/mHGncsXG6y', '\"Progress', 'ballot.', 'Tolerance', 'ballot.', 'Democracy', 'ballot.', 'Justice', 'ballot.\"', 'https://t.co/Mmyqestken', 'Congratulations', 'Emmy,', 'Kate!', 'Big', 'fan', 'yours,', 'too.', 'https://t.co/w00QO1GwyH', 'Grateful', 'brave', 'men', 'women', 'serving', '@USAirForce', 'families.', 'Happy', 'birthday,', 'USAF!', 'https://t.co/xYebpm9NaN', '\"We', 'got', 'everything', 'make', 'sure', 'Hillary', 'Clinton', 'elected', 'president.\"', '—@BernieSanders', 'https://t.co/t1uxcoVJT5', '\"Like', 'Americans,', 'thoughts', 'wounded,', 'families,', '&amp;', 'first', 'responders”', '—Hillary', 'weekend’s', 'attacks', '\"Let', 'us', 'vigilant,', 'afraid…we', 'choose', 'resolve,', 'fear.', 'We', 'turn', 'undermine', 'other.”', '—Hillary', '“I’m', 'candidate', 'race', 'who’s', 'part', 'hard', 'decisions', 'take', 'terrorists', 'battlefield.', '—Hillary', '“What', 'I’ve', 'laid', 'path', 'forward', 'keep', 'us', 'safer...and', 'go', 'terrorists', 'finally', 'destroy', 'them\"', 'https://t.co/tWWEMx0T9s', 'Our', 'next', 'president', 'needs', 'right', 'temperament', 'meet', 'challenges', 'face.', 'https://t.co/XMDZPtLNMB', '“This', 'threat', 'real,', 'resolve.', 'Americans', 'cower.', 'We', 'prevail.”', '—Hillary', 'https://t.co/eADlIG9aQL', '“I’m', 'Hillary', 'Clinton', 'I’ve', 'always', 'approved', 'message.”', 'https://t.co/GgDeBBfoUm', '50', 'days', 'go.', \"Don't\", 'miss', 'Hillary', 'live', '@TempleUniv:', 'https://t.co/qg6J7SXrr0', '“Your', 'generation', 'inclusive,', 'progressive,', 'entrepreneurial', 'we’ve', 'ever', 'seen.”', '—Hillary', 'students', '@TempleUniv', 'You', 'want', 'something', 'vote', 'for,', 'against:', 'Optimism,', 'resentment.', 'Answers,', 'anger.', 'Ideas,', 'insults.', 'Bridges,', 'walls.', 'This', 'election', 'isn’t', 'reality', 'TV', 'show.', 'It', 'shouldn’t', 'birth', 'certificates', 'name-calling', 'stunts', 'get', 'cable', 'news.', 'It’s', 'wrong', 'tear', 'down.', 'It’s', 'wrong', 'let', 'income', 'inequality', 'get', 'worse.', 'It’s', 'wrong', 'put', 'loose', 'cannon', 'charge.', 'We', 'build', 'cleaner,', 'resilient', 'electrical', 'grid', 'enough', 'renewable', 'energy', 'power', 'every', 'home', 'country.', 'If', 'work', 'hard,', 'able', 'find', 'good', 'job', 'pays', 'well', 'lets', 'love', 'make', 'mark', 'world.', 'College', 'tuition-free', 'working', 'families', 'debt-free', 'everyone:', 'https://t.co/lkOFcHI4Py', 'We', 'Republican', 'nominee', 'president', 'incites', 'hatred', 'violence', 'like', 'we’ve', 'never', 'seen', 'before.', 'When', 'Americans', 'get', 'knocked', 'down,', 'get', 'right', 'back', 'again.', 'We', 'refuse', 'quit—no', 'matter', 'what.', 'That’s', 'spirit', 'need', 'election.', 'Simply', 'caring', 'enough.', 'To', 'drive', 'real', 'progress,', 'change', 'hearts', 'laws.', 'https://t.co/oZIm2is1lX', 'In', 'democracy,', 'want', 'help', 'greatest', 'number', 'people,', 'push', 'reform', 'outside-in', 'inside-out.', \"We're\", 'facing', 'candidate', 'history', 'discrimination', 'businesses,', 'retweets', 'white', 'supremacists,', 'led', 'birther', 'movement.', 'We', 'stand', 'hate.', 'We', 'send', 'clear', 'message:', 'America', 'better', 'this.', 'America', 'better', 'Donald', 'Trump.', 'When', 'work', 'together,', 'trump', 'hate.', 'https://t.co/tTgeqxNqYm', '\"The', 'lesson', 'passed', 'simple', 'powerful:', 'No', 'one', 'gets', 'life', 'alone.\"', '—Hillary', 'mom', 'https://t.co/gzNvfNPeNu', 'Find', 'much', \"Hillary's\", 'college', 'plan', 'save', 'you:', 'https://t.co/svkSUzhwYz', 'https://t.co/tmHf8m2CdX', 'Let’s', 'make', 'clear', 'love', 'trumps', 'hate—not', 'November,', 'always.', 'https://t.co/wDxspmxT9Q', 'Be', 'voter.', 'Check', 'registration', 'help', 'friends', '→', 'https://t.co/tTgeqxNqYm', 'https://t.co/yTAG2iT8WL', '\"Everyone', 'wants', 'go', 'college', 'able', 'without', 'drowning', 'debt.\"', '—Hillary', 'https://t.co/wDxspmxT9Q', 'America', 'never', 'made', 'progress', 'thinking', 'one', 'person', 'alone', 'fix', 'problems.', 'https://t.co/mYba5FCBrb', 'Barack', 'Obama', 'said', 'progress', 'ballot', 'November.', 'This', 'economic', 'data', 'shows', 'he’s', 'right.', 'https://t.co/CIoKKKIxqz', 'Nobody', 'America', 'forgo', 'higher', 'education', \"can't\", 'afford', 'it.', 'https://t.co/DhSlyM6ILQ', '\"You', 'want', 'give', 'good', 'send-off?', 'Go', 'vote.”', '—Barack', 'Obama:', 'https://t.co/tTgeqxNqYm', 'https://t.co/Jqf2jmx3D0', 'Catch', '@FallonTonight', '11:35pm', 'ET', 'see', 'letters', \"Hillary's\", 'biggest', 'fans.', 'https://t.co/muVNwgLSRs', '\"The', 'voice', 'vote', 'greatest', 'voice', 'have.\"', '—@NyleDiMarco', 'https://t.co/tTgeqxNqYm', 'https://t.co/X3oqEoOYsU', 'Donald', 'Trump', 'using', 'foundation—funded', \"people's\", 'money—to', 'settle', 'lawsuits.', 'https://t.co/2LRtZBls9A', 'Another', 'unarmed', 'Black', 'man', 'shot', 'police', 'incident.', 'This', 'intolerable.', 'We', 'much', 'work', 'do.', '#TerenceCrutcher', '-H', \"It's\", 'time', 'tell', '@WellsFargo', 'Wall', 'Street', 'works', 'Main', 'Street—not', 'way', 'around.', 'https://t.co/mYuTS4qgF4', 'Donald', \"hasn't\", 'given', 'money', 'Trump', 'Foundation', 'since', '2008—but', \"it's\", 'still', 'paying', 'bills.', 'https://t.co/2LRtZB3Ri2', 'Trump’s', 'calls', 'torture', 'mistreat', 'prisoners', 'go', 'values', 'fighting', 'defend.', 'We’re', 'better', 'this.', 'Help', 'get', 'vote', 'Hillary', '(plus,', 'get', 'free', 'sticker', 'sign', 'up!):', 'https://t.co/v4rISVHYuG', '\"You', 'leave', 'ad', \"muted—there's\", 'nothing', 'hear.\"', '—@NyleDiMarco', 'https://t.co/tTgeqxNqYm', 'https://t.co/QOqcWnw7OJ', 'On', 'day', '1973,', 'tennis', 'champion', 'Billie', 'Jean', 'King', 'defeated', 'Bobby', 'Riggs', '“Battle', 'Sexes.”', 'https://t.co/G06Ol90j1O', 'Four', 'months', 'today,', 'next', 'president', 'walk', 'Oval', 'Office.', 'Help', 'make', 'sure', \"it's\", 'Donald', 'Trump:', 'https://t.co/Gxp2QdeIhH', 'A', 'real', 'headline', 'Republican', 'nominee:', '\"Trump', 'used', '$258,000', 'charity', 'settle', 'legal', 'problems.\"', 'https://t.co/2LRtZB3Ri2', 'FACT:', 'Donald', 'Trump', 'used', 'charitable', 'foundation', 'purchase', '*multiple*', 'six-foot-tall', 'paintings', 'himself.', 'https://t.co/tDeBH37w7h', 'Have', 'student', 'debt?', 'Planning', 'college?', 'See', 'much', 'money', \"Hillary's\", 'plan', 'would', 'save', 'you:', 'https://t.co/fiXgr6S3Ye', 'https://t.co/B8PCks6yXL', 'Keith', 'Lamont', 'Scott.', 'Terence', 'Crutcher.', 'Too', 'many', 'others.', 'This', 'got', 'end.', '-H', 'Every', 'student', 'able', 'graduate', 'college', 'without', 'taking', 'debt.', 'https://t.co/1aWqDOKh7p', 'https://t.co/KHguTDbKW9', 'Live', 'Orlando:', 'Watch', 'Hillary', 'share', 'plan', 'building', 'inclusive', 'economy', 'helps', 'everyone', 'get', 'ahead', '→', 'https://t.co/IX06FtcZG8', 'We', 'two', 'names', 'add', 'long', 'list', 'African', 'Americans', 'killed', 'police', 'officers.', 'It’s', 'unbearable,', 'needs', 'become', 'intolerable.', \"We've\", 'also', 'seen', 'targeting', 'police', 'officers—but', 'many', 'serve', 'every', 'day', 'courage', 'honor', 'committed', 'reform.', 'We', 'need', 'come', 'together', 'turn', 'tide,', 'stop', 'violence,', 'build', 'trust,', 'give', 'kids', 'chance', 'grow', 'safe', 'healthy.', 'In', 'America,', 'every', 'person,', 'matter', 'look', 'like', 'are,', 'chance', 'go', 'far', 'dreams', 'take', 'you.', 'When', 'leave', 'people', 'write', 'off,', 'shortchange', 'dreams,', 'shortchange', 'country', 'future.', 'Building', 'inclusive', 'economy', 'another', 'reason', 'we’ve', 'got', 'break', 'systemic', 'racism,', 'including', 'under-investment', 'communities', 'color.', 'None', 'us', 'gets', 'life', 'alone.', 'We', 'look', 'lift', 'up.', 'Over', '60%', 'adults', 'disabilities', 'aren’t', 'workplace.', 'We', 'fix', 'that.', 'https://t.co/J3Jq21ejtR', 'We’ve', 'got', 'build', 'economy', 'welcomes', 'people', 'disabilities,', 'values', 'work,', 'rewards', 'fairly,', 'treats', 'respect.', 'Americans', 'disabilities', 'deserve', 'chance', 'work', 'alongside', 'without', 'disabilities—to', 'jobs', 'pay', '&amp;', 'benefits.', 'The', 'ultimate', 'test', 'society', 'treat', 'fellow', 'human', 'beings,', 'especially', 'previously', 'left', 'behind.', \"We'll\", 'make', 'economy', 'country', 'welcoming', 'people', 'disabilities.', 'We', 'win', 'everyone', 'gets', 'share', \"America's\", 'promise.', 'We', 'believe', 'everyone', 'value.', 'We', 'believe', \"everyone's\", 'created', 'equal.', 'We', 'believe', 'love', 'trumps', 'hate.', 'https://t.co/tTgeqxNqYm', 'A', 'disability', \"shouldn't\", 'define', 'future.', 'At', '@ChildDefender,', 'Hillary', 'helped', 'give', 'kids', 'chance', 'succeed.', 'https://t.co/jaMcdARYn1', 'We', 'need', 'president', 'sees', 'best', 'us.', 'https://t.co/vX0Oycto1Q', '.@TimKaine', 'great', 'running', \"mate—he's\", 'great', 'guy', 'friend,', 'too.', 'https://t.co/5WX2qYgUjC', 'Going', 'bat', 'kids', 'often', 'counted', 'always', 'priority', 'Hillary.', 'https://t.co/lTxRVn3NBM', '\"You', 'would', 'think', 'almost,', 'like,', 'something', 'wrong.\"', '—Donald', 'Trump', 'Mitt', 'Romney', 'failing', 'release', 'tax', 'r…', 'https://t.co/VzUQByCN2A', 'No', 'child', 'ever', 'grow', 'poverty,', 'yet', 'far', 'many', 'do.', 'We', 'better.', \"Here's\", 'how:', 'https://t.co/Qo1RmQDwd6', 'Trump', 'answer', 'exactly', 'refuses', 'believe', '@POTUS', 'American.', 'https://t.co/NReJ3wJE8l', 'Donald', 'Trump', 'really', 'good', 'spending', \"people's\", 'money—on:', 'Legal', 'settlements.', 'Payoffs.', 'Portraits', 'himself.', 'https://t.co/C5bXw5brI9', '\"I', 'think', 'important', 'election', 'lifetime.\"', '@ChelseaClinton', 'takes', '🎤', \"week's\", 'podcast:', 'https://t.co/dAwaE8Dg0C', '\"Donald', 'Trump', \"doesn't\", 'see', 'people', 'like', 'me,', 'sees', 'disability.', 'I', 'honestly', 'feel', 'bad', 'someone', 'much', 'hat…', 'https://t.co/NTeF9u8JpN', 'Most', 'people', 'bullies', 'grow', 'it.', 'Donald', 'Trump', \"hasn't.\", 'https://t.co/tEJ9ATm9BS', 'The', 'man', 'could', 'next', 'president', 'may', 'deeply', 'indebted', 'another', 'country.', 'Do', 'trust', 'run', 'ours?', 'https://t.co/5TU9olTqd5', 'Very', 'concerned', 'outage', 'Puerto', 'Rico', 'millions', 'families', \"don't\", 'power.', 'Hoping', \"it's\", 'resto…', 'https://t.co/Y2oG1CS2AN', 'Donald', \"Trump's\", 'ties', 'Russia', 'may', 'conflict', \"America's\", 'interests—but', \"they're\", 'great', 'bottom', 'line.', 'https://t.co/gYbm5HxfxG', \"Let's\", 'make', 'sure', 'nobody', 'works', 'full-time', 'America', 'live', 'poverty.', 'https://t.co/mpGBCNlemA', 'https://t.co/fCcXd1MrTo', '\"I', 'really', 'regret', 'this.\"', '—Hillary', 'Between', 'Two', 'Ferns', 'https://t.co/OmDyINNCrW', '\"Vote.\"', '—@Lin_Manuel', 'https://t.co/tTgeqxNqYm', 'https://t.co/m9H9b9X7Ar', 'Our', 'favorite', 'moments', \"Hillary's\", 'appearance', 'Between', 'Two', 'Ferns', '→', 'https://t.co/tXLPQtR7tb', 'https://t.co/Er2YqHQVhl', '\"He\\'s', '70', 'years', 'old,', \"he's\", 'still', 'bully.\"', '—Karen', '@realDonaldTrump', 'https://t.co/XBCJ4mTj24', 'Is', 'president', 'want', 'daughters?', 'https://t.co/GP4rfhPDGm', 'When', 'Donald', 'Trump', 'speaks', 'women,', 'daughters', 'hear', 'him.', 'https://t.co/0r1N6R8rV6', '\"She', 'gives', 'us', 'hope', 'future.', \"She's\", 'girl.\"', '—Roxie,', 'co-owner', '@MercersDairy,', 'Hillary', 'https://t.co/s5zyaOBLXB', 'Charlotte', 'release', 'police', 'video', 'Keith', 'Lamont', 'Scott', 'shooting', 'without', 'delay.', 'We', 'must', 'ensure', 'justice', '&amp;', 'work', 'bridge', 'divides.', '-H', 'Addiction', 'disease—not', 'moral', 'failing.', 'We', 'support', 'struggling', 'it.', '#OpioidAwarenessWeek', 'https://t.co/V9Uz3jVEjN', '\"Hillary', 'Clinton', 'would', 'make', 'sober,', 'smart', 'pragmatic', 'president.', 'Donald', 'Trump', 'would', 'catastrophe.\"', '—@LATimes', 'https://t.co/NG1am536OS', '\"Donald', 'Trump', 'committed', 'perjury.', 'Or', 'looked', 'faces', 'Republican', 'faithful', 'knowingly', 'lied.\"', 'https://t.co/enl4NTjdX4', '\"I', 'blown', 'away', '9-year-old', 'girl.\"', '—Hillary', 'meeting', 'disability', 'rights', 'advocate', '@AnastasiaSomoza', 'https://t.co/nrjcqfGiRe', 'Republicans', 'turning', 'backs', 'people', 'Flint', 'waited', 'far', 'long', 'help.', \"It's\", 'w…', 'https://t.co/sYyqDHAVXp', 'If', 'young', 'women', 'country', 'Donald', 'Trump', 'president,', 'think', 'themselves?', 'https://t.co/1IrjWddzzy', '\"Hillary', 'Clinton', 'one', 'best', 'prepared', 'candidates', 'seek', 'presidency.\"', '—@LATimes', 'https://t.co/NG1am536OS', 'Donald', 'Trump', \"doesn't\", 'see', 'people', 'like', 'Anastasia—he', 'sees', 'disability.', 'https://t.co/0aDgpwHtjv', 'RT', 'believe', '#LoveTrumpsHate', 'Then', 'make', 'sure', \"you're\", 'registered', 'vote:', 'https://t.co/tTgeqxNqYm', 'https://t.co/TlXODnaV53', 'We', 'know', 'well', 'Donald', 'Trump', 'is.', \"Let's\", 'make', 'sure', 'never', 'becomes', 'president:', 'https://t.co/tTgeqxNqYm', 'https://t.co/3lJjQEQ0BR', '\"A', 'lifetime’s', 'commitment', 'solving', 'problems', 'real', 'world', 'qualifies', 'Hillary', 'Clinton', 'job.\"', '—@NYTimes', 'https://t.co/qaswl7IOOJ', \"Hillary's\", 'fighting', 'women', 'girls', 'entire', 'career—and', \"she's\", 'getting', 'started.', 'https://t.co/NMnrgEzNkT', '\"I', 'thought,', 'woman—I', 'want', 'ride', 'her.\"', '—Roxie,', 'Republican', 'small', 'business', 'owner,', 'meeting', 'Hillary', 'https://t.co/s5zyaOBLXB', '\"Our', 'choice,', 'Hillary', 'Clinton,', 'record', 'service', 'raft', 'pragmatic', 'ideas.\"', '—@NYTimes', 'endorsing', 'Hillary…', 'https://t.co/7Sus2PxlWC', 'The', 'new', '@NMAAHC', 'overdue', 'tribute', 'African', 'American', 'history.', \"Let's\", 'build', 'open,', 'inclusive', 'future', 'reflecting', 'past.', '-H']\n"
     ]
    }
   ],
   "source": [
    "print(terms_stop)"
   ]
  },
  {
   "cell_type": "code",
   "execution_count": 38,
   "metadata": {
    "collapsed": false
   },
   "outputs": [],
   "source": [
    "word_counts = {}\n",
    "for word in terms_stop:\n",
    "    if word in word_counts:\n",
    "        word_counts[word] += 1\n",
    "    else:\n",
    "        word_counts[word] = 1"
   ]
  },
  {
   "cell_type": "code",
   "execution_count": 39,
   "metadata": {
    "collapsed": false
   },
   "outputs": [
    {
     "name": "stdout",
     "output_type": "stream",
     "text": [
      "{'https://t.co/KHguTDbKW9': 1, 'Office': 1, 'girl.\"': 2, 'https://t.co/qa9qO4AFxW': 2, 'cleaner,': 1, '\"Hillary': 3, 'States.': 1, 'https://t.co/2LRtZBls9A': 1, 'quit—no': 1, 'together.”': 1, 'r…': 1, '\"projecting.\"': 1, 'https://t.co/QOqcWnw7OJ': 1, '\"I\\'m': 1, 'blown': 1, 'history.': 2, 'shot': 1, 'https://t.co/t1uxcoVJT5': 1, 'Meet': 1, 'bullies': 1, 'officers—but': 1, 'Have': 1, 'Billie': 1, 'trumps': 3, 'there:': 1, 'qualifies': 1, 'tax': 2, 'right.': 1, 'https://t.co/X3oqEoOYsU': 1, 'afford': 2, 'https://t.co/KzgPQgPjxK': 1, 'daughters': 1, 'jobs': 1, 'need': 5, 'thing': 1, 'Street—not': 1, 'president.”': 2, 'https://t.co/qaswl7IOOJ': 1, 'https://t.co/HeafYwy0Fp': 1, 'ballot': 1, 'respect.': 1, 'grid': 1, '“I’m': 2, 'inclusive': 3, 'Office.': 1, 'progress': 2, 'https://t.co/mYba5FCBrb': 1, 'backs': 2, 'TV': 2, 'pragmatic': 2, '8,': 1, 'A': 2, 'inclusive,': 1, 'time': 2, 'draw': 1, 'Prisoners': 1, 'failing.': 1, 'loose': 1, 'reform.': 1, 'like': 4, 'Lamont': 2, 'Building': 1, 'miss': 1, 'I’m': 1, 'people': 10, 'off,': 1, 'vets.': 1, \"didn't\": 1, 'patriotic': 1, 'https://t.co/NJuB7JkyDL': 1, 'outage': 1, 'catastrophe.\"': 1, 'renewable': 1, 'equal.': 1, 'behind': 1, 'fix': 2, 'cynicism,': 1, 'faithful': 1, 'https://t.co/0aDgpwHtjv': 1, 'candidate': 2, 'Black': 1, 'shooting': 1, 'means': 2, 'Puerto': 1, 'standard': 1, 'https://t.co/Mmyqestken': 1, 'week,': 1, '.@FLOTUS': 1, 'African': 3, 'friend,': 1, 'account?': 1, 'today': 1, 'thinking': 1, 'resentment.': 1, 'answer': 1, 'girls': 1, 'violence': 1, 'audit—is': 1, 'running': 1, 'Sollender,': 1, 'president…who': 1, 'ideas,': 1, 'someone': 5, 'https://t.co/Dw4KoVgrQ3': 1, '@TempleUniv:': 1, 'better.': 1, 'disclosure': 1, 'Trump’s': 2, 'https://t.co/vm1KX2uOXt': 1, '10.': 1, 'shows': 1, 'poverty.': 1, 'https://t.co/3lJjQEQ0BR': 1, 'https://t.co/GP4rfhPDGm': 1, 'black': 2, 'Between': 2, 'Presidential.': 1, 'trust,': 1, 'ordinary': 1, 'Justice': 1, 'https://t.co/FIhZYLmy1l': 1, \"Don't\": 1, 'career.': 1, 'thought,': 1, 'Flint': 2, 'Trump': 41, 'small': 1, 'person,': 1, 'nobody': 1, '—@TimKaine': 1, 'defend.': 1, 'https://t.co/fiXgr6S3Ye': 1, 'birth': 1, 'https://t.co/NG1am536OS': 2, 'drowning': 1, 'line.': 1, 'Catch': 1, 'began': 1, 'video': 1, 'spirit': 1, 'help': 2, 'fan': 1, 'https://t.co/dAwaE8Dg0C': 1, 'help.': 1, 'have.\"': 1, 'projecting': 1, 'could': 1, 'Jean': 1, 'beat': 1, 'end.': 1, 'Mexican,': 1, 'honestly': 1, 'https://t.co/2LRtZB3Ri2': 2, 'ride': 1, 'true': 1, 'hat…': 1, 'problems': 1, '“Let’s': 1, 'define': 1, 'change—or': 1, 'vote': 4, 'it.': 4, 'peddling': 2, 'he,': 1, 'apology.': 1, '*multiple*': 1, 'apparent': 1, 'else': 2, 'plan': 3, 'promise.': 1, 'https://t.co/lTxRVn3NBM': 1, 'real': 3, 'drive': 1, 'poverty,': 1, 'too.': 2, \"can't\": 3, 'Sexes.”': 1, 'defeated': 1, 'For': 1, 'including': 1, 'days': 1, 'future': 3, 'bully.\"': 1, 'Obama.': 1, 'biggest': 1, 'stronger': 1, 'https://t.co/XwvEuxsrOV': 1, 'won’t': 1, 'president': 11, 'November': 2, 'full-time': 1, 'favorite': 1, 'everything.': 1, '—@Lin_Manuel': 1, 'targeting': 1, 'committed': 2, '—@FLOTUS': 8, 'really': 2, '\"When': 1, '1973,': 1, 'Muslims,': 1, 'attention': 1, 'disability': 2, 'glue.\"': 1, 'that.': 2, 'deeply': 1, 'registration': 1, 'Again,': 1, 'https://t.co/5WX2qYgUjC': 1, 'examples': 1, 'share': 2, 'accused': 1, 'turned': 1, 'families.': 1, 'seem': 1, 'Four': 1, 'dreams': 1, '$258,000': 1, 'ultimate': 1, 'childhood': 1, 'wounded,': 1, 'prevail.”': 1, 'stop': 2, 'siding': 1, 'https://t.co/mpGBCNlemA': 1, 'Tim': 1, 'Foundation': 1, 'This': 7, 'responders”': 1, 'presidential': 3, 'onto': 1, 'never': 3, 'legacy': 1, 'reject': 1, 'simple.': 1, 'chance': 5, 'Scott.': 1, 'want': 10, 'campaign': 2, 'https://t.co/DXlybx7oA5': 1, 'discriminating': 1, 'be.”': 1, '“Your': 1, 'number': 1, '\"You': 3, 'bat': 1, 'bridge': 1, 'struggling': 1, 'Bobby': 1, 'pal,': 1, 'podcast:': 1, '\"Elections': 1, 'election,': 1, 'movement.': 1, 'When': 5, 'lifetime.\"': 1, 'New': 2, 'voice': 2, 'speak': 1, 'working': 1, 'love': 4, 'list': 1, 'undermining': 1, 'fight': 1, 'Then': 1, 'Star': 1, 'unwritten.': 1, 'again.': 1, 'support': 3, 'resto…': 1, 'choice,': 1, 'businesses,': 1, '—@LATimes': 2, 'debt.': 1, 'building': 1, 'job': 2, 'story,': 1, \"hasn't\": 1, \"people's\": 2, 'send': 1, 'proves': 1, '\"A': 1, 'left': 1, '@CHCI': 1, 'lifetime’s': 1, 'We’re': 1, 'fans.': 1, 'graduate': 1, 'Main': 1, 'he’s': 1, 'denying': 1, 'American.”': 1, 'way': 2, 'tear': 1, 'York.\"': 1, 'ever': 3, 'go': 5, 'like,': 1, \"it's\": 3, 'friends,': 1, 'himself,': 1, 'something': 2, 'Keith': 2, 'regret': 2, 'old,': 1, 'back.': 2, 'electrical': 1, 'terrorist': 1, 'you.\"': 1, 'fear.': 1, 'woman—I': 1, 'torture': 1, 'college': 6, 'normal': 1, 'Emmy,': 1, 'pushing': 1, 'major': 1, 'https://t.co/nuG8Gqmzt1': 1, 'rhetoric': 1, 'choice': 1, 'others.': 2, 'candidacy:': 1, 'saddled': 1, 'Or': 1, 'let': 2, \"shouldn't\": 2, '6-year-olds': 1, 'USAF!': 1, 'Plans,': 1, 'clear:': 1, 'nominee': 1, \"It's\": 3, 'knocked': 2, 'qualified': 1, 'meeting': 2, 'settle': 2, \"Can't\": 1, 'That': 1, 'before.': 1, 'Minnesota,': 1, 'poisoning': 1, '\"I': 7, 'ridiculous': 1, '“On': 1, 'prepared': 1, 'work.': 1, 'created': 1, 'veteran': 1, 'https://t.co/3ZIezeRTl9': 1, 'back': 3, 'You': 2, 'zero': 1, 'served': 1, 'career…focused': 1, 'Grateful': 1, 'https://t.co/B8PCks6yXL': 1, 'sign': 1, 'indebted': 1, '\"Trump': 1, 'birtherism': 1, 'money—on:': 1, \"wasn't\": 1, 'can’t': 3, 'failing': 1, 'pay': 1, 'Be': 1, 'decide': 1, 'laws.': 1, 'student': 3, 'lesson': 1, 'Check': 1, 'without': 4, 'take': 5, 'judge': 2, 'headline': 1, 'would': 5, 'birthday,': 1, 'things': 4, 'https://t.co/lje3lKrZQy': 1, 'taking': 1, 'Simply': 1, \"We'll\": 1, 'And': 2, 'behind.': 1, 'Apologize': 1, 'you:': 2, \"We've\": 2, 'beings,': 1, 'Tune': 2, 'job.\"': 1, 'paranoia.': 1, 'said,': 1, '@TimKaine': 1, 'Jersey,': 1, 'bottom': 1, 'https://t.co/tXLPQtR7tb': 1, '—@BernieSanders': 1, 'opponent': 1, '\"She': 1, 'together': 1, 'matters.': 1, 'push': 1, 'since': 1, 'years,': 1, 'said': 2, 'Obama': 2, '\"Like': 1, 'always': 3, 'forgo': 1, 'https://t.co/m9H9b9X7Ar': 1, 'attacked': 1, 'family,': 1, 'able': 3, 'Answers,': 1, '“What': 1, 'https://t.co/mHGncsXG6y': 1, '.@TimKaine': 1, 'face.': 1, 'given': 1, 'leave': 3, 'w…': 1, 'vice': 1, 'https://t.co/nEB4qSm2YX': 1, 'graduation': 1, 'Hillary': 15, 'still': 2, 'charitable': 1, 'home': 1, 'insult': 1, 'seriously.”': 1, 'her.\"': 1, 'especially': 1, 'shouldn’t': 1, 'spending': 1, 'every': 4, 'hear': 1, 'what.': 1, 'Find': 1, 'sure': 5, 'blame': 1, 'police': 4, 'break': 1, 'temperament': 1, 'Do': 1, 'Too': 1, 'unbearable,': 1, 'https://t.co/XMDZPtLNMB': 1, 'https://t.co/1aWqDOKh7p': 1, 'stand': 2, 'career—and': 1, 'nominee:': 1, 'down,': 1, 'https://t.co/eADlIG9aQL': 1, 'https://t.co/XBCJ4mTj24': 1, 'Clinton,': 1, 'Most': 1, 'courage': 1, 'Any': 1, 'https://t.co/yq9IWnvXUc': 1, '\"We’re': 1, 'Americans.”': 1, 'year,': 1, 'entire': 1, 'Optimism,': 1, 'aren’t': 1, '“We': 2, 'now.': 1, '🎤': 1, 'https://t.co/oZIm2is1lX': 1, 'business': 1, 'https://t.co/IX06FtcZG8': 1, 'https://t.co/G06Ol90j1O': 1, 'debt,': 1, 'world': 2, 'Mitt': 1, 'https://t.co/GyveEjARku': 1, 'https://t.co/nrjcqfGiRe': 1, 'life,': 1, 'families,': 1, 'It’s': 5, 'Attempting': 1, '“The': 1, 'lie': 1, '\"We': 3, 'Russia': 1, 'turning': 2, 'We’ve': 2, 'Republican': 4, 'affordable': 1, 'gives': 1, 'tuition-free': 1, \"She's\": 1, 'Oval': 2, 'figure.': 1, 'reform': 1, 'Kids': 1, 'deflect': 1, 'returns.': 1, 'history': 1, \"Let's\": 4, 'tribute': 1, 'today,': 1, 'Payoffs.': 1, 'speaks': 1, 'also': 1, 'service\"': 1, 'women': 6, 'endeavored': 1, \"everyone's\": 1, 'president...we': 1, 'education': 1, 'https://t.co/DhSlyM6ILQ': 1, 'succeed.': 1, 'feel': 1, 'themselves?': 1, 'https://t.co/lKDDD0wwsn': 1, 'put': 1, 'unfit': 2, 'find': 1, 'Take': 1, 'today.': 1, 'No': 3, \"aren't\": 1, 'actually': 1, 'mom': 1, 'Register': 1, 'wants': 1, 'counted': 1, 'close': 1, 'https://t.co/0r1N6R8rV6': 1, 'legal': 1, 'https://t.co/f4YzTBmIdl': 1, 'up.”': 1, 'King': 1, 'owner,': 1, 'how:': 1, 'becomes': 1, 'color.': 1, 'https://t.co/tTgeqy51PU': 2, 'resolve.': 1, 'important': 2, 'Ferns': 2, 'battlefield.': 1, 'star': 1, 'hope': 1, \"he's\": 1, '—Hillary': 15, 'fairness': 1, '#TerenceCrutcher': 1, 'two': 1, 'RT': 1, 'intolerable.': 2, 'simple': 1, 'presidency.\"': 1, 'sober,': 1, 'Another': 1, '@OfficialCBC:': 1, '—@POTUS:': 1, 'cancer': 1, 'college?': 1, 'foundation—funded': 1, \"@POTUS's\": 3, 'What': 2, 'November.': 1, 'killed': 1, 'other.”': 2, 'facing': 1, \"you're\": 2, 'passed': 1, 'reality': 2, 'takes': 2, 'greatest': 2, 'American': 7, 'friend.': 1, 'president,': 1, 'https://t.co/NReJ3wJE8l': 1, 'Donald': 26, 'democracy,': 1, 'afraid': 1, 'insults': 1, 'conflict': 1, 'trust': 1, 'progressive,': 1, 'cower.': 1, 'believe': 5, 'open,': 1, '—Roxie,': 2, '@FallonTonight': 1, 'got': 7, 'endorsing': 1, 'seen.”': 1, 'letters': 1, 'https://t.co/7Sus2PxlWC': 1, 'new': 1, 'smart': 1, 'https://t.co/tTgeqxNqYm': 13, 'raft': 1, 'crisis—but': 1, 'supremacists,': 1, 'innate': 1, 'keep': 1, 'lying.': 1, 'https://t.co/C5bXw5brI9': 1, 'getting': 1, 'benefits.': 1, 'problems.\"': 1, '@POTUS': 2, 'approved': 1, 'long': 3, 'jury': 1, 'reflecting': 1, 'change': 2, 'man': 2, 'test': 1, 'Bridges,': 1, 'https://t.co/GgDeBBfoUm': 1, 'violence,': 1, 'https://t.co/lkOFcHI4Py': 1, 'whether': 2, 'I’ve': 2, 'votes,': 1, 'hear.\"': 1, '\"Our': 1, 'https://t.co/VeDJknt4JH': 1, 'hears': 1, 'income': 1, 'incites': 1, 'bad': 1, 'actions': 1, 'disqualify': 2, 'Every': 1, 'deplorable.': 1, 'far': 3, 'weekend’s': 1, 'accept': 1, 'president.\"': 1, 'discrimination': 1, 'Addiction': 1, 'Obama.”': 1, 'https://t.co/wDxspmxT9Q': 2, 'https://t.co/Jqf2jmx3D0': 1, 'debt-free': 1, 'attacks': 2, 'say': 3, 'Go': 1, 'voter.': 1, 'Wall': 1, 'aimed': 1, 'come': 1, 'ET': 1, 'fighting': 2, 'So': 2, 'registered': 2, 'https://t.co/vmavvobLcs': 1, 'best': 2, 'welcoming': 1, '126': 2, 'Nobody': 1, 'tries': 1, 'Day,': 1, 'don’t,': 1, 'destroy': 1, 'record': 1, 'distinguished': 1, 'decision': 1, 'well': 2, 'thrilled': 1, 'refuse': 1, 'https://t.co/tlfpcbVqkT': 1, 'preventing': 1, 'believes': 2, 'https://t.co/v4rISVHYuG': 1, 'kids': 3, 'fellow': 1, 'https://t.co/Qo1RmQDwd6': 1, 'do:': 1, 'resilience': 1, 'ensure': 1, 'economy': 4, 'opportunities': 1, '—Donald': 1, 'families': 2, 'resolve,': 1, 'candidate.': 1, 'vote.”': 1, 'https://t.co/Er2YqHQVhl': 1, 'down…she': 1, 'afraid…we': 1, 'get': 10, 'POW,': 1, 'seeking': 1, \"We're\": 1, 'science': 1, 'treats': 1, 'progress,': 1, 'Over': 1, 'I': 3, 'elected': 1, 'Congratulations': 1, 'purchase': 1, 'names': 1, 'see': 5, 'under-investment': 1, '-H': 4, 'years': 5, 'https://t.co/J3Jq21ejtR': 1, 'commit': 1, 'seek': 1, 'today.”': 1, 'https://t.co/vX0Oycto1Q': 1, 'Portraits': 1, 'tell': 1, 'lies': 1, 'debt?': 1, 'Two': 2, 'cheering': 1, 'started.': 1, 'send-off?': 1, 'us.': 1, 'Joel': 1, 'https://t.co/V9Uz3jVEjN': 1, 'sticker': 1, 'ours?': 1, 'https://t.co/3mQgqZ7b8V': 1, 'previously': 1, 'women,': 1, \"America's\": 2, 'Happy': 1, 'human': 1, 'yesterday,': 1, 'news.': 1, 'did:': 1, 'faults': 1, 'He': 2, 'Indiana,': 1, 'Scott': 1, 'Aleatha:': 1, 'race': 1, 'https://t.co/NTeF9u8JpN': 1, 'forward': 1, 'Barack': 3, 'him.': 1, 'political': 1, 'paintings': 1, 'treat': 1, 'waited': 1, 'adults': 1, 'entrepreneurial': 1, 'data': 1, 'POW': 1, 'isn’t': 1, 'asinine.': 1, 'https://t.co/muVNwgLSRs': 1, 'enough': 1, 'economic': 1, 'condemn': 1, 'https://t.co/NSy3fkcu1c': 1, 'trump': 1, 'Legal': 1, 'win': 1, 'https://t.co/mYuTS4qgF4': 1, 'racism,': 1, 'Expressing': 1, 'six-foot-tall': 1, 'children': 1, 'owes': 1, 'https://t.co/gzNvfNPeNu': 1, 'theory,': 1, 'degree.\"': 1, 'fall': 1, 'always.': 1, '11:35pm': 1, 'Americans': 4, 'power': 1, 'champion': 1, 'https://t.co/fCcXd1MrTo': 1, 'https://t.co/RGUqGN4I7i': 1, 'College': 1, 'child': 1, 'barriers': 1, 'knowingly': 1, 'Tolerance': 1, 'money': 2, 'Live': 1, 'power.': 1, 'down.': 1, 'retweets': 1, \"they're\": 1, 'do.': 2, 'alone.\"': 1, 'https://t.co/jaMcdARYn1': 1, 'pays': 1, 'November,': 1, '“Battle': 1, 'determine': 2, 'disease—not': 1, 'https://t.co/yTAG2iT8WL': 1, 'https://t.co/svkSUzhwYz': 1, 'undone.': 1, 'you’ve': 1, 'walk': 2, 'worst': 1, 'safe': 1, 'https://t.co/5TU9olTqd5': 1, 'Hillary…': 1, '@WellsFargo': 1, 'mistakes.': 1, 'lied.\"': 1, 'hate—not': 1, 'hard,': 1, 'disabilities': 2, '“You’ve': 1, 'spectacle': 1, 'finally': 1, 'lead': 1, 'ago': 1, '50': 1, 'society': 1, 'Latino': 1, 'unarmed': 1, 'we’ve': 3, 'Pretty': 1, 'Riggs': 1, 'community': 1, 'family': 1, 'one': 6, 'tuition.”': 1, 'incident.': 1, 'often': 1, 'early': 1, 'Nothing—including': 1, \"city's\": 1, '@ChelseaClinton': 1, 'concerned': 1, 'https://t.co/gYbm5HxfxG': 1, 'hiding': 1, 'show.': 1, 'bank': 1, '\"Let': 1, 'part': 2, 'Virginia:': 1, 'shortchange': 2, '2008—but': 1, \"she's\": 1, 'up.': 1, 'https://t.co/tEJ9ATm9BS': 1, 'value.': 1, 'white': 1, 'https://t.co/SmLmTrVhOr': 1, 'https://t.co/sYyqDHAVXp': 1, 'Hillary.': 2, 'this.': 4, 'deserve': 3, 'job,': 1, 'refuses': 1, 'good': 3, 'rewards': 1, 'scale': 1, 'rights': 1, '—Barack': 1, 'generations.': 1, 'Trump.': 2, 'States,': 1, 'first': 4, 'We': 24, 'for,': 1, 'https://t.co/tWWEMx0T9s': 1, 'appointed': 1, 'service': 1, \"week's\": 1, 'Gold': 1, 'Remembrance': 1, 'going': 2, 'vote.\"': 2, 'release': 2, '\"Vote.\"': 1, 'Big': 1, 'add': 1, 'Charlotte': 1, 'powerful:': 1, \"Here's\": 1, 'faced': 1, '@FLOTUS:': 1, 'Democracy': 1, 'used': 2, 'looks': 4, 'grow': 3, '@USAirForce': 1, 'using': 2, 'election': 4, 'charity': 1, 'build': 6, '70': 1, 'terrible': 1, 'Romney': 1, 'releasing': 1, 'done': 1, 'times': 1, 'tide,': 1, 'Very': 1, 'great': 5, 'WWII': 1, 'ties': 1, 'mistreat': 1, 'ad': 1, 'friends': 1, 'we’re': 1, '60%': 1, 'https://t.co/t2F93Ml785': 1, 'https://t.co/0dVB5B0gbC': 1, 'workplace.': 1, 'On': 3, \"don't\": 1, 'Orlando:': 1, 'debate.': 1, 'refused': 1, 'president:': 2, 'If': 4, 'https://t.co/xYebpm9NaN': 1, 'alone': 1, 'right': 3, 'run': 1, 'taxpayers:': 1, 'everyone': 4, 'appearance': 1, 'reveals': 1, 'day': 2, 'citizenship.': 2, 'Rico': 1, 'work': 5, 'divisive': 1, 'Is': 1, 'trail': 1, 'pen': 1, 'us': 6, 'Terence': 1, 'https://t.co/qg6J7SXrr0': 1, 'many': 3, 'terrorists': 2, 'strongly': 1, 'faces': 1, 'election.': 1, '@realDonaldTrump': 1, 'systemic': 1, 'serve': 1, 'disability.': 2, 'guy': 1, 'solving': 1, '@FLOTUS': 1, 'Janelle': 1, 'That’s': 1, 'tennis': 1, 'himself.': 3, 'everything': 1, 'you,': 1, 'habit': 1, 'cannon': 1, 'give': 3, 'America,': 3, 'thoughts': 1, 'values': 2, 'try': 1, 'write': 1, 'beliefs': 1, 'https://t.co/TlXODnaV53': 1, 'healthy.': 1, 'dreams,': 1, 'moments': 1, '\"He\\'s': 1, 'disgrace.': 1, 'caring': 1, 'seen': 2, 'message:': 1, 'conspiracy': 2, 'threat': 1, 'sees': 5, '@ChildDefender,': 1, 'works': 2, 'movement': 2, 'Let’s': 2, 'breast': 1, 'call': 3, 'alone.': 1, 'prisoners': 1, 'outside-in': 1, 'hearts': 1, 'real,': 1, 'watch': 2, 'foundation': 1, 'undermine': 1, 'gets': 5, 'person': 1, 'FACT:': 1, 'https://t.co/s5zyaOBLXB': 2, 'https://t.co/enl4NTjdX4': 1, 'commitment': 1, 'daughters?': 1, 'comes': 1, 'interests—but': 1, 'becoming': 1, 'shares': 1, 'you.': 1, 'against:': 1, '“This': 1, 'must': 1, 'divides.': 1, 'The': 5, 'Psychologists': 1, 'https://t.co/CIoKKKIxqz': 1, 'Planning': 1, 'opportunity': 1, 'understand': 1, '9': 1, 'millions': 1, 'not.”': 1, 'yours,': 1, 'exactly': 3, 'laid': 1, 'birther': 4, 'don’t': 1, 'brave': 2, 'doesn’t': 3, 'live': 3, 'young': 1, '8': 1, '\"The': 3, 'safer...and': 1, 'moral': 1, 'turn': 2, 'everyone:': 1, 'welcomes': 1, 'country': 5, 'families.\"': 1, 'much': 5, 'Crutcher.': 1, 'choose': 1, 'wrong.\"': 1, 'At': 1, 'stage': 1, 'Street': 1, 'qualifications': 1, 'message.”': 1, 'went': 1, 'https://t.co/VzUQByCN2A': 1, '“I': 1, 'presidency': 1, 'almost,': 1, 'communities': 1, 'words': 1, 'helps': 1, 'I?\"': 1, 'National': 1, 'bills.': 1, 'them\"': 1, 'veterans.': 1, 'disabilities—to': 1, '9-year-old': 1, 'honor': 1, '\"did': 1, 'disabilities.': 1, 'candidates': 1, 'become': 2, 'needs': 2, 'problems.': 1, 'climate': 1, 'meet': 1, 'world.': 1, 'story': 1, 'https://t.co/Y2oG1CS2AN': 1, '#OpioidAwarenessWeek': 1, 'ballot.': 3, 'paying': 1, 'think': 3, 'path': 1, 'five': 2, 'rubber,': 1, \"Trump's\": 2, 'America': 5, 'inside-out.': 1, 'wrong': 3, 'Just': 1, 'Republicans': 1, '—Karen': 1, 'up!):': 1, '@MercersDairy,': 1, 'another': 2, 'buys': 1, 'name-calling': 1, 'hate.': 4, '@TempleUniv': 1, 'who’s': 2, 'look': 2, 'people,': 1, 'advocate': 1, 'months': 1, 'lift': 1, 'Chip': 1, 'clear': 2, 'held': 1, 'https://t.co/h4qUNNnTOf': 1, 'are,': 2, 'campaign.\"': 1, '\"Donald': 3, 'Anastasia—he': 1, '—@NyleDiMarco': 2, 'perjury.': 1, 'overdue': 1, 'certificates': 1, 'Kaine!”': 1, 'lets': 1, 'read': 1, 'born': 4, 'serving': 1, 'energy': 1, 'Watch': 1, 'students': 2, 'past.': 1, 'charge.': 1, 'Americans,': 1, 'settlements.': 1, 'https://t.co/PhnJJoDmPD': 1, 'origin': 1, 'helped': 1, 'resilient': 1, 'https://t.co/Gxp2QdeIhH': 1, '@NMAAHC': 1, 'Our': 2, 'say:': 1, 'said:': 1, 'this.\"': 1, 'Going': 1, 'hands': 1, 'It': 5, 'co-owner': 1, 'https://t.co/tmHf8m2CdX': 1, 'https://t.co/w00QO1GwyH': 1, 'section,': 1, 'rate': 1, '\"Progress': 1, 'voters?': 1, 'Leading': 1, 'None': 1, 'Trump:': 1, 'debt.\"': 1, 'Clinton': 6, 'me,': 1, 'took': 1, 'Ideas,': 1, 'https://t.co/OmDyINNCrW': 1, 'Help': 2, 'officers.': 1, 'tenants': 1, 'https://t.co/1IrjWddzzy': 1, 'save': 2, 'led': 3, '→': 3, 'know': 5, 'Kate!': 1, 'hatred': 1, 'enough.': 1, 'President': 1, 'https://t.co/4uBuIljQML': 1, \"you'll\": 1, 'face': 1, '@AnastasiaSomoza': 1, 'trail.': 1, 'racist': 2, 'together,': 1, 'people.': 1, 'de-legitimize': 1, 'matter': 2, 'next': 4, 'work,': 1, '&amp;': 6, 'future.': 3, 'demand': 1, 'hard': 1, 'vote:': 2, 'party': 1, 'reason': 1, 'spent': 3, 'better': 4, 'In': 3, 'stems': 1, 'United': 2, 'looked': 1, 'sit': 1, 'War': 1, 'nominee.': 1, 'Hoping': 1, 'nothing': 1, '\"Your': 1, 'is.': 2, 'are.': 2, '\"He': 1, 'elect': 1, 'life': 2, 'country.': 2, \"hasn't.\": 1, 'lawsuits.': 1, \"mate—he's\": 1, 'men': 2, 'president.': 4, 'insults.': 2, 'https://t.co/UP93LCzURv': 1, '#LoveTrumpsHate': 1, 'decisions': 1, 'lying': 1, 'stop.': 1, 'ahead': 1, 'American.': 1, 'worse.': 1, 'Next': 1, 'https://t.co/tDeBH37w7h': 1, 'https://t.co/mpGiRIaPgD': 1, \"Hillary's\": 6, 'higher': 1, 'make': 11, 'cable': 1, 'go.': 1, 'ideas.\"': 1, \"muted—there's\": 1, 'disabilities,': 1, 'decides': 1, \"doesn't\": 3, 'plain': 1, 'made': 2, 'done.': 1, '\"Everyone': 1, 'mark': 1, 'stunts': 1, 'challenges': 1, 'away': 1, 'free': 1, 'kind': 1, 'ballot.\"': 1, 'President,': 1, 'fairly,': 1, '\"I’m': 1, 'walls.': 1, 'yet': 1, 'turns': 1, 'To': 1, 'out.': 1, 'vigilant,': 1, 'calls': 1, 'delay.': 1, 'https://t.co/NMnrgEzNkT': 1, 'money—to': 1, 'justice': 1, '(plus,': 1, 'alongside': 1, 'Obama:': 1, 'inequality': 1, 'https://t.co/NblU3Tth7T': 1, 'may': 2, 'around.': 1, 'As': 1, 'See': 1, '—@NYTimes': 2, 'priority': 1, '\"Read': 1, 'bullying,': 1, 'anger.': 1, '—@FLOTUS:': 3, 'generation': 1, 'sits': 1}\n"
     ]
    }
   ],
   "source": [
    "print(word_counts)"
   ]
  },
  {
   "cell_type": "code",
   "execution_count": 60,
   "metadata": {
    "collapsed": false
   },
   "outputs": [
    {
     "name": "stdout",
     "output_type": "stream",
     "text": [
      "{'insults.': 2, 'girl.\"': 2, 'https://t.co/qa9qO4AFxW': 2, 'disqualify': 2, 'best': 2, 'others.': 2, '-H': 4, 'time': 2, 'let': 2, \"shouldn't\": 2, 'himself.': 3, 'future.': 3, 'https://t.co/wDxspmxT9Q': 2, 'history.': 2, 'attacks': 2, 'say': 3, \"It's\": 3, 'knocked': 2, 'trumps': 3, '—@NYTimes': 2, 'tax': 2, 'fighting': 2, 'So': 2, 'afford': 2, 'registered': 2, 'student': 3, 'seen': 2, '\"I': 7, 'need': 5, 'president.”': 2, 'disability.': 2, 'https://t.co/2LRtZB3Ri2': 2, '“I’m': 2, 'build': 6, 'back': 3, 'inclusive': 3, '\"Hillary': 3, 'progress': 2, 'backs': 2, 'TV': 2, 'watch': 2, 'A': 2, 'president:': 2, 'believes': 2, 'kids': 3, 'can’t': 3, 'like': 4, 'economy': 4, 'help': 2, 'people': 10, 'got': 7, 'families': 2, 'matter': 2, 'led': 3, 'without': 4, 'take': 5, 'judge': 2, 'We’ve': 2, 'get': 10, 'would': 5, 'ever': 3, 'fix': 2, 'Obama': 2, 'candidate': 2, 'exactly': 3, 'I': 3, 'better': 4, 'And': 2, 'brave': 2, 'doesn’t': 3, \"We've\": 2, 'Tune': 2, 'years': 5, 'Between': 2, 'turning': 2, \"Let's\": 4, 'turn': 2, 'country': 5, 'much': 5, 'someone': 5, 'really': 2, 'always': 3, \"doesn't\": 3, 'Trump’s': 2, 'said': 2, 'students': 2, 'able': 3, \"America's\": 2, 'day': 2, 'black': 2, 'Hillary.': 2, 'peddling': 2, 'made': 2, 'He': 2, 'America,': 3, 'Hillary': 15, 'Flint': 2, 'Trump': 41, 'Barack': 3, 'birther': 4, 'every': 4, 'become': 2, 'needs': 2, 'https://t.co/NG1am536OS': 2, 'sure': 5, 'police': 4, 'ballot.': 3, 'means': 2, 'money': 2, 'this.': 4, 'think': 3, 'five': 2, \"Trump's\": 2, 'America': 5, 'stand': 2, 'clear': 2, 'see': 5, 'movement': 2, 'hate.': 4, 'next': 4, 'who’s': 2, 'look': 2, 'Americans': 4, '“We': 2, 'vote': 4, 'it.': 4, 'way': 2, 'world': 2, 'things': 4, 'are,': 2, 'chance': 5, 'It’s': 5, 'vote.\"': 2, 'else': 2, 'plan': 3, 'Ferns': 2, 'do.': 2, 'African': 3, 'real': 3, '—@LATimes': 2, 'too.': 2, \"can't\": 3, 'born': 4, 'determine': 2, 'Oval': 2, 'future': 3, 'Our': 2, 'The': 5, 'spent': 3, 'walk': 2, 'still': 2, 'live': 3, 'wrong': 3, 'president': 11, 'November': 2, 'If': 4, '\"Donald': 3, 'used': 2, 'disabilities': 2, 'committed': 2, 'women': 6, '—@FLOTUS': 8, '126': 2, 'Let’s': 2, 'Republican': 4, 'unfit': 2, 'first': 4, 'that.': 2, 'one': 6, 'No': 3, 'https://t.co/tTgeqxNqYm': 13, 'In': 3, '—@NyleDiMarco': 2, 'Clinton': 6, 'far': 3, 'disability': 2, 'Two': 2, 'looks': 4, 'United': 2, 'save': 2, 'another': 2, '→': 3, 'other.”': 2, 'know': 5, 'https://t.co/tTgeqy51PU': 2, 'important': 2, 'stop': 2, 'racist': 2, '—Hillary': 15, 'This': 7, 'deserve': 3, 'presidential': 3, 'we’ve': 3, 'never': 3, '&amp;': 6, 'good': 3, 'Help': 2, 'intolerable.': 2, 'vote:': 2, 'want': 10, 'campaign': 2, 'You': 2, 'Trump.': 2, \"@POTUS's\": 3, 'What': 2, 'We': 24, 'shortchange': 2, '\"You': 3, 'settle': 2, 'going': 2, \"you're\": 2, 'part': 2, 'reality': 2, 'release': 2, 'takes': 2, 'greatest': 2, 'are.': 2, 'pragmatic': 2, 'American': 7, 'life': 2, 'country.': 2, 'is.': 2, 'When': 5, 'well': 2, 'Keith': 2, 'voice': 2, 'Donald': 26, 'president.': 4, 'grow': 3, 'love': 4, 'give': 3, 'values': 2, 'using': 2, 'election': 4, 'believe': 5, '—Roxie,': 2, 'works': 2, \"Hillary's\": 6, 'support': 3, 'make': 11, 'sees': 5, 'Lamont': 2, 'great': 5, 'job': 2, 'https://t.co/s5zyaOBLXB': 2, 'leave': 3, \"people's\": 2, 'may': 2, 'share': 2, 'everyone': 4, 'It': 5, 'conspiracy': 2, 'On': 3, '@POTUS': 2, 'long': 3, 'call': 3, 'gets': 5, 'meeting': 2, 'right': 3, 'change': 2, 'man': 2, 'go': 5, \"it's\": 3, '\"We': 3, 'citizenship.': 2, 'something': 2, 'New': 2, 'work': 5, 'regret': 2, 'back.': 2, 'whether': 2, 'I’ve': 2, 'you:': 2, '\"The': 3, 'men': 2, 'us': 6, '—@FLOTUS:': 3, 'college': 6, 'many': 3, 'terrorists': 2}\n",
      "insults. 2\n",
      "girl.\" 2\n",
      "https://t.co/qa9qO4AFxW 2\n",
      "disqualify 2\n",
      "best 2\n",
      "others. 2\n",
      "-H 4\n",
      "time 2\n",
      "let 2\n",
      "shouldn't 2\n",
      "himself. 3\n",
      "future. 3\n",
      "https://t.co/wDxspmxT9Q 2\n",
      "history. 2\n",
      "attacks 2\n",
      "say 3\n",
      "It's 3\n",
      "knocked 2\n",
      "trumps 3\n",
      "—@NYTimes 2\n",
      "tax 2\n",
      "fighting 2\n",
      "So 2\n",
      "afford 2\n",
      "registered 2\n",
      "student 3\n",
      "seen 2\n",
      "\"I 7\n",
      "need 5\n",
      "president.” 2\n",
      "disability. 2\n",
      "https://t.co/2LRtZB3Ri2 2\n",
      "“I’m 2\n",
      "build 6\n",
      "back 3\n",
      "inclusive 3\n",
      "\"Hillary 3\n",
      "progress 2\n",
      "backs 2\n",
      "TV 2\n",
      "watch 2\n",
      "A 2\n",
      "president: 2\n",
      "believes 2\n",
      "kids 3\n",
      "can’t 3\n",
      "like 4\n",
      "economy 4\n",
      "help 2\n",
      "people 10\n",
      "got 7\n",
      "families 2\n",
      "matter 2\n",
      "led 3\n",
      "without 4\n",
      "take 5\n",
      "judge 2\n",
      "We’ve 2\n",
      "get 10\n",
      "would 5\n",
      "ever 3\n",
      "fix 2\n",
      "Obama 2\n",
      "candidate 2\n",
      "exactly 3\n",
      "I 3\n",
      "better 4\n",
      "And 2\n",
      "brave 2\n",
      "doesn’t 3\n",
      "We've 2\n",
      "Tune 2\n",
      "years 5\n",
      "Between 2\n",
      "turning 2\n",
      "Let's 4\n",
      "turn 2\n",
      "country 5\n",
      "much 5\n",
      "someone 5\n",
      "really 2\n",
      "always 3\n",
      "doesn't 3\n",
      "Trump’s 2\n",
      "said 2\n",
      "students 2\n",
      "able 3\n",
      "America's 2\n",
      "day 2\n",
      "black 2\n",
      "Hillary. 2\n",
      "peddling 2\n",
      "made 2\n",
      "He 2\n",
      "America, 3\n",
      "Hillary 15\n",
      "Flint 2\n",
      "Trump 41\n",
      "Barack 3\n",
      "birther 4\n",
      "every 4\n",
      "become 2\n",
      "needs 2\n",
      "https://t.co/NG1am536OS 2\n",
      "sure 5\n",
      "police 4\n",
      "ballot. 3\n",
      "means 2\n",
      "money 2\n",
      "this. 4\n",
      "think 3\n",
      "five 2\n",
      "Trump's 2\n",
      "America 5\n",
      "stand 2\n",
      "clear 2\n",
      "see 5\n",
      "movement 2\n",
      "hate. 4\n",
      "next 4\n",
      "who’s 2\n",
      "look 2\n",
      "Americans 4\n",
      "“We 2\n",
      "vote 4\n",
      "it. 4\n",
      "way 2\n",
      "world 2\n",
      "things 4\n",
      "are, 2\n",
      "chance 5\n",
      "It’s 5\n",
      "vote.\" 2\n",
      "else 2\n",
      "plan 3\n",
      "Ferns 2\n",
      "do. 2\n",
      "African 3\n",
      "real 3\n",
      "—@LATimes 2\n",
      "too. 2\n",
      "can't 3\n",
      "born 4\n",
      "determine 2\n",
      "Oval 2\n",
      "future 3\n",
      "Our 2\n",
      "The 5\n",
      "spent 3\n",
      "walk 2\n",
      "still 2\n",
      "live 3\n",
      "wrong 3\n",
      "president 11\n",
      "November 2\n",
      "If 4\n",
      "\"Donald 3\n",
      "used 2\n",
      "disabilities 2\n",
      "committed 2\n",
      "women 6\n",
      "—@FLOTUS 8\n",
      "126 2\n",
      "Let’s 2\n",
      "Republican 4\n",
      "unfit 2\n",
      "first 4\n",
      "that. 2\n",
      "one 6\n",
      "No 3\n",
      "https://t.co/tTgeqxNqYm 13\n",
      "In 3\n",
      "—@NyleDiMarco 2\n",
      "Clinton 6\n",
      "far 3\n",
      "disability 2\n",
      "Two 2\n",
      "looks 4\n",
      "United 2\n",
      "save 2\n",
      "another 2\n",
      "→ 3\n",
      "other.” 2\n",
      "know 5\n",
      "https://t.co/tTgeqy51PU 2\n",
      "important 2\n",
      "stop 2\n",
      "racist 2\n",
      "—Hillary 15\n",
      "This 7\n",
      "deserve 3\n",
      "presidential 3\n",
      "we’ve 3\n",
      "never 3\n",
      "&amp; 6\n",
      "good 3\n",
      "Help 2\n",
      "intolerable. 2\n",
      "vote: 2\n",
      "want 10\n",
      "campaign 2\n",
      "You 2\n",
      "Trump. 2\n",
      "@POTUS's 3\n",
      "What 2\n",
      "We 24\n",
      "shortchange 2\n",
      "\"You 3\n",
      "settle 2\n",
      "going 2\n",
      "you're 2\n",
      "part 2\n",
      "reality 2\n",
      "release 2\n",
      "takes 2\n",
      "greatest 2\n",
      "are. 2\n",
      "pragmatic 2\n",
      "American 7\n",
      "life 2\n",
      "country. 2\n",
      "is. 2\n",
      "When 5\n",
      "well 2\n",
      "Keith 2\n",
      "voice 2\n",
      "Donald 26\n",
      "president. 4\n",
      "grow 3\n",
      "love 4\n",
      "give 3\n",
      "values 2\n",
      "using 2\n",
      "election 4\n",
      "believe 5\n",
      "—Roxie, 2\n",
      "works 2\n",
      "Hillary's 6\n",
      "support 3\n",
      "make 11\n",
      "sees 5\n",
      "Lamont 2\n",
      "great 5\n",
      "job 2\n",
      "https://t.co/s5zyaOBLXB 2\n",
      "leave 3\n",
      "people's 2\n",
      "may 2\n",
      "share 2\n",
      "everyone 4\n",
      "It 5\n",
      "conspiracy 2\n",
      "On 3\n",
      "@POTUS 2\n",
      "long 3\n",
      "call 3\n",
      "gets 5\n",
      "meeting 2\n",
      "right 3\n",
      "change 2\n",
      "man 2\n",
      "go 5\n",
      "it's 3\n",
      "\"We 3\n",
      "citizenship. 2\n",
      "something 2\n",
      "New 2\n",
      "work 5\n",
      "regret 2\n",
      "back. 2\n",
      "whether 2\n",
      "I’ve 2\n",
      "you: 2\n",
      "\"The 3\n",
      "men 2\n",
      "us 6\n",
      "—@FLOTUS: 3\n",
      "college 6\n",
      "many 3\n",
      "terrorists 2\n"
     ]
    }
   ],
   "source": [
    "#one more filtering with some custome specified stopwords what are not in nltk library\n",
    "filterHillaryClinton = {k: v for k, v in word_counts.items() if v > 1}\n",
    "\n",
    "print(filterHillaryClinton)\n",
    "\n",
    "Stopwords = ['A','AND','An','And','As','Be','C','this','they',\n",
    "'Can','D','Do','Don','For','Go','He','IS','Is','It','K','M', 'I',\n",
    "'O','On','P','Q','R','S','So','T','THE','That','The','Their','There',\n",
    "'They','This','U','we','you','words','w','ve','u','the','that','than',\n",
    "'her','he','had','for','e','d','co','a','V','TV','was','to','so','she'\n",
    "'t','such','some','s','re','my','m','ll','is','it','of','as','at','am',\n",
    "'t', 'or','our','in','do','be','them','they','their','this','were','when',\n",
    "'who','with','what','amp','an','and','are','000','your','she','him','his',\n",
    "'get','but','would','https','on','have','will','all','has',\n",
    "'just', 'now','out','about','from','by', 'the', 'v', 'b','—Hillary','&amp;', 'Hillary']\n",
    "\n",
    "for k, v in list(filterHillaryClinton.items()):\n",
    "    print(k, v)\n",
    "    if k in Stopwords:\n",
    "        del filterHillaryClinton[k]"
   ]
  },
  {
   "cell_type": "code",
   "execution_count": 61,
   "metadata": {
    "collapsed": false
   },
   "outputs": [
    {
     "name": "stdout",
     "output_type": "stream",
     "text": [
      "{'American': 7, 'president': 11, 'one': 6, 'make': 11, 'https://t.co/tTgeqxNqYm': 13, 'We': 24, '\"I': 7, 'need': 5, 'Clinton': 6, 'women': 6, 'Donald': 26, '—@FLOTUS': 8, 'build': 6, \"Hillary's\": 6, 'us': 6, 'Trump': 41, 'got': 7, 'college': 6, 'people': 10, 'want': 10}\n"
     ]
    }
   ],
   "source": [
    "toptwentyHillaryClinton = dict(Counter(filterHillaryClinton).most_common(20))\n",
    "print(toptwentyHillaryClinton)\n"
   ]
  },
  {
   "cell_type": "code",
   "execution_count": 62,
   "metadata": {
    "collapsed": false
   },
   "outputs": [
    {
     "data": {
      "text/plain": [
       "<matplotlib.text.Text at 0x115729780>"
      ]
     },
     "execution_count": 62,
     "metadata": {},
     "output_type": "execute_result"
    },
    {
     "data": {
      "image/png": "[encoded data removed]",
      "text/plain": [
       "<matplotlib.figure.Figure at 0x115941fd0>"
      ]
     },
     "metadata": {},
     "output_type": "display_data"
    }
   ],
   "source": [
    "plt.bar(range(len(toptwentyHillaryClinton)), toptwentyHillaryClinton.values(), align='edge')\n",
    "plt.xticks(range(len(toptwentyHillaryClinton)), toptwentyHillaryClinton.keys(), rotation=90)\n",
    "plt.title('HillaryClinton Twenty Most Frequent Words')\n",
    "plt.xlabel('Words')\n",
    "plt.ylabel('Counts')"
   ]
  },
  {
   "cell_type": "code",
   "execution_count": 63,
   "metadata": {
    "collapsed": false
   },
   "outputs": [
    {
     "name": "stdout",
     "output_type": "stream",
     "text": [
      "Counter({'Trump': 41, 'Donald': 26, 'We': 24, 'Hillary': 15, '—Hillary': 15, 'https://t.co/tTgeqxNqYm': 13, 'president': 11, 'make': 11, 'people': 10, 'want': 10, 'get': 10, '—@FLOTUS': 8, 'American': 7, 'got': 7, 'This': 7, '\"I': 7, 'college': 6, 'us': 6, '&amp;': 6, \"Hillary's\": 6, 'women': 6, 'Clinton': 6, 'one': 6, 'build': 6, 'sure': 5, 'go': 5, 'great': 5, 'work': 5, 'sees': 5, 'gets': 5, 'The': 5, 'country': 5, 'need': 5, 'someone': 5, 'chance': 5, 'When': 5, 'take': 5, 'would': 5, 'It’s': 5, 'believe': 5, 'see': 5, 'years': 5, 'know': 5, 'much': 5, 'America': 5, 'It': 5, 'love': 4, 'looks': 4, 'without': 4, 'things': 4, 'everyone': 4, 'Americans': 4, 'next': 4, 'If': 4, 'hate.': 4, 'president.': 4, 'like': 4, 'vote': 4, 'it.': 4, 'Republican': 4, 'police': 4, 'every': 4, '-H': 4, 'economy': 4, \"Let's\": 4, 'better': 4, 'this.': 4, 'first': 4, 'election': 4, 'birther': 4, 'born': 4, 'inclusive': 3, 'plan': 3, 'real': 3, '\"Hillary': 3, 'presidential': 3, 'never': 3, 'support': 3, \"it's\": 3, 'back': 3, 'student': 3, 'leave': 3, '\"We': 3, \"@POTUS's\": 3, 'say': 3, 'On': 3, 'right': 3, 'himself.': 3, 'exactly': 3, 'live': 3, '\"The': 3, 'call': 3, 'led': 3, \"doesn't\": 3, 'trumps': 3, 'African': 3, 'ballot.': 3, 'future.': 3, \"can't\": 3, 'future': 3, 'grow': 3, '\"You': 3, \"It's\": 3, 'can’t': 3, 'ever': 3, 'always': 3, 'able': 3, 'No': 3, 'long': 3, 'kids': 3, 'I': 3, 'Barack': 3, 'spent': 3, 'we’ve': 3, 'deserve': 3, 'good': 3, 'wrong': 3, 'many': 3, 'give': 3, 'America,': 3, 'doesn’t': 3, 'think': 3, '\"Donald': 3, 'far': 3, '→': 3, 'In': 3, '—@FLOTUS:': 3, 'https://t.co/qa9qO4AFxW': 2, 'afford': 2, 'president.”': 2, 'disability.': 2, '“I’m': 2, 'time': 2, 'fix': 2, 'Obama': 2, 'candidate': 2, 'means': 2, 'Between': 2, 'Trump’s': 2, 'https://t.co/NG1am536OS': 2, 'else': 2, 'too.': 2, 'watch': 2, 'committed': 2, 'Two': 2, 'job': 2, 'something': 2, 'regret': 2, 'fighting': 2, 'best': 2, 'others.': 2, 'let': 2, 'knocked': 2, 'We’ve': 2, 'And': 2, 'really': 2, 'stand': 2, 'way': 2, 'turning': 2, 'unfit': 2, 'important': 2, 'intolerable.': 2, 'other.”': 2, 'takes': 2, 'greatest': 2, '—Roxie,': 2, 'Lamont': 2, '@POTUS': 2, 'change': 2, 'brave': 2, 'life': 2, 'I’ve': 2, 'United': 2, 'attacks': 2, '—@NYTimes': 2, 'So': 2, 'registered': 2, 'believes': 2, 'help': 2, 'families': 2, \"America's\": 2, 'He': 2, 'money': 2, 'do.': 2, 'walk': 2, 'still': 2, 'disabilities': 2, 'part': 2, 'Trump.': 2, 'going': 2, 'using': 2, 'Ferns': 2, 'terrorists': 2, 'movement': 2, 'Let’s': 2, 'turn': 2, 'needs': 2, \"Trump's\": 2, 'who’s': 2, 'look': 2, 'clear': 2, 'matter': 2, 'Our': 2, 'you:': 2, 'Help': 2, 'is.': 2, 'are.': 2, 'share': 2, 'conspiracy': 2, 'girl.\"': 2, 'history.': 2, 'tax': 2, 'disqualify': 2, 'progress': 2, 'backs': 2, 'TV': 2, 'settle': 2, 'https://t.co/2LRtZB3Ri2': 2, 'said': 2, 'black': 2, 'Flint': 2, 'five': 2, 'another': 2, 'peddling': 2, 'vote.\"': 2, 'https://t.co/s5zyaOBLXB': 2, 'November': 2, '126': 2, 'that.': 2, 'stop': 2, 'campaign': 2, 'New': 2, 'voice': 2, 'pragmatic': 2, \"people's\": 2, 'back.': 2, \"shouldn't\": 2, 'You': 2, 'president:': 2, 'judge': 2, \"We've\": 2, 'Tune': 2, 'A': 2, '“We': 2, 'Oval': 2, 'https://t.co/tTgeqy51PU': 2, 'world': 2, 'What': 2, \"you're\": 2, 'reality': 2, 'man': 2, 'whether': 2, 'https://t.co/wDxspmxT9Q': 2, 'well': 2, 'determine': 2, 'become': 2, 'works': 2, 'Hillary.': 2, 'shortchange': 2, 'release': 2, 'Keith': 2, 'day': 2, 'citizenship.': 2, 'seen': 2, 'used': 2, 'students': 2, 'are,': 2, '—@NyleDiMarco': 2, '—@LATimes': 2, 'disability': 2, 'save': 2, 'racist': 2, 'vote:': 2, 'country.': 2, 'men': 2, 'insults.': 2, 'values': 2, 'made': 2, 'meeting': 2, 'may': 2, 'cleaner,': 1, 'States.': 1, '\"projecting.\"': 1, 'https://t.co/QOqcWnw7OJ': 1, 'https://t.co/nEB4qSm2YX': 1, 'names': 1, 'ours?': 1, 'https://t.co/t1uxcoVJT5': 1, 'person,': 1, 'video': 1, 'off,': 1, 'promise.': 1, 'Rico': 1, 'At': 1, 'grid': 1, 'insult': 1, '8,': 1, 'https://t.co/X3oqEoOYsU': 1, 'Prisoners': 1, 'failing.': 1, 'created': 1, 'miss': 1, 'I’m': 1, \"didn't\": 1, 'patriotic': 1, 'https://t.co/NJuB7JkyDL': 1, 'renewable': 1, 'Black': 1, 'https://t.co/Mmyqestken': 1, 'week,': 1, 'account?': 1, 'resentment.': 1, 'Sollender,': 1, 'president…who': 1, 'ideas,': 1, 'https://t.co/Dw4KoVgrQ3': 1, 'https://t.co/vm1KX2uOXt': 1, '10.': 1, 'new': 1, 'Presidential.': 1, 'trust,': 1, 'https://t.co/NMnrgEzNkT': 1, \"Don't\": 1, 'career.': 1, '—@TimKaine': 1, 'young': 1, 'spirit': 1, 'https://t.co/dAwaE8Dg0C': 1, 'have.\"': 1, 'projecting': 1, 'beat': 1, 'Too': 1, 'Mexican,': 1, 'career—and': 1, 'done': 1, 'ahead': 1, 'apology.': 1, 'everything': 1, 'drive': 1, 'poverty,': 1, 'Sexes.”': 1, 'For': 1, 'days': 1, 'disabilities.': 1, 'stronger': 1, 'https://t.co/XwvEuxsrOV': 1, 'everything.': 1, 'targeting': 1, '\"When': 1, 'Muslims,': 1, 'glue.\"': 1, 'accused': 1, 'turned': 1, 'especially': 1, 'world.': 1, 'childhood': 1, 'wounded,': 1, 'prevail.”': 1, 'siding': 1, 'co-owner': 1, 'Foundation': 1, 'trail.': 1, 'Remembrance': 1, 'https://t.co/fiXgr6S3Ye': 1, 'simple.': 1, 'https://t.co/DXlybx7oA5': 1, 'bridge': 1, 'struggling': 1, 'Bobby': 1, 'pal,': 1, '\"Elections': 1, 'lifetime.\"': 1, 'working': 1, 'list': 1, 'fight': 1, 'again.': 1, 'businesses,': 1, 'debt.': 1, 'story,': 1, 'send': 1, 'proves': 1, 'We’re': 1, 'fans.': 1, \"She's\": 1, 'debt,': 1, 'full-time': 1, 'like,': 1, 'today': 1, 'himself,': 1, 'electrical': 1, 'fear.': 1, 'torture': 1, 'Emmy,': 1, 'candidacy:': 1, 'life,': 1, 'USAF!': 1, 'Plans,': 1, 'qualified': 1, 'That': 1, 'Minnesota,': 1, 'poisoning': 1, 'ridiculous': 1, 'work.': 1, 'spending': 1, 'https://t.co/3ZIezeRTl9': 1, 'zero': 1, 'served': 1, 'Grateful': 1, 'sign': 1, '\"Trump': 1, 'hatred': 1, 'run': 1, 'terrible': 1, 'failing': 1, 'solving': 1, 'laws.': 1, 'lesson': 1, 'Check': 1, 'birthday,': 1, 'releasing': 1, 'Apologize': 1, 'paranoia.': 1, 'certificates': 1, 'Jersey,': 1, '—@BernieSanders': 1, '\"She': 1, 'push': 1, 'years,': 1, '\"Like': 1, 'refuses': 1, 'attacked': 1, 'ET': 1, 'https://t.co/mHGncsXG6y': 1, '.@TimKaine': 1, 'face.': 1, 'months': 1, 'w…': 1, 'vice': 1, 'graduation': 1, 'charitable': 1, 'home': 1, 'https://t.co/mYba5FCBrb': 1, 'shouldn’t': 1, '.@FLOTUS': 1, 'what.': 1, 'Find': 1, 'blame': 1, 'ad': 1, 'Do': 1, 'end.': 1, 'shooting': 1, 'nominee:': 1, 'https://t.co/eADlIG9aQL': 1, 'https://t.co/XBCJ4mTj24': 1, 'Any': 1, 'year,': 1, 'https://t.co/0dVB5B0gbC': 1, 'Optimism,': 1, 'thinking': 1, 'Mitt': 1, 'https://t.co/GyveEjARku': 1, 'https://t.co/nrjcqfGiRe': 1, 'saddled': 1, 'families,': 1, '“The': 1, 'lie': 1, 'bully.\"': 1, 'don’t': 1, 'gives': 1, 'tuition-free': 1, 'figure.': 1, 'Kids': 1, 'deflect': 1, 'returns.': 1, 'alongside': 1, 'https://t.co/f4YzTBmIdl': 1, 'education': 1, 'https://t.co/DhSlyM6ILQ': 1, 'https://t.co/lKDDD0wwsn': 1, 'Take': 1, 'today.': 1, 'afraid': 1, 'problems': 1, 'taxpayers:': 1, 'how:': 1, 'color.': 1, 'fellow': 1, 'service': 1, \"he's\": 1, 'fairness': 1, 'simple': 1, 'cancer': 1, 'college?': 1, 'November.': 1, 'killed': 1, 'feel': 1, 'passed': 1, 'https://t.co/NReJ3wJE8l': 1, 'waited': 1, '@FallonTonight': 1, 'quit—no': 1, 'crisis—but': 1, 'Register': 1, 'innate': 1, 'keep': 1, 'lying.': 1, 'approved': 1, 'jury': 1, 'Bridges,': 1, 'demand': 1, 'hear.\"': 1, '“You’ve': 1, 'incites': 1, 'destroy': 1, 'accept': 1, 'president.\"': 1, 'Obama.”': 1, 'Go': 1, 'Wall': 1, 'come': 1, 'faithful': 1, 'welcoming': 1, 'Day,': 1, 'https://t.co/tlfpcbVqkT': 1, 'resilience': 1, '—Donald': 1, 'forward': 1, 'afraid…we': 1, 'Addiction': 1, 'seeking': 1, \"We're\": 1, 'treats': 1, 'Over': 1, 'Congratulations': 1, 'purchase': 1, 'communities': 1, 'power.': 1, 'habit': 1, 'debt?': 1, 'send-off?': 1, 'us.': 1, 'Joel': 1, 'https://t.co/V9Uz3jVEjN': 1, 'https://t.co/3mQgqZ7b8V': 1, 'previously': 1, 'Happy': 1, 'yesterday,': 1, 'bad': 1, 'Indiana,': 1, 'Aleatha:': 1, 'paintings': 1, 'seriously.”': 1, 'https://t.co/mYuTS4qgF4': 1, '@MercersDairy,': 1, 'https://t.co/muVNwgLSRs': 1, 'economic': 1, 'condemn': 1, 'Expressing': 1, 'owes': 1, 'theory,': 1, 'https://t.co/RGUqGN4I7i': 1, 'College': 1, 'child': 1, 'barriers': 1, 'presidency.\"': 1, 'Tolerance': 1, 'Live': 1, 'down.': 1, \"they're\": 1, 'Or': 1, 'November,': 1, 'history': 1, 'undone.': 1, 'you’ve': 1, 'message:': 1, 'mistakes.': 1, 'hate—not': 1, 'discrimination': 1, 'finally': 1, 'lead': 1, 'ago': 1, 'POW,': 1, 'unarmed': 1, '\"Your': 1, 'six-foot-tall': 1, 'often': 1, 'early': 1, 'nobody': 1, 'faced': 1, '@ChelseaClinton': 1, 'concerned': 1, 'hiding': 1, 'show.': 1, '\"Let': 1, 'Virginia:': 1, '2008—but': 1, 'up.': 1, 'white': 1, 'seen.”': 1, 'problems.\"': 1, 'job,': 1, 'Jean': 1, 'rewards': 1, 'small': 1, '—Barack': 1, 'generations.': 1, 'States,': 1, 'for,': 1, 'https://t.co/tWWEMx0T9s': 1, 'appointed': 1, \"week's\": 1, 'responders”': 1, 'https://t.co/J3Jq21ejtR': 1, '@FLOTUS:': 1, 'Democracy': 1, 'lets': 1, 'Every': 1, 'Romney': 1, \"We'll\": 1, 'outside-in': 1, 'times': 1, 'Very': 1, 'forgo': 1, 'https://t.co/tXLPQtR7tb': 1, 'friends': 1, 'we’re': 1, '60%': 1, 'adults': 1, '\"Our': 1, 'https://t.co/xYebpm9NaN': 1, 'pay': 1, \"everyone's\": 1, 'appearance': 1, 'reveals': 1, 'divisive': 1, 'trail': 1, 'pen': 1, 'strongly': 1, 'systemic': 1, 'mark': 1, 'thrilled': 1, 'Janelle': 1, 'https://t.co/Qo1RmQDwd6': 1, 'tennis': 1, 'lies': 1, 'cannon': 1, 'try': 1, 'beliefs': 1, 'https://t.co/TlXODnaV53': 1, 'shares': 1, 'threat': 1, '50': 1, '@ChildDefender,': 1, 'against:': 1, 'turns': 1, 'Clinton,': 1, 'undermine': 1, 'choice,': 1, 'FACT:': 1, 'commitment': 1, 'interests—but': 1, 'becoming': 1, 'caring': 1, 'must': 1, 'Psychologists': 1, 'opportunity': 1, '9': 1, 'not.”': 1, 'yours,': 1, 'laid': 1, 'https://t.co/KHguTDbKW9': 1, 'succeed.': 1, 'families.\"': 1, 'tide,': 1, 'qualifications': 1, 'went': 1, '“I': 1, 'presidency': 1, 'almost,': 1, 'justice': 1, 'I?\"': 1, 'National': 1, 'bills.': 1, 'knowingly': 1, 'disabilities—to': 1, '9-year-old': 1, 'climate': 1, 'story': 1, 'smart': 1, 'could': 1, 'catastrophe.\"': 1, 'including': 1, 'Just': 1, '—Karen': 1, 'up!):': 1, 'buys': 1, 'be.”': 1, '@TempleUniv': 1, 'held': 1, 'decisions': 1, 'campaign.\"': 1, 'Anastasia—he': 1, 'overdue': 1, 'Kaine!”': 1, 'ride': 1, 'https://t.co/OmDyINNCrW': 1, 'serving': 1, 'job.\"': 1, 'past.': 1, 'charge.': 1, 'Americans,': 1, 'origin': 1, 'helped': 1, 'resilient': 1, 'Going': 1, 'hands': 1, 'https://t.co/w00QO1GwyH': 1, 'trust': 1, 'took': 1, 'President': 1, 'face': 1, 'together,': 1, 'de-legitimize': 1, 'Charlotte': 1, 'political': 1, 'work,': 1, 'hard': 1, '8': 1, 'favorite': 1, 'Ideas,': 1, 'violence': 1, 'stems': 1, 'racism,': 1, 'sit': 1, 'War': 1, 'nominee.': 1, 'Hoping': 1, 'elect': 1, \"hasn't.\": 1, 'lawsuits.': 1, 'guy': 1, 'stop.': 1, 'https://t.co/G06Ol90j1O': 1, 'Next': 1, 'https://t.co/tDeBH37w7h': 1, 'person': 1, 'prepared': 1, 'ideas.\"': 1, 'decides': 1, 'plain': 1, 'done.': 1, 'stunts': 1, 'away': 1, 'becomes': 1, 'President,': 1, 'words': 1, 'To': 1, 'this.\"': 1, 'https://t.co/NblU3Tth7T': 1, 'around.': 1, 'As': 1, 'See': 1, 'priority': 1, '\"Read': 1, 'bullying,': 1, 'generation': 1, 'Office': 1, 'seem': 1, 'preventing': 1, 'https://t.co/2LRtZBls9A': 1, 'together.”': 1, 'r…': 1, 'Meet': 1, 'them\"': 1, 'Have': 1, 'there:': 1, 'qualifies': 1, 'https://t.co/KzgPQgPjxK': 1, 'thing': 1, 'Street—not': 1, 'deplorable.': 1, 'https://t.co/qaswl7IOOJ': 1, 'ballot': 1, 'That’s': 1, 'Office.': 1, 'building': 1, 'inclusive,': 1, 'draw': 1, 'shows': 1, 'reform.': 1, 'vets.': 1, 'equal.': 1, 'behind': 1, 'cynicism,': 1, 'https://t.co/0aDgpwHtjv': 1, 'Puerto': 1, 'standard': 1, 'girls': 1, 'audit—is': 1, 'owner,': 1, 'hope': 1, '@TempleUniv:': 1, 'https://t.co/7Sus2PxlWC': 1, 'https://t.co/GP4rfhPDGm': 1, 'ordinary': 1, 'https://t.co/FIhZYLmy1l': 1, 'thought,': 1, 'birth': 1, 'drowning': 1, 'voter.': 1, 'Catch': 1, 'paying': 1, 'fan': 1, 'https://t.co/tEJ9ATm9BS': 1, '“Let’s': 1, 'open,': 1, 'change—or': 1, 'he,': 1, '*multiple*': 1, 'apparent': 1, 'https://t.co/tmHf8m2CdX': 1, 'https://t.co/lTxRVn3NBM': 1, 'hearts': 1, 'defeated': 1, 'Obama.': 1, 'won’t': 1, '—@Lin_Manuel': 1, 'outage': 1, '1973,': 1, 'deeply': 1, 'registration': 1, 'Again,': 1, '“Your': 1, 'families.': 1, 'Four': 1, 'dreams': 1, '$258,000': 1, 'ultimate': 1, 'loose': 1, 'answer': 1, 'Tim': 1, 'honestly': 1, 'onto': 1, 'legacy': 1, 'reject': 1, 'foundation': 1, 'Scott.': 1, 'discriminating': 1, 'name-calling': 1, 'examples': 1, 'distinguished': 1, 'bat': 1, 'https://t.co/3lJjQEQ0BR': 1, 'election,': 1, 'movement.': 1, 'speak': 1, 'undermining': 1, 'Star': 1, 'unwritten.': 1, 'resto…': 1, 'aren’t': 1, 'Trump:': 1, 'left': 1, '@CHCI': 1, 'graduate': 1, 'Main': 1, 'he’s': 1, 'denying': 1, 'American.”': 1, 'tear': 1, 'York.\"': 1, 'millions': 1, 'friends,': 1, 'terrorist': 1, 'you.\"': 1, 'normal': 1, 'pushing': 1, 'major': 1, 'https://t.co/nuG8Gqmzt1': 1, 'rhetoric': 1, 'choice': 1, '6-year-olds': 1, 'clear:': 1, 'Payoffs.': 1, 'nominee': 1, 'opportunities': 1, 'before.': 1, '@WellsFargo': 1, '“On': 1, 'mistreat': 1, 'veteran': 1, 'rights': 1, 'career…focused': 1, 'out.': 1, '70': 1, 'https://t.co/B8PCks6yXL': 1, \"don't\": 1, 'money—on:': 1, 'value.': 1, 'Be': 1, 'decide': 1, 'dreams,': 1, 'lift': 1, 'https://t.co/lje3lKrZQy': 1, 'Simply': 1, 'behind.': 1, 'beings,': 1, 'energy': 1, 'said,': 1, '@TimKaine': 1, 'bottom': 1, 'opponent': 1, 'together': 1, 'matters.': 1, 'nothing': 1, 'family,': 1, 'Answers,': 1, '“What': 1, 'daughters': 1, 'enough.': 1, 'disease—not': 1, '\"I\\'m': 1, 'shot': 1, 'jobs': 1, 'https://t.co/HeafYwy0Fp': 1, 'poverty.': 1, 'hear': 1, 'disclosure': 1, 'temperament': 1, 'https://t.co/XMDZPtLNMB': 1, 'down,': 1, 'courage': 1, '\"We’re': 1, 'Americans.”': 1, 'now.': 1, '🎤': 1, 'https://t.co/oZIm2is1lX': 1, 'worse.': 1, 'today,': 1, 'Attempting': 1, \"Can't\": 1, 'Russia': 1, 'birtherism': 1, 'headline': 1, 'looked': 1, 'reform': 1, 'https://t.co/1aWqDOKh7p': 1, 'today.”': 1, 'tribute': 1, 'business': 1, 'speaks': 1, 'service\"': 1, 'president...we': 1, 'said:': 1, 'put': 1, 'find': 1, \"aren't\": 1, 'actually': 1, 'mom': 1, 'counted': 1, 'close': 1, 'https://t.co/0r1N6R8rV6': 1, 'podcast:': 1, 'King': 1, 'resolve.': 1, 'battlefield.': 1, 'star': 1, '#TerenceCrutcher': 1, 'two': 1, 'Another': 1, '@OfficialCBC:': 1, 'Then': 1, 'facing': 1, 'me,': 1, 'daughters?': 1, 'democracy,': 1, 'insults': 1, 'conflict': 1, '\"Progress': 1, 'progressive,': 1, 'cower.': 1, 'letters': 1, 'defend.': 1, 'raft': 1, 'https://t.co/C5bXw5brI9': 1, 'getting': 1, 'benefits.': 1, 'reflecting': 1, 'https://t.co/GgDeBBfoUm': 1, 'violence,': 1, 'votes,': 1, 'https://t.co/VeDJknt4JH': 1, 'did:': 1, 'income': 1, 'actions': 1, 'right.': 1, 'affordable': 1, 'weekend’s': 1, 'debt-free': 1, 'Justice': 1, 'line.': 1, 'aimed': 1, 'workplace.': 1, 'woman—I': 1, 'https://t.co/vmavvobLcs': 1, 'attention': 1, 'Nobody': 1, 'tries': 1, 'race': 1, 'number': 1, 'decision': 1, 'refuse': 1, '\"A': 1, 'https://t.co/v4rISVHYuG': 1, 'do:': 1, 'ensure': 1, 'resolve,': 1, 'candidate.': 1, 'https://t.co/Er2YqHQVhl': 1, 'down…she': 1, 'taking': 1, 'https://t.co/4uBuIljQML': 1, 'indebted': 1, 'science': 1, 'elected': 1, 'better.': 1, 'commit': 1, 'https://t.co/vX0Oycto1Q': 1, 'Portraits': 1, 'tell': 1, 'everyone:': 1, 'sticker': 1, 'old,': 1, 'women,': 1, 'news.': 1, 'hears': 1, 'faults': 1, 'Scott': 1, 'https://t.co/IX06FtcZG8': 1, 'started.': 1, 'him.': 1, 'treat': 1, 'entrepreneurial': 1, 'data': 1, 'POW': 1, 'isn’t': 1, 'asinine.': 1, 'enough': 1, 'worst': 1, 'https://t.co/NSy3fkcu1c': 1, 'trump': 1, 'Legal': 1, 'children': 1, 'https://t.co/gzNvfNPeNu': 1, 'degree.\"': 1, 'fall': 1, 'bullies': 1, '11:35pm': 1, 'power': 1, 'https://t.co/fCcXd1MrTo': 1, 'https://t.co/t2F93Ml785': 1, 'WWII': 1, 'retweets': 1, 'RT': 1, 'champion': 1, 'https://t.co/jaMcdARYn1': 1, '“Battle': 1, 'https://t.co/yTAG2iT8WL': 1, 'https://t.co/svkSUzhwYz': 1, 'https://t.co/5WX2qYgUjC': 1, 'safe': 1, 'lied.\"': 1, 'hard,': 1, 'human': 1, 'spectacle': 1, 'society': 1, 'Latino': 1, 'Pretty': 1, 'community': 1, 'family': 1, 'incident.': 1, 'hat…': 1, 'Nothing—including': 1, \"city's\": 1, 'https://t.co/gYbm5HxfxG': 1, 'Billie': 1, 'bank': 1, 'respect.': 1, 'election.': 1, 'Building': 1, 'running': 1, 'https://t.co/SmLmTrVhOr': 1, 'scale': 1, 'Gold': 1, 'record': 1, '—@POTUS:': 1, '\"Vote.\"': 1, 'Big': 1, 'add': 1, 'powerful:': 1, \"Here's\": 1, 'always.': 1, '@USAirForce': 1, 'Hillary…': 1, \"wasn't\": 1, 'break': 1, 'money—to': 1, 'https://t.co/1IrjWddzzy': 1, 'https://t.co/yq9IWnvXUc': 1, 'entire': 1, '#LoveTrumpsHate': 1, 'endorsing': 1, 'Orlando:': 1, 'debate.': 1, 'refused': 1, 'problems.': 1, 'endeavored': 1, 'alone': 1, 'true': 1, 'up.”': 1, 'sober,': 1, 'foundation—funded': 1, 'Is': 1, 'friend.': 1, 'https://t.co/qg6J7SXrr0': 1, 'faces': 1, '@realDonaldTrump': 1, '@AnastasiaSomoza': 1, 'serve': 1, '@FLOTUS': 1, 'progress,': 1, 'you,': 1, 'cheering': 1, 'thoughts': 1, 'lying': 1, 'healthy.': 1, 'test': 1, 'moments': 1, '\"He\\'s': 1, 'disgrace.': 1, 'legal': 1, 'blown': 1, 'friend,': 1, 'breast': 1, 'Terence': 1, 'alone.': 1, 'prisoners': 1, 'real,': 1, 'president,': 1, 'https://t.co/mpGBCNlemA': 1, 'https://t.co/mpGiRIaPgD': 1, 'comes': 1, 'you.': 1, '“This': 1, 'pays': 1, 'divides.': 1, 'https://t.co/Jqf2jmx3D0': 1, 'https://t.co/CIoKKKIxqz': 1, 'Planning': 1, 'understand': 1, '\"did': 1, 'wants': 1, 'go.': 1, 'safer...and': 1, 'debt.\"': 1, 'Crutcher.': 1, 'choose': 1, 'wrong.\"': 1, 'stage': 1, 'Street': 1, 'message.”': 1, 'https://t.co/VzUQByCN2A': 1, 'higher': 1, 'charity': 1, 'helps': 1, 'unbearable,': 1, 'officers—but': 1, 'veterans.': 1, 'honor': 1, 'candidates': 1, 'meet': 1, 'alone.\"': 1, '\"Everyone': 1, 'https://t.co/Y2oG1CS2AN': 1, '#OpioidAwarenessWeek': 1, 'began': 1, 'path': 1, 'rubber,': 1, 'define': 1, 'inside-out.': 1, 'her.\"': 1, 'Republicans': 1, 'help.': 1, 'kind': 1, 'ballot.\"': 1, 'advocate': 1, 'Chip': 1, 'https://t.co/h4qUNNnTOf': 1, 'perjury.': 1, 'read': 1, 'https://t.co/m9H9b9X7Ar': 1, 'Watch': 1, 'given': 1, 'https://t.co/sYyqDHAVXp': 1, 'settlements.': 1, 'https://t.co/PhnJJoDmPD': 1, 'Leading': 1, 'https://t.co/Gxp2QdeIhH': 1, '@NMAAHC': 1, 'say:': 1, 'themselves?': 1, 'moral': 1, 'section,': 1, 'rate': 1, 'voters?': 1, 'supremacists,': 1, 'None': 1, 'write': 1, 'win': 1, 'https://t.co/lkOFcHI4Py': 1, 'officers.': 1, 'tenants': 1, 'don’t,': 1, 'lifetime’s': 1, 'ties': 1, 'biggest': 1, 'vote.”': 1, 'Most': 1, \"you'll\": 1, 'under-investment': 1, 'people.': 1, 'party': 1, 'reason': 1, \"hasn't\": 1, 'https://t.co/5TU9olTqd5': 1, \"she's\": 1, 'https://t.co/NTeF9u8JpN': 1, 'walls.': 1, '\"He': 1, 'tuition.”': 1, \"mate—he's\": 1, 'https://t.co/UP93LCzURv': 1, 'also': 1, 'American.': 1, 'seek': 1, 'https://t.co/enl4NTjdX4': 1, 'cable': 1, \"muted—there's\": 1, 'disabilities,': 1, 'people,': 1, 'Riggs': 1, 'welcomes': 1, 'challenges': 1, 'fairly,': 1, '\"I’m': 1, 'Kate!': 1, 'yet': 1, 'vigilant,': 1, 'calls': 1, 'delay.': 1, '(plus,': 1, 'Obama:': 1, 'inequality': 1, 'since': 1, 'free': 1, 'anger.': 1, 'sits': 1})\n"
     ]
    }
   ],
   "source": [
    "#counting words\n",
    "from collections import Counter\n",
    "counts = Counter(word_counts)\n",
    "print(counts)"
   ]
  },
  {
   "cell_type": "code",
   "execution_count": 65,
   "metadata": {
    "collapsed": false
   },
   "outputs": [
    {
     "name": "stdout",
     "output_type": "stream",
     "text": [
      "[('Trump', 41), ('Donald', 26), ('We', 24), ('https://t.co/tTgeqxNqYm', 13), ('president', 11), ('make', 11), ('people', 10), ('want', 10), ('—@FLOTUS', 8), ('\"I', 7), ('American', 7), ('got', 7), ('one', 6), ('build', 6), ('us', 6), ('college', 6), ('women', 6), ('Clinton', 6), (\"Hillary's\", 6), ('need', 5)]\n"
     ]
    }
   ],
   "source": [
    "a = Counter(filterHillaryClinton).most_common(20)\n",
    "print (a)"
   ]
  },
  {
   "cell_type": "code",
   "execution_count": 66,
   "metadata": {
    "collapsed": false
   },
   "outputs": [
    {
     "name": "stdout",
     "output_type": "stream",
     "text": [
      "+-------------------------+--------------------------+\n",
      "| word                    | Frequency_HillaryClinton |\n",
      "+-------------------------+--------------------------+\n",
      "| —@FLOTUS                | 8                        |\n",
      "| women                   | 6                        |\n",
      "| want                    | 10                       |\n",
      "| us                      | 6                        |\n",
      "| president               | 11                       |\n",
      "| people                  | 10                       |\n",
      "| one                     | 6                        |\n",
      "| need                    | 5                        |\n",
      "| make                    | 11                       |\n",
      "| https://t.co/tTgeqxNqYm | 13                       |\n",
      "| got                     | 7                        |\n",
      "| college                 | 6                        |\n",
      "| build                   | 6                        |\n",
      "| We                      | 24                       |\n",
      "| Trump                   | 41                       |\n",
      "| Hillary's               | 6                        |\n",
      "| Donald                  | 26                       |\n",
      "| Clinton                 | 6                        |\n",
      "| American                | 7                        |\n",
      "| \"I                      | 7                        |\n",
      "+-------------------------+--------------------------+\n"
     ]
    }
   ],
   "source": [
    "from prettytable import PrettyTable\n",
    "sorted(a)\n",
    "pt = PrettyTable(field_names=['word', 'Frequency_HillaryClinton'])\n",
    "[ pt.add_row(row) for row in sorted(a, reverse=True)[:20] ]\n",
    "pt.max_width['Text'] = 50\n",
    "pt.align= 'l'\n",
    "print (pt)"
   ]
  },
  {
   "cell_type": "code",
   "execution_count": 68,
   "metadata": {
    "collapsed": true
   },
   "outputs": [],
   "source": [
    "#Although labels for each word are not provided, x-axis values have been sorted so that the relationship between word frequencies is more apparent.\n",
    "#Each axis has been adjusted to a logarithmic scale to \"squash\" the curve being displayed"
   ]
  },
  {
   "cell_type": "code",
   "execution_count": 69,
   "metadata": {
    "collapsed": false
   },
   "outputs": [
    {
     "data": {
      "text/plain": [
       "<matplotlib.text.Text at 0x115ded2e8>"
      ]
     },
     "execution_count": 69,
     "metadata": {},
     "output_type": "execute_result"
    },
    {
     "data": {
      "image/png": "[encoded data removed]",
      "text/plain": [
       "<matplotlib.figure.Figure at 0x115cf0320>"
      ]
     },
     "metadata": {},
     "output_type": "display_data"
    }
   ],
   "source": [
    "word_counts = sorted(Counter(filterHillaryClinton).values(), reverse=True)\n",
    "\n",
    "plt.loglog(word_counts)\n",
    "plt.ylabel(\"Freq\")\n",
    "plt.xlabel(\"Word Rank\")"
   ]
  },
  {
   "cell_type": "code",
   "execution_count": 77,
   "metadata": {
    "collapsed": false
   },
   "outputs": [
    {
     "name": "stdout",
     "output_type": "stream",
     "text": [
      "[991, 630, 1390, 1213, 840, 826, 2218, 1190, 999, 9547, 3263, 3316, 3273, 6117, 1941, 2779, 2639, 3054, 3126, 5765, 590, 1119, 1357, 1948, 1271, 1773, 1139, 1114, 1182, 1203, 2577, 2212, 5308, 6298, 3244, 3772, 7847, 2635, 4727, 4537, 4188, 5267, 1408, 2214, 5960, 2378, 1631, 2922, 2321, 5100, 684, 1221, 2018, 1454, 1968, 3114, 2250, 6381, 3479, 6343, 2793, 4107, 1222, 12877, 15073, 1570, 7618, 1731, 1217, 980, 586, 2770, 1588, 4720, 871, 564, 1363, 731, 682, 561, 546, 517, 951, 712, 811, 605, 1334, 2398, 766, 1641, 995, 1614, 2644, 1676, 3545, 1836, 3217, 5835, 1671, 6089, 4053, 12172, 1234, 4087, 3173, 718, 5351, 2755, 3460, 4735, 3790, 1737, 6113, 2230, 1263, 922, 445, 669, 691, 614, 613, 832, 667, 657, 675, 874, 726, 1226, 1774, 3403, 1476, 1450, 9741, 1987, 3622, 6744, 869, 5106, 3914, 7353, 2089, 2551, 2190, 13519, 2582, 1887, 3518, 21847, 13456, 2181, 8968, 1973, 2821, 4025, 1264, 4668, 9935, 2791, 2984, 4171, 2705, 2403, 1947, 2230, 1156, 1384]\n"
     ]
    },
    {
     "data": {
      "image/png": "[encoded data removed]",
      "text/plain": [
       "<matplotlib.figure.Figure at 0x1165860f0>"
      ]
     },
     "metadata": {},
     "output_type": "display_data"
    }
   ],
   "source": [
    "# Generating a histogram of retweet counts\n",
    "#Using underscores while unpacking values in\n",
    "# a tuple is idiomatic for discarding them\n",
    "retweet = realHillaryClinton['retweet_count_x']\n",
    "\n",
    "#print(retweet)\n",
    "counts = [count for count in retweet]\n",
    "\n",
    "plt.hist(counts)\n",
    "plt.title(\"Retweets for Hillary Clinton original pull\")\n",
    "plt.xlabel('Bins (number of times retweeted)')\n",
    "plt.ylabel('Number of tweets in bin')\n",
    "\n",
    "print (counts)"
   ]
  },
  {
   "cell_type": "code",
   "execution_count": 78,
   "metadata": {
    "collapsed": false
   },
   "outputs": [
    {
     "name": "stdout",
     "output_type": "stream",
     "text": [
      "[991, 630, 1390, 1213, 840, 826, 2218, 1190, 999, 9547, 3263, 3316, 3273, 6117, 1941, 2779, 2639, 3054, 3126, 5765, 590, 1119, 1357, 1948, 1271, 1773, 1139, 1114, 1182, 1203, 2577, 2212, 5308, 6298, 3244, 3772, 7847, 2635, 4727, 4537, 4188, 5267, 1408, 2214, 5960, 2378, 1631, 2922, 2321, 5100, 684, 1221, 2018, 1454, 1968, 3114, 2250, 6381, 3479, 6343, 2793, 4107, 1222, 12877, 15073, 1570, 7619, 1731, 1217, 980, 586, 2770, 1588, 4720, 871, 564, 1363, 731, 682, 561, 546, 517, 951, 712, 811, 605, 1334, 2398, 766, 1641, 995, 1614, 2644, 1676, 3545, 1836, 3217, 5835, 1671, 6089, 4053, 12172, 1234, 4087, 3173, 718, 5351, 2755, 3461, 4735, 3790, 1737, 6113, 2230, 1263, 922, 445, 669, 691, 614, 613, 832, 667, 657, 675, 874, 726, 1226, 1774, 3403, 1476, 1450, 9741, 1987, 3622, 6745, 869, 5108, 3914, 7356, 2089, 2551, 2190, 13521, 2582, 1887, 3518, 21849, 13457, 2181, 8968, 1973, 2821, 4025, 1264, 4670, 9939, 2792, 2986, 4181, 2709, 2409, 1952, 2238, 1160, 1398]\n"
     ]
    },
    {
     "data": {
      "image/png": "[encoded data removed]",
      "text/plain": [
       "<matplotlib.figure.Figure at 0x1166ce0f0>"
      ]
     },
     "metadata": {},
     "output_type": "display_data"
    }
   ],
   "source": [
    "# Generating a histogram of retweet counts\n",
    "#Using underscores while unpacking values in\n",
    "# a tuple is idiomatic for discarding them\n",
    "retweet = realHillaryClinton['retweet_count_y']\n",
    "\n",
    "#print(retweet)\n",
    "counts = [count for count in retweet]\n",
    "\n",
    "plt.hist(counts)\n",
    "plt.title(\"Retweets for Hillary Clinton after 5 min\")\n",
    "plt.xlabel('Bins (number of times retweeted)')\n",
    "plt.ylabel('Number of tweets in bin')\n",
    "\n",
    "print (counts)"
   ]
  },
  {
   "cell_type": "code",
   "execution_count": 79,
   "metadata": {
    "collapsed": true
   },
   "outputs": [],
   "source": [
    "from nltk import FreqDist\n",
    "\n",
    "freqdist = nltk.FreqDist(filterHillaryClinton)"
   ]
  },
  {
   "cell_type": "code",
   "execution_count": 80,
   "metadata": {
    "collapsed": false
   },
   "outputs": [
    {
     "data": {
      "image/png": "[encoded data removed]",
      "text/plain": [
       "<matplotlib.figure.Figure at 0x11619ad30>"
      ]
     },
     "metadata": {},
     "output_type": "display_data"
    }
   ],
   "source": [
    "freqdist.plot(50)"
   ]
  },
  {
   "cell_type": "code",
   "execution_count": null,
   "metadata": {
    "collapsed": true
   },
   "outputs": [],
   "source": []
  }
 ],
 "metadata": {
  "kernelspec": {
   "display_name": "Python 3",
   "language": "python",
   "name": "python3"
  },
  "language_info": {
   "codemirror_mode": {
    "name": "ipython",
    "version": 3
   },
   "file_extension": ".py",
   "mimetype": "text/x-python",
   "name": "python",
   "nbconvert_exporter": "python",
   "pygments_lexer": "ipython3",
   "version": "3.5.1"
  }
 },
 "nbformat": 4,
 "nbformat_minor": 1
}

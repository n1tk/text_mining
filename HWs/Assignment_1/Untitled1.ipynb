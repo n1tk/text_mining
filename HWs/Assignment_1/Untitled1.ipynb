{
 "cells": [
  {
   "cell_type": "code",
   "execution_count": 1,
   "metadata": {
    "collapsed": true
   },
   "outputs": [],
   "source": [
    "#first assignment: create twitter dev account, grab auth keys and connect to twitter api\n",
    "import twitter"
   ]
  },
  {
   "cell_type": "code",
   "execution_count": 2,
   "metadata": {
    "collapsed": true
   },
   "outputs": [],
   "source": [
    "#CREDENTIALS\n",
    "CONSUMER_KEY = \"LUpqT9BUMzTzdDFVYMls5myJe\"\n",
    "CONSUMER_SECRET = \"EP31NVKfAg1kWnE3CA0FRRARJMX07irWX9VQUNyUU2pnFPlBeg\"\n",
    "OAUTH_TOKEN = \"41286065-O9xWYa1iTHxDEpc1aykOq61bDkOWQXo4CfCkp5W1F\"\n",
    "OAUTH_TOKEN_SECRET = \"2zkghCKN8mxKVrAZmdAI8gmJgh8ZcfSKRh9NnAmqoAcku\""
   ]
  },
  {
   "cell_type": "code",
   "execution_count": null,
   "metadata": {
    "collapsed": true
   },
   "outputs": [],
   "source": []
  }
 ],
 "metadata": {
  "anaconda-cloud": {},
  "kernelspec": {
   "display_name": "Python [default]",
   "language": "python",
   "name": "python2"
  },
  "language_info": {
   "codemirror_mode": {
    "name": "ipython",
    "version": 2
   },
   "file_extension": ".py",
   "mimetype": "text/x-python",
   "name": "python",
   "nbconvert_exporter": "python",
   "pygments_lexer": "ipython2",
   "version": "2.7.11"
  }
 },
 "nbformat": 4,
 "nbformat_minor": 0
}
